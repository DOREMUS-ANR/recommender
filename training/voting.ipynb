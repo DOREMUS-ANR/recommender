{
 "cells": [
  {
   "cell_type": "code",
   "execution_count": 693,
   "metadata": {},
   "outputs": [],
   "source": [
    "import codecs\n",
    "import numpy as np\n",
    "import pandas as pd\n",
    "import matplotlib.pyplot as plt\n",
    "from sklearn import preprocessing\n",
    "from sklearn.model_selection import train_test_split\n",
    "import numdifftools"
   ]
  },
  {
   "cell_type": "markdown",
   "metadata": {
    "collapsed": true
   },
   "source": [
    "Load data"
   ]
  },
  {
   "cell_type": "code",
   "execution_count": 67,
   "metadata": {},
   "outputs": [
    {
     "data": {
      "text/html": [
       "<div>\n",
       "<style scoped>\n",
       "    .dataframe tbody tr th:only-of-type {\n",
       "        vertical-align: middle;\n",
       "    }\n",
       "\n",
       "    .dataframe tbody tr th {\n",
       "        vertical-align: top;\n",
       "    }\n",
       "\n",
       "    .dataframe thead th {\n",
       "        text-align: right;\n",
       "    }\n",
       "</style>\n",
       "<table border=\"1\" class=\"dataframe\">\n",
       "  <thead>\n",
       "    <tr style=\"text-align: right;\">\n",
       "      <th></th>\n",
       "      <th>seed</th>\n",
       "      <th>target</th>\n",
       "      <th>score</th>\n",
       "    </tr>\n",
       "  </thead>\n",
       "  <tbody>\n",
       "    <tr>\n",
       "      <th>0</th>\n",
       "      <td>http://data.doremus.org/artist/d33ebb23-7b8d-3...</td>\n",
       "      <td>http://data.doremus.org/artist/6329cd86-d47a-3...</td>\n",
       "      <td>1</td>\n",
       "    </tr>\n",
       "    <tr>\n",
       "      <th>1</th>\n",
       "      <td>http://data.doremus.org/artist/01915146-b964-3...</td>\n",
       "      <td>http://data.doremus.org/artist/6329cd86-d47a-3...</td>\n",
       "      <td>1</td>\n",
       "    </tr>\n",
       "    <tr>\n",
       "      <th>2</th>\n",
       "      <td>http://data.doremus.org/artist/01915146-b964-3...</td>\n",
       "      <td>http://data.doremus.org/artist/d33ebb23-7b8d-3...</td>\n",
       "      <td>1</td>\n",
       "    </tr>\n",
       "    <tr>\n",
       "      <th>3</th>\n",
       "      <td>http://data.doremus.org/artist/72b3b303-5c15-3...</td>\n",
       "      <td>http://data.doremus.org/artist/6329cd86-d47a-3...</td>\n",
       "      <td>1</td>\n",
       "    </tr>\n",
       "    <tr>\n",
       "      <th>4</th>\n",
       "      <td>http://data.doremus.org/artist/72b3b303-5c15-3...</td>\n",
       "      <td>http://data.doremus.org/artist/d33ebb23-7b8d-3...</td>\n",
       "      <td>1</td>\n",
       "    </tr>\n",
       "  </tbody>\n",
       "</table>\n",
       "</div>"
      ],
      "text/plain": [
       "                                                seed  \\\n",
       "0  http://data.doremus.org/artist/d33ebb23-7b8d-3...   \n",
       "1  http://data.doremus.org/artist/01915146-b964-3...   \n",
       "2  http://data.doremus.org/artist/01915146-b964-3...   \n",
       "3  http://data.doremus.org/artist/72b3b303-5c15-3...   \n",
       "4  http://data.doremus.org/artist/72b3b303-5c15-3...   \n",
       "\n",
       "                                              target score  \n",
       "0  http://data.doremus.org/artist/6329cd86-d47a-3...     1  \n",
       "1  http://data.doremus.org/artist/6329cd86-d47a-3...     1  \n",
       "2  http://data.doremus.org/artist/d33ebb23-7b8d-3...     1  \n",
       "3  http://data.doremus.org/artist/6329cd86-d47a-3...     1  \n",
       "4  http://data.doremus.org/artist/d33ebb23-7b8d-3...     1  "
      ]
     },
     "execution_count": 67,
     "metadata": {},
     "output_type": "execute_result"
    }
   ],
   "source": [
    "root = \"../\"\n",
    "training_data_folder = '%straining_data/web-radio/output/rec' % root\n",
    "embDir = '/Users/pasquale/git/music-embeddings'\n",
    "what = 'artist'\n",
    "\n",
    "uri_file = '%s/%s.emb.u' % (embDir, what)\n",
    "vector_file = '%s/%s.emb.v' % (embDir, what)\n",
    "header_file = '%s/%s.emb.h' % (embDir, what)\n",
    "training_file = '%s/%s.dat' % (training_data_folder, what)\n",
    "\n",
    "vectors = np.array([line.strip().split(' ') for line in codecs.open(vector_file, 'r', 'utf-8')])\n",
    "heads = np.array([line.strip() for line in codecs.open(header_file, 'r', 'utf-8')])\n",
    "uris = np.array([line.strip() for line in codecs.open(uri_file, 'r', 'utf-8')])\n",
    "\n",
    "train_array = np.array([line.strip().split(' ') for line in codecs.open(training_file, 'r', 'utf-8')])\n",
    "pd.DataFrame(train_array, columns=['seed', 'target', 'score']).head()\n"
   ]
  },
  {
   "cell_type": "code",
   "execution_count": 818,
   "metadata": {},
   "outputs": [
    {
     "data": {
      "text/plain": [
       "['period',\n",
       " 'period',\n",
       " 'key',\n",
       " 'key',\n",
       " 'key',\n",
       " 'genre',\n",
       " 'genre',\n",
       " 'genre',\n",
       " 'casting',\n",
       " 'casting',\n",
       " 'casting',\n",
       " 'mop',\n",
       " 'mop',\n",
       " 'mop']"
      ]
     },
     "execution_count": 818,
     "metadata": {},
     "output_type": "execute_result"
    }
   ],
   "source": [
    "head_label = heads[0].split()\n",
    "head_val = heads[1].split()\n",
    "head_dim = []\n",
    "for i in range(0, len(head_val)):\n",
    "    for j in range(0, int(head_val[i])):\n",
    "        head_dim.append(head_label[i])\n",
    "        \n",
    "# head_dim.append('fake')\n",
    "# head_dim.append('fake')\n",
    "# head_dim.append('fake')\n",
    "head_dim"
   ]
  },
  {
   "cell_type": "markdown",
   "metadata": {},
   "source": [
    "Data pre-processing: I want to substitute the seed and target with their embeddings"
   ]
  },
  {
   "cell_type": "code",
   "execution_count": 819,
   "metadata": {},
   "outputs": [],
   "source": [
    "def get_embs(x):\n",
    "    # uri to embedding\n",
    "    v = vectors[np.argwhere(uris == x)]\n",
    "    if v.size == 0:\n",
    "        result = -2. * np.ones(vectors[0].size)\n",
    "    else:\n",
    "        result = v[0][0]\n",
    "    \n",
    "#     result = np.concatenate((result,  [.12, .45, .73]))\n",
    "    return result.astype('float32')"
   ]
  },
  {
   "cell_type": "code",
   "execution_count": 820,
   "metadata": {},
   "outputs": [],
   "source": [
    "col1 = np.array([get_embs(xi) for xi in train_array[:, 0]])\n",
    "col2 = np.array([get_embs(xi) for xi in train_array[:, 1]])\n",
    "col3 = np.array(train_array[:, 2]).astype('float32')\n",
    "col3 = col3.reshape((col3.size, 1))"
   ]
  },
  {
   "cell_type": "code",
   "execution_count": 821,
   "metadata": {},
   "outputs": [
    {
     "data": {
      "text/plain": [
       "14"
      ]
     },
     "execution_count": 821,
     "metadata": {},
     "output_type": "execute_result"
    }
   ],
   "source": [
    "emb_size = col1[0].size\n",
    "emb_size"
   ]
  },
  {
   "cell_type": "code",
   "execution_count": 822,
   "metadata": {},
   "outputs": [
    {
     "data": {
      "text/plain": [
       "(12333, 29)"
      ]
     },
     "execution_count": 822,
     "metadata": {},
     "output_type": "execute_result"
    }
   ],
   "source": [
    "training_vector = np.concatenate((col1, col2, col3), axis=1)\n",
    "training_vector.shape"
   ]
  },
  {
   "cell_type": "markdown",
   "metadata": {},
   "source": [
    "Split test and train"
   ]
  },
  {
   "cell_type": "code",
   "execution_count": 823,
   "metadata": {},
   "outputs": [
    {
     "name": "stderr",
     "output_type": "stream",
     "text": [
      "/Users/pasquale/anaconda3/lib/python3.5/site-packages/sklearn/model_selection/_split.py:2026: FutureWarning: From version 0.21, test_size will always complement train_size unless both are specified.\n",
      "  FutureWarning)\n"
     ]
    }
   ],
   "source": [
    "train, test = train_test_split(training_vector, train_size=0.7)\n",
    "\n",
    "train_vector = train[:, : -1]\n",
    "train_label = train[:, -1]\n",
    "train_label = train_label.reshape((len(train_label), 1))\n",
    "\n",
    "test_vector = test[:, :-1]\n",
    "test_label = test[:, -1]\n",
    "test_label = test_label.reshape((len(test_label), 1))"
   ]
  },
  {
   "cell_type": "code",
   "execution_count": 824,
   "metadata": {},
   "outputs": [
    {
     "name": "stdout",
     "output_type": "stream",
     "text": [
      "Train\n",
      "(8633, 28)\n",
      "(8633, 1)\n",
      "Test\n",
      "(3700, 28)\n",
      "(3700, 1)\n"
     ]
    }
   ],
   "source": [
    "print('Train')\n",
    "print(train_vector.shape)\n",
    "print(train_label.shape)\n",
    "print('Test')\n",
    "print(test_vector.shape)\n",
    "print(test_label.shape)"
   ]
  },
  {
   "cell_type": "code",
   "execution_count": null,
   "metadata": {},
   "outputs": [],
   "source": []
  },
  {
   "cell_type": "markdown",
   "metadata": {},
   "source": [
    "Network"
   ]
  },
  {
   "cell_type": "code",
   "execution_count": 825,
   "metadata": {},
   "outputs": [],
   "source": [
    "def next_batch(num, data, labels):\n",
    "    \"\"\"\n",
    "    Return a total of `num` random samples and labels. \n",
    "    \"\"\"\n",
    "    idx = np.arange(0, len(data))\n",
    "    np.random.shuffle(idx)\n",
    "    idx = idx[:num]\n",
    "    data_shuffle = data[idx]\n",
    "    labels_shuffle = labels[idx]\n",
    "    return data_shuffle, labels_shuffle"
   ]
  },
  {
   "cell_type": "code",
   "execution_count": 826,
   "metadata": {},
   "outputs": [],
   "source": [
    "def weighted_l2(a, b, w):\n",
    "    # https://stackoverflow.com/a/8861999/1218213\n",
    "    q = a - b\n",
    "    return np.sqrt(np.sum(w * q * q, axis=1))"
   ]
  },
  {
   "cell_type": "code",
   "execution_count": 827,
   "metadata": {},
   "outputs": [],
   "source": [
    "def positive_norm(x):\n",
    "    return preprocessing.normalize(np.abs(x), norm='l1')\n",
    "\n",
    "def print_weights(w):\n",
    "    y_pos = np.arange(len(w[0]))\n",
    "    plt.barh(y_pos, w[0] * 100, align='center', alpha=0.5)\n",
    "    plt.yticks(y_pos, head_dim)\n",
    "    plt.xlabel(\"weights in %\")\n",
    "    plt.show()\n",
    "    \n",
    "def reset_weights():\n",
    "    w = positive_norm(np.random.normal(size=[1, emb_size]))\n",
    "    w = positive_norm(np.ones([1,emb_size]))\n",
    "    return w"
   ]
  },
  {
   "cell_type": "code",
   "execution_count": 864,
   "metadata": {},
   "outputs": [],
   "source": [
    "# Parameters\n",
    "learning_rate = 0.01\n",
    "num_steps = 1000\n",
    "batch_size = 1\n",
    "display_step = 10"
   ]
  },
  {
   "cell_type": "code",
   "execution_count": 865,
   "metadata": {},
   "outputs": [],
   "source": [
    "_ones = np.ones_like(w, np.float32)\n",
    "max_distance = weighted_l2(_ones, _ones * -1., _ones) / 10\n",
    "\n",
    "\n",
    "def compute_penalty(expected, taken, total):\n",
    "    return (expected - taken) / total\n",
    "\n",
    "def compute_similarity_split(x, w):\n",
    "    a, b = np.hsplit(x, 2)\n",
    "    return compute_similarity(a, b, w)\n",
    "\n",
    "def compute_similarity(seed, target, w):     \n",
    "    bs = np.where(seed >= -1, 1, 0)\n",
    "    bt = np.where(target >= -1, 1, 0)\n",
    "    good_mask = np.logical_and(bs, bt)\n",
    "    good_count = np.count_nonzero(good_mask, axis=1)\n",
    "    \n",
    "\n",
    "    _seed = np.where(good_mask, seed, 0.)\n",
    "    _target = np.where(good_mask, target, 0.)\n",
    "    \n",
    "    # distance\n",
    "    d = weighted_l2(_seed, _target, w)\n",
    "\n",
    "    # how much info I am not finding\n",
    "    penalty = compute_penalty(np.count_nonzero(bs, axis=1), good_count, emb_size)\n",
    "#     print(d)\n",
    "    # score\n",
    "    s = (max_distance - d) / max_distance\n",
    "    \n",
    "    return s * (1 - penalty), good_mask"
   ]
  },
  {
   "cell_type": "markdown",
   "metadata": {},
   "source": [
    "Training"
   ]
  },
  {
   "cell_type": "code",
   "execution_count": 866,
   "metadata": {},
   "outputs": [],
   "source": [
    "def dE_dW(x, w, pred, l, mask):\n",
    "    a, b = np.hsplit(x, 2)\n",
    "    q = a - b\n",
    "    q2 = w * q * q\n",
    "    dd_dW = .5 / (q2 + 10 ** - 2)\n",
    "    \n",
    "    ds_dW = - dd_dW / max_distance\n",
    "    de_dW = ds_dW * (pred - l) * 2 / batch_size\n",
    "    return np.where(mask, de_dW, de_dW.mean())"
   ]
  },
  {
   "cell_type": "code",
   "execution_count": 869,
   "metadata": {},
   "outputs": [
    {
     "name": "stdout",
     "output_type": "stream",
     "text": [
      "[[0.071 0.071 0.071 0.071 0.071 0.071 0.071 0.071 0.071 0.071 0.071 0.071\n",
      "  0.071 0.071]]\n",
      "ERR: 0.014551514559566771\n",
      "ERR: 0.09133740931593455\n",
      "ERR: 0.0013759367563862168\n",
      "ERR: 0.27665405084452055\n",
      "ERR: 0.07143371966338087\n",
      "ERR: 0.01824648820788954\n",
      "ERR: 0.0\n",
      "ERR: 0.0068227166830886815\n",
      "ERR: 0.0013959573012016706\n",
      "ERR: 0.007827526781548213\n",
      "ERR: 0.0025641390521604296\n",
      "ERR: 0.2605356007750573\n",
      "ERR: 0.014278499373610283\n",
      "ERR: 0.4296877275299578\n",
      "ERR: 0.07538440683682392\n",
      "ERR: 0.21799392929824968\n",
      "ERR: 0.1296099954144432\n",
      "ERR: 0.6173469387755102\n",
      "ERR: 0.0016956676307345448\n",
      "ERR: 0.009133983660331897\n",
      "ERR: 0.00778926745891828\n",
      "ERR: 0.02180360720792663\n",
      "ERR: 0.004204485775318794\n",
      "ERR: 0.009391244774706846\n",
      "ERR: 0.005661728647449641\n",
      "ERR: 0.24531230701505588\n",
      "ERR: 0.0011594683449459742\n",
      "ERR: 0.013673002864660885\n",
      "ERR: 0.026349851886787935\n",
      "ERR: 0.003054184449891676\n",
      "ERR: 0.08213310258396636\n",
      "ERR: 0.020239649250060745\n",
      "ERR: 0.24800216875577774\n",
      "ERR: 0.026865539065442905\n",
      "ERR: 0.00024548316410204153\n",
      "ERR: 0.2582817343508321\n",
      "ERR: 0.0\n",
      "ERR: 0.3355646443408368\n",
      "ERR: 0.0076374114798445185\n",
      "ERR: 0.32653061224489793\n",
      "ERR: 0.03658746533391501\n",
      "ERR: 0.026571656549462457\n",
      "ERR: 0.9400698060862257\n",
      "ERR: 0.019019345680750224\n",
      "ERR: 0.03572029878909196\n",
      "ERR: 0.2048894294394528\n",
      "ERR: 0.010496172757546367\n",
      "ERR: 0.002182573125086684\n",
      "ERR: 0.009872675732145685\n",
      "ERR: 0.0\n",
      "ERR: 0.06241408749798416\n",
      "ERR: 0.21516137718545533\n",
      "ERR: 0.0033598299403883288\n",
      "ERR: 0.44516364596574065\n",
      "ERR: 0.6173469387755102\n",
      "ERR: 0.15615500766164384\n",
      "ERR: 0.012064782639995025\n",
      "ERR: 0.32213486931686064\n",
      "ERR: 0.10570583066565535\n",
      "ERR: 0.0002873741466719255\n",
      "ERR: 0.015463393295110112\n",
      "ERR: 0.07895070956206862\n",
      "ERR: 0.0020786057887578297\n",
      "ERR: 0.026413181919563048\n",
      "ERR: 0.004850660617331228\n",
      "ERR: 0.015490479645439146\n",
      "ERR: 0.0829529309323336\n",
      "ERR: 0.006650181741634681\n",
      "ERR: 0.05718084762724905\n",
      "ERR: 0.0\n",
      "ERR: 0.025680753573035776\n",
      "ERR: 0.07654035177964737\n",
      "ERR: 0.013782337495313457\n",
      "ERR: 0.02484877270251476\n",
      "ERR: 0.910482741250453\n",
      "ERR: 0.08409448173342222\n",
      "ERR: 0.012492264533595898\n",
      "ERR: 0.08012088738314511\n",
      "ERR: 0.09784746372886809\n",
      "ERR: 0.024123493771079793\n",
      "ERR: 0.0030989336276159405\n",
      "ERR: 0.05995970716891584\n",
      "ERR: 0.02992587742089372\n",
      "ERR: 0.12991687350285616\n",
      "ERR: 0.03049052063227456\n",
      "ERR: 0.09458209421388354\n",
      "ERR: 0.04255944884567355\n",
      "ERR: 0.011402761183031377\n",
      "ERR: 0.004435689525524113\n",
      "ERR: 0.004734450202745387\n",
      "ERR: 0.003164727760618142\n",
      "ERR: 0.023653797600850075\n",
      "ERR: 0.09675362342630642\n",
      "ERR: 0.005791329229345144\n",
      "ERR: 0.012680220432675885\n",
      "ERR: 0.02989588345288755\n",
      "ERR: 0.006400088830763843\n",
      "ERR: 0.0017983049274395107\n",
      "ERR: 0.008956143116957955\n",
      "ERR: 0.0020536896499101604\n",
      "ERR: 0.01785424020740406\n"
     ]
    },
    {
     "data": {
      "image/png": "[encoded data removed]",
      "text/plain": [
       "<matplotlib.figure.Figure at 0x11ae851d0>"
      ]
     },
     "metadata": {},
     "output_type": "display_data"
    }
   ],
   "source": [
    "w = reset_weights()\n",
    "print(w)\n",
    "for step in np.arange(0, num_steps):\n",
    "#     print('--')\n",
    "    v, l = next_batch(batch_size, train_vector, train_label)\n",
    "    pred, mask = compute_similarity_split(v, w)\n",
    "    diff = pred - l\n",
    "    error = (diff ** 2).mean()\n",
    "    \n",
    "    if step % display_step == 0 or step == 1:\n",
    "        print(\"ERR: \" + str(error))\n",
    "#     print(\"GT: \" + str(l[0][0]))\n",
    "#     print(pred)\n",
    "\n",
    "    if error == 0:\n",
    "        continue\n",
    "        \n",
    "    w -= learning_rate * dE_dW(v, w, pred, l, mask)\n",
    "#     print(\"ERR: \" + str(error))\n",
    "\n",
    "#     print(dE_dW(v, w, pred, l, mask))\n",
    "    w = positive_norm(w + 10 ** -40)\n",
    "#     print_weights(w)\n",
    "#     pred, mask = compute_similarity_split(v, w)\n",
    "#     print(pred)\n",
    "#     diff = pred - l\n",
    "#     error = (diff ** 2).mean()\n",
    "#     print(\"ERR: \" + str(error))\n",
    "\n",
    "\n",
    "# np.set_printoptions(precision=3)\n",
    "# print(w[0][-1])\n",
    "print_weights(w)"
   ]
  },
  {
   "cell_type": "code",
   "execution_count": 859,
   "metadata": {},
   "outputs": [],
   "source": [
    "def print_results(label, a, b):\n",
    "    a = a.reshape((1, emb_size))\n",
    "    b = b.reshape((1, emb_size))\n",
    "    print(label + \"\\t{:.4f}\".format(compute_similarity(a, b, w)[0][0]) + \"  |  \" + \"{:.4f}\".format(compute_similarity(a, b, np.ones_like(w))[0][0]))"
   ]
  },
  {
   "cell_type": "code",
   "execution_count": 833,
   "metadata": {},
   "outputs": [
    {
     "name": "stdout",
     "output_type": "stream",
     "text": [
      "\t\t\t   w    |   ones\n",
      "Verdi vs Verdi: \t1.0000  |  1.0000\n",
      "Verdi vs Ravel: \t0.9427  |  0.7857\n",
      "Verdi vs Mozart: \t0.9362  |  0.7612\n",
      "Verdi vs Gershwin: \t0.9330  |  0.7495\n",
      "Verdi vs Rossini: \t0.9167  |  0.6884\n",
      "Verdi vs Beethoven: \t0.9048  |  0.6438\n",
      "Verdi vs Rossini (pp): \t0.8601  |  0.4766\n",
      "Verdi vs Coltrane: \t0.6952  |  0.4469\n",
      "__\n",
      "Beethoven vs Mozart: \t0.9475  |  0.8037\n",
      "Rossini vs Verdi: \t0.9167  |  0.6884\n"
     ]
    }
   ],
   "source": [
    "w = reset_weights()\n",
    "\n",
    "verdi = get_embs('http://data.doremus.org/artist/b82c0771-5280-39af-ad2e-8ace2f4ebda3')\n",
    "rossini = get_embs('http://data.doremus.org/artist/c5d5735c-1095-3ed4-a20f-1208ab9567f9')\n",
    "rossini_pp = get_embs('http://data.doremus.org/artist/32c2b0ff-35f1-3e65-b0ca-34aaf35f3d50')\n",
    "beethoven = get_embs('http://data.doremus.org/artist/6963af5e-b126-3d40-a84b-97e0b78f5452')\n",
    "mozart = get_embs('http://data.doremus.org/artist/4802a043-23bb-3b8d-a443-4a3bd22ccc63')\n",
    "ravel = get_embs('http://data.doremus.org/artist/1b1205f9-b99a-3bb8-ba77-256689af2e00')\n",
    "gershwin = get_embs('http://data.doremus.org/artist/5b2ec204-a456-3aa2-8ac7-25305464add8')\n",
    "coltrane = get_embs('http://data.doremus.org/artist/5425efed-002f-3638-a7b0-ad379a2bf63d')\n",
    "\n",
    "print(\"\\t\\t\\t   w    |   ones\")\n",
    "print_results(\"Verdi vs Verdi: \", verdi, verdi)\n",
    "print_results(\"Verdi vs Ravel: \", verdi, ravel)\n",
    "print_results(\"Verdi vs Mozart: \", verdi, mozart)\n",
    "print_results(\"Verdi vs Gershwin: \", verdi, gershwin)\n",
    "print_results(\"Verdi vs Rossini: \", verdi, rossini)\n",
    "print_results(\"Verdi vs Beethoven: \", verdi, beethoven)\n",
    "print_results(\"Verdi vs Rossini (pp): \", verdi, rossini_pp)\n",
    "print_results(\"Verdi vs Coltrane: \", verdi, coltrane)\n",
    "print('__')\n",
    "print_results(\"Beethoven vs Mozart: \", beethoven, mozart)\n",
    "print_results(\"Rossini vs Verdi: \", rossini, verdi)\n",
    "\n"
   ]
  },
  {
   "cell_type": "code",
   "execution_count": 93,
   "metadata": {},
   "outputs": [
    {
     "name": "stdout",
     "output_type": "stream",
     "text": [
      "Aida vs Rigoletto: 1.0000\n",
      "\t\t   1.0000\n",
      "Rigoletto vs Aida: 1.0000\n",
      "\t\t   1.0000\n",
      "Aida vs Rigoletto (pp): 1.0000\n",
      "\t\t   1.0000\n",
      "Aida vs Le Quattro Stagioni: 1.0000\n",
      "\t\t   1.0000\n",
      "Aida vs Rhapsody in Blue: 1.0000\n",
      "\t\t   1.0000\n",
      "Aida vs Giant Steps: 1.0000\n",
      "\t\t   1.0000\n"
     ]
    }
   ],
   "source": [
    "aida = get_embs('http://data.doremus.org/expression/4a5b26d7-6e75-3850-851f-8da9554b4115')\n",
    "rigoletto = get_embs('http://data.doremus.org/expression/dc6ea9c6-88fa-3f87-80a2-a3b4fa3c0ad5')\n",
    "rigoletto_pp = get_embs('http://data.doremus.org/expression/83485101-69c2-3871-8413-8ea13db5267e')\n",
    "quattro_stagioni = get_embs('http://data.doremus.org/expression/6dd59267-fef0-392d-911f-7abbe676e289')\n",
    "rhapsody_in_blue = get_embs('http://data.doremus.org/expression/bf957ff7-af9b-3c67-b9f4-3c8b374caaf3')\n",
    "giant_steps = get_embs('http://data.doremus.org/expression/eecf626b-8996-341d-83d5-216ac70cc2de')\n",
    "\n",
    "# print(aida)\n",
    "# print(rhapsody_in_blue)\n",
    "# aida.shape\n",
    "\n",
    "\n",
    "\n",
    "print_results(\"Aida vs Rigoletto: \", aida, rigoletto)\n",
    "print_results(\"Rigoletto vs Aida: \", rigoletto, aida)\n",
    "print_results(\"Aida vs Rigoletto (pp): \",aida, rigoletto_pp)\n",
    "print_results(\"Aida vs Le Quattro Stagioni: \", aida, quattro_stagioni)\n",
    "print_results(\"Aida vs Rhapsody in Blue: \", aida, rhapsody_in_blue)\n",
    "print_results(\"Aida vs Giant Steps: \", aida, giant_steps)\n"
   ]
  },
  {
   "cell_type": "code",
   "execution_count": 713,
   "metadata": {},
   "outputs": [
    {
     "ename": "ValueError",
     "evalue": "The truth value of an array with more than one element is ambiguous. Use a.any() or a.all()",
     "output_type": "error",
     "traceback": [
      "\u001b[0;31m---------------------------------------------------------------------------\u001b[0m",
      "\u001b[0;31mValueError\u001b[0m                                Traceback (most recent call last)",
      "\u001b[0;32m<ipython-input-713-7fcd45a86f8e>\u001b[0m in \u001b[0;36m<module>\u001b[0;34m()\u001b[0m\n\u001b[0;32m----> 1\u001b[0;31m \u001b[0mnp\u001b[0m\u001b[0;34m.\u001b[0m\u001b[0mmax\u001b[0m\u001b[0;34m(\u001b[0m\u001b[0;34m(\u001b[0m\u001b[0mnp\u001b[0m\u001b[0;34m.\u001b[0m\u001b[0marray\u001b[0m\u001b[0;34m(\u001b[0m\u001b[0;34m[\u001b[0m\u001b[0;34m[\u001b[0m\u001b[0;36m1\u001b[0m\u001b[0;34m,\u001b[0m \u001b[0;36m2\u001b[0m\u001b[0;34m]\u001b[0m\u001b[0;34m]\u001b[0m\u001b[0;34m)\u001b[0m\u001b[0;34m,\u001b[0m\u001b[0;36m1\u001b[0m\u001b[0;34m)\u001b[0m\u001b[0;34m)\u001b[0m\u001b[0;34m\u001b[0m\u001b[0m\n\u001b[0m",
      "\u001b[0;32m/Users/pasquale/anaconda3/lib/python3.5/site-packages/numpy/core/fromnumeric.py\u001b[0m in \u001b[0;36mamax\u001b[0;34m(a, axis, out, keepdims)\u001b[0m\n\u001b[1;32m   2318\u001b[0m \u001b[0;34m\u001b[0m\u001b[0m\n\u001b[1;32m   2319\u001b[0m     return _methods._amax(a, axis=axis,\n\u001b[0;32m-> 2320\u001b[0;31m                           out=out, **kwargs)\n\u001b[0m\u001b[1;32m   2321\u001b[0m \u001b[0;34m\u001b[0m\u001b[0m\n\u001b[1;32m   2322\u001b[0m \u001b[0;34m\u001b[0m\u001b[0m\n",
      "\u001b[0;32m/Users/pasquale/anaconda3/lib/python3.5/site-packages/numpy/core/_methods.py\u001b[0m in \u001b[0;36m_amax\u001b[0;34m(a, axis, out, keepdims)\u001b[0m\n\u001b[1;32m     24\u001b[0m \u001b[0;31m# small reductions\u001b[0m\u001b[0;34m\u001b[0m\u001b[0;34m\u001b[0m\u001b[0m\n\u001b[1;32m     25\u001b[0m \u001b[0;32mdef\u001b[0m \u001b[0m_amax\u001b[0m\u001b[0;34m(\u001b[0m\u001b[0ma\u001b[0m\u001b[0;34m,\u001b[0m \u001b[0maxis\u001b[0m\u001b[0;34m=\u001b[0m\u001b[0;32mNone\u001b[0m\u001b[0;34m,\u001b[0m \u001b[0mout\u001b[0m\u001b[0;34m=\u001b[0m\u001b[0;32mNone\u001b[0m\u001b[0;34m,\u001b[0m \u001b[0mkeepdims\u001b[0m\u001b[0;34m=\u001b[0m\u001b[0;32mFalse\u001b[0m\u001b[0;34m)\u001b[0m\u001b[0;34m:\u001b[0m\u001b[0;34m\u001b[0m\u001b[0m\n\u001b[0;32m---> 26\u001b[0;31m     \u001b[0;32mreturn\u001b[0m \u001b[0mumr_maximum\u001b[0m\u001b[0;34m(\u001b[0m\u001b[0ma\u001b[0m\u001b[0;34m,\u001b[0m \u001b[0maxis\u001b[0m\u001b[0;34m,\u001b[0m \u001b[0;32mNone\u001b[0m\u001b[0;34m,\u001b[0m \u001b[0mout\u001b[0m\u001b[0;34m,\u001b[0m \u001b[0mkeepdims\u001b[0m\u001b[0;34m)\u001b[0m\u001b[0;34m\u001b[0m\u001b[0m\n\u001b[0m\u001b[1;32m     27\u001b[0m \u001b[0;34m\u001b[0m\u001b[0m\n\u001b[1;32m     28\u001b[0m \u001b[0;32mdef\u001b[0m \u001b[0m_amin\u001b[0m\u001b[0;34m(\u001b[0m\u001b[0ma\u001b[0m\u001b[0;34m,\u001b[0m \u001b[0maxis\u001b[0m\u001b[0;34m=\u001b[0m\u001b[0;32mNone\u001b[0m\u001b[0;34m,\u001b[0m \u001b[0mout\u001b[0m\u001b[0;34m=\u001b[0m\u001b[0;32mNone\u001b[0m\u001b[0;34m,\u001b[0m \u001b[0mkeepdims\u001b[0m\u001b[0;34m=\u001b[0m\u001b[0;32mFalse\u001b[0m\u001b[0;34m)\u001b[0m\u001b[0;34m:\u001b[0m\u001b[0;34m\u001b[0m\u001b[0m\n",
      "\u001b[0;31mValueError\u001b[0m: The truth value of an array with more than one element is ambiguous. Use a.any() or a.all()"
     ]
    }
   ],
   "source": [
    "np.max((np.array([[1, 2]]),1))"
   ]
  },
  {
   "cell_type": "code",
   "execution_count": null,
   "metadata": {},
   "outputs": [],
   "source": []
  }
 ],
 "metadata": {
  "kernelspec": {
   "display_name": "Python 3",
   "language": "python",
   "name": "python3"
  },
  "language_info": {
   "codemirror_mode": {
    "name": "ipython",
    "version": 3
   },
   "file_extension": ".py",
   "mimetype": "text/x-python",
   "name": "python",
   "nbconvert_exporter": "python",
   "pygments_lexer": "ipython3",
   "version": "3.5.4"
  }
 },
 "nbformat": 4,
 "nbformat_minor": 1
}
