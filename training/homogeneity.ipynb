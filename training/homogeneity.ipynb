{
 "cells": [
  {
   "cell_type": "code",
   "execution_count": 5,
   "metadata": {},
   "outputs": [],
   "source": [
    "import math\n",
    "import os\n",
    "import random\n",
    "import numpy as np\n",
    "import pandas as pd\n",
    "import matplotlib.pyplot as plt\n",
    "from datetime import datetime\n",
    "from scipy import spatial\n",
    "from scipy import stats\n",
    "from sklearn.metrics.pairwise import cosine_similarity\n",
    "\n",
    "plt.rcParams[\"figure.figsize\"] = (20,5)\n",
    "\n",
    "import doremus_data"
   ]
  },
  {
   "cell_type": "markdown",
   "metadata": {
    "collapsed": true
   },
   "source": [
    "Load data."
   ]
  },
  {
   "cell_type": "code",
   "execution_count": 6,
   "metadata": {
    "scrolled": false
   },
   "outputs": [
    {
     "data": {
      "text/html": [
       "<div>\n",
       "<style>\n",
       "    .dataframe thead tr:only-child th {\n",
       "        text-align: right;\n",
       "    }\n",
       "\n",
       "    .dataframe thead th {\n",
       "        text-align: left;\n",
       "    }\n",
       "\n",
       "    .dataframe tbody tr th {\n",
       "        vertical-align: top;\n",
       "    }\n",
       "</style>\n",
       "<table border=\"1\" class=\"dataframe\">\n",
       "  <thead>\n",
       "    <tr style=\"text-align: right;\">\n",
       "      <th></th>\n",
       "      <th>0</th>\n",
       "      <th>1</th>\n",
       "      <th>2</th>\n",
       "      <th>3</th>\n",
       "      <th>4</th>\n",
       "    </tr>\n",
       "  </thead>\n",
       "  <tbody>\n",
       "    <tr>\n",
       "      <th>0</th>\n",
       "      <td>casting</td>\n",
       "      <td>composer</td>\n",
       "      <td>genre</td>\n",
       "      <td>key</td>\n",
       "      <td>composition_date</td>\n",
       "    </tr>\n",
       "    <tr>\n",
       "      <th>1</th>\n",
       "      <td>3</td>\n",
       "      <td>3</td>\n",
       "      <td>3</td>\n",
       "      <td>3</td>\n",
       "      <td>1</td>\n",
       "    </tr>\n",
       "  </tbody>\n",
       "</table>\n",
       "</div>"
      ],
      "text/plain": [
       "         0         1      2    3                 4\n",
       "0  casting  composer  genre  key  composition_date\n",
       "1        3         3      3    3                 1"
      ]
     },
     "execution_count": 6,
     "metadata": {},
     "output_type": "execute_result"
    }
   ],
   "source": [
    "training_data_folder = '/Users/pasquale/git/recommender/training_data'\n",
    "emb_folder = '/Users/pasquale/git/music-embeddings'\n",
    "\n",
    "doremus_data.init(training_data_folder, emb_folder)\n",
    "vectors, uris, lbs, heads, heads_print = doremus_data.get_embeddings('expression')\n",
    "pd.DataFrame(heads_print)"
   ]
  },
  {
   "cell_type": "code",
   "execution_count": 7,
   "metadata": {},
   "outputs": [
    {
     "data": {
      "text/html": [
       "<div>\n",
       "<style>\n",
       "    .dataframe thead tr:only-child th {\n",
       "        text-align: right;\n",
       "    }\n",
       "\n",
       "    .dataframe thead th {\n",
       "        text-align: left;\n",
       "    }\n",
       "\n",
       "    .dataframe tbody tr th {\n",
       "        vertical-align: top;\n",
       "    }\n",
       "</style>\n",
       "<table border=\"1\" class=\"dataframe\">\n",
       "  <thead>\n",
       "    <tr style=\"text-align: right;\">\n",
       "      <th></th>\n",
       "      <th>playlists</th>\n",
       "      <th>tracks</th>\n",
       "      <th>tracks per pl</th>\n",
       "      <th>distinct tracks</th>\n",
       "    </tr>\n",
       "  </thead>\n",
       "  <tbody>\n",
       "    <tr>\n",
       "      <th>pp_concerts</th>\n",
       "      <td>223</td>\n",
       "      <td>2561</td>\n",
       "      <td>11.484305</td>\n",
       "      <td>2417</td>\n",
       "    </tr>\n",
       "    <tr>\n",
       "      <th>itema3_concerts</th>\n",
       "      <td>414</td>\n",
       "      <td>4748</td>\n",
       "      <td>11.468599</td>\n",
       "      <td>4748</td>\n",
       "    </tr>\n",
       "    <tr>\n",
       "      <th>web-radio</th>\n",
       "      <td>105</td>\n",
       "      <td>1934</td>\n",
       "      <td>18.419048</td>\n",
       "      <td>1407</td>\n",
       "    </tr>\n",
       "    <tr>\n",
       "      <th>spotify_pl</th>\n",
       "      <td>65</td>\n",
       "      <td>1836</td>\n",
       "      <td>28.246154</td>\n",
       "      <td>1425</td>\n",
       "    </tr>\n",
       "  </tbody>\n",
       "</table>\n",
       "</div>"
      ],
      "text/plain": [
       "                 playlists  tracks  tracks per pl   distinct tracks\n",
       "pp_concerts            223    2561      11.484305              2417\n",
       "itema3_concerts        414    4748      11.468599              4748\n",
       "web-radio              105    1934      18.419048              1407\n",
       "spotify_pl              65    1836      28.246154              1425"
      ]
     },
     "execution_count": 7,
     "metadata": {},
     "output_type": "execute_result"
    }
   ],
   "source": [
    "all_training = doremus_data.all_training('expression')\n",
    "\n",
    "def training_stats(t):\n",
    "    num_playlists = len(t['playlists'])\n",
    "    num_track = [len(p['data']) for p in t['playlists']]\n",
    "    distinct = len(np.unique(np.concatenate([p['data'] for p in t['playlists']])))\n",
    "    return num_playlists, np.sum(num_track), np.mean(num_track), distinct\n",
    "\n",
    "names = [t['name'] for t in all_training]\n",
    "# for t in all_training:\n",
    "#     num_playlists, num_track = training_stats(t)\n",
    "#     print('%s\\t\\t%d' % (t['name'], num_playlists))\n",
    "pd.DataFrame([training_stats(t) for t in all_training], index=names, columns='playlists,tracks,tracks per pl, distinct tracks'.split(','))"
   ]
  },
  {
   "cell_type": "code",
   "execution_count": 8,
   "metadata": {},
   "outputs": [
    {
     "name": "stdout",
     "output_type": "stream",
     "text": [
      "pp_concerts\t\t1446\n",
      "itema3_concerts\t\t2678\n",
      "web-radio\t\t1409\n",
      "spotify_pl\t\t1511\n"
     ]
    }
   ],
   "source": [
    "_l = 5\n",
    "\n",
    "for t in all_training:\n",
    "    temp_playlists = []\n",
    "    for pl in t['playlists']:\n",
    "        for i in np.arange(len(pl['data']) - _l):\n",
    "            temp_playlists.append(pl['data'][i:i+_l])\n",
    "    t['groups'] = [{'name':str(index), 'data': pl} for index, pl in enumerate(temp_playlists)]\n",
    "    print('%s\\t\\t%d' % (t['name'], len(temp_playlists)))"
   ]
  },
  {
   "cell_type": "markdown",
   "metadata": {},
   "source": [
    "Data pre-processing"
   ]
  },
  {
   "cell_type": "code",
   "execution_count": 9,
   "metadata": {},
   "outputs": [],
   "source": [
    "negVector = -2. * np.ones_like(vectors[0], dtype=np.float32)\n",
    "\n",
    "def get_embs(x, masked=False):\n",
    "    # uri to embedding\n",
    "    v = vectors[np.argwhere(uris == x)]\n",
    "    if v.size == 0:\n",
    "        print(x)\n",
    "        result = np.array(negVector)\n",
    "    else:\n",
    "        result = np.array(v[0][0])\n",
    "    if masked:\n",
    "        result = np.ma.array(result, mask=result < -1.)\n",
    "    return result\n",
    "\n",
    "def get_label(x):\n",
    "    l =  lbs[np.argwhere(uris == x)]\n",
    "    return l[0][0] if l.size > 0 else 'none'"
   ]
  },
  {
   "cell_type": "code",
   "execution_count": 10,
   "metadata": {},
   "outputs": [],
   "source": [
    "np.set_printoptions(2)\n",
    "def compute_playlist_stats(playlist, to_print=False):\n",
    "    pl = playlist['data']\n",
    "    embeddings = np.array([get_embs(xi) for xi in pl])\n",
    "    emb_len = len(embeddings[0])\n",
    "    \n",
    "    ma_embeddings = np.ma.array(embeddings, mask=embeddings < -1.)\n",
    "\n",
    "    # I do not want to mean dimensions with single values\n",
    "    mul_values = np.where(np.sum(embeddings >= -1., axis=0) > 1, False, True)\n",
    "    mul_values = np.repeat([mul_values], len(pl), axis=0)\n",
    "    ma_embeddings = np.ma.array(ma_embeddings, mask=mul_values)\n",
    "\n",
    "    _mean = ma_embeddings.mean(axis=0)\n",
    "    _median = np.ma.median(ma_embeddings, axis=0)\n",
    "    _min = np.ma.min(ma_embeddings, axis=0)\n",
    "    _max = np.ma.max(ma_embeddings, axis=0)\n",
    "    _std = np.ma.std(ma_embeddings, axis=0)\n",
    "    \n",
    "    if to_print:\n",
    "        plt.errorbar(np.arange(len(_mean)), _mean, _std, fmt='ok',\n",
    "                     ecolor='black', elinewidth=1.5, lw=3, capsize=2)\n",
    "        plt.errorbar(np.arange(len(_mean)), _mean, [_mean - _min, _max - _mean],\n",
    "                 fmt='.k', ecolor='gray', elinewidth=0.5, lw=1, capsize=1)\n",
    "\n",
    "        plt.errorbar(np.arange(len(_mean)), _median, fmt='_g',  lw=1)\n",
    "\n",
    "        plt.xticks(range(len(heads)), heads, rotation=40)\n",
    "        plt.show()\n",
    "\n",
    "    return _mean, _median, _std"
   ]
  },
  {
   "cell_type": "markdown",
   "metadata": {},
   "source": [
    "Sample playlist"
   ]
  },
  {
   "cell_type": "code",
   "execution_count": 11,
   "metadata": {},
   "outputs": [
    {
     "name": "stdout",
     "output_type": "stream",
     "text": [
      "Base: spotify_pl\n",
      "Playlist: 1023\n"
     ]
    },
    {
     "data": {
      "image/png": "[encoded data removed]",
      "text/plain": [
       "<matplotlib.figure.Figure at 0x1160394e0>"
      ]
     },
     "metadata": {},
     "output_type": "display_data"
    },
    {
     "name": "stdout",
     "output_type": "stream",
     "text": [
      "http://overture.doremus.org/expression/ca951b03-f84b-3a7a-aef0-7023af6e8b35\n",
      "Symhonies\n",
      "[0.03590903803706169 0.007821599952876568 0.09708871692419052\n",
      " -0.006353070493787527 0.008631796576082706 0.015063508413732052\n",
      " 0.03582938387989998 -0.015889763832092285 0.02758117951452732\n",
      " -0.0902123674750328 0.3212423026561737 0.09681284427642822\n",
      " 0.8038095235824585]\n",
      "http://overture.doremus.org/expression/41ace8c4-a1b7-3b9d-8339-026e14ed1b54\n",
      "Symphonies\n",
      "[-- -- -- -0.003346540266647935 0.012496697716414928 0.012410242110490799\n",
      " 0.03334466740489006 -0.001616666791960597 0.0029975688084959984\n",
      " -0.1695733219385147 0.1698441505432129 -0.1706843227148056\n",
      " 0.7371428608894348]\n",
      "http://overture.doremus.org/expression/b53f42ba-9ec1-3e3d-9aa2-1fbff4405093\n",
      "Requiem\n",
      "[-0.05006037652492523 0.05418456718325615 0.05414140969514847\n",
      " -0.003299245610833168 0.012398893013596535 0.012594932690262794\n",
      " 0.0664895549416542 0.014949981123209 -0.04941561073064804\n",
      " -0.1695733219385147 0.1698441505432129 -0.1706843227148056\n",
      " 0.7057142853736877]\n",
      "http://overture.doremus.org/expression/4baa576b-dfd0-3400-a5cf-656fc67ab960\n",
      "The inextinguible\n",
      "[-0.0017500189132988453 0.047637034207582474 0.0068437689915299416\n",
      " -0.0063615478575229645 0.008760612457990646 0.014870624989271164\n",
      " 0.03334466740489006 -0.001616666791960597 0.0029975688084959984 -- -- --\n",
      " 0.8238095045089722]\n",
      "http://overture.doremus.org/expression/f9932fa6-d54d-32d0-8280-cef23d7adb1b\n",
      "3 grandes études\n",
      "[0.03590903803706169 0.007821599952876568 0.09708871692419052\n",
      " -0.00629316084086895 0.00841981079429388 0.014844994992017746\n",
      " 0.030921481549739838 -0.0332709364593029 0.021514253690838814 -- -- --\n",
      " 0.7504761815071106]\n"
     ]
    }
   ],
   "source": [
    "base = all_training[3]\n",
    "print('Base: ' + base['name'])\n",
    "pl = base['groups'][1023]\n",
    "print('Playlist: ' + pl['name'])\n",
    "\n",
    "m, md, s = compute_playlist_stats(pl, True)\n",
    "\n",
    "for d in pl['data']:\n",
    "    print(d.replace('data', 'overture'))\n",
    "    print(get_label(d)) \n",
    "    print(np.ma.array(get_embs(d), mask=get_embs(d) < -1.))"
   ]
  },
  {
   "cell_type": "code",
   "execution_count": null,
   "metadata": {},
   "outputs": [],
   "source": []
  },
  {
   "cell_type": "markdown",
   "metadata": {},
   "source": [
    "Standard Deviation among all playlists"
   ]
  },
  {
   "cell_type": "code",
   "execution_count": 12,
   "metadata": {},
   "outputs": [],
   "source": [
    "population_tot = np.sum([len(pl['data']) for tr in all_training for pl in tr['groups'] ])\n",
    "std = {}\n",
    "population = {}\n",
    "mean = {}\n",
    "stdw = {} # std within\n",
    "stdb = {} # std between\n",
    "                      \n",
    "for index, tr in enumerate(all_training):\n",
    "    name = tr['name']\n",
    "    std[name] = []\n",
    "    population[name] = []\n",
    "    mean[name] = []\n",
    "    for index, pl in enumerate(tr['groups']):\n",
    "        _mean, _median, _std = compute_playlist_stats(pl, False)\n",
    "        pop = len(pl['data'])\n",
    "        population[name].append(pop)\n",
    "        mean[name].append(_mean)\n",
    "        ww = (pop - 1) / (population_tot - 1)\n",
    "        std[name].append((_std**2)*ww)\n",
    "\n",
    "    stdw[name] = np.ma.sum(std[name], axis=0).filled(0)"
   ]
  },
  {
   "cell_type": "code",
   "execution_count": 13,
   "metadata": {},
   "outputs": [],
   "source": [
    "weighted_means = [np.ma.mean(mean[name], axis=0)*np.sum(population[name]) for name in mean]\n",
    "\n",
    "mtot = np.ma.sum(weighted_means, axis=0)\n",
    "mtot /= population_tot"
   ]
  },
  {
   "cell_type": "code",
   "execution_count": 35,
   "metadata": {},
   "outputs": [
    {
     "data": {
      "image/png": "[encoded data removed]",
      "text/plain": [
       "<matplotlib.figure.Figure at 0x118472da0>"
      ]
     },
     "metadata": {},
     "output_type": "display_data"
    },
    {
     "name": "stdout",
     "output_type": "stream",
     "text": [
      "Standard Deviation: mean\n",
      "[2.33e-04 3.75e-05 7.31e-05 6.52e-07 2.19e-06 4.60e-06 1.36e-05 3.53e-05\n",
      " 6.20e-05 5.18e-04 5.67e-04 6.83e-04 3.62e-04]\n",
      "Standard Deviation: minimum\n",
      "[0.00e+00 0.00e+00 0.00e+00 2.12e-07 1.47e-06 2.89e-06 3.69e-06 8.53e-06\n",
      " 1.10e-05 0.00e+00 0.00e+00 0.00e+00 8.17e-05]\n",
      "Standard Deviation between: mean\n",
      "[1.61e-04 5.63e-05 8.80e-05 5.31e-06 4.64e-06 1.09e-05 3.99e-05 3.65e-04\n",
      " 1.12e-04 5.11e-04 7.17e-04 6.09e-04 1.51e-03]\n"
     ]
    }
   ],
   "source": [
    "fig, ax = plt.subplots(figsize=(20,5))\n",
    "width = 0.2\n",
    "pos = np.arange(len(vectors[0]))\n",
    "colors = ['#3668C9', '#DA3B21', '#FD9827', '#1D9424']\n",
    "\n",
    "\n",
    "for index, tr in enumerate(all_training):\n",
    "    name = tr['name']\n",
    "    \n",
    "    ww = np.array([pop / (population_tot - 1) for pop in population[name]])\n",
    "    mg = np.ma.power(np.ma.array(mean[name]).filled(mtot) - mtot, 2)\n",
    "    stdb[name] = np.ma.sum(mg * ww.reshape(len(ww),1), axis=0)\n",
    "\n",
    "    plt.bar([p + index * width for p in pos],\n",
    "        stdb[name],\n",
    "        width,\n",
    "        alpha=0.5,\n",
    "        color=colors[index],\n",
    "        label=name + ' (between)')\n",
    "    \n",
    "    plt.bar([p + index * width for p in pos],\n",
    "        stdw[name] ,\n",
    "        width,\n",
    "        edgecolor='#000000',\n",
    "        alpha=.5,\n",
    "        color=colors[index],\n",
    "        label=name + ' (within)')\n",
    "    \n",
    "\n",
    "    \n",
    "flat_std = [stdw[name] for name in stdw]\n",
    "mstd = np.ma.mean(flat_std, axis=0)\n",
    "sstd = np.ma.std(flat_std, axis=0)\n",
    "smin = np.ma.min(flat_std, axis=0)\n",
    "smax = np.ma.max(flat_std, axis=0)\n",
    "\n",
    "# ax.plot(pos, mstd, '--', label='mean')\n",
    "\n",
    "heads[-1] = 'date'\n",
    "plt.xticks(range(len(heads)), heads, rotation=40)\n",
    "ax.set_ylabel('Variance')\n",
    "ax.set_xticks([p + 1.5 * width for p in pos])\n",
    "\n",
    "handles, labels = ax.get_legend_handles_labels()\n",
    "ax.legend(handles, labels, loc='upper left')\n",
    "plt.show()\n",
    "\n",
    "print('Standard Deviation: mean' )\n",
    "print(np.array(mstd))\n",
    "print('Standard Deviation: minimum' )\n",
    "print(np.array(smin))\n",
    "\n",
    "flat_std_b = [stdb[name] for name in stdb]\n",
    "mstd_b = np.ma.mean(flat_std_b, axis=0)\n",
    "print('Standard Deviation between: mean' )\n",
    "print(np.array(mstd_b))"
   ]
  },
  {
   "cell_type": "markdown",
   "metadata": {},
   "source": [
    "#### Explaination\n",
    "\n",
    "When the standard deviation _within_ (black border) is smaller then the standard deviation _between_ (no border), this means that for that dimension the values are more homogeneous _inside_ the group than _outside_.\n",
    "If this difference in homogeneity inside/outside is important, I can state that this dimension drives the playlist generation."
   ]
  },
  {
   "cell_type": "markdown",
   "metadata": {},
   "source": [
    "### Graphs property by property"
   ]
  },
  {
   "cell_type": "code",
   "execution_count": 15,
   "metadata": {},
   "outputs": [
    {
     "data": {
      "image/png": "[encoded data removed]",
      "text/plain": [
       "<matplotlib.figure.Figure at 0x108198860>"
      ]
     },
     "metadata": {},
     "output_type": "display_data"
    },
    {
     "data": {
      "image/png": "[encoded data removed]",
      "text/plain": [
       "<matplotlib.figure.Figure at 0x11775efd0>"
      ]
     },
     "metadata": {},
     "output_type": "display_data"
    },
    {
     "data": {
      "image/png": "[encoded data removed]",
      "text/plain": [
       "<matplotlib.figure.Figure at 0x117bce860>"
      ]
     },
     "metadata": {},
     "output_type": "display_data"
    },
    {
     "data": {
      "image/png": "[encoded data removed]",
      "text/plain": [
       "<matplotlib.figure.Figure at 0x117b0b3c8>"
      ]
     },
     "metadata": {},
     "output_type": "display_data"
    },
    {
     "data": {
      "image/png": "[encoded data removed]",
      "text/plain": [
       "<matplotlib.figure.Figure at 0x117ebe908>"
      ]
     },
     "metadata": {},
     "output_type": "display_data"
    }
   ],
   "source": [
    "def display_graph(feat):\n",
    "    pos = np.where(np.array(heads) == feat)[0]\n",
    "    pos_slide = np.arange(len(pos))\n",
    "    fig, ax = plt.subplots(figsize=(20,5))\n",
    "\n",
    "    for index, tr in enumerate(all_training):\n",
    "        name = tr['name']\n",
    "        plt.bar([p + index * width for p in pos_slide],\n",
    "            stdb[name][pos],\n",
    "            width,\n",
    "            alpha=0.5,\n",
    "            color=colors[index],\n",
    "            label=name + ' (sdt between)')\n",
    "\n",
    "        plt.bar([p + index * width for p in pos_slide],\n",
    "            stdw[name][pos] ,\n",
    "            width,\n",
    "            alpha=0.5,\n",
    "            edgecolor='#000000',\n",
    "            color=colors[index],\n",
    "            label=name + ' (sdt within)')\n",
    "\n",
    "    ax.plot(pos_slide, mstd[pos], '--', label='mean')\n",
    "\n",
    "    plt.xticks(pos_slide, np.array(heads)[pos], rotation=40)\n",
    "    ax.set_ylabel('Standard Deviation')\n",
    "    ax.set_xticks([p + 1.5 * width for p in pos_slide])\n",
    "#     handles, labels = ax.get_legend_handles_labels()\n",
    "#     ax.legend(handles, labels, loc='upper left')\n",
    "    plt.show()\n",
    "    \n",
    "    \n",
    "for _f in heads_print[0]:\n",
    "    display_graph(_f)"
   ]
  },
  {
   "cell_type": "markdown",
   "metadata": {},
   "source": [
    "For concerts"
   ]
  },
  {
   "cell_type": "code",
   "execution_count": 16,
   "metadata": {},
   "outputs": [
    {
     "name": "stdout",
     "output_type": "stream",
     "text": [
      "Standard Deviation: mean\n",
      "[5.75e-08 2.07e-08 3.08e-08 6.18e-10 1.32e-09 2.55e-09 5.15e-09 9.59e-09\n",
      " 8.84e-09 1.76e-06 1.45e-06 2.51e-06 1.69e-07]\n",
      "Standard Deviation: minimum\n",
      "[0.00e+00 0.00e+00 0.00e+00 0.00e+00 0.00e+00 0.00e+00 0.00e+00 0.00e+00\n",
      " 0.00e+00 3.32e-08 3.55e-09 3.28e-08 0.00e+00]\n",
      "Standard Deviation: maximum\n",
      "[4.34e-07 2.16e-07 2.62e-07 7.64e-09 1.45e-08 1.61e-08 1.66e-07 2.10e-07\n",
      " 2.68e-07 6.89e-06 5.72e-06 8.69e-06 4.12e-05]\n"
     ]
    }
   ],
   "source": [
    "flat_std = [s for name in ['pp_concerts','itema3_concerts'] for s in std[name]]\n",
    "mstd = np.ma.mean(flat_std, axis=0)\n",
    "sstd = np.ma.std(flat_std, axis=0)\n",
    "smin = np.ma.min(flat_std, axis=0)\n",
    "smax = np.ma.max(flat_std, axis=0)\n",
    "\n",
    "print('Standard Deviation: mean' )\n",
    "print(np.array(mstd))\n",
    "print('Standard Deviation: minimum' )\n",
    "print(np.array(smin))\n",
    "print('Standard Deviation: maximum' )\n",
    "print(np.array(smax))"
   ]
  },
  {
   "cell_type": "markdown",
   "metadata": {},
   "source": [
    "For playlists"
   ]
  },
  {
   "cell_type": "code",
   "execution_count": 17,
   "metadata": {},
   "outputs": [
    {
     "name": "stdout",
     "output_type": "stream",
     "text": [
      "Standard Deviation: mean\n",
      "[3.11e-07 4.85e-08 9.58e-08 1.72e-10 1.46e-09 3.33e-09 1.33e-08 3.83e-08\n",
      " 7.59e-08 1.34e-06 1.50e-06 1.76e-06 3.87e-07]\n",
      "Standard Deviation: minimum\n",
      "[0. 0. 0. 0. 0. 0. 0. 0. 0. 0. 0. 0. 0.]\n",
      "Standard Deviation: maximum\n",
      "[1.58e-06 3.18e-07 5.52e-07 1.71e-09 1.02e-08 1.33e-08 1.61e-07 3.38e-07\n",
      " 6.62e-07 7.71e-06 8.56e-06 8.69e-06 7.55e-06]\n"
     ]
    }
   ],
   "source": [
    "flat_std = [s for name in ['web-radio','spotify_pl'] for s in std[name]]\n",
    "mstd = np.ma.mean(flat_std, axis=0)\n",
    "sstd = np.ma.std(flat_std, axis=0)\n",
    "smin = np.ma.min(flat_std, axis=0)\n",
    "smax = np.ma.max(flat_std, axis=0)\n",
    "\n",
    "\n",
    "print('Standard Deviation: mean' )\n",
    "print(np.array(mstd))\n",
    "print('Standard Deviation: minimum' )\n",
    "print(np.array(smin))\n",
    "print('Standard Deviation: maximum' )\n",
    "print(np.array(smax))"
   ]
  },
  {
   "cell_type": "code",
   "execution_count": null,
   "metadata": {},
   "outputs": [],
   "source": []
  },
  {
   "cell_type": "markdown",
   "metadata": {},
   "source": [
    "# Computing gaps"
   ]
  },
  {
   "cell_type": "code",
   "execution_count": 18,
   "metadata": {},
   "outputs": [],
   "source": [
    "def get_std_gap(_chosen):\n",
    "#     return (stdb[_chosen] - stdw[_chosen]) / ((stdw[_chosen] + stdb[_chosen]) / 2 )\n",
    "    return  stdb[_chosen] / stdw[_chosen]\n",
    "\n",
    "def display_distances(_chosen):\n",
    "    better =(stdw[_chosen]<=stdb[_chosen]).tolist()\n",
    "    distance = get_std_gap(_chosen)\n",
    "\n",
    "    pd.set_option('precision', 3)\n",
    "    return pd.DataFrame([better, distance.tolist(), stdw[_chosen].tolist(), stdb[_chosen].tolist()], \n",
    "                        index=['homongeneous', '% rate', 'std within', 'std between'], columns=heads)"
   ]
  },
  {
   "cell_type": "code",
   "execution_count": 19,
   "metadata": {},
   "outputs": [
    {
     "data": {
      "text/html": [
       "<div>\n",
       "<style>\n",
       "    .dataframe thead tr:only-child th {\n",
       "        text-align: right;\n",
       "    }\n",
       "\n",
       "    .dataframe thead th {\n",
       "        text-align: left;\n",
       "    }\n",
       "\n",
       "    .dataframe tbody tr th {\n",
       "        vertical-align: top;\n",
       "    }\n",
       "</style>\n",
       "<table border=\"1\" class=\"dataframe\">\n",
       "  <thead>\n",
       "    <tr style=\"text-align: right;\">\n",
       "      <th></th>\n",
       "      <th>casting</th>\n",
       "      <th>casting</th>\n",
       "      <th>casting</th>\n",
       "      <th>composer</th>\n",
       "      <th>composer</th>\n",
       "      <th>composer</th>\n",
       "      <th>genre</th>\n",
       "      <th>genre</th>\n",
       "      <th>genre</th>\n",
       "      <th>key</th>\n",
       "      <th>key</th>\n",
       "      <th>key</th>\n",
       "      <th>composition_date</th>\n",
       "    </tr>\n",
       "  </thead>\n",
       "  <tbody>\n",
       "    <tr>\n",
       "      <th>homongeneous</th>\n",
       "      <td>False</td>\n",
       "      <td>True</td>\n",
       "      <td>True</td>\n",
       "      <td>True</td>\n",
       "      <td>True</td>\n",
       "      <td>True</td>\n",
       "      <td>False</td>\n",
       "      <td>True</td>\n",
       "      <td>False</td>\n",
       "      <td>False</td>\n",
       "      <td>True</td>\n",
       "      <td>False</td>\n",
       "      <td>True</td>\n",
       "    </tr>\n",
       "    <tr>\n",
       "      <th>% rate</th>\n",
       "      <td>0.5</td>\n",
       "      <td>1.45</td>\n",
       "      <td>1.14</td>\n",
       "      <td>4.15</td>\n",
       "      <td>1.47</td>\n",
       "      <td>1.37</td>\n",
       "      <td>0.999</td>\n",
       "      <td>5.5</td>\n",
       "      <td>0.728</td>\n",
       "      <td>0.886</td>\n",
       "      <td>1.12</td>\n",
       "      <td>0.843</td>\n",
       "      <td>2.65</td>\n",
       "    </tr>\n",
       "    <tr>\n",
       "      <th>std within</th>\n",
       "      <td>0.000475</td>\n",
       "      <td>7.24e-05</td>\n",
       "      <td>0.000144</td>\n",
       "      <td>2.9e-07</td>\n",
       "      <td>2.72e-06</td>\n",
       "      <td>5.75e-06</td>\n",
       "      <td>2.05e-05</td>\n",
       "      <td>5.09e-05</td>\n",
       "      <td>9.42e-05</td>\n",
       "      <td>0.00105</td>\n",
       "      <td>0.00125</td>\n",
       "      <td>0.00136</td>\n",
       "      <td>0.000646</td>\n",
       "    </tr>\n",
       "    <tr>\n",
       "      <th>std between</th>\n",
       "      <td>0.000237</td>\n",
       "      <td>0.000105</td>\n",
       "      <td>0.000164</td>\n",
       "      <td>1.21e-06</td>\n",
       "      <td>4e-06</td>\n",
       "      <td>7.87e-06</td>\n",
       "      <td>2.05e-05</td>\n",
       "      <td>0.00028</td>\n",
       "      <td>6.86e-05</td>\n",
       "      <td>0.000931</td>\n",
       "      <td>0.00139</td>\n",
       "      <td>0.00115</td>\n",
       "      <td>0.00171</td>\n",
       "    </tr>\n",
       "  </tbody>\n",
       "</table>\n",
       "</div>"
      ],
      "text/plain": [
       "               casting   casting   casting  composer  composer  composer  \\\n",
       "homongeneous     False      True      True      True      True      True   \n",
       "% rate             0.5      1.45      1.14      4.15      1.47      1.37   \n",
       "std within    0.000475  7.24e-05  0.000144   2.9e-07  2.72e-06  5.75e-06   \n",
       "std between   0.000237  0.000105  0.000164  1.21e-06     4e-06  7.87e-06   \n",
       "\n",
       "                 genre     genre     genre       key      key      key  \\\n",
       "homongeneous     False      True     False     False     True    False   \n",
       "% rate           0.999       5.5     0.728     0.886     1.12    0.843   \n",
       "std within    2.05e-05  5.09e-05  9.42e-05   0.00105  0.00125  0.00136   \n",
       "std between   2.05e-05   0.00028  6.86e-05  0.000931  0.00139  0.00115   \n",
       "\n",
       "             composition_date  \n",
       "homongeneous             True  \n",
       "% rate                   2.65  \n",
       "std within           0.000646  \n",
       "std between           0.00171  "
      ]
     },
     "execution_count": 19,
     "metadata": {},
     "output_type": "execute_result"
    }
   ],
   "source": [
    "display_distances('spotify_pl')"
   ]
  },
  {
   "cell_type": "code",
   "execution_count": 20,
   "metadata": {},
   "outputs": [
    {
     "data": {
      "text/html": [
       "<div>\n",
       "<style>\n",
       "    .dataframe thead tr:only-child th {\n",
       "        text-align: right;\n",
       "    }\n",
       "\n",
       "    .dataframe thead th {\n",
       "        text-align: left;\n",
       "    }\n",
       "\n",
       "    .dataframe tbody tr th {\n",
       "        vertical-align: top;\n",
       "    }\n",
       "</style>\n",
       "<table border=\"1\" class=\"dataframe\">\n",
       "  <thead>\n",
       "    <tr style=\"text-align: right;\">\n",
       "      <th></th>\n",
       "      <th>casting</th>\n",
       "      <th>casting</th>\n",
       "      <th>casting</th>\n",
       "      <th>composer</th>\n",
       "      <th>composer</th>\n",
       "      <th>composer</th>\n",
       "      <th>genre</th>\n",
       "      <th>genre</th>\n",
       "      <th>genre</th>\n",
       "      <th>key</th>\n",
       "      <th>key</th>\n",
       "      <th>key</th>\n",
       "      <th>composition_date</th>\n",
       "    </tr>\n",
       "  </thead>\n",
       "  <tbody>\n",
       "    <tr>\n",
       "      <th>homongeneous</th>\n",
       "      <td>False</td>\n",
       "      <td>True</td>\n",
       "      <td>True</td>\n",
       "      <td>True</td>\n",
       "      <td>True</td>\n",
       "      <td>True</td>\n",
       "      <td>True</td>\n",
       "      <td>True</td>\n",
       "      <td>False</td>\n",
       "      <td>True</td>\n",
       "      <td>True</td>\n",
       "      <td>True</td>\n",
       "      <td>True</td>\n",
       "    </tr>\n",
       "    <tr>\n",
       "      <th>% rate</th>\n",
       "      <td>0.444</td>\n",
       "      <td>1.32</td>\n",
       "      <td>1.01</td>\n",
       "      <td>5.41</td>\n",
       "      <td>1.73</td>\n",
       "      <td>1.88</td>\n",
       "      <td>1.16</td>\n",
       "      <td>3.91</td>\n",
       "      <td>0.495</td>\n",
       "      <td>1.19</td>\n",
       "      <td>1.47</td>\n",
       "      <td>1.04</td>\n",
       "      <td>1.26</td>\n",
       "    </tr>\n",
       "    <tr>\n",
       "      <th>std within</th>\n",
       "      <td>0.000432</td>\n",
       "      <td>6.88e-05</td>\n",
       "      <td>0.000135</td>\n",
       "      <td>2.12e-07</td>\n",
       "      <td>1.55e-06</td>\n",
       "      <td>3.96e-06</td>\n",
       "      <td>1.81e-05</td>\n",
       "      <td>6.05e-05</td>\n",
       "      <td>0.000127</td>\n",
       "      <td>0.000868</td>\n",
       "      <td>0.000894</td>\n",
       "      <td>0.00115</td>\n",
       "      <td>0.000478</td>\n",
       "    </tr>\n",
       "    <tr>\n",
       "      <th>std between</th>\n",
       "      <td>0.000192</td>\n",
       "      <td>9.09e-05</td>\n",
       "      <td>0.000137</td>\n",
       "      <td>1.15e-06</td>\n",
       "      <td>2.68e-06</td>\n",
       "      <td>7.46e-06</td>\n",
       "      <td>2.1e-05</td>\n",
       "      <td>0.000236</td>\n",
       "      <td>6.27e-05</td>\n",
       "      <td>0.00103</td>\n",
       "      <td>0.00132</td>\n",
       "      <td>0.0012</td>\n",
       "      <td>0.000604</td>\n",
       "    </tr>\n",
       "  </tbody>\n",
       "</table>\n",
       "</div>"
      ],
      "text/plain": [
       "               casting   casting   casting  composer  composer  composer  \\\n",
       "homongeneous     False      True      True      True      True      True   \n",
       "% rate           0.444      1.32      1.01      5.41      1.73      1.88   \n",
       "std within    0.000432  6.88e-05  0.000135  2.12e-07  1.55e-06  3.96e-06   \n",
       "std between   0.000192  9.09e-05  0.000137  1.15e-06  2.68e-06  7.46e-06   \n",
       "\n",
       "                 genre     genre     genre       key       key      key  \\\n",
       "homongeneous      True      True     False      True      True     True   \n",
       "% rate            1.16      3.91     0.495      1.19      1.47     1.04   \n",
       "std within    1.81e-05  6.05e-05  0.000127  0.000868  0.000894  0.00115   \n",
       "std between    2.1e-05  0.000236  6.27e-05   0.00103   0.00132   0.0012   \n",
       "\n",
       "             composition_date  \n",
       "homongeneous             True  \n",
       "% rate                   1.26  \n",
       "std within           0.000478  \n",
       "std between          0.000604  "
      ]
     },
     "execution_count": 20,
     "metadata": {},
     "output_type": "execute_result"
    }
   ],
   "source": [
    "display_distances('web-radio')"
   ]
  },
  {
   "cell_type": "code",
   "execution_count": 21,
   "metadata": {},
   "outputs": [
    {
     "data": {
      "text/html": [
       "<div>\n",
       "<style>\n",
       "    .dataframe thead tr:only-child th {\n",
       "        text-align: right;\n",
       "    }\n",
       "\n",
       "    .dataframe thead th {\n",
       "        text-align: left;\n",
       "    }\n",
       "\n",
       "    .dataframe tbody tr th {\n",
       "        vertical-align: top;\n",
       "    }\n",
       "</style>\n",
       "<table border=\"1\" class=\"dataframe\">\n",
       "  <thead>\n",
       "    <tr style=\"text-align: right;\">\n",
       "      <th></th>\n",
       "      <th>casting</th>\n",
       "      <th>casting</th>\n",
       "      <th>casting</th>\n",
       "      <th>composer</th>\n",
       "      <th>composer</th>\n",
       "      <th>composer</th>\n",
       "      <th>genre</th>\n",
       "      <th>genre</th>\n",
       "      <th>genre</th>\n",
       "      <th>key</th>\n",
       "      <th>key</th>\n",
       "      <th>key</th>\n",
       "      <th>composition_date</th>\n",
       "    </tr>\n",
       "  </thead>\n",
       "  <tbody>\n",
       "    <tr>\n",
       "      <th>homongeneous</th>\n",
       "      <td>True</td>\n",
       "      <td>True</td>\n",
       "      <td>True</td>\n",
       "      <td>True</td>\n",
       "      <td>True</td>\n",
       "      <td>True</td>\n",
       "      <td>True</td>\n",
       "      <td>True</td>\n",
       "      <td>True</td>\n",
       "      <td>False</td>\n",
       "      <td>True</td>\n",
       "      <td>False</td>\n",
       "      <td>True</td>\n",
       "    </tr>\n",
       "    <tr>\n",
       "      <th>% rate</th>\n",
       "      <td>8.67</td>\n",
       "      <td>3.29</td>\n",
       "      <td>3.82</td>\n",
       "      <td>14.9</td>\n",
       "      <td>2.49</td>\n",
       "      <td>5.88</td>\n",
       "      <td>3.26</td>\n",
       "      <td>5.07</td>\n",
       "      <td>9.85</td>\n",
       "      <td>0.536</td>\n",
       "      <td>1.23</td>\n",
       "      <td>0.42</td>\n",
       "      <td>26.5</td>\n",
       "    </tr>\n",
       "    <tr>\n",
       "      <th>std within</th>\n",
       "      <td>2.49e-05</td>\n",
       "      <td>8.95e-06</td>\n",
       "      <td>1.33e-05</td>\n",
       "      <td>1.13e-06</td>\n",
       "      <td>1.47e-06</td>\n",
       "      <td>2.89e-06</td>\n",
       "      <td>3.69e-06</td>\n",
       "      <td>8.53e-06</td>\n",
       "      <td>1.1e-05</td>\n",
       "      <td>0.000155</td>\n",
       "      <td>0.000127</td>\n",
       "      <td>0.000221</td>\n",
       "      <td>8.17e-05</td>\n",
       "    </tr>\n",
       "    <tr>\n",
       "      <th>std between</th>\n",
       "      <td>0.000216</td>\n",
       "      <td>2.94e-05</td>\n",
       "      <td>5.09e-05</td>\n",
       "      <td>1.68e-05</td>\n",
       "      <td>3.64e-06</td>\n",
       "      <td>1.7e-05</td>\n",
       "      <td>1.21e-05</td>\n",
       "      <td>4.33e-05</td>\n",
       "      <td>0.000108</td>\n",
       "      <td>8.31e-05</td>\n",
       "      <td>0.000157</td>\n",
       "      <td>9.26e-05</td>\n",
       "      <td>0.00216</td>\n",
       "    </tr>\n",
       "  </tbody>\n",
       "</table>\n",
       "</div>"
      ],
      "text/plain": [
       "               casting   casting   casting  composer  composer  composer  \\\n",
       "homongeneous      True      True      True      True      True      True   \n",
       "% rate            8.67      3.29      3.82      14.9      2.49      5.88   \n",
       "std within    2.49e-05  8.95e-06  1.33e-05  1.13e-06  1.47e-06  2.89e-06   \n",
       "std between   0.000216  2.94e-05  5.09e-05  1.68e-05  3.64e-06   1.7e-05   \n",
       "\n",
       "                 genre     genre     genre       key       key       key  \\\n",
       "homongeneous      True      True      True     False      True     False   \n",
       "% rate            3.26      5.07      9.85     0.536      1.23      0.42   \n",
       "std within    3.69e-06  8.53e-06   1.1e-05  0.000155  0.000127  0.000221   \n",
       "std between   1.21e-05  4.33e-05  0.000108  8.31e-05  0.000157  9.26e-05   \n",
       "\n",
       "             composition_date  \n",
       "homongeneous             True  \n",
       "% rate                   26.5  \n",
       "std within           8.17e-05  \n",
       "std between           0.00216  "
      ]
     },
     "execution_count": 21,
     "metadata": {},
     "output_type": "execute_result"
    }
   ],
   "source": [
    "display_distances('pp_concerts')"
   ]
  },
  {
   "cell_type": "code",
   "execution_count": 22,
   "metadata": {},
   "outputs": [
    {
     "data": {
      "text/html": [
       "<div>\n",
       "<style>\n",
       "    .dataframe thead tr:only-child th {\n",
       "        text-align: right;\n",
       "    }\n",
       "\n",
       "    .dataframe thead th {\n",
       "        text-align: left;\n",
       "    }\n",
       "\n",
       "    .dataframe tbody tr th {\n",
       "        vertical-align: top;\n",
       "    }\n",
       "</style>\n",
       "<table border=\"1\" class=\"dataframe\">\n",
       "  <thead>\n",
       "    <tr style=\"text-align: right;\">\n",
       "      <th></th>\n",
       "      <th>casting</th>\n",
       "      <th>casting</th>\n",
       "      <th>casting</th>\n",
       "      <th>composer</th>\n",
       "      <th>composer</th>\n",
       "      <th>composer</th>\n",
       "      <th>genre</th>\n",
       "      <th>genre</th>\n",
       "      <th>genre</th>\n",
       "      <th>key</th>\n",
       "      <th>key</th>\n",
       "      <th>key</th>\n",
       "      <th>composition_date</th>\n",
       "    </tr>\n",
       "  </thead>\n",
       "  <tbody>\n",
       "    <tr>\n",
       "      <th>homongeneous</th>\n",
       "      <td>True</td>\n",
       "      <td>True</td>\n",
       "      <td>True</td>\n",
       "      <td>True</td>\n",
       "      <td>True</td>\n",
       "      <td>True</td>\n",
       "      <td>True</td>\n",
       "      <td>True</td>\n",
       "      <td>True</td>\n",
       "      <td>True</td>\n",
       "      <td>True</td>\n",
       "      <td>True</td>\n",
       "      <td>True</td>\n",
       "    </tr>\n",
       "    <tr>\n",
       "      <th>% rate</th>\n",
       "      <td>None</td>\n",
       "      <td>None</td>\n",
       "      <td>None</td>\n",
       "      <td>2.14</td>\n",
       "      <td>2.74</td>\n",
       "      <td>1.98</td>\n",
       "      <td>8.68</td>\n",
       "      <td>42.7</td>\n",
       "      <td>12.7</td>\n",
       "      <td>None</td>\n",
       "      <td>None</td>\n",
       "      <td>None</td>\n",
       "      <td>6.37</td>\n",
       "    </tr>\n",
       "    <tr>\n",
       "      <th>std within</th>\n",
       "      <td>0</td>\n",
       "      <td>0</td>\n",
       "      <td>0</td>\n",
       "      <td>9.76e-07</td>\n",
       "      <td>3.02e-06</td>\n",
       "      <td>5.79e-06</td>\n",
       "      <td>1.22e-05</td>\n",
       "      <td>2.11e-05</td>\n",
       "      <td>1.63e-05</td>\n",
       "      <td>0</td>\n",
       "      <td>0</td>\n",
       "      <td>0</td>\n",
       "      <td>0.000244</td>\n",
       "    </tr>\n",
       "    <tr>\n",
       "      <th>std between</th>\n",
       "      <td>0</td>\n",
       "      <td>0</td>\n",
       "      <td>0</td>\n",
       "      <td>2.09e-06</td>\n",
       "      <td>8.26e-06</td>\n",
       "      <td>1.14e-05</td>\n",
       "      <td>0.000106</td>\n",
       "      <td>0.0009</td>\n",
       "      <td>0.000208</td>\n",
       "      <td>0</td>\n",
       "      <td>0</td>\n",
       "      <td>0</td>\n",
       "      <td>0.00155</td>\n",
       "    </tr>\n",
       "  </tbody>\n",
       "</table>\n",
       "</div>"
      ],
      "text/plain": [
       "             casting casting casting  composer  composer  composer     genre  \\\n",
       "homongeneous    True    True    True      True      True      True      True   \n",
       "% rate          None    None    None      2.14      2.74      1.98      8.68   \n",
       "std within         0       0       0  9.76e-07  3.02e-06  5.79e-06  1.22e-05   \n",
       "std between        0       0       0  2.09e-06  8.26e-06  1.14e-05  0.000106   \n",
       "\n",
       "                 genre     genre   key   key   key composition_date  \n",
       "homongeneous      True      True  True  True  True             True  \n",
       "% rate            42.7      12.7  None  None  None             6.37  \n",
       "std within    2.11e-05  1.63e-05     0     0     0         0.000244  \n",
       "std between     0.0009  0.000208     0     0     0          0.00155  "
      ]
     },
     "execution_count": 22,
     "metadata": {},
     "output_type": "execute_result"
    }
   ],
   "source": [
    "display_distances('itema3_concerts')"
   ]
  },
  {
   "cell_type": "markdown",
   "metadata": {},
   "source": [
    "2 different tendences between concerts and playlists.\n",
    "\n",
    "In **concerts** all the dimensions (where they exist) are more homogeneous. This is true in particular for the **casting** (not to be used instead for playlists), and this is reasonable.\n",
    "\n",
    "The 1st dimension of **composer** is also one to take in account.\n",
    "In Itema3 this is not visible probably because of bad interlinking of artists.\n",
    "\n",
    "For the keys, the values are not so relevant and not stable in positiveness.\n",
    "\n",
    "Always positive (in **bold** the largely ones):\n",
    "- **composer[0]**\n",
    "- composer[1,2]\n",
    "- **genre[2]**\n",
    "- composition_date\n",
    "- key[2]\n",
    "- casting[2]\n",
    "\n",
    "Positive only in concerts:\n",
    "- **casting[all]**\n",
    "- **genre[all]**\n",
    "- **composition_date**\n",
    "\n"
   ]
  },
  {
   "cell_type": "markdown",
   "metadata": {},
   "source": [
    "----\n",
    "# Tuning the recommender system"
   ]
  },
  {
   "cell_type": "code",
   "execution_count": 23,
   "metadata": {},
   "outputs": [
    {
     "data": {
      "text/html": [
       "<div>\n",
       "<style>\n",
       "    .dataframe thead tr:only-child th {\n",
       "        text-align: right;\n",
       "    }\n",
       "\n",
       "    .dataframe thead th {\n",
       "        text-align: left;\n",
       "    }\n",
       "\n",
       "    .dataframe tbody tr th {\n",
       "        vertical-align: top;\n",
       "    }\n",
       "</style>\n",
       "<table border=\"1\" class=\"dataframe\">\n",
       "  <thead>\n",
       "    <tr style=\"text-align: right;\">\n",
       "      <th></th>\n",
       "      <th>casting</th>\n",
       "      <th>casting</th>\n",
       "      <th>casting</th>\n",
       "      <th>composer</th>\n",
       "      <th>composer</th>\n",
       "      <th>composer</th>\n",
       "      <th>genre</th>\n",
       "      <th>genre</th>\n",
       "      <th>genre</th>\n",
       "      <th>key</th>\n",
       "      <th>key</th>\n",
       "      <th>key</th>\n",
       "      <th>composition_date</th>\n",
       "    </tr>\n",
       "  </thead>\n",
       "  <tbody>\n",
       "    <tr>\n",
       "      <th>0</th>\n",
       "      <td>0.6</td>\n",
       "      <td>1.45</td>\n",
       "      <td>0.6</td>\n",
       "      <td>4.155</td>\n",
       "      <td>1.467</td>\n",
       "      <td>1.368</td>\n",
       "      <td>0.6</td>\n",
       "      <td>5.505</td>\n",
       "      <td>0.6</td>\n",
       "      <td>0.6</td>\n",
       "      <td>0.6</td>\n",
       "      <td>0.6</td>\n",
       "      <td>2.653</td>\n",
       "    </tr>\n",
       "  </tbody>\n",
       "</table>\n",
       "</div>"
      ],
      "text/plain": [
       "   casting  casting  casting  composer  composer  composer  genre  genre  \\\n",
       "0      0.6     1.45      0.6     4.155     1.467     1.368    0.6  5.505   \n",
       "\n",
       "   genre  key  key  key  composition_date  \n",
       "0    0.6  0.6  0.6  0.6             2.653  "
      ]
     },
     "execution_count": 23,
     "metadata": {},
     "output_type": "execute_result"
    }
   ],
   "source": [
    "def compute_weights(threshold=1.3, fallback = .6, datasets =['spotify_pl']):\n",
    "    dist = [get_std_gap(_chosen) for _chosen in datasets]\n",
    "    dist = np.ma.mean(dist, axis=0).filled()\n",
    "\n",
    "    return np.where(dist > threshold, dist, fallback)\n",
    "\n",
    "w = compute_weights()\n",
    "pd.DataFrame([w], columns=heads)"
   ]
  },
  {
   "cell_type": "code",
   "execution_count": 24,
   "metadata": {},
   "outputs": [],
   "source": [
    "def get_pool_from_datasets(datasets=['web-radio','spotify_pl']):\n",
    "    all_song = []\n",
    "    for t in all_training:\n",
    "        if t['name'] in datasets:\n",
    "            for pl in t['playlists']:\n",
    "                 all_song = np.concatenate([all_song, pl['data']])\n",
    "    all_song = np.unique(all_song)\n",
    "    print('Pool size: %d' % len(all_song))\n",
    "    all_song_vec = np.ma.array([get_embs(xi, masked=True) for xi in all_song])\n",
    "#     all_song_vec = np.ma.array(all_song_vec, mask=all_song_vec < -1.)\n",
    "    all_song_labels = np.array([get_label(xi) for xi in all_song])\n",
    "    return all_song, all_song_vec, all_song_labels"
   ]
  },
  {
   "cell_type": "code",
   "execution_count": 25,
   "metadata": {},
   "outputs": [],
   "source": [
    "def computeSimilarity(seed, target, w):\n",
    "    b1 = np.where(seed.mask==True)[0]\n",
    "    b2 = np.where(target.mask==True)[0]\n",
    "    bad_pos = np.unique(np.concatenate([b1, b2]))\n",
    "\n",
    "    _seed = np.delete(seed, bad_pos, axis=0)\n",
    "    _target = np.delete(target, bad_pos, axis=0)\n",
    "    _w = np.delete(w, bad_pos, axis=0)\n",
    "\n",
    "    if len(_seed) == 0:\n",
    "        return 0\n",
    "\n",
    "    # distance\n",
    "    d = weightedL2(_seed, _target, _w)\n",
    "\n",
    "    # how much info I am not finding\n",
    "    penalty = len([x for x in b2 if x not in b1]) / len(seed)\n",
    "\n",
    "    # score\n",
    "    s = (max_distance - d) / max_distance\n",
    "    return s * (1 - penalty)\n",
    "\n",
    "\n",
    "def weightedL2(a, b, w=1):\n",
    "#     return distance.cosine(a,b)\n",
    "    # https://stackoverflow.com/a/8861999/1218213\n",
    "    q = a - b\n",
    "    return np.sqrt((w * q * q).sum())\n",
    "#     return (w * q * q).sum()\n",
    "\n",
    "\n",
    "_ones = np.ones(vectors[0].shape)\n",
    "max_distance = weightedL2(_ones,-_ones, _ones)"
   ]
  },
  {
   "cell_type": "code",
   "execution_count": 26,
   "metadata": {},
   "outputs": [
    {
     "name": "stdout",
     "output_type": "stream",
     "text": [
      "Pool size: 2563\n"
     ]
    }
   ],
   "source": [
    "def find(seed, n=4, w=None, _print=True, pool=get_pool_from_datasets()):\n",
    "    global max_distance\n",
    "    \n",
    "    _uris =  pool[0]\n",
    "    _vectors = pool[1]\n",
    "    _lbs = pool[2]\n",
    "\n",
    "    \n",
    "    f_length = len(seed)\n",
    "    \n",
    "    _seed = seed\n",
    "    \n",
    "    if w is None:\n",
    "        w = np.ones(len(_seed))\n",
    "        w = w / w.sum()\n",
    "    else:\n",
    "        w = np.array(w)\n",
    "#         temp = [np.ones(f_length[k]) * w[k] for k in range(len(w))]\n",
    "#         w = np.array([item for sublist in temp for item in sublist])\n",
    "\n",
    "    max_distance = weightedL2(np.ones(len(_seed)), np.ones(len(_seed)) * -1, w)\n",
    "\n",
    "    if _print==True: print('computing scores')\n",
    "    scores = np.array([[computeSimilarity(_seed, x.astype(float), w) for x in _vectors]])\n",
    "    full = np.concatenate([_uris.reshape(len(_uris), 1), scores.transpose(), _lbs.reshape(len(_uris), 1)], axis=1)\n",
    "\n",
    "    # remove the seed from the list\n",
    "#     full = np.delete(full, pos, 0)\n",
    "\n",
    "    # sort\n",
    "    full_sorted = sorted(full, key=lambda _x: float(_x[1]), reverse=True)\n",
    "    most_similar = full_sorted[:n]\n",
    "    if _print==True: print('\\n'.join('%s %s\\n%s' % (f[0], f[1], f[2]) for f in most_similar))\n",
    "\n",
    "    return [{'uri': _a[0], 'score': float(_a[1])} for _a in most_similar]"
   ]
  },
  {
   "cell_type": "code",
   "execution_count": 33,
   "metadata": {},
   "outputs": [
    {
     "name": "stdout",
     "output_type": "stream",
     "text": [
      "computing scores\n",
      "http://data.doremus.org/expression/edfbf89b-1464-32d5-b0e0-3b8db4d80ef1 1.0\n",
      "Lettre à Elise\n",
      "http://data.doremus.org/expression/700d8ae4-10b4-323a-91a7-e7721fcc461a 0.9963845712577681\n",
      "Songs without words\n",
      "http://data.doremus.org/expression/6b78257e-d9ac-3731-a87d-c69d1a7fce85 0.990682769984646\n",
      "Rondos. Guitare. La mineur. Op. 2, no 3\n",
      "http://data.doremus.org/expression/ca3a3163-830f-33f2-94a7-22eda0b9ae7d 0.987704539913521\n",
      "Toccatas. Piano. Do majeur. Op. 7\n"
     ]
    },
    {
     "data": {
      "text/plain": [
       "[{'score': 1.0,\n",
       "  'uri': 'http://data.doremus.org/expression/edfbf89b-1464-32d5-b0e0-3b8db4d80ef1'},\n",
       " {'score': 0.9963845712577681,\n",
       "  'uri': 'http://data.doremus.org/expression/700d8ae4-10b4-323a-91a7-e7721fcc461a'},\n",
       " {'score': 0.990682769984646,\n",
       "  'uri': 'http://data.doremus.org/expression/6b78257e-d9ac-3731-a87d-c69d1a7fce85'},\n",
       " {'score': 0.987704539913521,\n",
       "  'uri': 'http://data.doremus.org/expression/ca3a3163-830f-33f2-94a7-22eda0b9ae7d'}]"
      ]
     },
     "execution_count": 33,
     "metadata": {},
     "output_type": "execute_result"
    }
   ],
   "source": [
    "find(get_embs('http://data.doremus.org/expression/edfbf89b-1464-32d5-b0e0-3b8db4d80ef1', masked=True))"
   ]
  },
  {
   "cell_type": "code",
   "execution_count": 28,
   "metadata": {},
   "outputs": [
    {
     "name": "stdout",
     "output_type": "stream",
     "text": [
      "computing scores\n",
      "http://data.doremus.org/expression/73e749e6-b727-3bfb-bcea-d895c86ec46c 1.0\n",
      "La Walkyrie\n",
      "http://data.doremus.org/expression/4edab563-b6d7-38d5-b5b4-8cab4ce81ba6 0.9997358537588898\n",
      "L'or du Rhin\n",
      "http://data.doremus.org/expression/e2ed5a11-300b-35d6-bf3e-3044d00c642e 0.9987594389083904\n",
      "Les Troyens\n",
      "http://data.doremus.org/expression/784e4581-dd8e-3110-b052-4526f9c0025c 0.9982900558315764\n",
      "Lohengrin\n"
     ]
    },
    {
     "data": {
      "text/plain": [
       "[{'score': 1.0,\n",
       "  'uri': 'http://data.doremus.org/expression/73e749e6-b727-3bfb-bcea-d895c86ec46c'},\n",
       " {'score': 0.9997358537588898,\n",
       "  'uri': 'http://data.doremus.org/expression/4edab563-b6d7-38d5-b5b4-8cab4ce81ba6'},\n",
       " {'score': 0.9987594389083904,\n",
       "  'uri': 'http://data.doremus.org/expression/e2ed5a11-300b-35d6-bf3e-3044d00c642e'},\n",
       " {'score': 0.9982900558315764,\n",
       "  'uri': 'http://data.doremus.org/expression/784e4581-dd8e-3110-b052-4526f9c0025c'}]"
      ]
     },
     "execution_count": 28,
     "metadata": {},
     "output_type": "execute_result"
    }
   ],
   "source": [
    "find(get_embs('http://data.doremus.org/expression/73e749e6-b727-3bfb-bcea-d895c86ec46c', masked=True))"
   ]
  },
  {
   "cell_type": "code",
   "execution_count": 34,
   "metadata": {},
   "outputs": [
    {
     "name": "stdout",
     "output_type": "stream",
     "text": [
      "computing scores\n",
      "http://data.doremus.org/expression/6dd59267-fef0-392d-911f-7abbe676e289 1.0\n",
      "Les quatre saisons\n",
      "http://data.doremus.org/expression/f57d703c-276b-3fbf-bcdb-cfdc3e56ea59 0.9985493985051243\n",
      "12 concertos\n",
      "http://data.doremus.org/expression/6b5881ec-2df3-368c-9c1d-fc542c955c4e 0.9981870395360538\n",
      "Concertos. Clavier, flûtes à bec (2), orchestre à cordes, basse continue. Fa majeur. BWV 1057\n",
      "http://data.doremus.org/expression/d9b19dff-b0eb-3221-b4f1-31fb7e651b91 0.9978019939605289\n",
      "6 concertos\n"
     ]
    },
    {
     "data": {
      "text/plain": [
       "[{'score': 1.0,\n",
       "  'uri': 'http://data.doremus.org/expression/6dd59267-fef0-392d-911f-7abbe676e289'},\n",
       " {'score': 0.9985493985051243,\n",
       "  'uri': 'http://data.doremus.org/expression/f57d703c-276b-3fbf-bcdb-cfdc3e56ea59'},\n",
       " {'score': 0.9981870395360538,\n",
       "  'uri': 'http://data.doremus.org/expression/6b5881ec-2df3-368c-9c1d-fc542c955c4e'},\n",
       " {'score': 0.9978019939605289,\n",
       "  'uri': 'http://data.doremus.org/expression/d9b19dff-b0eb-3221-b4f1-31fb7e651b91'}]"
      ]
     },
     "execution_count": 34,
     "metadata": {},
     "output_type": "execute_result"
    }
   ],
   "source": [
    "find(get_embs('http://data.doremus.org/expression/6dd59267-fef0-392d-911f-7abbe676e289', masked=True))"
   ]
  },
  {
   "cell_type": "code",
   "execution_count": 46,
   "metadata": {},
   "outputs": [
    {
     "name": "stdout",
     "output_type": "stream",
     "text": [
      "Pool size: 2563\n"
     ]
    }
   ],
   "source": [
    "def recommend_compare(playlist, w, pos=-1, num_candidates=[100, 200, 500],\n",
    "                      verbose=True, pool=get_pool_from_datasets(), overture=True):\n",
    "    pl_data = playlist['data']\n",
    "    pl_population = len(pl_data)\n",
    "    if verbose: print('%d items | %s' % (pl_population, playlist['name'].split('/')[-1]))\n",
    "    \n",
    "    _replcm = 'overture.' if overture else 'data.'\n",
    "    \n",
    "    if pos < 0:\n",
    "        pos = random.randrange(pl_population)\n",
    "   \n",
    "    chosen = pl_data[pos]\n",
    "    targets = pl_data\n",
    "#     [max(pos-7,0):min(pos+7, len(pl_data))]\n",
    "    targets_pop = len(targets)\n",
    "#     print(max(pos-5,0))\n",
    "#     print(min(pos+5, len(pl_data)))\n",
    "#     print(targets_pop)\n",
    "\n",
    "    if verbose: \n",
    "        print('seed: %d) %s' % (pos, get_label(chosen)))\n",
    "        print('\\t '+ chosen.replace('data.', _replcm))\n",
    "\n",
    "    \n",
    "    first = get_embs(chosen, masked=True)\n",
    "\n",
    "    candidates = find(first, n=np.max(num_candidates), _print=False, pool=pool )\n",
    "    candidates_2 = find(first, n=np.max(num_candidates), _print=False, w = w, pool=pool )\n",
    "    \n",
    "    results = np.zeros((len(num_candidates), 3))\n",
    "    \n",
    "    for qi, q in enumerate(num_candidates):\n",
    "        trues_flat = 0\n",
    "        for index, c in enumerate(candidates[:q]):\n",
    "            if c['uri'] == chosen: continue\n",
    "            if c['uri'] in targets: trues_flat+=1\n",
    "#             if verbose:\n",
    "#                 _sig = '  X  ' if c['uri'] in targets else '   '\n",
    "#                 print('%d \\t %.5f'% (index, c['score']) + '\\t' + _sig + '\\t' + get_label(c['uri']))\n",
    "#                 print('\\t\\t\\t\\t'+ c['uri'].replace('data.', 'overture.'))\n",
    "        #     display(pd.DataFrame(np.ma.array( candidates[c]).reshape(1, 13)))\n",
    "\n",
    "\n",
    "        trues = 0\n",
    "        for index, c in enumerate(candidates_2[:q]):\n",
    "            if c['uri'] == chosen: continue\n",
    "            if c['uri'] in targets: trues+=1\n",
    "#             if verbose:\n",
    "#                 _sig = '  X  ' if c['uri'] in pl_data else '   '\n",
    "#                 print('%d \\t %.5f'% (index, c['score']) + '\\t' + _sig + '\\t' + get_label(c['uri']))\n",
    "#                 print('\\t\\t\\t\\t'+ c['uri'].replace('data.', 'overture.'))\n",
    "#                 # display(pd.DataFrame(np.ma.array( candidates[c]).reshape(1, 13)))\n",
    "\n",
    "        if verbose: print('%d | flat %d | weighted %d | diff %d' % (q, trues_flat, trues, trues-trues_flat))\n",
    "        results[qi] = [trues / targets_pop, trues_flat / targets_pop, (trues-trues_flat) / targets_pop]\n",
    "    return results"
   ]
  },
  {
   "cell_type": "code",
   "execution_count": 47,
   "metadata": {},
   "outputs": [
    {
     "name": "stdout",
     "output_type": "stream",
     "text": [
      "47 items | 37i9dQZF1DXaSipEWiHbyL.Classical World: USA.expression.txt\n",
      "seed: 9) Electric counterpoint\n",
      "\t http://overture.doremus.org/expression/358ec945-c4a0-381e-921e-8fba13266007\n",
      "100 | flat 11 | weighted 14 | diff 3\n",
      "200 | flat 16 | weighted 18 | diff 2\n",
      "500 | flat 24 | weighted 28 | diff 4\n"
     ]
    },
    {
     "data": {
      "text/plain": [
       "array([[0.3 , 0.23, 0.06],\n",
       "       [0.38, 0.34, 0.04],\n",
       "       [0.6 , 0.51, 0.09]])"
      ]
     },
     "execution_count": 47,
     "metadata": {},
     "output_type": "execute_result"
    }
   ],
   "source": [
    "pl = all_training[3]['playlists'][55]\n",
    "recommend_compare(pl, w, 9)"
   ]
  },
  {
   "cell_type": "markdown",
   "metadata": {},
   "source": [
    "### Computation on all playlists"
   ]
  },
  {
   "cell_type": "code",
   "execution_count": 48,
   "metadata": {},
   "outputs": [],
   "source": [
    "out_path = './out'\n",
    "\n",
    "def ensure_dir(file_path):\n",
    "    directory = os.path.dirname(file_path)\n",
    "    if not os.path.exists(directory):\n",
    "        os.makedirs(directory)\n",
    "    return file_path\n",
    "\n",
    "from tqdm import tqdm_notebook as tqdm"
   ]
  },
  {
   "cell_type": "code",
   "execution_count": 49,
   "metadata": {},
   "outputs": [],
   "source": [
    "def test_recommendation(pool, playlist, pos=-1, mode='random', w=None, name='', verbose=0, overture=False, write=False):\n",
    "    pl_data = playlist['data']\n",
    "    pl_population = len(pl_data)\n",
    "    pl_name = playlist['name'].split('/')[-1].replace('.json', '')\n",
    "    \n",
    "    _replcm = 'overture.' if overture else 'data.'\n",
    "\n",
    "    if pos < 0:\n",
    "        pos = random.randrange(pl_population)\n",
    "    chosen = pl_data[pos]\n",
    "    pl_data = np.delete(pl_data, pos, axis=0)\n",
    "\n",
    "    if verbose > 0: \n",
    "        print('%d items | %s' % (pl_population, pl_name))\n",
    "        print('seed: %d) %s' % (pos, get_label(chosen)))\n",
    "        print('\\t '+ chosen.replace('data.', _replcm))\n",
    "\n",
    "    \n",
    "    first = get_embs(chosen, masked=True)\n",
    "    num_candidates=[100, 200, 500]\n",
    "    max_candidates = np.max(num_candidates)\n",
    "\n",
    "    if mode == 'flat':\n",
    "        candidates = find(first, n=max_candidates, _print=False, pool=pool)\n",
    "    elif mode == 'weighted':\n",
    "        candidates = find(first, n=max_candidates, _print=False, w = w, pool=pool)\n",
    "    else : # random\n",
    "        candidates =  list(map(lambda x: {'uri': x, 'score': 0}, random.sample(pool[0].tolist(), 500)))\n",
    "\n",
    "    results = np.zeros(len(num_candidates))\n",
    "    candidates_uri =  list(map(lambda x: x['uri'], candidates))\n",
    "\n",
    "    for qi, q in enumerate(num_candidates):\n",
    "        trues = len(set(candidates_uri[:q]).intersection(set(pl_data)))\n",
    "        \n",
    "        if verbose > 0:\n",
    "            print('%d | positive %d | population %d' % (q, trues, pl_population))\n",
    "        results[qi] = trues\n",
    "\n",
    "    if verbose > 1:\n",
    "        for index, c in enumerate(candidates[:max_candidates]):\n",
    "            _sig = '  X  ' if c['uri'] in pl_data else '   '\n",
    "            print('%d \\t %.5f'% (index, c['score']) + '\\t' + _sig + '\\t' + get_label(c['uri']))\n",
    "            print('\\t\\t\\t\\t'+ c['uri'].replace('data.', _replcm))\n",
    "            # display(pd.DataFrame(np.ma.array( candidates[c]).reshape(1, 13)))\n",
    "\n",
    "    if write:\n",
    "        to_write =[';'.join([\n",
    "                    str(index),\n",
    "                    str(c['score']), \n",
    "                    '1' if c['uri'] in pl_data else '0',\n",
    "                    get_label(c['uri']),\n",
    "                    c['uri'].replace('[;\\n\"]', ' ')\n",
    "                   ])\n",
    "            for index, c in enumerate(candidates[:max_candidates])]\n",
    "\n",
    "        filename = pl_name + '.' + str(pos) + '.csv'\n",
    "        with open(ensure_dir(os.path.join(out_path, 'detail', name, filename)), 'w') as file:\n",
    "            file.write('index;score;predicted;label;uri\\n')\n",
    "            file.write('\\n'.join(to_write))\n",
    "\n",
    "    return results"
   ]
  },
  {
   "cell_type": "code",
   "execution_count": 50,
   "metadata": {
    "scrolled": true
   },
   "outputs": [],
   "source": [
    "def run_for_dataset(id_dataset, pool, mode='random', w=None, name=''):\n",
    "    with open(ensure_dir(os.path.join(out_path, 'summary', name + '.csv')), 'w') as file:\n",
    "        file.write('index;playlist;population;predicted100;predicted200;predicted500\\n')\n",
    "        testset = all_training[id_dataset]['playlists']\n",
    "        \n",
    "        pbar = tqdm(total=len(testset))\n",
    "\n",
    "        for index, pl in enumerate(testset):\n",
    "            population = len(pl['data'])\n",
    "            pl_name = pl['name'].split('/')[-1].replace('.json', '').replace('\"','')\n",
    "\n",
    "            results = [test_recommendation(pool=pool, playlist=pl, pos=pos,  \n",
    "                                    mode=mode, w=w, write=False, name=name)\n",
    "                       for pos, work in enumerate(pl['data'])]\n",
    "            results = np.mean(results,axis=0)\n",
    "            \n",
    "            file.write(';'.join([str(index), pl_name, str(population), \n",
    "                                 str(results[0]), str(results[1]), str(results[2])]))\n",
    "            file.write('\\n')\n",
    "            pbar.update(1)\n",
    "    pbar.close()"
   ]
  },
  {
   "cell_type": "code",
   "execution_count": 423,
   "metadata": {},
   "outputs": [],
   "source": [
    "# test_recommendation(pp_pool, playlist=all_training[0]['playlists'][4], mode='weighted', name='pp.w5-06', w=_wpp, verbose=2 )"
   ]
  },
  {
   "cell_type": "code",
   "execution_count": 363,
   "metadata": {},
   "outputs": [],
   "source": [
    "# itema3_pool = get_pool_from_datasets(['itema3_concerts'])"
   ]
  },
  {
   "cell_type": "code",
   "execution_count": 369,
   "metadata": {},
   "outputs": [],
   "source": [
    "run_for_dataset(1, itema3_pool, mode='random', name='itema3.rand')"
   ]
  },
  {
   "cell_type": "code",
   "execution_count": 371,
   "metadata": {
    "scrolled": true
   },
   "outputs": [],
   "source": [
    "run_for_dataset(1, itema3_pool, mode='flat', name='itema3.flat')"
   ]
  },
  {
   "cell_type": "code",
   "execution_count": 378,
   "metadata": {
    "scrolled": true
   },
   "outputs": [],
   "source": [
    "_wi3 = compute_weights(threshold=5, datasets=['itema3_concerts'])\n",
    "run_for_dataset(1, itema3_pool, mode='weighted', name='itema3.w5-06', w= _wi3)"
   ]
  },
  {
   "cell_type": "code",
   "execution_count": 437,
   "metadata": {},
   "outputs": [],
   "source": [
    "_wi3 = compute_weights(threshold=8, datasets=['itema3_concerts'])\n",
    "run_for_dataset(1, itema3_pool, mode='weighted', name='itema3.w8-06', w= _wi3)"
   ]
  },
  {
   "cell_type": "code",
   "execution_count": 444,
   "metadata": {},
   "outputs": [],
   "source": [
    "_wi3 = compute_weights(threshold=10, datasets=['itema3_concerts'])\n",
    "run_for_dataset(1, itema3_pool, mode='weighted', name='itema3.w10-06', w= _wi3)"
   ]
  },
  {
   "cell_type": "code",
   "execution_count": 445,
   "metadata": {},
   "outputs": [],
   "source": [
    "_wi3 = compute_weights(threshold=8, fallback=1., datasets=['itema3_concerts'])\n",
    "run_for_dataset(1, itema3_pool, mode='weighted', name='itema3.w8-1', w= _wi3)"
   ]
  },
  {
   "cell_type": "code",
   "execution_count": null,
   "metadata": {},
   "outputs": [],
   "source": []
  },
  {
   "cell_type": "code",
   "execution_count": null,
   "metadata": {},
   "outputs": [],
   "source": []
  },
  {
   "cell_type": "code",
   "execution_count": null,
   "metadata": {},
   "outputs": [],
   "source": []
  },
  {
   "cell_type": "code",
   "execution_count": null,
   "metadata": {},
   "outputs": [],
   "source": [
    "_wi3 = compute_weights(threshold=5, datasets=['itema3_concerts', 'pp_concerts'])\n",
    "run_for_dataset(1, itema3_pool, mode='weighted', name='itema3.wp5-06', w= _wi3)"
   ]
  },
  {
   "cell_type": "code",
   "execution_count": null,
   "metadata": {},
   "outputs": [],
   "source": [
    "pp_pool = get_pool_from_datasets(['pp_concerts'])"
   ]
  },
  {
   "cell_type": "code",
   "execution_count": null,
   "metadata": {},
   "outputs": [],
   "source": [
    "run_for_dataset(0, pp_pool, mode='random', name='pp.rand')"
   ]
  },
  {
   "cell_type": "code",
   "execution_count": null,
   "metadata": {},
   "outputs": [],
   "source": [
    "run_for_dataset(0, pp_pool, mode='flat', name='pp.flat')"
   ]
  },
  {
   "cell_type": "code",
   "execution_count": null,
   "metadata": {},
   "outputs": [],
   "source": [
    "_wpp = compute_weights(threshold=5, datasets=['pp_concerts'])\n",
    "# pd.DataFrame([_wpp], columns=heads)"
   ]
  },
  {
   "cell_type": "code",
   "execution_count": null,
   "metadata": {},
   "outputs": [],
   "source": [
    "run_for_dataset(0, pp_pool, mode='weighted', name='pp.w5-06', w=_wpp)"
   ]
  },
  {
   "cell_type": "code",
   "execution_count": null,
   "metadata": {},
   "outputs": [],
   "source": [
    "spo_pool = get_pool_from_datasets(['spotify_pl'])"
   ]
  },
  {
   "cell_type": "code",
   "execution_count": null,
   "metadata": {},
   "outputs": [],
   "source": [
    "run_for_dataset(3, spo_pool, mode='random', name='spotify.rand')"
   ]
  },
  {
   "cell_type": "code",
   "execution_count": null,
   "metadata": {},
   "outputs": [],
   "source": [
    "run_for_dataset(3, spo_pool, mode='flat', name='spotify.flat')"
   ]
  },
  {
   "cell_type": "code",
   "execution_count": null,
   "metadata": {},
   "outputs": [],
   "source": [
    "_wspo = compute_weights(threshold=1.3, datasets=['spotify_pl'])\n",
    "run_for_dataset(3, spo_pool, mode='weighted', name='spotify.w13-06', w=_wspo)"
   ]
  },
  {
   "cell_type": "code",
   "execution_count": 54,
   "metadata": {},
   "outputs": [
    {
     "name": "stdout",
     "output_type": "stream",
     "text": [
      "Pool size: 1407\n"
     ]
    }
   ],
   "source": [
    "radio_pool = get_pool_from_datasets(['web-radio'])"
   ]
  },
  {
   "cell_type": "code",
   "execution_count": null,
   "metadata": {},
   "outputs": [],
   "source": [
    "run_for_dataset(2, radio_pool, mode='random', name='web-radio.rand')"
   ]
  },
  {
   "cell_type": "code",
   "execution_count": null,
   "metadata": {},
   "outputs": [],
   "source": [
    "run_for_dataset(2, radio_pool, mode='flat', name='web-radio.flat')"
   ]
  },
  {
   "cell_type": "code",
   "execution_count": null,
   "metadata": {},
   "outputs": [],
   "source": [
    "_wradio = compute_weights(threshold=1.4, datasets=['web-radio'])\n",
    "run_for_dataset(2, radio_pool, mode='weighted', name='web-radio.w14-06', w=_wradio)"
   ]
  },
  {
   "cell_type": "code",
   "execution_count": 59,
   "metadata": {},
   "outputs": [],
   "source": [
    "_wradio = compute_weights(threshold=1.4, datasets=['web-radio'])\n",
    "_wradio[-1] *= 2\n",
    "run_for_dataset(2, radio_pool, mode='weighted', name='web-radio.wd14-06', w=_wradio)"
   ]
  },
  {
   "cell_type": "code",
   "execution_count": 56,
   "metadata": {},
   "outputs": [],
   "source": [
    "_wradio = compute_weights(threshold=1.5, datasets=['web-radio'])\n",
    "run_for_dataset(2, radio_pool, mode='weighted', name='web-radio.w15-06', w=_wradio)"
   ]
  },
  {
   "cell_type": "code",
   "execution_count": null,
   "metadata": {},
   "outputs": [],
   "source": [
    "_wradio = compute_weights(threshold=1.4, datasets=['web-radio', 'spotify_pl'])\n",
    "run_for_dataset(2, radio_pool, mode='weighted', name='web-radio.ws14-06', w=_wradio)"
   ]
  },
  {
   "cell_type": "code",
   "execution_count": null,
   "metadata": {},
   "outputs": [],
   "source": []
  },
  {
   "cell_type": "code",
   "execution_count": 61,
   "metadata": {},
   "outputs": [
    {
     "data": {
      "text/html": [
       "<div>\n",
       "<style>\n",
       "    .dataframe thead tr:only-child th {\n",
       "        text-align: right;\n",
       "    }\n",
       "\n",
       "    .dataframe thead th {\n",
       "        text-align: left;\n",
       "    }\n",
       "\n",
       "    .dataframe tbody tr th {\n",
       "        vertical-align: top;\n",
       "    }\n",
       "</style>\n",
       "<table border=\"1\" class=\"dataframe\">\n",
       "  <thead>\n",
       "    <tr style=\"text-align: right;\">\n",
       "      <th></th>\n",
       "      <th>name</th>\n",
       "      <th>r100</th>\n",
       "      <th>r200</th>\n",
       "      <th>r500</th>\n",
       "    </tr>\n",
       "  </thead>\n",
       "  <tbody>\n",
       "    <tr>\n",
       "      <th>0</th>\n",
       "      <td>itema3.flat.csv</td>\n",
       "      <td>0.363</td>\n",
       "      <td>0.423</td>\n",
       "      <td>0.506</td>\n",
       "    </tr>\n",
       "    <tr>\n",
       "      <th>1</th>\n",
       "      <td>itema3.rand.csv</td>\n",
       "      <td>0.018</td>\n",
       "      <td>0.039</td>\n",
       "      <td>0.095</td>\n",
       "    </tr>\n",
       "    <tr>\n",
       "      <th>2</th>\n",
       "      <td>itema3.w10-06.csv</td>\n",
       "      <td>0.367</td>\n",
       "      <td>0.417</td>\n",
       "      <td>0.491</td>\n",
       "    </tr>\n",
       "    <tr>\n",
       "      <th>3</th>\n",
       "      <td>itema3.w5-06.csv</td>\n",
       "      <td>0.370</td>\n",
       "      <td>0.425</td>\n",
       "      <td>0.502</td>\n",
       "    </tr>\n",
       "    <tr>\n",
       "      <th>4</th>\n",
       "      <td>itema3.w8-06.csv</td>\n",
       "      <td>0.381</td>\n",
       "      <td>0.431</td>\n",
       "      <td>0.498</td>\n",
       "    </tr>\n",
       "    <tr>\n",
       "      <th>5</th>\n",
       "      <td>itema3.w8-1.csv</td>\n",
       "      <td>0.378</td>\n",
       "      <td>0.430</td>\n",
       "      <td>0.500</td>\n",
       "    </tr>\n",
       "    <tr>\n",
       "      <th>6</th>\n",
       "      <td>itema3.wp5-06.csv</td>\n",
       "      <td>0.362</td>\n",
       "      <td>0.422</td>\n",
       "      <td>0.498</td>\n",
       "    </tr>\n",
       "    <tr>\n",
       "      <th>7</th>\n",
       "      <td>pp.flat.csv</td>\n",
       "      <td>0.475</td>\n",
       "      <td>0.536</td>\n",
       "      <td>0.634</td>\n",
       "    </tr>\n",
       "    <tr>\n",
       "      <th>8</th>\n",
       "      <td>pp.rand.csv</td>\n",
       "      <td>0.037</td>\n",
       "      <td>0.076</td>\n",
       "      <td>0.188</td>\n",
       "    </tr>\n",
       "    <tr>\n",
       "      <th>9</th>\n",
       "      <td>pp.w5-06.csv</td>\n",
       "      <td>0.479</td>\n",
       "      <td>0.546</td>\n",
       "      <td>0.640</td>\n",
       "    </tr>\n",
       "    <tr>\n",
       "      <th>10</th>\n",
       "      <td>spotify.flat.csv</td>\n",
       "      <td>0.170</td>\n",
       "      <td>0.258</td>\n",
       "      <td>0.472</td>\n",
       "    </tr>\n",
       "    <tr>\n",
       "      <th>11</th>\n",
       "      <td>spotify.rand.csv</td>\n",
       "      <td>0.067</td>\n",
       "      <td>0.131</td>\n",
       "      <td>0.336</td>\n",
       "    </tr>\n",
       "    <tr>\n",
       "      <th>12</th>\n",
       "      <td>spotify.w13-06.csv</td>\n",
       "      <td>0.174</td>\n",
       "      <td>0.264</td>\n",
       "      <td>0.487</td>\n",
       "    </tr>\n",
       "    <tr>\n",
       "      <th>13</th>\n",
       "      <td>web-radio.flat.csv</td>\n",
       "      <td>0.121</td>\n",
       "      <td>0.195</td>\n",
       "      <td>0.388</td>\n",
       "    </tr>\n",
       "    <tr>\n",
       "      <th>14</th>\n",
       "      <td>web-radio.rand.csv</td>\n",
       "      <td>0.058</td>\n",
       "      <td>0.117</td>\n",
       "      <td>0.301</td>\n",
       "    </tr>\n",
       "    <tr>\n",
       "      <th>15</th>\n",
       "      <td>web-radio.w14-06.csv</td>\n",
       "      <td>0.119</td>\n",
       "      <td>0.194</td>\n",
       "      <td>0.385</td>\n",
       "    </tr>\n",
       "    <tr>\n",
       "      <th>16</th>\n",
       "      <td>web-radio.w15-06.csv</td>\n",
       "      <td>0.120</td>\n",
       "      <td>0.193</td>\n",
       "      <td>0.385</td>\n",
       "    </tr>\n",
       "    <tr>\n",
       "      <th>17</th>\n",
       "      <td>web-radio.wd14-06.csv</td>\n",
       "      <td>0.122</td>\n",
       "      <td>0.202</td>\n",
       "      <td>0.396</td>\n",
       "    </tr>\n",
       "    <tr>\n",
       "      <th>18</th>\n",
       "      <td>web-radio.ws14-06.csv</td>\n",
       "      <td>0.125</td>\n",
       "      <td>0.202</td>\n",
       "      <td>0.401</td>\n",
       "    </tr>\n",
       "  </tbody>\n",
       "</table>\n",
       "</div>"
      ],
      "text/plain": [
       "                     name   r100   r200   r500\n",
       "0         itema3.flat.csv  0.363  0.423  0.506\n",
       "1         itema3.rand.csv  0.018  0.039  0.095\n",
       "2       itema3.w10-06.csv  0.367  0.417  0.491\n",
       "3        itema3.w5-06.csv  0.370  0.425  0.502\n",
       "4        itema3.w8-06.csv  0.381  0.431  0.498\n",
       "5         itema3.w8-1.csv  0.378  0.430  0.500\n",
       "6       itema3.wp5-06.csv  0.362  0.422  0.498\n",
       "7             pp.flat.csv  0.475  0.536  0.634\n",
       "8             pp.rand.csv  0.037  0.076  0.188\n",
       "9            pp.w5-06.csv  0.479  0.546  0.640\n",
       "10       spotify.flat.csv  0.170  0.258  0.472\n",
       "11       spotify.rand.csv  0.067  0.131  0.336\n",
       "12     spotify.w13-06.csv  0.174  0.264  0.487\n",
       "13     web-radio.flat.csv  0.121  0.195  0.388\n",
       "14     web-radio.rand.csv  0.058  0.117  0.301\n",
       "15   web-radio.w14-06.csv  0.119  0.194  0.385\n",
       "16   web-radio.w15-06.csv  0.120  0.193  0.385\n",
       "17  web-radio.wd14-06.csv  0.122  0.202  0.396\n",
       "18  web-radio.ws14-06.csv  0.125  0.202  0.401"
      ]
     },
     "execution_count": 61,
     "metadata": {},
     "output_type": "execute_result"
    }
   ],
   "source": [
    "summary_path = os.path.join(out_path, 'summary')\n",
    "columns = ['name', 'r100', 'r200', 'r500']\n",
    "summary = pd.DataFrame(columns=columns)\n",
    "\n",
    "for index, filename in enumerate(sorted(os.listdir(summary_path))):\n",
    "    table = pd.read_csv(os.path.join(summary_path,filename), sep=';')\n",
    "    table['r100'] = table.apply(lambda row: row['predicted100']/row['population'], axis=1)\n",
    "    table['r200'] = table.apply(lambda row: row['predicted200']/row['population'], axis=1)\n",
    "    table['r500'] = table.apply(lambda row: row['predicted500']/row['population'], axis=1)\n",
    "    r100 = table['r100'].mean()\n",
    "    r200 = table['r200'].mean()\n",
    "    r500 = table['r500'].mean()\n",
    "    summary.loc[index] = [filename, r100, r200, r500]\n",
    "summary"
   ]
  },
  {
   "cell_type": "code",
   "execution_count": null,
   "metadata": {},
   "outputs": [],
   "source": [
    "rc = {}\n",
    "quantities = [100, 200, 500]\n",
    "_headers = np.array([['weighted %d' % q, 'flat %d' % q, 'diff %d' % q] for q in quantities]).flatten()\n",
    "\n",
    "def compute_for_dataset(dataset, w):\n",
    "    playlists = dataset['playlists']\n",
    "    current = np.zeros((len(playlists), 3*len(quantities)))\n",
    "    for pl, idxp in log_progress(playlists, name=dataset['name']):\n",
    "        rcomp = [recommend_compare(pl, w, elem, num_candidates=quantities, verbose=False).flatten()\n",
    "                 for elem in np.arange(len(pl['data']))]\n",
    "        current[idxp] = np.mean(rcomp, axis=0)\n",
    "    return current"
   ]
  },
  {
   "cell_type": "code",
   "execution_count": null,
   "metadata": {},
   "outputs": [],
   "source": [
    "def evaluate(w, toPrint=False):\n",
    "    for dataset, idxd in log_progress(all_training[2:4], name='datasets'):\n",
    "        rc[dataset['name']] = compute_for_dataset(dataset, w)\n",
    "    \n",
    "    _data = np.array([np.mean(rc[ds], axis=0) for ds in rc])\n",
    "\n",
    "    if toPrint:    \n",
    "        return pd.DataFrame(\n",
    "            _data,\n",
    "            index = [ds for ds in rc],\n",
    "            columns = _headers\n",
    "        )\n",
    "    else:\n",
    "        return _data"
   ]
  },
  {
   "cell_type": "code",
   "execution_count": null,
   "metadata": {},
   "outputs": [],
   "source": [
    "evaluate(w, True)"
   ]
  },
  {
   "cell_type": "markdown",
   "metadata": {},
   "source": [
    "I try with different values"
   ]
  },
  {
   "cell_type": "code",
   "execution_count": null,
   "metadata": {},
   "outputs": [],
   "source": [
    "def try_with(threshold):\n",
    "    w = compute_weights(threshold=threshold)\n",
    "\n",
    "    for dataset, idxd in log_progress(all_training[2:4], name='datasets'):\n",
    "        rc[dataset['name']] = compute_for_dataset(dataset,w)\n",
    "\n",
    "    _data = np.array([np.mean(rc[ds], axis=0) for ds in rc])\n",
    "\n",
    "    return pd.DataFrame(\n",
    "        _data,\n",
    "        index = [ds for ds in rc],\n",
    "        columns = _headers\n",
    "    )"
   ]
  },
  {
   "cell_type": "code",
   "execution_count": null,
   "metadata": {},
   "outputs": [],
   "source": [
    "from IPython.display import display, HTML\n",
    "\n",
    "for dataset in all_training[2:4]:\n",
    "    playlists = dataset['playlists']\n",
    "    for pl in playlists:\n",
    "        print(pl['name'].split('/')[-1].replace('.expression.txt', ''))\n",
    "        missing = [len(np.where(get_embs(item) < -1.)[0]) for item in pl['data']]\n",
    "        _counts = sorted(pd.Series(missing).value_counts().reset_index().values.tolist())\n",
    "        _pt = ['%d (%d)' % (item[0], item[1]) for item in _counts]\n",
    "        print('\\t\\t\\t'+'\\t'.join(_pt))"
   ]
  },
  {
   "cell_type": "code",
   "execution_count": null,
   "metadata": {},
   "outputs": [],
   "source": [
    "try_with(1.4)"
   ]
  },
  {
   "cell_type": "code",
   "execution_count": null,
   "metadata": {},
   "outputs": [],
   "source": [
    "try_with(1.5)"
   ]
  },
  {
   "cell_type": "code",
   "execution_count": null,
   "metadata": {},
   "outputs": [],
   "source": [
    "try_with(2.)"
   ]
  },
  {
   "cell_type": "code",
   "execution_count": null,
   "metadata": {},
   "outputs": [],
   "source": [
    "try_with(1.2)"
   ]
  },
  {
   "cell_type": "code",
   "execution_count": null,
   "metadata": {},
   "outputs": [],
   "source": [
    "try_with(1.1)"
   ]
  },
  {
   "cell_type": "code",
   "execution_count": null,
   "metadata": {},
   "outputs": [],
   "source": [
    "try_with(1.)"
   ]
  },
  {
   "cell_type": "code",
   "execution_count": null,
   "metadata": {
    "scrolled": true
   },
   "outputs": [],
   "source": [
    "for dataset in all_training[3:4]:\n",
    "    playlists = dataset['playlists']\n",
    "    current = np.zeros((len(playlists), 3*len(quantities)))\n",
    "    for idxp, pl in enumerate(playlists):\n",
    "        rcomp = [recommend_compare(pl, w, elem, num_candidates=quantities, verbose=False).flatten()\n",
    "                 for elem in np.arange(len(pl['data']))]\n",
    "        print(pl['name'].split('/')[-1].replace('.expression.txt', ''))\n",
    "        print(len(pl['data']))\n",
    "        current[idxp] = np.mean(rcomp, axis=0)\n",
    "        _c = current[idxp]\n",
    "        print('%.3f | %.3f | %.3f' %(_c[2],_c[5], _c[8]))\n",
    "    print(dataset['name'])\n",
    "    print(np.mean(current, axis=0))\n",
    "    print(\"==========================\")"
   ]
  },
  {
   "cell_type": "code",
   "execution_count": null,
   "metadata": {},
   "outputs": [],
   "source": [
    "0.00030769230769230765 | 0.007507692307692307 | 0.013246153846153847"
   ]
  },
  {
   "cell_type": "code",
   "execution_count": null,
   "metadata": {},
   "outputs": [],
   "source": [
    "for dataset in all_training[2:3]:\n",
    "    playlists = dataset['playlists']\n",
    "    current = np.zeros((len(playlists), 3*len(quantities)))\n",
    "    for idxp, pl in enumerate(playlists):\n",
    "        rcomp = [recommend_compare(pl, w, elem, num_candidates=quantities, verbose=False).flatten()\n",
    "                 for elem in np.arange(len(pl['data']))]\n",
    "        print(pl['name'].split('/')[-1].replace('.expression.txt', ''))\n",
    "        print(len(pl['data']))\n",
    "        current[idxp] = np.mean(rcomp, axis=0)\n",
    "        _c = current[idxp]\n",
    "        print('%.3f | %.3f | %.3f' %(_c[2],_c[5], _c[8]))\n",
    "    print(dataset['name'])\n",
    "    print(np.mean(current, axis=0))\n",
    "    print(\"==========================\")"
   ]
  },
  {
   "cell_type": "code",
   "execution_count": null,
   "metadata": {},
   "outputs": [],
   "source": [
    "0.00006349206349206348 | 0.0015492063492063492 | 0.0027333333333333333"
   ]
  },
  {
   "cell_type": "code",
   "execution_count": null,
   "metadata": {},
   "outputs": [],
   "source": [
    "for dataset in all_training[3:4]:\n",
    "    playlists = dataset['playlists']\n",
    "    current = np.zeros((len(playlists), 3*len(quantities)))\n",
    "    for idxp, pl in enumerate(playlists):\n",
    "        rcomp = [recommend_compare(pl, compute_weights(threshold=1.4), elem, num_candidates=quantities, verbose=False).flatten()\n",
    "                 for elem in np.arange(len(pl['data']))]\n",
    "        print(pl['name'].split('/')[-1].replace('.expression.txt', ''))\n",
    "        print(len(pl['data']))\n",
    "        current[idxp] = np.mean(rcomp, axis=0)\n",
    "        _c = current[idxp]\n",
    "        print('%.3f | %.3f | %.3f' %(_c[2],_c[5], _c[8]))\n",
    "    print(dataset['name'])\n",
    "    print(np.mean(current, axis=0))\n",
    "    print(\"==========================\")"
   ]
  },
  {
   "cell_type": "code",
   "execution_count": null,
   "metadata": {},
   "outputs": [],
   "source": [
    "for dataset in all_training[2:3]:\n",
    "    playlists = dataset['playlists']\n",
    "    current = np.zeros((len(playlists), 3*len(quantities)))\n",
    "    for idxp, pl in enumerate(playlists):\n",
    "        rcomp = [recommend_compare(pl, compute_weights(threshold=1.4), elem, num_candidates=quantities, verbose=False).flatten()\n",
    "                 for elem in np.arange(len(pl['data']))]\n",
    "        print(pl['name'].split('/')[-1].replace('.expression.txt', ''))\n",
    "        print(len(pl['data']))\n",
    "        current[idxp] = np.mean(rcomp, axis=0)\n",
    "        _c = current[idxp]\n",
    "        print('%.3f | %.3f | %.3f' %(_c[2],_c[5], _c[8]))\n",
    "    print(dataset['name'])\n",
    "    print(np.mean(current, axis=0))\n",
    "    print(\"==========================\")"
   ]
  },
  {
   "cell_type": "code",
   "execution_count": null,
   "metadata": {},
   "outputs": [],
   "source": [
    "for dataset in all_training[3:4]:\n",
    "    playlists = dataset['playlists']\n",
    "    current = np.zeros((len(playlists), 3*len(quantities)))\n",
    "    for idxp, pl in enumerate(playlists):\n",
    "        rcomp = [recommend_compare(pl, compute_weights(threshold=1.5), elem, num_candidates=quantities, verbose=False).flatten()\n",
    "                 for elem in np.arange(len(pl['data']))]\n",
    "        print(pl['name'].split('/')[-1].replace('.expression.txt', ''))\n",
    "        print(len(pl['data']))\n",
    "        current[idxp] = np.mean(rcomp, axis=0)\n",
    "        _c = current[idxp]\n",
    "        print('%.3f | %.3f | %.3f' %(_c[2],_c[5], _c[8]))\n",
    "    print(dataset['name'])\n",
    "    print(np.mean(current, axis=0))\n",
    "    print(\"==========================\")"
   ]
  },
  {
   "cell_type": "code",
   "execution_count": null,
   "metadata": {},
   "outputs": [],
   "source": [
    "for dataset in all_training[2:3]:\n",
    "    playlists = dataset['playlists']\n",
    "    current = np.zeros((len(playlists), 3*len(quantities)))\n",
    "    for idxp, pl in enumerate(playlists):\n",
    "        rcomp = [recommend_compare(pl, compute_weights(threshold=1.5), elem, num_candidates=quantities, verbose=False).flatten()\n",
    "                 for elem in np.arange(len(pl['data']))]\n",
    "        print(pl['name'].split('/')[-1].replace('.expression.txt', ''))\n",
    "        print(len(pl['data']))\n",
    "        current[idxp] = np.mean(rcomp, axis=0)\n",
    "        _c = current[idxp]\n",
    "        print('%.3f | %.3f | %.3f' %(_c[2],_c[5], _c[8]))\n",
    "    print(dataset['name'])\n",
    "    print(np.mean(current, axis=0))\n",
    "    print(\"==========================\")"
   ]
  },
  {
   "cell_type": "code",
   "execution_count": null,
   "metadata": {},
   "outputs": [],
   "source": [
    "def display_playlist(name, virtuoso=True):\n",
    "    for base in all_training:\n",
    "        for index, pl in enumerate(base['playlists']):\n",
    "            _p = pl['name'].split('/')[-1].replace('.expression.txt', '').replace('.json', '')\n",
    "            \n",
    "            if _p == name:\n",
    "                print('Playlist %d: %s' % (index, pl['name']))\n",
    "\n",
    "                m, md, s = compute_playlist_stats(pl, True)\n",
    "\n",
    "                for d in pl['data']:\n",
    "                    if virtuoso :\n",
    "                        print(d)\n",
    "                    else :\n",
    "                        print(d.replace('data', 'overture'))\n",
    "                    print(get_label(d)) \n",
    "                    print(np.ma.array(get_embs(d), mask=get_embs(d) < -1.))\n",
    "                return"
   ]
  },
  {
   "cell_type": "code",
   "execution_count": null,
   "metadata": {},
   "outputs": [],
   "source": [
    "display_playlist('37i9dQZF1DXaSipEWiHbyL.Classical World: USA')"
   ]
  },
  {
   "cell_type": "code",
   "execution_count": null,
   "metadata": {},
   "outputs": [],
   "source": [
    "display_playlist('FM-401_20171030_00-23')"
   ]
  },
  {
   "cell_type": "code",
   "execution_count": null,
   "metadata": {},
   "outputs": [],
   "source": [
    "pl = all_training[3]['playlists'][63]\n",
    "recommend_compare(pl, w, 15)"
   ]
  },
  {
   "cell_type": "code",
   "execution_count": null,
   "metadata": {},
   "outputs": [],
   "source": [
    "w = compute_weights(datasets=['spotify_pl', 'web-radio'])\n",
    "pd.DataFrame([w], columns=heads)"
   ]
  },
  {
   "cell_type": "code",
   "execution_count": null,
   "metadata": {},
   "outputs": [],
   "source": [
    "def try_with(threshold):\n",
    "    w = compute_weights(threshold=threshold, datasets=['spotify_pl', 'web-radio'])\n",
    "\n",
    "    for dataset, idxd in log_progress(all_training[2:4], name='datasets'):\n",
    "        rc[dataset['name']] = compute_for_dataset(dataset,w)\n",
    "\n",
    "    _data = np.array([np.mean(rc[ds], axis=0) for ds in rc])\n",
    "\n",
    "    return pd.DataFrame(\n",
    "        _data,\n",
    "        index = [ds for ds in rc],\n",
    "        columns = _headers\n",
    "    )"
   ]
  },
  {
   "cell_type": "code",
   "execution_count": null,
   "metadata": {},
   "outputs": [],
   "source": [
    "try_with(1.3)"
   ]
  },
  {
   "cell_type": "code",
   "execution_count": null,
   "metadata": {},
   "outputs": [],
   "source": [
    "try_with(1.5)"
   ]
  },
  {
   "cell_type": "code",
   "execution_count": null,
   "metadata": {},
   "outputs": [],
   "source": [
    "def try_with(threshold):\n",
    "    w = compute_weights(threshold=threshold, datasets=['web-radio'])\n",
    "\n",
    "    for dataset, idxd in log_progress(all_training[2:4], name='datasets'):\n",
    "        rc[dataset['name']] = compute_for_dataset(dataset,w)\n",
    "\n",
    "    _data = np.array([np.mean(rc[ds], axis=0) for ds in rc])\n",
    "\n",
    "    return pd.DataFrame(\n",
    "        _data,\n",
    "        index = [ds for ds in rc],\n",
    "        columns = _headers\n",
    "    )"
   ]
  },
  {
   "cell_type": "code",
   "execution_count": null,
   "metadata": {},
   "outputs": [],
   "source": [
    "try_with(1.4)"
   ]
  },
  {
   "cell_type": "code",
   "execution_count": null,
   "metadata": {},
   "outputs": [],
   "source": [
    "try_with(1.5)"
   ]
  },
  {
   "cell_type": "code",
   "execution_count": null,
   "metadata": {},
   "outputs": [],
   "source": [
    "def try_with(threshold):\n",
    "    w = compute_weights(threshold=threshold, datasets=['pp_concerts', 'itema3_concerts'])\n",
    "\n",
    "    for dataset, idxd in log_progress(all_training[2:4], name='datasets'):\n",
    "        rc[dataset['name']] = compute_for_dataset(dataset,w)\n",
    "\n",
    "    _data = np.array([np.mean(rc[ds], axis=0) for ds in rc])\n",
    "\n",
    "    return pd.DataFrame(\n",
    "        _data,\n",
    "        index = [ds for ds in rc],\n",
    "        columns = _headers\n",
    "    )"
   ]
  },
  {
   "cell_type": "code",
   "execution_count": null,
   "metadata": {},
   "outputs": [],
   "source": [
    "try_with(3.)"
   ]
  },
  {
   "cell_type": "code",
   "execution_count": null,
   "metadata": {},
   "outputs": [],
   "source": [
    "try_with(5.)"
   ]
  },
  {
   "cell_type": "code",
   "execution_count": null,
   "metadata": {},
   "outputs": [],
   "source": [
    "try_with(8.)"
   ]
  },
  {
   "cell_type": "code",
   "execution_count": null,
   "metadata": {},
   "outputs": [],
   "source": [
    "def try_with(threshold):\n",
    "    w = compute_weights(threshold=threshold, datasets=['pp_concerts', 'itema3_concerts'])\n",
    "\n",
    "    for dataset, idxd in log_progress(all_training[0:2], name='datasets'):\n",
    "        rc[dataset['name']] = compute_for_dataset(dataset,w)\n",
    "\n",
    "    _data = np.array([np.mean(rc[ds], axis=0) for ds in rc])\n",
    "\n",
    "    return pd.DataFrame(\n",
    "        _data,\n",
    "        index = [ds for ds in rc],\n",
    "        columns = _headers\n",
    "    )"
   ]
  },
  {
   "cell_type": "code",
   "execution_count": null,
   "metadata": {},
   "outputs": [],
   "source": [
    "try_with(3.)"
   ]
  },
  {
   "cell_type": "code",
   "execution_count": null,
   "metadata": {},
   "outputs": [],
   "source": [
    "try_with(5.)"
   ]
  },
  {
   "cell_type": "code",
   "execution_count": null,
   "metadata": {},
   "outputs": [],
   "source": [
    "try_with(8.)"
   ]
  },
  {
   "cell_type": "code",
   "execution_count": null,
   "metadata": {},
   "outputs": [],
   "source": [
    "def try_with(threshold):\n",
    "    w = compute_weights(threshold=threshold, datasets=['itema3_concerts'])\n",
    "\n",
    "    for dataset, idxd in log_progress(all_training[0:2], name='datasets'):\n",
    "        rc[dataset['name']] = compute_for_dataset(dataset,w)\n",
    "\n",
    "    _data = np.array([np.mean(rc[ds], axis=0) for ds in rc])\n",
    "\n",
    "    return pd.DataFrame(\n",
    "        _data,\n",
    "        index = [ds for ds in rc],\n",
    "        columns = _headers\n",
    "    )"
   ]
  },
  {
   "cell_type": "code",
   "execution_count": null,
   "metadata": {},
   "outputs": [],
   "source": [
    "try_with(5.)"
   ]
  },
  {
   "cell_type": "code",
   "execution_count": null,
   "metadata": {},
   "outputs": [],
   "source": [
    "try_with(10.)"
   ]
  },
  {
   "cell_type": "code",
   "execution_count": null,
   "metadata": {},
   "outputs": [],
   "source": [
    "pl = all_training[0]['playlists'][18]\n",
    "recommend_compare(pl, w, 5, verbose=True, pool=get_pool_from_datasets(['pp_concerts']))"
   ]
  },
  {
   "cell_type": "code",
   "execution_count": null,
   "metadata": {},
   "outputs": [],
   "source": [
    "display_playlist('163468dd-41cc-3818-a874-c867959fe603', virtuoso=False)"
   ]
  },
  {
   "cell_type": "code",
   "execution_count": null,
   "metadata": {},
   "outputs": [],
   "source": [
    "_seed = get_embs('http://data.doremus.org/expression/79456370-2eb3-3abe-91d6-326bc59180a5', masked=True)\n",
    "_target = get_embs('http://data.doremus.org/expression/2dec45a4-545a-352d-b974-d5b5d3fd6a69', masked=True)\n",
    "computeSimilarity(_seed, _target, w)"
   ]
  },
  {
   "cell_type": "code",
   "execution_count": null,
   "metadata": {},
   "outputs": [],
   "source": [
    "all_f = find(_seed, _print=False, n=3000)"
   ]
  },
  {
   "cell_type": "code",
   "execution_count": null,
   "metadata": {},
   "outputs": [],
   "source": [
    "for a in all_f:\n",
    "    if a['uri'] == 'http://data.doremus.org/expression/2dec45a4-545a-352d-b974-d5b5d3fd6a69':\n",
    "        print('found')"
   ]
  },
  {
   "cell_type": "code",
   "execution_count": null,
   "metadata": {},
   "outputs": [],
   "source": [
    "for a in all_song:\n",
    "    if a == 'http://data.doremus.org/expression/2dec45a4-545a-352d-b974-d5b5d3fd6a69':\n",
    "        print('found')"
   ]
  },
  {
   "cell_type": "code",
   "execution_count": null,
   "metadata": {},
   "outputs": [],
   "source": [
    "display_playlist('0a2e8bab-a762-3e13-8a1e-236c31976b75', virtuoso=True)"
   ]
  },
  {
   "cell_type": "code",
   "execution_count": null,
   "metadata": {},
   "outputs": [],
   "source": [
    "display_playlist('37i9dQZF1DXaSipEWiHbyL.Classical World: USA')"
   ]
  },
  {
   "cell_type": "code",
   "execution_count": null,
   "metadata": {},
   "outputs": [],
   "source": []
  }
 ],
 "metadata": {
  "kernelspec": {
   "display_name": "Python 3",
   "language": "python",
   "name": "python3"
  },
  "language_info": {
   "codemirror_mode": {
    "name": "ipython",
    "version": 3
   },
   "file_extension": ".py",
   "mimetype": "text/x-python",
   "name": "python",
   "nbconvert_exporter": "python",
   "pygments_lexer": "ipython3",
   "version": "3.6.4"
  }
 },
 "nbformat": 4,
 "nbformat_minor": 1
}
