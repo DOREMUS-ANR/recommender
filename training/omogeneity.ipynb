{
 "cells": [
  {
   "cell_type": "code",
   "execution_count": 1,
   "metadata": {},
   "outputs": [],
   "source": [
    "import codecs\n",
    "import os\n",
    "import numpy as np\n",
    "import pandas as pd\n",
    "import matplotlib.pyplot as plt\n",
    "from sklearn.model_selection import train_test_split\n",
    "from datetime import datetime\n",
    "from scipy import spatial\n",
    "from scipy import stats\n",
    "plt.rcParams[\"figure.figsize\"] = (20,5)"
   ]
  },
  {
   "cell_type": "markdown",
   "metadata": {
    "collapsed": true
   },
   "source": [
    "Load data in Tensorflow."
   ]
  },
  {
   "cell_type": "code",
   "execution_count": 2,
   "metadata": {},
   "outputs": [],
   "source": [
    "root = \"/Users/pasquale/git/recommender/\"\n",
    "training_data_folder = [\n",
    "#     '%straining_data/web-radio/output/list' % root,\n",
    "    '%straining_data/spotify/output/playlists/list' % root,\n",
    "#     '%straining_data/concerts/output/list/philharmonie' % root\n",
    "#     '%straining_data/concerts/output/list/Radio_France' % root\n",
    "    ]\n",
    "embDir = '/Users/pasquale/git/music-embeddings'\n",
    "what = 'artist'\n",
    "\n",
    "uri_file = '%s/%s.emb.u' % (embDir, what)\n",
    "vector_file = '%s/%s.emb.v' % (embDir, what)\n",
    "header_file = '%s/%s.emb.h' % (embDir, what)\n",
    "label_file = '%s/%s.emb.l' % (embDir, what)"
   ]
  },
  {
   "cell_type": "code",
   "execution_count": 3,
   "metadata": {},
   "outputs": [],
   "source": [
    "# load embeddings\n",
    "vectors = np.array([line.strip().split(' ') for line in codecs.open(vector_file, 'r', 'utf-8')], np.float32)\n",
    "heads = np.array([line.strip() for line in codecs.open(header_file, 'r', 'utf-8')])\n",
    "uris = np.array([line.strip() for line in codecs.open(uri_file, 'r', 'utf-8')])\n",
    "lbs = np.array([line.strip() for line in codecs.open(label_file, 'r', 'utf-8')])"
   ]
  },
  {
   "cell_type": "code",
   "execution_count": null,
   "metadata": {},
   "outputs": [],
   "source": []
  },
  {
   "cell_type": "code",
   "execution_count": 4,
   "metadata": {},
   "outputs": [],
   "source": [
    "import sys\n",
    "sys.setrecursionlimit(10000)\n",
    "tree = spatial.KDTree(vectors)"
   ]
  },
  {
   "cell_type": "code",
   "execution_count": 5,
   "metadata": {},
   "outputs": [
    {
     "name": "stdout",
     "output_type": "stream",
     "text": [
      "mop -> 3\n",
      "birth_date -> 1\n",
      "death_date -> 1\n",
      "casting -> 3\n",
      "function -> 3\n",
      "genre -> 3\n",
      "key -> 3\n"
     ]
    },
    {
     "data": {
      "text/html": [
       "<div>\n",
       "<style scoped>\n",
       "    .dataframe tbody tr th:only-of-type {\n",
       "        vertical-align: middle;\n",
       "    }\n",
       "\n",
       "    .dataframe tbody tr th {\n",
       "        vertical-align: top;\n",
       "    }\n",
       "\n",
       "    .dataframe thead th {\n",
       "        text-align: right;\n",
       "    }\n",
       "</style>\n",
       "<table border=\"1\" class=\"dataframe\">\n",
       "  <thead>\n",
       "    <tr style=\"text-align: right;\">\n",
       "      <th></th>\n",
       "      <th>0</th>\n",
       "      <th>1</th>\n",
       "      <th>2</th>\n",
       "      <th>3</th>\n",
       "      <th>4</th>\n",
       "      <th>5</th>\n",
       "      <th>6</th>\n",
       "    </tr>\n",
       "  </thead>\n",
       "  <tbody>\n",
       "    <tr>\n",
       "      <th>0</th>\n",
       "      <td>mop</td>\n",
       "      <td>birth_date</td>\n",
       "      <td>death_date</td>\n",
       "      <td>casting</td>\n",
       "      <td>function</td>\n",
       "      <td>genre</td>\n",
       "      <td>key</td>\n",
       "    </tr>\n",
       "    <tr>\n",
       "      <th>1</th>\n",
       "      <td>3</td>\n",
       "      <td>1</td>\n",
       "      <td>1</td>\n",
       "      <td>3</td>\n",
       "      <td>3</td>\n",
       "      <td>3</td>\n",
       "      <td>3</td>\n",
       "    </tr>\n",
       "  </tbody>\n",
       "</table>\n",
       "</div>"
      ],
      "text/plain": [
       "     0           1           2        3         4      5    6\n",
       "0  mop  birth_date  death_date  casting  function  genre  key\n",
       "1    3           1           1        3         3      3    3"
      ]
     },
     "execution_count": 5,
     "metadata": {},
     "output_type": "execute_result"
    }
   ],
   "source": [
    "head_label = heads[0].split()\n",
    "head_val = heads[1].split()\n",
    "head_dim = []\n",
    "for i in range(0, len(head_val)):\n",
    "    print(head_label[i] + ' -> ' + head_val[i])\n",
    "    for j in range(0, int(head_val[i])):\n",
    "        head_dim.append(head_label[i])\n",
    "        \n",
    "# head_dim.append('fake')\n",
    "# head_dim.append('fake')\n",
    "# head_dim.append('fake')\n",
    "pd.DataFrame([head_label, head_val])"
   ]
  },
  {
   "cell_type": "code",
   "execution_count": 6,
   "metadata": {},
   "outputs": [],
   "source": [
    "# load training\n",
    "train_array = []\n",
    "train_names = []\n",
    "for folder in training_data_folder:\n",
    "    training_folder = '%s/%s' % (folder, what)\n",
    "    for f in sorted(os.listdir(training_folder)):\n",
    "        file= '%s/%s' % (training_folder, f)\n",
    "        train_array.append(np.array([line.strip() for line in codecs.open(file, 'r', 'utf-8')]))\n",
    "        train_names.append(f)"
   ]
  },
  {
   "cell_type": "code",
   "execution_count": 7,
   "metadata": {},
   "outputs": [],
   "source": [
    "# train_array[2]"
   ]
  },
  {
   "cell_type": "code",
   "execution_count": 8,
   "metadata": {},
   "outputs": [
    {
     "data": {
      "text/plain": [
       "array([ 2.,  2.,  0., nan])"
      ]
     },
     "execution_count": 8,
     "metadata": {},
     "output_type": "execute_result"
    }
   ],
   "source": [
    "np.mean([[1,2,0,np.nan],[3,2,0,0]], axis=0)"
   ]
  },
  {
   "cell_type": "markdown",
   "metadata": {},
   "source": [
    "Data pre-processing"
   ]
  },
  {
   "cell_type": "code",
   "execution_count": 9,
   "metadata": {},
   "outputs": [],
   "source": [
    "negVector = -2. * np.ones_like(vectors[0], dtype=np.float32)\n",
    "\n",
    "def get_embs(x):\n",
    "    # uri to embedding\n",
    "    v = vectors[np.argwhere(uris == x)]\n",
    "    if v.size == 0:\n",
    "        print(x)\n",
    "        result = np.array(negVector)\n",
    "    else:\n",
    "        result = np.array(v[0][0])\n",
    "#     return result\n",
    "    return np.where(result < -1., -2, result)\n",
    "\n",
    "def get_label(x):\n",
    "    l =  lbs[np.argwhere(uris == x)]\n",
    "    return l[0][0] if l.size > 0 else 'none'"
   ]
  },
  {
   "cell_type": "code",
   "execution_count": null,
   "metadata": {},
   "outputs": [],
   "source": [
    "np.set_printoptions(2)\n",
    "def compute_playlist_stats(pl, to_print=False):\n",
    "    embeddings = np.array([get_embs(xi) for xi in pl])\n",
    "    emb_len = len(embeddings[0])\n",
    "    \n",
    "    ma_embeddings = np.ma.array(embeddings, mask=embeddings < -1.)\n",
    "\n",
    "    # I do not want to mean dimensions with single values\n",
    "    mul_values = np.where(np.sum(embeddings >= -1., axis=0) > 1, False, True)\n",
    "    mul_values = np.repeat([mul_values], len(pl), axis=0)\n",
    "    ma_embeddings = np.ma.array(ma_embeddings, mask=mul_values)\n",
    "\n",
    "    _mean = ma_embeddings.mean(axis=0)\n",
    "    _median = np.ma.median(ma_embeddings, axis=0)\n",
    "    _min = np.ma.min(ma_embeddings, axis=0)\n",
    "    _max = np.ma.max(ma_embeddings, axis=0)\n",
    "    _std = np.ma.std(ma_embeddings, axis=0)\n",
    "    \n",
    "        \n",
    "    if to_print:\n",
    "#         closer = tree.query(_mean)[1]\n",
    "#         print(vectors[closer] - _mean)\n",
    "\n",
    "#         print(vectors[closer])\n",
    "#         print(uris[closer])\n",
    "#         print(lbs[closer])\n",
    "        plt.errorbar(np.arange(len(_mean)), _mean, _std, fmt='ok',\n",
    "                     ecolor='black', elinewidth=1.5, lw=3, capsize=2)\n",
    "        plt.errorbar(np.arange(len(_mean)), _mean, [_mean - _min, _max - _mean],\n",
    "                 fmt='.k', ecolor='gray', elinewidth=0.5, lw=1, capsize=1)\n",
    "\n",
    "        plt.errorbar(np.arange(len(_mean)), _median, fmt='_g',  lw=1)\n",
    "\n",
    "        plt.xticks(range(len(head_dim)), head_dim, rotation=40)\n",
    "        plt.show()\n",
    "#         for index, i in enumerate(pl):\n",
    "#             print(i.replace('data.', 'overture.') + \" \" + get_label(i))\n",
    "#             print(embeddings[index, -1])\n",
    "            \n",
    "\n",
    "    return _mean, _median, _std"
   ]
  },
  {
   "cell_type": "markdown",
   "metadata": {},
   "source": [
    "Sample playlist"
   ]
  },
  {
   "cell_type": "code",
   "execution_count": 13,
   "metadata": {},
   "outputs": [
    {
     "name": "stderr",
     "output_type": "stream",
     "text": [
      "/Library/Frameworks/Python.framework/Versions/3.6/lib/python3.6/site-packages/numpy/core/numeric.py:492: UserWarning: Warning: converting a masked element to nan.\n",
      "  return array(a, dtype, copy=False, order=order)\n"
     ]
    },
    {
     "data": {
      "image/png": "[encoded data removed]",
      "text/plain": [
       "<Figure size 432x288 with 1 Axes>"
      ]
     },
     "metadata": {},
     "output_type": "display_data"
    }
   ],
   "source": [
    "m, md, s = compute_playlist_stats(train_array[51], True)"
   ]
  },
  {
   "cell_type": "markdown",
   "metadata": {},
   "source": [
    "Standard Deviation among all playlists"
   ]
  },
  {
   "cell_type": "code",
   "execution_count": 14,
   "metadata": {},
   "outputs": [
    {
     "name": "stdout",
     "output_type": "stream",
     "text": [
      "[0.03 0.01 0.02 0.07 0.07 0.02 0.02 0.02 0.   0.   0.   0.01 0.02 0.02\n",
      " 0.06 0.07 0.08]\n",
      "[0.00e+00 0.00e+00 0.00e+00 1.18e-02 1.01e-02 1.31e-03 4.96e-03 2.51e-03\n",
      " 0.00e+00 7.45e-09 4.39e-08 4.74e-03 1.01e-02 6.16e-03 1.28e-02 3.61e-02\n",
      " 1.96e-02]\n"
     ]
    },
    {
     "data": {
      "image/png": "[encoded data removed]",
      "text/plain": [
       "<Figure size 432x288 with 1 Axes>"
      ]
     },
     "metadata": {},
     "output_type": "display_data"
    }
   ],
   "source": [
    "std = []\n",
    "for pl in train_array:\n",
    "    _mean, _median, _std = compute_playlist_stats(pl, False)\n",
    "    std.append(_std)\n",
    "\n",
    "mstd = np.ma.mean(std, axis=0)\n",
    "sstd = np.ma.std(std, axis=0)\n",
    "print(np.array(mstd))\n",
    "smin = np.ma.min(std, axis=0)\n",
    "smax = np.ma.max(std, axis=0)\n",
    "\n",
    "print(np.array(smin))\n",
    "plt.errorbar(np.arange(len(mstd)), mstd, sstd, fmt='ok',\n",
    "             ecolor='black', elinewidth=1.5, lw=3, capsize=2)\n",
    "plt.errorbar(np.arange(len(mstd)), mstd, [mstd - smin, smax - mstd],\n",
    "         fmt='.k', ecolor='gray', elinewidth=0.5, lw=1, capsize=1)\n",
    "plt.xticks(range(len(head_dim)), head_dim, rotation=40)\n",
    "plt.show()\n"
   ]
  },
  {
   "cell_type": "code",
   "execution_count": 15,
   "metadata": {},
   "outputs": [],
   "source": [
    "nstd = np.ma.array(std)\n",
    "def print_stats_feat(feat):\n",
    "    pos = np.where(np.array(head_dim) == feat)[0]\n",
    "    _merged =  nstd[:,pos].mean(axis=1)\n",
    "    _mean = _merged.mean()\n",
    "    _median =  np.median(_merged)\n",
    "    _min = _merged.min()\n",
    "    _max = _merged.max()\n",
    "    \n",
    "    pmed = np.argsort(_merged)[len(_merged)//2]\n",
    "    pmin = np.argmin(_merged)\n",
    "    pmax = np.argmax(_merged)\n",
    "    \n",
    "    plt.bar(range(len(_merged)), np.ma.sort(_merged - _min) )\n",
    "    \n",
    "    ax1 = plt.axhline(y=_mean - _min, zorder=0, color='green', label='mean')\n",
    "    ax2 = plt.axhline(y=_median - _min, zorder=0, color='blue', label='median')\n",
    "    ax3 = plt.axhline(y= 0 , zorder=0, color='red', label='min')\n",
    "    ax4 = plt.axhline(y= _max - _min, zorder=0, color='black', label='max')\n",
    "    plt.legend(handles=[ax1, ax2, ax3, ax4])\n",
    "\n",
    "    plt.show()\n",
    "    \n",
    "    print('Standard Deviation: \\t mean \\t\\t median \\t min \\t\\t max')\n",
    "    print('\\t\\t\\t %.2f%% \\t\\t %.2f%% \\t\\t %.2f%% \\t\\t %.2f%%' % ((100 * _mean),(100 * _median ), (100. * _min), (100. * _max)))\n",
    "    print('\\nMore omogeneous: playlist %s (%s)' % (pmin, train_names[pmin]))\n",
    "    print('  |  '.join([get_label(u) for u in train_array[pmin]]))\n",
    "    print('\\nLess omogeneous: playlist %s (%s)' % (pmax, train_names[pmax]))\n",
    "    print('  |  '.join([get_label(u) for u in train_array[pmax]]))"
   ]
  },
  {
   "cell_type": "code",
   "execution_count": 16,
   "metadata": {},
   "outputs": [],
   "source": [
    "import warnings\n",
    "warnings.filterwarnings('ignore')"
   ]
  },
  {
   "cell_type": "markdown",
   "metadata": {},
   "source": [
    "## MoP"
   ]
  },
  {
   "cell_type": "code",
   "execution_count": 17,
   "metadata": {
    "scrolled": true
   },
   "outputs": [
    {
     "data": {
      "image/png": "[encoded data removed]",
      "text/plain": [
       "<Figure size 432x288 with 1 Axes>"
      ]
     },
     "metadata": {},
     "output_type": "display_data"
    },
    {
     "name": "stdout",
     "output_type": "stream",
     "text": [
      "Standard Deviation: \t mean \t\t median \t min \t\t max\n",
      "\t\t\t 2.03% \t\t 1.74% \t\t 0.00% \t\t 4.75%\n",
      "\n",
      "More omogeneous: playlist 10 (37i9dQZF1DWTZaA3VFnR5i.Classical World: UK & Ireland.artist.txt)\n",
      "Peter Maxwell Davies  |  Henry Purcell  |  Benjamin Britten  |  William Walton  |  John Field  |  Edward Elgar  |  John Tavener  |  Ralph Vaughan Williams  |  Gustav Holst  |  John Dowland  |  Malcolm Arnold  |  Gerald Finzi  |  Christopher Tye  |  Frederick Delius  |  Harrison Birtwistle  |  Mark-Anthony Turnage  |  Thomas Tallis  |  Michael Tippett  |  William Byrd  |  Arnold Bax  |  Oliver Knussen  |  Judith Weir  |  George Benjamin  |  James MacMillan  |  Ernest John Moeran  |  Jonathan Dove  |  Arthur Sullivan  |  William Alwyn  |  John Ireland  |  Frank Bridge  |  Herbert Howells  |  Thomas Adès  |  Andrew Lloyd Webber  |  Karl Jenkins  |  John Dunstaple  |  John Taverner  |  Orlando Gibbons  |  Charles Villiers Stanford  |  Rebecca Clarke  |  Thomas Tomkins  |  Jonathan Harvey  |  Brian Ferneyhough  |  Michael Nyman  |  John Rutter  |  Michael Finnissy  |  Roxanna Panufnik  |  Joby Talbot  |  Gavin Bryars  |  Max Richter\n",
      "\n",
      "Less omogeneous: playlist 44 (37i9dQZF1DWYiS8hkmdLyc.Classical World: Belgium & The Netherlands.artist.txt)\n",
      "César Franck  |  Johannes Ockeghem  |  Eugène Ysaÿe  |  Roland de Lassus  |  Henri Vieuxtemps  |  Jan Pieterszoon Sweelinck  |  Willem Pijper  |  Unico Wilhelm van Wassenaer  |  Hendrik Andriessen  |  Louis Andriessen  |  Alphons Diepenbrock  |  Michel van der Aa  |  Jacob Van Eyck  |  Ton de Leeuw  |  Guillaume Dufay  |  Gilles Binchois  |  Antoine Busnois  |  Heinrich Isaac  |  Jacob Obrecht  |  Philippe de Monte  |  Henry Du Mont  |  André-Ernest-Modeste Grétry  |  François-Joseph Gossec  |  Wim Mertens  |  Guillaume Lekeu  |  Pierre de La Rue  |  Adrian Willaert  |  Otto Ketting\n"
     ]
    }
   ],
   "source": [
    "print_stats_feat('mop')"
   ]
  },
  {
   "cell_type": "markdown",
   "metadata": {},
   "source": [
    "## Period\n",
    "Consider that:\n",
    "- 0.001 (0.1%) =  1 year\n",
    "- 0.01 (1%) = 10 years"
   ]
  },
  {
   "cell_type": "code",
   "execution_count": 18,
   "metadata": {
    "scrolled": true
   },
   "outputs": [
    {
     "data": {
      "image/png": "[encoded data removed]",
      "text/plain": [
       "<Figure size 432x288 with 1 Axes>"
      ]
     },
     "metadata": {},
     "output_type": "display_data"
    },
    {
     "name": "stdout",
     "output_type": "stream",
     "text": [
      "Standard Deviation: \t mean \t\t median \t min \t\t max\n",
      "\t\t\t 6.67% \t\t 6.64% \t\t 1.18% \t\t 19.16%\n",
      "\n",
      "More omogeneous: playlist 56 (37i9dQZF1DX10uaP8FoDNe.Minimalism.artist.txt)\n",
      "Philip Glass  |  Meredith Monk  |  William Duckworth  |  Arvo Pärt  |  Lubomyr Melnyk  |  Louis Andriessen  |  Daniel Bjarnason  |  Missy Mazzoli  |  Steve Reich  |  John Adams  |  Brian Eno  |  Gavin Bryars  |  Bryce Dessner  |  Frans Geysen  |  Paul Lansky  |  Tibor Szemzö  |  Ingram Marshall  |  Howard Skempton  |  Karel Goeyvaerts  |  Robert Moran  |  Stephen Scott  |  Julius Eastman  |  Evan Ziporyn  |  Simon Rackham  |  Janice Giteck  |  John Tavener  |  Arvo Pärt  |  Paul Dresher  |  Michael Nyman\n",
      "\n",
      "Less omogeneous: playlist 44 (37i9dQZF1DWYiS8hkmdLyc.Classical World: Belgium & The Netherlands.artist.txt)\n",
      "César Franck  |  Johannes Ockeghem  |  Eugène Ysaÿe  |  Roland de Lassus  |  Henri Vieuxtemps  |  Jan Pieterszoon Sweelinck  |  Willem Pijper  |  Unico Wilhelm van Wassenaer  |  Hendrik Andriessen  |  Louis Andriessen  |  Alphons Diepenbrock  |  Michel van der Aa  |  Jacob Van Eyck  |  Ton de Leeuw  |  Guillaume Dufay  |  Gilles Binchois  |  Antoine Busnois  |  Heinrich Isaac  |  Jacob Obrecht  |  Philippe de Monte  |  Henry Du Mont  |  André-Ernest-Modeste Grétry  |  François-Joseph Gossec  |  Wim Mertens  |  Guillaume Lekeu  |  Pierre de La Rue  |  Adrian Willaert  |  Otto Ketting\n"
     ]
    }
   ],
   "source": [
    "print_stats_feat(['birth_date'])"
   ]
  },
  {
   "cell_type": "code",
   "execution_count": 19,
   "metadata": {},
   "outputs": [
    {
     "data": {
      "image/png": "[encoded data removed]",
      "text/plain": [
       "<Figure size 432x288 with 1 Axes>"
      ]
     },
     "metadata": {},
     "output_type": "display_data"
    },
    {
     "name": "stdout",
     "output_type": "stream",
     "text": [
      "Standard Deviation: \t mean \t\t median \t min \t\t max\n",
      "\t\t\t 6.96% \t\t 6.45% \t\t 1.01% \t\t 25.23%\n",
      "\n",
      "More omogeneous: playlist 56 (37i9dQZF1DX10uaP8FoDNe.Minimalism.artist.txt)\n",
      "Philip Glass  |  Meredith Monk  |  William Duckworth  |  Arvo Pärt  |  Lubomyr Melnyk  |  Louis Andriessen  |  Daniel Bjarnason  |  Missy Mazzoli  |  Steve Reich  |  John Adams  |  Brian Eno  |  Gavin Bryars  |  Bryce Dessner  |  Frans Geysen  |  Paul Lansky  |  Tibor Szemzö  |  Ingram Marshall  |  Howard Skempton  |  Karel Goeyvaerts  |  Robert Moran  |  Stephen Scott  |  Julius Eastman  |  Evan Ziporyn  |  Simon Rackham  |  Janice Giteck  |  John Tavener  |  Arvo Pärt  |  Paul Dresher  |  Michael Nyman\n",
      "\n",
      "Less omogeneous: playlist 70 (37i9dQZF1DX561TxkFttR4.88 Keys.artist.txt)\n",
      "Max Richter  |  Ólafur Arnalds  |  Nils Frahm  |  Guido  |  Ólafur Arnalds  |  Yann Tiersen  |  Ólafur Arnalds  |  Ludovico Einaudi  |  Nils Frahm  |  Chilly Gonzales  |  Nils Frahm  |  Aphex Twin  |  Max Richter  |  Chilly Gonzales  |  Ólafur Arnalds  |  Ludovico Einaudi  |  David Lang  |  Nils Frahm  |  Erik Satie  |  Jean-Philippe Rameau\n"
     ]
    }
   ],
   "source": [
    "print_stats_feat(['death_date'])"
   ]
  },
  {
   "cell_type": "markdown",
   "metadata": {},
   "source": [
    "Less omogeneous: \"88 keys\" https://open.spotify.com/user/spotify/playlist/37i9dQZF1DX561TxkFttR4\n",
    "Unfortunately we have not all the keys for this artists/expression (just for Rameau), so this not appears in the key section"
   ]
  },
  {
   "cell_type": "markdown",
   "metadata": {},
   "source": [
    "## Casting"
   ]
  },
  {
   "cell_type": "code",
   "execution_count": 26,
   "metadata": {
    "scrolled": true
   },
   "outputs": [
    {
     "data": {
      "image/png": "[encoded data removed]",
      "text/plain": [
       "<Figure size 432x288 with 1 Axes>"
      ]
     },
     "metadata": {},
     "output_type": "display_data"
    },
    {
     "name": "stdout",
     "output_type": "stream",
     "text": [
      "Standard Deviation: \t mean \t\t median \t min \t\t max\n",
      "\t\t\t 2.07% \t\t 2.03% \t\t 0.29% \t\t 3.24%\n",
      "\n",
      "More omogeneous: playlist 40 (37i9dQZF1DWYZW76Iw4Lij.Medieval 50: Spotify Picks.artist.txt)\n",
      "Pérotin  |  Léonin  |  Jacopo da Bologna  |  Baude Cordier  |  Oswald von Wolkenstein  |  Lorenzo da Firenze  |  Francesco Landini  |  Gherardello da Firenze  |  Alfonso X El Sabio  |  Johannes Ciconia  |  Francesco Landini  |  Guillaume de Machaut  |  Philippe de Vitry  |  Johannes Ciconia  |  Bartolino da Padova  |  Oswald von Wolkenstein  |  Matteo da Perugia  |  Lorenzo da Firenze  |  Guillaume de Machaut  |  Wolfram von Eschenbach  |  Jaquemin de Senleches  |  Petrus de Cruce  |  Adam de Saint-Victor  |  Walther von der Vogelweide  |  Neidhart von Reuental  |  Lorenzo da Firenze  |  Trebor  |  Gacian Reyneau  |  John Dunstaple  |  Jaquemin de Senleches  |  Antonius Romanus  |  Arnold de Lantins  |  Leonel Power\n",
      "\n",
      "Less omogeneous: playlist 70 (37i9dQZF1DX561TxkFttR4.88 Keys.artist.txt)\n",
      "Max Richter  |  Ólafur Arnalds  |  Nils Frahm  |  Guido  |  Ólafur Arnalds  |  Yann Tiersen  |  Ólafur Arnalds  |  Ludovico Einaudi  |  Nils Frahm  |  Chilly Gonzales  |  Nils Frahm  |  Aphex Twin  |  Max Richter  |  Chilly Gonzales  |  Ólafur Arnalds  |  Ludovico Einaudi  |  David Lang  |  Nils Frahm  |  Erik Satie  |  Jean-Philippe Rameau\n"
     ]
    }
   ],
   "source": [
    "print_stats_feat('casting')"
   ]
  },
  {
   "cell_type": "markdown",
   "metadata": {},
   "source": [
    "## Function"
   ]
  },
  {
   "cell_type": "markdown",
   "metadata": {},
   "source": [
    "This dimension can be misleading, because we are selecting artist that are composer of songs.\n",
    "\n",
    "In particular the minimum is when all the artist are **only** composers"
   ]
  },
  {
   "cell_type": "code",
   "execution_count": 27,
   "metadata": {
    "scrolled": true
   },
   "outputs": [
    {
     "data": {
      "image/png": "[encoded data removed]",
      "text/plain": [
       "<Figure size 432x288 with 1 Axes>"
      ]
     },
     "metadata": {},
     "output_type": "display_data"
    },
    {
     "name": "stdout",
     "output_type": "stream",
     "text": [
      "Standard Deviation: \t mean \t\t median \t min \t\t max\n",
      "\t\t\t 0.33% \t\t 0.16% \t\t 0.00% \t\t 4.38%\n",
      "\n",
      "More omogeneous: playlist 76 (37i9dQZF1DX6Cc1xytKlor.Classical World: Argentina.artist.txt)\n",
      "Carlos Guastavino  |  Astor Piazzolla  |  Julián Aguirre  |  Ariel Ramirez  |  Máximo Diego Pujol  |  Alberto Ginastera  |  Juan José Castro  |  Osvaldo Golijov  |  Alberto Williams  |  Lalo Schifrin  |  Carlos Gardel  |  Jorge Morel  |  Mariano Mores  |  Carlos Lopez-Buchardo  |  Juan de Dios Filiberto  |  Esteban Benzecry  |  Carlos Grätzer  |  Martin Matalon  |  Mauricio Kagel\n",
      "\n",
      "Less omogeneous: playlist 96 (37i9dQZF1DX7dzHXrANAir.Classical X.artist.txt)\n",
      "Nils Frahm  |  Catherine Lara  |  Francesco Tristano  |  Simeon ten Holt  |  Morton Feldman  |  Max Richter  |  Missy Mazzoli  |  Ryuichi Sakamoto  |  Michael Gordon  |  L. T. Lambert  |  David Lang  |  Ólafur Arnalds  |  Terry Riley  |  Brian Eno  |  John Luther Adams  |  Nico Muhly  |  Ludovico Einaudi  |  Arvo Pärt  |  Steve Reich  |  Ken Thomson  |  Janice Giteck  |  Roger Eno  |  Anna Thorvaldsdottir  |  Wim Mertens\n"
     ]
    }
   ],
   "source": [
    "print_stats_feat('function')"
   ]
  },
  {
   "cell_type": "markdown",
   "metadata": {},
   "source": [
    "## Genre"
   ]
  },
  {
   "cell_type": "code",
   "execution_count": 22,
   "metadata": {
    "scrolled": false
   },
   "outputs": [
    {
     "data": {
      "image/png": "[encoded data removed]",
      "text/plain": [
       "<Figure size 432x288 with 1 Axes>"
      ]
     },
     "metadata": {},
     "output_type": "display_data"
    },
    {
     "name": "stdout",
     "output_type": "stream",
     "text": [
      "Standard Deviation: \t mean \t\t median \t min \t\t max\n",
      "\t\t\t 1.43% \t\t 1.38% \t\t 0.87% \t\t 2.35%\n",
      "\n",
      "More omogeneous: playlist 104 (37i9dQZF1DX9CrmarDZuOr.Classical World: Sweden.artist.txt)\n",
      "Wilhelm Peterson-Berger  |  Hugo Alfvén  |  Wilhelm Stenhammar  |  Nils Lindberg  |  Kurt Atterberg  |  Johan Helmich Roman  |  Lars Erik Larsson  |  Franz Berwald  |  Anders Hillborg  |  Karl-Birger Blomdahl  |  Ture Rangström  |  Anders Eliasson  |  Hilding Rosenberg  |  Erland von Koch  |  Lille Bror Söderlundh  |  Carl Michael Bellman  |  Karin Rehnqvist  |  Dag Wirén  |  Gösta Nystroem  |  Jan Sandström  |  Joseph Martin Kraus  |  Sven-David Sandström  |  Bo Nilsson  |  Ingvar Lidholm  |  Rolf Martinsson\n",
      "\n",
      "Less omogeneous: playlist 66 (37i9dQZF1DX43qoHiOOgIz.Classical World: Mexico.artist.txt)\n",
      "Manuel María Ponce  |  José Pablo Moncayo  |  Arturo Márquez  |  José Rolón  |  Juventino Rosas  |  Agustin Lara  |  Carlos Chávez  |  Javier Alvarez  |  Silvestre Revueltas  |  Hernando Franco  |  Gaspar Fernandes  |  Juan de Lienas  |  Francisco Lopez Capillas  |  Juan Garcia de Zéspedes  |  Manuel de Zumaya  |  Melesio Morales  |  Ricardo Castro  |  Felipe Villanueva  |  Mario Lavista  |  Miguel Bernal Jiménez  |  Carlos Jiménez Mabarak  |  Julio Estrada  |  Daniel Catán  |  Hilda Paredes  |  Eugenio Toussaint  |  Marcela Rodríguez  |  Manuel Enríquez\n"
     ]
    }
   ],
   "source": [
    "print_stats_feat('genre')"
   ]
  },
  {
   "cell_type": "markdown",
   "metadata": {},
   "source": [
    "## Key"
   ]
  },
  {
   "cell_type": "code",
   "execution_count": 23,
   "metadata": {
    "scrolled": true
   },
   "outputs": [
    {
     "data": {
      "image/png": "[encoded data removed]",
      "text/plain": [
       "<Figure size 432x288 with 1 Axes>"
      ]
     },
     "metadata": {},
     "output_type": "display_data"
    },
    {
     "name": "stdout",
     "output_type": "stream",
     "text": [
      "Standard Deviation: \t mean \t\t median \t min \t\t max\n",
      "\t\t\t 7.06% \t\t 5.85% \t\t 3.44% \t\t 12.67%\n",
      "\n",
      "More omogeneous: playlist 50 (37i9dQZF1DX0CM2xT3aAkN.Essence of the Renaissance.artist.txt)\n",
      "Matthew Locke  |  Thomas Tallis  |  Heinrich Isaac  |  Carlo Gesualdo  |  Claudio Monteverdi  |  Thomas Weelkes  |  Luca Marenzio  |  Christopher Tye  |  Giovanni Pierluigi da Palestrina  |  Orlando Gibbons  |  William Byrd  |  Tomás Luis de Victoria  |  Philippe de Monte  |  Antoine Brumel  |  Alessandro Striggio  |  Michael Praetorius  |  Guillaume Dufay  |  Clément Janequin  |  Paschal de L'Estocart  |  Alexander Agricola  |  Antoine Busnois  |  Guillaume Dufay  |  Michael Praetorius  |  Antoine Brumel  |  Carlo Gesualdo  |  John Dowland  |  Johannes Ockeghem  |  Roland de Lassus  |  Josquin Des Prés  |  Francisco de Peñalosa  |  Johannes Ockeghem  |  Roland de Lassus  |  Giovanni Gabrieli  |  Jan Pieterszoon Sweelinck  |  Nicolas Gombert  |  Giovanni Pierluigi da Palestrina  |  Jan Pieterszoon Sweelinck  |  Jacques Arcadelt  |  Pierre de La Rue  |  Peter Philips  |  John Taverner  |  Nicholas Ludford  |  Gregorio Allegri  |  Christopher Tye  |  Paolo da Firenze  |  Orlando Gibbons\n",
      "\n",
      "Less omogeneous: playlist 76 (37i9dQZF1DX6Cc1xytKlor.Classical World: Argentina.artist.txt)\n",
      "Carlos Guastavino  |  Astor Piazzolla  |  Julián Aguirre  |  Ariel Ramirez  |  Máximo Diego Pujol  |  Alberto Ginastera  |  Juan José Castro  |  Osvaldo Golijov  |  Alberto Williams  |  Lalo Schifrin  |  Carlos Gardel  |  Jorge Morel  |  Mariano Mores  |  Carlos Lopez-Buchardo  |  Juan de Dios Filiberto  |  Esteban Benzecry  |  Carlos Grätzer  |  Martin Matalon  |  Mauricio Kagel\n"
     ]
    }
   ],
   "source": [
    "print_stats_feat('key')"
   ]
  },
  {
   "cell_type": "code",
   "execution_count": 24,
   "metadata": {},
   "outputs": [],
   "source": [
    "# minibatches_len = 8"
   ]
  },
  {
   "cell_type": "code",
   "execution_count": null,
   "metadata": {},
   "outputs": [],
   "source": [
    "# training_vector_all = []\n",
    "# for t in train_array:\n",
    "#     if(len(t) < minibatches_len):\n",
    "#         continue\n",
    "    \n",
    "#     training_vector_all.append(np.array([get_embs(xi) for xi in t]))"
   ]
  },
  {
   "cell_type": "code",
   "execution_count": null,
   "metadata": {},
   "outputs": [],
   "source": []
  },
  {
   "cell_type": "code",
   "execution_count": null,
   "metadata": {},
   "outputs": [],
   "source": []
  },
  {
   "cell_type": "code",
   "execution_count": null,
   "metadata": {},
   "outputs": [],
   "source": []
  }
 ],
 "metadata": {
  "kernelspec": {
   "display_name": "Python 3",
   "language": "python",
   "name": "python3"
  },
  "language_info": {
   "codemirror_mode": {
    "name": "ipython",
    "version": 3
   },
   "file_extension": ".py",
   "mimetype": "text/x-python",
   "name": "python",
   "nbconvert_exporter": "python",
   "pygments_lexer": "ipython3",
   "version": "3.6.4"
  }
 },
 "nbformat": 4,
 "nbformat_minor": 1
}
