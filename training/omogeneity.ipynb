{
 "cells": [
  {
   "cell_type": "code",
   "execution_count": 100,
   "metadata": {},
   "outputs": [],
   "source": [
    "import math\n",
    "import random\n",
    "import numpy as np\n",
    "import pandas as pd\n",
    "import matplotlib.pyplot as plt\n",
    "from datetime import datetime\n",
    "from scipy import spatial\n",
    "from scipy import stats\n",
    "from sklearn.metrics.pairwise import cosine_similarity\n",
    "\n",
    "plt.rcParams[\"figure.figsize\"] = (20,5)\n",
    "\n",
    "import doremus_data"
   ]
  },
  {
   "cell_type": "code",
   "execution_count": 375,
   "metadata": {},
   "outputs": [],
   "source": [
    "def log_progress(sequence, every=None, size=None, name='Items'):\n",
    "    from ipywidgets import IntProgress, HTML, VBox\n",
    "    from IPython.display import display\n",
    "\n",
    "    is_iterator = False\n",
    "    if size is None:\n",
    "        try:\n",
    "            size = len(sequence)\n",
    "        except TypeError:\n",
    "            is_iterator = True\n",
    "    if size is not None:\n",
    "        if every is None:\n",
    "            if size <= 200:\n",
    "                every = 1\n",
    "            else:\n",
    "                every = int(size / 200)     # every 0.5%\n",
    "    else:\n",
    "        assert every is not None, 'sequence is iterator, set every'\n",
    "\n",
    "    if is_iterator:\n",
    "        progress = IntProgress(min=0, max=1, value=1)\n",
    "        progress.bar_style = 'info'\n",
    "    else:\n",
    "        progress = IntProgress(min=0, max=size, value=0)\n",
    "    label = HTML()\n",
    "    box = VBox(children=[label, progress])\n",
    "    display(box)\n",
    "\n",
    "    index = 0\n",
    "    try:\n",
    "        for index, record in enumerate(sequence, 1):\n",
    "            if index == 1 or index % every == 0:\n",
    "                if is_iterator:\n",
    "                    label.value = '{name}: {index} / ?'.format(\n",
    "                        name=name,\n",
    "                        index=index\n",
    "                    )\n",
    "                else:\n",
    "                    progress.value = index\n",
    "                    label.value = u'{name}: {index} / {size}'.format(\n",
    "                        name=name,\n",
    "                        index=index,\n",
    "                        size=size\n",
    "                    )\n",
    "            yield record, index - 1\n",
    "    except:\n",
    "        progress.bar_style = 'danger'\n",
    "        raise\n",
    "    else:\n",
    "        progress.bar_style = 'success'\n",
    "        progress.value = index\n",
    "        label.value = \"{name}: {index}\".format(\n",
    "            name=name,\n",
    "            index=str(index or '?')\n",
    "        )"
   ]
  },
  {
   "cell_type": "markdown",
   "metadata": {
    "collapsed": true
   },
   "source": [
    "Load data."
   ]
  },
  {
   "cell_type": "code",
   "execution_count": 2,
   "metadata": {
    "scrolled": false
   },
   "outputs": [
    {
     "data": {
      "text/html": [
       "<div>\n",
       "<style>\n",
       "    .dataframe thead tr:only-child th {\n",
       "        text-align: right;\n",
       "    }\n",
       "\n",
       "    .dataframe thead th {\n",
       "        text-align: left;\n",
       "    }\n",
       "\n",
       "    .dataframe tbody tr th {\n",
       "        vertical-align: top;\n",
       "    }\n",
       "</style>\n",
       "<table border=\"1\" class=\"dataframe\">\n",
       "  <thead>\n",
       "    <tr style=\"text-align: right;\">\n",
       "      <th></th>\n",
       "      <th>0</th>\n",
       "      <th>1</th>\n",
       "      <th>2</th>\n",
       "      <th>3</th>\n",
       "      <th>4</th>\n",
       "    </tr>\n",
       "  </thead>\n",
       "  <tbody>\n",
       "    <tr>\n",
       "      <th>0</th>\n",
       "      <td>casting</td>\n",
       "      <td>composer</td>\n",
       "      <td>genre</td>\n",
       "      <td>key</td>\n",
       "      <td>composition_date</td>\n",
       "    </tr>\n",
       "    <tr>\n",
       "      <th>1</th>\n",
       "      <td>3</td>\n",
       "      <td>3</td>\n",
       "      <td>3</td>\n",
       "      <td>3</td>\n",
       "      <td>1</td>\n",
       "    </tr>\n",
       "  </tbody>\n",
       "</table>\n",
       "</div>"
      ],
      "text/plain": [
       "         0         1      2    3                 4\n",
       "0  casting  composer  genre  key  composition_date\n",
       "1        3         3      3    3                 1"
      ]
     },
     "execution_count": 2,
     "metadata": {},
     "output_type": "execute_result"
    }
   ],
   "source": [
    "training_data_folder = '/Users/pasquale/git/recommender/training_data'\n",
    "emb_folder = '/Users/pasquale/git/music-embeddings'\n",
    "\n",
    "doremus_data.init(training_data_folder, emb_folder)\n",
    "vectors, uris, lbs, heads, heads_print = doremus_data.get_embeddings('expression')\n",
    "pd.DataFrame(heads_print)"
   ]
  },
  {
   "cell_type": "code",
   "execution_count": 3,
   "metadata": {},
   "outputs": [
    {
     "name": "stdout",
     "output_type": "stream",
     "text": [
      "pp_concerts\t\t223\n",
      "itema3_concerts\t\t414\n",
      "web-radio\t\t105\n",
      "spotify_pl\t\t65\n"
     ]
    }
   ],
   "source": [
    "all_training = doremus_data.all_training('expression')\n",
    "for t in all_training:\n",
    "    num_playlists = len(t['playlists'])\n",
    "    print('%s\\t\\t%d' % (t['name'], num_playlists))"
   ]
  },
  {
   "cell_type": "code",
   "execution_count": 4,
   "metadata": {},
   "outputs": [
    {
     "name": "stdout",
     "output_type": "stream",
     "text": [
      "pp_concerts\t\t1446\n",
      "itema3_concerts\t\t2678\n",
      "web-radio\t\t1409\n",
      "spotify_pl\t\t1511\n"
     ]
    }
   ],
   "source": [
    "_l = 5\n",
    "\n",
    "for t in all_training:\n",
    "    temp_playlists = []\n",
    "    for pl in t['playlists']:\n",
    "        for i in np.arange(len(pl['data']) - _l):\n",
    "            temp_playlists.append(pl['data'][i:i+_l])\n",
    "    t['groups'] = [{'name':str(index), 'data': pl} for index, pl in enumerate(temp_playlists)]\n",
    "    print('%s\\t\\t%d' % (t['name'], len(temp_playlists)))"
   ]
  },
  {
   "cell_type": "markdown",
   "metadata": {},
   "source": [
    "Data pre-processing"
   ]
  },
  {
   "cell_type": "code",
   "execution_count": 5,
   "metadata": {},
   "outputs": [],
   "source": [
    "negVector = -2. * np.ones_like(vectors[0], dtype=np.float32)\n",
    "\n",
    "def get_embs(x):\n",
    "    # uri to embedding\n",
    "    v = vectors[np.argwhere(uris == x)]\n",
    "    if v.size == 0:\n",
    "        print(x)\n",
    "        result = np.array(negVector)\n",
    "    else:\n",
    "        result = np.array(v[0][0])\n",
    "    return result\n",
    "\n",
    "def get_label(x):\n",
    "    l =  lbs[np.argwhere(uris == x)]\n",
    "    return l[0][0] if l.size > 0 else 'none'"
   ]
  },
  {
   "cell_type": "code",
   "execution_count": 6,
   "metadata": {},
   "outputs": [],
   "source": [
    "np.set_printoptions(2)\n",
    "def compute_playlist_stats(playlist, to_print=False):\n",
    "    pl = playlist['data']\n",
    "    embeddings = np.array([get_embs(xi) for xi in pl])\n",
    "    emb_len = len(embeddings[0])\n",
    "    \n",
    "    ma_embeddings = np.ma.array(embeddings, mask=embeddings < -1.)\n",
    "\n",
    "    # I do not want to mean dimensions with single values\n",
    "    mul_values = np.where(np.sum(embeddings >= -1., axis=0) > 1, False, True)\n",
    "    mul_values = np.repeat([mul_values], len(pl), axis=0)\n",
    "    ma_embeddings = np.ma.array(ma_embeddings, mask=mul_values)\n",
    "\n",
    "    _mean = ma_embeddings.mean(axis=0)\n",
    "    _median = np.ma.median(ma_embeddings, axis=0)\n",
    "    _min = np.ma.min(ma_embeddings, axis=0)\n",
    "    _max = np.ma.max(ma_embeddings, axis=0)\n",
    "    _std = np.ma.std(ma_embeddings, axis=0)\n",
    "    \n",
    "    if to_print:\n",
    "        plt.errorbar(np.arange(len(_mean)), _mean, _std, fmt='ok',\n",
    "                     ecolor='black', elinewidth=1.5, lw=3, capsize=2)\n",
    "        plt.errorbar(np.arange(len(_mean)), _mean, [_mean - _min, _max - _mean],\n",
    "                 fmt='.k', ecolor='gray', elinewidth=0.5, lw=1, capsize=1)\n",
    "\n",
    "        plt.errorbar(np.arange(len(_mean)), _median, fmt='_g',  lw=1)\n",
    "\n",
    "        plt.xticks(range(len(heads)), heads, rotation=40)\n",
    "        plt.show()\n",
    "\n",
    "    return _mean, _median, _std"
   ]
  },
  {
   "cell_type": "markdown",
   "metadata": {},
   "source": [
    "Sample playlist"
   ]
  },
  {
   "cell_type": "code",
   "execution_count": 7,
   "metadata": {},
   "outputs": [
    {
     "name": "stdout",
     "output_type": "stream",
     "text": [
      "Base: spotify_pl\n",
      "Playlist: 1023\n"
     ]
    },
    {
     "data": {
      "image/png": "[encoded data removed]",
      "text/plain": [
       "<matplotlib.figure.Figure at 0x1150b5cf8>"
      ]
     },
     "metadata": {},
     "output_type": "display_data"
    },
    {
     "name": "stdout",
     "output_type": "stream",
     "text": [
      "http://overture.doremus.org/expression/ca951b03-f84b-3a7a-aef0-7023af6e8b35\n",
      "Symhonies\n",
      "[0.03590903803706169 0.007821599952876568 0.09708871692419052\n",
      " -0.006353070493787527 0.008631796576082706 0.015063508413732052\n",
      " 0.03582938387989998 -0.015889763832092285 0.02758117951452732\n",
      " -0.0902123674750328 0.3212423026561737 0.09681284427642822\n",
      " 0.8038095235824585]\n",
      "http://overture.doremus.org/expression/41ace8c4-a1b7-3b9d-8339-026e14ed1b54\n",
      "Symphonies\n",
      "[-- -- -- -0.003346540266647935 0.012496697716414928 0.012410242110490799\n",
      " 0.03334466740489006 -0.001616666791960597 0.0029975688084959984\n",
      " -0.1695733219385147 0.1698441505432129 -0.1706843227148056\n",
      " 0.7371428608894348]\n",
      "http://overture.doremus.org/expression/b53f42ba-9ec1-3e3d-9aa2-1fbff4405093\n",
      "Requiem\n",
      "[-0.05006037652492523 0.05418456718325615 0.05414140969514847\n",
      " -0.003299245610833168 0.012398893013596535 0.012594932690262794\n",
      " 0.0664895549416542 0.014949981123209 -0.04941561073064804\n",
      " -0.1695733219385147 0.1698441505432129 -0.1706843227148056\n",
      " 0.7057142853736877]\n",
      "http://overture.doremus.org/expression/4baa576b-dfd0-3400-a5cf-656fc67ab960\n",
      "The inextinguible\n",
      "[-0.0017500189132988453 0.047637034207582474 0.0068437689915299416\n",
      " -0.0063615478575229645 0.008760612457990646 0.014870624989271164\n",
      " 0.03334466740489006 -0.001616666791960597 0.0029975688084959984 -- -- --\n",
      " 0.8238095045089722]\n",
      "http://overture.doremus.org/expression/f9932fa6-d54d-32d0-8280-cef23d7adb1b\n",
      "3 grandes études\n",
      "[0.03590903803706169 0.007821599952876568 0.09708871692419052\n",
      " -0.00629316084086895 0.00841981079429388 0.014844994992017746\n",
      " 0.030921481549739838 -0.0332709364593029 0.021514253690838814 -- -- --\n",
      " 0.7504761815071106]\n"
     ]
    }
   ],
   "source": [
    "base = all_training[3]\n",
    "print('Base: ' + base['name'])\n",
    "pl = base['groups'][1023]\n",
    "print('Playlist: ' + pl['name'])\n",
    "\n",
    "m, md, s = compute_playlist_stats(pl, True)\n",
    "\n",
    "for d in pl['data']:\n",
    "    print(d.replace('data', 'overture'))\n",
    "    print(get_label(d)) \n",
    "    print(np.ma.array(get_embs(d), mask=get_embs(d) < -1.))"
   ]
  },
  {
   "cell_type": "code",
   "execution_count": null,
   "metadata": {},
   "outputs": [],
   "source": []
  },
  {
   "cell_type": "markdown",
   "metadata": {},
   "source": [
    "Standard Deviation among all playlists"
   ]
  },
  {
   "cell_type": "code",
   "execution_count": 8,
   "metadata": {},
   "outputs": [],
   "source": [
    "population_tot = np.sum([len(pl['data']) for tr in all_training for pl in tr['groups'] ])\n",
    "std = {}\n",
    "population = {}\n",
    "mean = {}\n",
    "stdw = {} # std within\n",
    "stdb = {} # std between\n",
    "                      \n",
    "for index, tr in enumerate(all_training):\n",
    "    name = tr['name']\n",
    "    std[name] = []\n",
    "    population[name] = []\n",
    "    mean[name] = []\n",
    "    for index, pl in enumerate(tr['groups']):\n",
    "        _mean, _median, _std = compute_playlist_stats(pl, False)\n",
    "        pop = len(pl['data'])\n",
    "        population[name].append(pop)\n",
    "        mean[name].append(_mean)\n",
    "        ww = (pop - 1) / (population_tot - 1)\n",
    "        std[name].append((_std**2)*ww)\n",
    "\n",
    "    stdw[name] = np.ma.sum(std[name], axis=0).filled(0)"
   ]
  },
  {
   "cell_type": "code",
   "execution_count": 9,
   "metadata": {},
   "outputs": [],
   "source": [
    "weighted_means = [np.ma.mean(mean[name], axis=0)*np.sum(population[name]) for name in mean]\n",
    "\n",
    "mtot = np.ma.sum(weighted_means, axis=0)\n",
    "mtot /= population_tot"
   ]
  },
  {
   "cell_type": "code",
   "execution_count": 10,
   "metadata": {},
   "outputs": [
    {
     "data": {
      "image/png": "[encoded data removed]",
      "text/plain": [
       "<matplotlib.figure.Figure at 0x117508da0>"
      ]
     },
     "metadata": {},
     "output_type": "display_data"
    },
    {
     "name": "stdout",
     "output_type": "stream",
     "text": [
      "Standard Deviation: mean\n",
      "[2.33e-04 3.75e-05 7.31e-05 6.52e-07 2.19e-06 4.60e-06 1.36e-05 3.53e-05\n",
      " 6.20e-05 5.18e-04 5.67e-04 6.83e-04 3.62e-04]\n",
      "Standard Deviation: minimum\n",
      "[0.00e+00 0.00e+00 0.00e+00 2.12e-07 1.47e-06 2.89e-06 3.69e-06 8.53e-06\n",
      " 1.10e-05 0.00e+00 0.00e+00 0.00e+00 8.17e-05]\n",
      "Standard Deviation between: mean\n",
      "[1.61e-04 5.63e-05 8.80e-05 5.31e-06 4.64e-06 1.09e-05 3.99e-05 3.65e-04\n",
      " 1.12e-04 5.11e-04 7.17e-04 6.09e-04 1.51e-03]\n"
     ]
    }
   ],
   "source": [
    "fig, ax = plt.subplots(figsize=(20,5))\n",
    "width = 0.2\n",
    "pos = np.arange(len(vectors[0]))\n",
    "colors = ['#3668C9', '#DA3B21', '#FD9827', '#1D9424']\n",
    "\n",
    "\n",
    "for index, tr in enumerate(all_training):\n",
    "    name = tr['name']\n",
    "    \n",
    "    ww = np.array([pop / (population_tot - 1) for pop in population[name]])\n",
    "    mg = np.ma.power(np.ma.array(mean[name]).filled(mtot) - mtot, 2)\n",
    "    stdb[name] = np.ma.sum(mg * ww.reshape(len(ww),1), axis=0)\n",
    "\n",
    "    plt.bar([p + index * width for p in pos],\n",
    "        stdb[name],\n",
    "        width,\n",
    "        alpha=0.5,\n",
    "        color=colors[index],\n",
    "        label=name + ' (sdt between)')\n",
    "    \n",
    "    plt.bar([p + index * width for p in pos],\n",
    "        stdw[name] ,\n",
    "        width,\n",
    "        edgecolor='#000000',\n",
    "        alpha=.5,\n",
    "        color=colors[index],\n",
    "        label=name + ' (sdt within)')\n",
    "    \n",
    "\n",
    "    \n",
    "flat_std = [stdw[name] for name in stdw]\n",
    "mstd = np.ma.mean(flat_std, axis=0)\n",
    "sstd = np.ma.std(flat_std, axis=0)\n",
    "smin = np.ma.min(flat_std, axis=0)\n",
    "smax = np.ma.max(flat_std, axis=0)\n",
    "\n",
    "ax.plot(pos, mstd, '--', label='mean')\n",
    "\n",
    "plt.xticks(range(len(heads)), heads, rotation=40)\n",
    "ax.set_ylabel('Standard Deviation')\n",
    "ax.set_xticks([p + 1.5 * width for p in pos])\n",
    "\n",
    "handles, labels = ax.get_legend_handles_labels()\n",
    "ax.legend(handles, labels, loc='upper left')\n",
    "plt.show()\n",
    "\n",
    "print('Standard Deviation: mean' )\n",
    "print(np.array(mstd))\n",
    "print('Standard Deviation: minimum' )\n",
    "print(np.array(smin))\n",
    "\n",
    "flat_std_b = [stdb[name] for name in stdb]\n",
    "mstd_b = np.ma.mean(flat_std_b, axis=0)\n",
    "print('Standard Deviation between: mean' )\n",
    "print(np.array(mstd_b))"
   ]
  },
  {
   "cell_type": "markdown",
   "metadata": {},
   "source": [
    "#### Explaination\n",
    "\n",
    "When the standard deviation _within_ (black border) is smaller then the standard deviation _between_ (no border), this means that for that dimension the values are more omogeneuos _inside_ the group than _outside_.\n",
    "If this difference in omogeneity inside/outside is important, I can state that this dimension drives the playlist generation."
   ]
  },
  {
   "cell_type": "markdown",
   "metadata": {},
   "source": [
    "### Graphs property by property"
   ]
  },
  {
   "cell_type": "code",
   "execution_count": 11,
   "metadata": {},
   "outputs": [
    {
     "data": {
      "image/png": "[encoded data removed]",
      "text/plain": [
       "<matplotlib.figure.Figure at 0x116cba940>"
      ]
     },
     "metadata": {},
     "output_type": "display_data"
    },
    {
     "data": {
      "image/png": "[encoded data removed]",
      "text/plain": [
       "<matplotlib.figure.Figure at 0x1162527b8>"
      ]
     },
     "metadata": {},
     "output_type": "display_data"
    },
    {
     "data": {
      "image/png": "[encoded data removed]",
      "text/plain": [
       "<matplotlib.figure.Figure at 0x116ac5f60>"
      ]
     },
     "metadata": {},
     "output_type": "display_data"
    },
    {
     "data": {
      "image/png": "[encoded data removed]",
      "text/plain": [
       "<matplotlib.figure.Figure at 0x116b21588>"
      ]
     },
     "metadata": {},
     "output_type": "display_data"
    },
    {
     "data": {
      "image/png": "[encoded data removed]",
      "text/plain": [
       "<matplotlib.figure.Figure at 0x116b21a90>"
      ]
     },
     "metadata": {},
     "output_type": "display_data"
    }
   ],
   "source": [
    "def display_graph(feat):\n",
    "    pos = np.where(np.array(heads) == feat)[0]\n",
    "    pos_slide = np.arange(len(pos))\n",
    "    fig, ax = plt.subplots(figsize=(20,5))\n",
    "\n",
    "    for index, tr in enumerate(all_training):\n",
    "        name = tr['name']\n",
    "        plt.bar([p + index * width for p in pos_slide],\n",
    "            stdb[name][pos],\n",
    "            width,\n",
    "            alpha=0.5,\n",
    "            color=colors[index],\n",
    "            label=name + ' (sdt between)')\n",
    "\n",
    "        plt.bar([p + index * width for p in pos_slide],\n",
    "            stdw[name][pos] ,\n",
    "            width,\n",
    "            alpha=0.5,\n",
    "            edgecolor='#000000',\n",
    "            color=colors[index],\n",
    "            label=name + ' (sdt within)')\n",
    "\n",
    "    ax.plot(pos_slide, mstd[pos], '--', label='mean')\n",
    "\n",
    "    plt.xticks(pos_slide, np.array(heads)[pos], rotation=40)\n",
    "    ax.set_ylabel('Standard Deviation')\n",
    "    ax.set_xticks([p + 1.5 * width for p in pos_slide])\n",
    "#     handles, labels = ax.get_legend_handles_labels()\n",
    "#     ax.legend(handles, labels, loc='upper left')\n",
    "    plt.show()\n",
    "    \n",
    "    \n",
    "for _f in heads_print[0]:\n",
    "    display_graph(_f)"
   ]
  },
  {
   "cell_type": "markdown",
   "metadata": {},
   "source": [
    "For concerts"
   ]
  },
  {
   "cell_type": "code",
   "execution_count": 12,
   "metadata": {},
   "outputs": [
    {
     "name": "stdout",
     "output_type": "stream",
     "text": [
      "Standard Deviation: mean\n",
      "[5.75e-08 2.07e-08 3.08e-08 6.18e-10 1.32e-09 2.55e-09 5.15e-09 9.59e-09\n",
      " 8.84e-09 1.76e-06 1.45e-06 2.51e-06 1.69e-07]\n",
      "Standard Deviation: minimum\n",
      "[0.00e+00 0.00e+00 0.00e+00 0.00e+00 0.00e+00 0.00e+00 0.00e+00 0.00e+00\n",
      " 0.00e+00 3.32e-08 3.55e-09 3.28e-08 0.00e+00]\n",
      "Standard Deviation: maximum\n",
      "[4.34e-07 2.16e-07 2.62e-07 7.64e-09 1.45e-08 1.61e-08 1.66e-07 2.10e-07\n",
      " 2.68e-07 6.89e-06 5.72e-06 8.69e-06 4.12e-05]\n"
     ]
    }
   ],
   "source": [
    "flat_std = [s for name in ['pp_concerts','itema3_concerts'] for s in std[name]]\n",
    "mstd = np.ma.mean(flat_std, axis=0)\n",
    "sstd = np.ma.std(flat_std, axis=0)\n",
    "smin = np.ma.min(flat_std, axis=0)\n",
    "smax = np.ma.max(flat_std, axis=0)\n",
    "\n",
    "print('Standard Deviation: mean' )\n",
    "print(np.array(mstd))\n",
    "print('Standard Deviation: minimum' )\n",
    "print(np.array(smin))\n",
    "print('Standard Deviation: maximum' )\n",
    "print(np.array(smax))"
   ]
  },
  {
   "cell_type": "markdown",
   "metadata": {},
   "source": [
    "For playlists"
   ]
  },
  {
   "cell_type": "code",
   "execution_count": 13,
   "metadata": {},
   "outputs": [
    {
     "name": "stdout",
     "output_type": "stream",
     "text": [
      "Standard Deviation: mean\n",
      "[3.11e-07 4.85e-08 9.58e-08 1.72e-10 1.46e-09 3.33e-09 1.33e-08 3.83e-08\n",
      " 7.59e-08 1.34e-06 1.50e-06 1.76e-06 3.87e-07]\n",
      "Standard Deviation: minimum\n",
      "[0. 0. 0. 0. 0. 0. 0. 0. 0. 0. 0. 0. 0.]\n",
      "Standard Deviation: maximum\n",
      "[1.58e-06 3.18e-07 5.52e-07 1.71e-09 1.02e-08 1.33e-08 1.61e-07 3.38e-07\n",
      " 6.62e-07 7.71e-06 8.56e-06 8.69e-06 7.55e-06]\n"
     ]
    }
   ],
   "source": [
    "flat_std = [s for name in ['web-radio','spotify_pl'] for s in std[name]]\n",
    "mstd = np.ma.mean(flat_std, axis=0)\n",
    "sstd = np.ma.std(flat_std, axis=0)\n",
    "smin = np.ma.min(flat_std, axis=0)\n",
    "smax = np.ma.max(flat_std, axis=0)\n",
    "\n",
    "\n",
    "print('Standard Deviation: mean' )\n",
    "print(np.array(mstd))\n",
    "print('Standard Deviation: minimum' )\n",
    "print(np.array(smin))\n",
    "print('Standard Deviation: maximum' )\n",
    "print(np.array(smax))"
   ]
  },
  {
   "cell_type": "code",
   "execution_count": null,
   "metadata": {},
   "outputs": [],
   "source": []
  },
  {
   "cell_type": "markdown",
   "metadata": {},
   "source": [
    "# Recommend"
   ]
  },
  {
   "cell_type": "code",
   "execution_count": 14,
   "metadata": {},
   "outputs": [
    {
     "data": {
      "text/plain": [
       "2563"
      ]
     },
     "execution_count": 14,
     "metadata": {},
     "output_type": "execute_result"
    }
   ],
   "source": [
    "all_song = []\n",
    "for t in all_training:\n",
    "    if t['name'] in ['web-radio','spotify_pl']:\n",
    "        for pl in t['playlists']:\n",
    "             all_song = np.concatenate([all_song, pl['data']])\n",
    "all_song = np.unique(all_song)\n",
    "len(all_song)"
   ]
  },
  {
   "cell_type": "code",
   "execution_count": 15,
   "metadata": {},
   "outputs": [],
   "source": [
    "all_song_vec = np.array([get_embs(xi) for xi in all_song])\n",
    "all_song_vec = np.ma.array(all_song_vec, mask=all_song_vec < -1.)\n",
    "all_song_labels = np.array([get_label(xi) for xi in all_song])"
   ]
  },
  {
   "cell_type": "code",
   "execution_count": 16,
   "metadata": {},
   "outputs": [],
   "source": [
    "def search_for_candidates(seed, cut):\n",
    "    _seed = seed[seed.mask==False]\n",
    "    _cut = cut[seed.mask==False]\n",
    "    _pool = all_song_vec[:,seed.mask==False]\n",
    "    \n",
    "    seed_top = _seed + _cut\n",
    "    seed_bottom = _seed - _cut\n",
    "    \n",
    "    candidates_pos = np.where(((_pool <= seed_top) & (_pool >= seed_bottom)).filled(), 0, 1)\n",
    "    candidates_pos = np.sum(candidates_pos, axis=1)\n",
    "    candidates_pos = np.where(candidates_pos == 0)\n",
    "    return candidates_pos"
   ]
  },
  {
   "cell_type": "code",
   "execution_count": 17,
   "metadata": {
    "scrolled": false
   },
   "outputs": [],
   "source": [
    "# from IPython.display import display\n",
    "\n",
    "# pl = all_training[3]['playlists'][11]\n",
    "# print(pl['name'])\n",
    "# pl_data = pl['data']\n",
    "# print(len(pl_data))\n",
    "# chosen = pl_data[3]\n",
    "# print(get_label(chosen))\n",
    "# print(chosen.replace('data.', 'overture.'))\n",
    "# first = get_embs(chosen)\n",
    "# first = np.ma.array(first, mask=first < -1.)\n",
    "# print(first)\n",
    "# second = get_embs(pl_data[1])\n",
    "# second = np.ma.array(second, mask=second < -1.)\n",
    "# print(second)\n",
    "# print(cut)\n",
    "\n",
    "# print(abs(first - second)<cut)\n",
    "\n",
    "\n",
    "# candidates_pos = search_for_candidates(first, cut)\n",
    "\n",
    "# candidates = all_song_vec[candidates_pos]\n",
    "# candidates_labels = all_song_labels[candidates_pos]\n",
    "# candidates_uris = all_song[candidates_pos]\n",
    "\n",
    "# cos_sim = cosine_similarity(first.reshape(1, -1), candidates)[0]\n",
    "# cos_sim_sort = np.argsort(-cos_sim)[1:]\n",
    "\n",
    "# cos_sim = cos_sim[cos_sim_sort]\n",
    "# candidates = candidates[cos_sim_sort]\n",
    "# candidates_labels = candidates_labels[cos_sim_sort]\n",
    "# candidates_uris = candidates_uris[cos_sim_sort]\n",
    "\n",
    "# trues = 0\n",
    "# print(candidates.shape[0])\n",
    "# for c in np.arange(candidates.shape[0]):\n",
    "#     _sig = '  X  ' if candidates_uris[c] in pl_data else '   '\n",
    "#     print('%.3f'% cos_sim[c] + '\\t' + _sig + '\\t' + candidates_labels[c])\n",
    "#     if candidates_uris[c] in pl_data: trues+=1\n",
    "#     print('\\t\\t'+ candidates_uris[c].replace('data.', 'overture.'))\n",
    "# #     display(pd.DataFrame(np.ma.array( candidates[c]).reshape(1, 13)))\n",
    "\n",
    "# print(trues)"
   ]
  },
  {
   "cell_type": "code",
   "execution_count": 18,
   "metadata": {
    "scrolled": true
   },
   "outputs": [],
   "source": [
    "# mstd.data"
   ]
  },
  {
   "cell_type": "code",
   "execution_count": 19,
   "metadata": {},
   "outputs": [],
   "source": [
    "def computeSimilarity(seed, target, w):\n",
    "    b1 = np.where(seed.mask==True)[0]\n",
    "    b2 = np.where(target.mask==True)[0]\n",
    "    bad_pos = np.unique(np.concatenate([b1, b2]))\n",
    "\n",
    "    _seed = np.delete(seed, bad_pos, axis=0)\n",
    "    _target = np.delete(target, bad_pos, axis=0)\n",
    "    _w = np.delete(w, bad_pos, axis=0)\n",
    "\n",
    "    if len(_seed) == 0:\n",
    "        return 0\n",
    "\n",
    "    # distance\n",
    "    d = weightedL2(_seed, _target, _w)\n",
    "\n",
    "    # how much info I am not finding\n",
    "    penalty = len([x for x in b2 if x not in b1]) / len(seed)\n",
    "\n",
    "    # score\n",
    "    s = (max_distance - d) / max_distance\n",
    "    return s * (1 - penalty)\n",
    "\n",
    "\n",
    "def weightedL2(a, b, w=1):\n",
    "#     return distance.cosine(a,b)\n",
    "    # https://stackoverflow.com/a/8861999/1218213\n",
    "    q = a - b\n",
    "    return np.sqrt((w * q * q).sum())\n",
    "#     return (w * q * q).sum()\n",
    "\n",
    "\n",
    "_ones = np.ones(all_song_vec[0].shape)\n",
    "max_distance = weightedL2(_ones,-_ones, _ones)"
   ]
  },
  {
   "cell_type": "code",
   "execution_count": null,
   "metadata": {},
   "outputs": [],
   "source": []
  },
  {
   "cell_type": "code",
   "execution_count": 20,
   "metadata": {},
   "outputs": [],
   "source": [
    "_vectors = all_song_vec\n",
    "_uris =  all_song\n",
    "_lbs = all_song_labels\n",
    "\n",
    "def find(seed, n=4, w=None, _print=True):\n",
    "    global max_distance\n",
    "    global vectors\n",
    "    global uris\n",
    "    global lbs\n",
    "    \n",
    "    f_length = len(seed)\n",
    "    \n",
    "    _seed = seed\n",
    "    \n",
    "    if w is None:\n",
    "        w = np.ones(len(_seed))\n",
    "        w = w / w.sum()\n",
    "    else:\n",
    "        w = np.array(w)\n",
    "#         temp = [np.ones(f_length[k]) * w[k] for k in range(len(w))]\n",
    "#         w = np.array([item for sublist in temp for item in sublist])\n",
    "\n",
    "    max_distance = weightedL2(np.ones(len(_seed)), np.ones(len(_seed)) * -1, w)\n",
    "\n",
    "    if _print==True: print('computing scores')\n",
    "    scores = np.array([[computeSimilarity(_seed, x.astype(float), w) for x in _vectors]])\n",
    "    full = np.concatenate([_uris.reshape(len(_uris), 1), scores.transpose(), _lbs.reshape(len(_uris), 1)], axis=1)\n",
    "\n",
    "    # remove the seed from the list\n",
    "#     full = np.delete(full, pos, 0)\n",
    "\n",
    "    # sort\n",
    "    full_sorted = sorted(full, key=lambda _x: float(_x[1]), reverse=True)\n",
    "    most_similar = full_sorted[:n]\n",
    "    if _print==True: print('\\n'.join('%s %s\\n%s' % (f[0], f[1], f[2]) for f in most_similar))\n",
    "\n",
    "    return [{'uri': _a[0], 'score': float(_a[1])} for _a in most_similar]\n",
    "\n"
   ]
  },
  {
   "cell_type": "code",
   "execution_count": 21,
   "metadata": {},
   "outputs": [
    {
     "name": "stdout",
     "output_type": "stream",
     "text": [
      "/Users/pasquale/git/recommender/training_data/web-radio/output/list/expression/FM-401_20170306_00-02.expression.txt\n",
      "10\n",
      "Sérénade italienne\n",
      "http://overture.doremus.org/expression/e4b161cb-a3a9-30ba-87ce-94babf775597\n",
      "4\n",
      "4\n"
     ]
    }
   ],
   "source": [
    "pl = all_training[2]['playlists'][15]\n",
    "print(pl['name'])\n",
    "pl_data = pl['data']\n",
    "print(len(pl_data))\n",
    "chosen = pl_data[3]\n",
    "print(get_label(chosen))\n",
    "print(chosen.replace('data.', 'overture.'))\n",
    "first = get_embs(chosen)\n",
    "first = np.ma.array(first, mask=first < -1.)\n",
    "\n",
    "\n",
    "candidates = find(first, n=500, _print=False )\n",
    "candidates_2 = find(first, n=500, _print=False, w = 1. - (np.sqrt(mstd.data)*10) )\n",
    "trues = 0\n",
    "for index, c in enumerate(candidates):\n",
    "    _sig = '  X  ' if c['uri'] in pl_data else '   '\n",
    "#     print('%d \\t %.5f'% (index, c['score']) + '\\t' + _sig + '\\t' + get_label(c['uri']))\n",
    "    if c['uri'] in pl_data: trues+=1\n",
    "#     print('\\t\\t\\t\\t'+ c['uri'].replace('data.', 'overture.'))\n",
    "#     display(pd.DataFrame(np.ma.array( candidates[c]).reshape(1, 13)))\n",
    "\n",
    "print(trues-1)\n",
    "\n",
    "trues = 0\n",
    "for index, c in enumerate(candidates_2):\n",
    "    _sig = '  X  ' if c['uri'] in pl_data else '   '\n",
    "#     print('%d \\t %.5f'% (index, c['score']) + '\\t' + _sig + '\\t' + get_label(c['uri']))\n",
    "    if c['uri'] in pl_data: trues+=1\n",
    "#     print('\\t\\t\\t\\t'+ c['uri'].replace('data.', 'overture.'))\n",
    "#     display(pd.DataFrame(np.ma.array( candidates[c]).reshape(1, 13)))\n",
    "\n",
    "print(trues-1)\n",
    "\n",
    "# print(candidates[270:273])\n",
    "# print(candidates_2[270:273])\n",
    "\n"
   ]
  },
  {
   "cell_type": "code",
   "execution_count": 323,
   "metadata": {},
   "outputs": [],
   "source": [
    "def get_std_gap(_chosen):\n",
    "#     return (stdb[_chosen] - stdw[_chosen]) / ((stdw[_chosen] + stdb[_chosen]) / 2 )\n",
    "    return  stdb[_chosen] / stdw[_chosen]\n",
    "\n",
    "def display_distances(_chosen):\n",
    "    better =(stdw[_chosen]<=stdb[_chosen]).tolist()\n",
    "    distance = get_std_gap(_chosen)\n",
    "\n",
    "    pd.set_option('precision', 3)\n",
    "    return pd.DataFrame([better, distance.tolist(), stdw[_chosen].tolist(), stdb[_chosen].tolist()], \n",
    "                        index=['omongeneous', '% rate', 'std within', 'std between'], columns=heads)"
   ]
  },
  {
   "cell_type": "code",
   "execution_count": 324,
   "metadata": {},
   "outputs": [
    {
     "data": {
      "text/html": [
       "<div>\n",
       "<style>\n",
       "    .dataframe thead tr:only-child th {\n",
       "        text-align: right;\n",
       "    }\n",
       "\n",
       "    .dataframe thead th {\n",
       "        text-align: left;\n",
       "    }\n",
       "\n",
       "    .dataframe tbody tr th {\n",
       "        vertical-align: top;\n",
       "    }\n",
       "</style>\n",
       "<table border=\"1\" class=\"dataframe\">\n",
       "  <thead>\n",
       "    <tr style=\"text-align: right;\">\n",
       "      <th></th>\n",
       "      <th>casting</th>\n",
       "      <th>casting</th>\n",
       "      <th>casting</th>\n",
       "      <th>composer</th>\n",
       "      <th>composer</th>\n",
       "      <th>composer</th>\n",
       "      <th>genre</th>\n",
       "      <th>genre</th>\n",
       "      <th>genre</th>\n",
       "      <th>key</th>\n",
       "      <th>key</th>\n",
       "      <th>key</th>\n",
       "      <th>composition_date</th>\n",
       "    </tr>\n",
       "  </thead>\n",
       "  <tbody>\n",
       "    <tr>\n",
       "      <th>omongeneous</th>\n",
       "      <td>False</td>\n",
       "      <td>True</td>\n",
       "      <td>True</td>\n",
       "      <td>True</td>\n",
       "      <td>True</td>\n",
       "      <td>True</td>\n",
       "      <td>False</td>\n",
       "      <td>True</td>\n",
       "      <td>False</td>\n",
       "      <td>False</td>\n",
       "      <td>True</td>\n",
       "      <td>False</td>\n",
       "      <td>True</td>\n",
       "    </tr>\n",
       "    <tr>\n",
       "      <th>% rate</th>\n",
       "      <td>0.5</td>\n",
       "      <td>1.45</td>\n",
       "      <td>1.14</td>\n",
       "      <td>4.15</td>\n",
       "      <td>1.47</td>\n",
       "      <td>1.37</td>\n",
       "      <td>0.999</td>\n",
       "      <td>5.5</td>\n",
       "      <td>0.728</td>\n",
       "      <td>0.886</td>\n",
       "      <td>1.12</td>\n",
       "      <td>0.843</td>\n",
       "      <td>2.65</td>\n",
       "    </tr>\n",
       "    <tr>\n",
       "      <th>std within</th>\n",
       "      <td>0.000475</td>\n",
       "      <td>7.24e-05</td>\n",
       "      <td>0.000144</td>\n",
       "      <td>2.9e-07</td>\n",
       "      <td>2.72e-06</td>\n",
       "      <td>5.75e-06</td>\n",
       "      <td>2.05e-05</td>\n",
       "      <td>5.09e-05</td>\n",
       "      <td>9.42e-05</td>\n",
       "      <td>0.00105</td>\n",
       "      <td>0.00125</td>\n",
       "      <td>0.00136</td>\n",
       "      <td>0.000646</td>\n",
       "    </tr>\n",
       "    <tr>\n",
       "      <th>std between</th>\n",
       "      <td>0.000237</td>\n",
       "      <td>0.000105</td>\n",
       "      <td>0.000164</td>\n",
       "      <td>1.21e-06</td>\n",
       "      <td>4e-06</td>\n",
       "      <td>7.87e-06</td>\n",
       "      <td>2.05e-05</td>\n",
       "      <td>0.00028</td>\n",
       "      <td>6.86e-05</td>\n",
       "      <td>0.000931</td>\n",
       "      <td>0.00139</td>\n",
       "      <td>0.00115</td>\n",
       "      <td>0.00171</td>\n",
       "    </tr>\n",
       "  </tbody>\n",
       "</table>\n",
       "</div>"
      ],
      "text/plain": [
       "              casting   casting   casting  composer  composer  composer  \\\n",
       "omongeneous     False      True      True      True      True      True   \n",
       "% rate            0.5      1.45      1.14      4.15      1.47      1.37   \n",
       "std within   0.000475  7.24e-05  0.000144   2.9e-07  2.72e-06  5.75e-06   \n",
       "std between  0.000237  0.000105  0.000164  1.21e-06     4e-06  7.87e-06   \n",
       "\n",
       "                genre     genre     genre       key      key      key  \\\n",
       "omongeneous     False      True     False     False     True    False   \n",
       "% rate          0.999       5.5     0.728     0.886     1.12    0.843   \n",
       "std within   2.05e-05  5.09e-05  9.42e-05   0.00105  0.00125  0.00136   \n",
       "std between  2.05e-05   0.00028  6.86e-05  0.000931  0.00139  0.00115   \n",
       "\n",
       "            composition_date  \n",
       "omongeneous             True  \n",
       "% rate                  2.65  \n",
       "std within          0.000646  \n",
       "std between          0.00171  "
      ]
     },
     "execution_count": 324,
     "metadata": {},
     "output_type": "execute_result"
    }
   ],
   "source": [
    "display_distances('spotify_pl')"
   ]
  },
  {
   "cell_type": "code",
   "execution_count": 325,
   "metadata": {},
   "outputs": [
    {
     "data": {
      "text/html": [
       "<div>\n",
       "<style>\n",
       "    .dataframe thead tr:only-child th {\n",
       "        text-align: right;\n",
       "    }\n",
       "\n",
       "    .dataframe thead th {\n",
       "        text-align: left;\n",
       "    }\n",
       "\n",
       "    .dataframe tbody tr th {\n",
       "        vertical-align: top;\n",
       "    }\n",
       "</style>\n",
       "<table border=\"1\" class=\"dataframe\">\n",
       "  <thead>\n",
       "    <tr style=\"text-align: right;\">\n",
       "      <th></th>\n",
       "      <th>casting</th>\n",
       "      <th>casting</th>\n",
       "      <th>casting</th>\n",
       "      <th>composer</th>\n",
       "      <th>composer</th>\n",
       "      <th>composer</th>\n",
       "      <th>genre</th>\n",
       "      <th>genre</th>\n",
       "      <th>genre</th>\n",
       "      <th>key</th>\n",
       "      <th>key</th>\n",
       "      <th>key</th>\n",
       "      <th>composition_date</th>\n",
       "    </tr>\n",
       "  </thead>\n",
       "  <tbody>\n",
       "    <tr>\n",
       "      <th>omongeneous</th>\n",
       "      <td>False</td>\n",
       "      <td>True</td>\n",
       "      <td>True</td>\n",
       "      <td>True</td>\n",
       "      <td>True</td>\n",
       "      <td>True</td>\n",
       "      <td>True</td>\n",
       "      <td>True</td>\n",
       "      <td>False</td>\n",
       "      <td>True</td>\n",
       "      <td>True</td>\n",
       "      <td>True</td>\n",
       "      <td>True</td>\n",
       "    </tr>\n",
       "    <tr>\n",
       "      <th>% rate</th>\n",
       "      <td>0.444</td>\n",
       "      <td>1.32</td>\n",
       "      <td>1.01</td>\n",
       "      <td>5.41</td>\n",
       "      <td>1.73</td>\n",
       "      <td>1.88</td>\n",
       "      <td>1.16</td>\n",
       "      <td>3.91</td>\n",
       "      <td>0.495</td>\n",
       "      <td>1.19</td>\n",
       "      <td>1.47</td>\n",
       "      <td>1.04</td>\n",
       "      <td>1.26</td>\n",
       "    </tr>\n",
       "    <tr>\n",
       "      <th>std within</th>\n",
       "      <td>0.000432</td>\n",
       "      <td>6.88e-05</td>\n",
       "      <td>0.000135</td>\n",
       "      <td>2.12e-07</td>\n",
       "      <td>1.55e-06</td>\n",
       "      <td>3.96e-06</td>\n",
       "      <td>1.81e-05</td>\n",
       "      <td>6.05e-05</td>\n",
       "      <td>0.000127</td>\n",
       "      <td>0.000868</td>\n",
       "      <td>0.000894</td>\n",
       "      <td>0.00115</td>\n",
       "      <td>0.000478</td>\n",
       "    </tr>\n",
       "    <tr>\n",
       "      <th>std between</th>\n",
       "      <td>0.000192</td>\n",
       "      <td>9.09e-05</td>\n",
       "      <td>0.000137</td>\n",
       "      <td>1.15e-06</td>\n",
       "      <td>2.68e-06</td>\n",
       "      <td>7.46e-06</td>\n",
       "      <td>2.1e-05</td>\n",
       "      <td>0.000236</td>\n",
       "      <td>6.27e-05</td>\n",
       "      <td>0.00103</td>\n",
       "      <td>0.00132</td>\n",
       "      <td>0.0012</td>\n",
       "      <td>0.000604</td>\n",
       "    </tr>\n",
       "  </tbody>\n",
       "</table>\n",
       "</div>"
      ],
      "text/plain": [
       "              casting   casting   casting  composer  composer  composer  \\\n",
       "omongeneous     False      True      True      True      True      True   \n",
       "% rate          0.444      1.32      1.01      5.41      1.73      1.88   \n",
       "std within   0.000432  6.88e-05  0.000135  2.12e-07  1.55e-06  3.96e-06   \n",
       "std between  0.000192  9.09e-05  0.000137  1.15e-06  2.68e-06  7.46e-06   \n",
       "\n",
       "                genre     genre     genre       key       key      key  \\\n",
       "omongeneous      True      True     False      True      True     True   \n",
       "% rate           1.16      3.91     0.495      1.19      1.47     1.04   \n",
       "std within   1.81e-05  6.05e-05  0.000127  0.000868  0.000894  0.00115   \n",
       "std between   2.1e-05  0.000236  6.27e-05   0.00103   0.00132   0.0012   \n",
       "\n",
       "            composition_date  \n",
       "omongeneous             True  \n",
       "% rate                  1.26  \n",
       "std within          0.000478  \n",
       "std between         0.000604  "
      ]
     },
     "execution_count": 325,
     "metadata": {},
     "output_type": "execute_result"
    }
   ],
   "source": [
    "display_distances('web-radio')"
   ]
  },
  {
   "cell_type": "code",
   "execution_count": 326,
   "metadata": {},
   "outputs": [
    {
     "data": {
      "text/html": [
       "<div>\n",
       "<style>\n",
       "    .dataframe thead tr:only-child th {\n",
       "        text-align: right;\n",
       "    }\n",
       "\n",
       "    .dataframe thead th {\n",
       "        text-align: left;\n",
       "    }\n",
       "\n",
       "    .dataframe tbody tr th {\n",
       "        vertical-align: top;\n",
       "    }\n",
       "</style>\n",
       "<table border=\"1\" class=\"dataframe\">\n",
       "  <thead>\n",
       "    <tr style=\"text-align: right;\">\n",
       "      <th></th>\n",
       "      <th>casting</th>\n",
       "      <th>casting</th>\n",
       "      <th>casting</th>\n",
       "      <th>composer</th>\n",
       "      <th>composer</th>\n",
       "      <th>composer</th>\n",
       "      <th>genre</th>\n",
       "      <th>genre</th>\n",
       "      <th>genre</th>\n",
       "      <th>key</th>\n",
       "      <th>key</th>\n",
       "      <th>key</th>\n",
       "      <th>composition_date</th>\n",
       "    </tr>\n",
       "  </thead>\n",
       "  <tbody>\n",
       "    <tr>\n",
       "      <th>omongeneous</th>\n",
       "      <td>True</td>\n",
       "      <td>True</td>\n",
       "      <td>True</td>\n",
       "      <td>True</td>\n",
       "      <td>True</td>\n",
       "      <td>True</td>\n",
       "      <td>True</td>\n",
       "      <td>True</td>\n",
       "      <td>True</td>\n",
       "      <td>False</td>\n",
       "      <td>True</td>\n",
       "      <td>False</td>\n",
       "      <td>True</td>\n",
       "    </tr>\n",
       "    <tr>\n",
       "      <th>% rate</th>\n",
       "      <td>8.67</td>\n",
       "      <td>3.29</td>\n",
       "      <td>3.82</td>\n",
       "      <td>14.9</td>\n",
       "      <td>2.49</td>\n",
       "      <td>5.88</td>\n",
       "      <td>3.26</td>\n",
       "      <td>5.07</td>\n",
       "      <td>9.85</td>\n",
       "      <td>0.536</td>\n",
       "      <td>1.23</td>\n",
       "      <td>0.42</td>\n",
       "      <td>26.5</td>\n",
       "    </tr>\n",
       "    <tr>\n",
       "      <th>std within</th>\n",
       "      <td>2.49e-05</td>\n",
       "      <td>8.95e-06</td>\n",
       "      <td>1.33e-05</td>\n",
       "      <td>1.13e-06</td>\n",
       "      <td>1.47e-06</td>\n",
       "      <td>2.89e-06</td>\n",
       "      <td>3.69e-06</td>\n",
       "      <td>8.53e-06</td>\n",
       "      <td>1.1e-05</td>\n",
       "      <td>0.000155</td>\n",
       "      <td>0.000127</td>\n",
       "      <td>0.000221</td>\n",
       "      <td>8.17e-05</td>\n",
       "    </tr>\n",
       "    <tr>\n",
       "      <th>std between</th>\n",
       "      <td>0.000216</td>\n",
       "      <td>2.94e-05</td>\n",
       "      <td>5.09e-05</td>\n",
       "      <td>1.68e-05</td>\n",
       "      <td>3.64e-06</td>\n",
       "      <td>1.7e-05</td>\n",
       "      <td>1.21e-05</td>\n",
       "      <td>4.33e-05</td>\n",
       "      <td>0.000108</td>\n",
       "      <td>8.31e-05</td>\n",
       "      <td>0.000157</td>\n",
       "      <td>9.26e-05</td>\n",
       "      <td>0.00216</td>\n",
       "    </tr>\n",
       "  </tbody>\n",
       "</table>\n",
       "</div>"
      ],
      "text/plain": [
       "              casting   casting   casting  composer  composer  composer  \\\n",
       "omongeneous      True      True      True      True      True      True   \n",
       "% rate           8.67      3.29      3.82      14.9      2.49      5.88   \n",
       "std within   2.49e-05  8.95e-06  1.33e-05  1.13e-06  1.47e-06  2.89e-06   \n",
       "std between  0.000216  2.94e-05  5.09e-05  1.68e-05  3.64e-06   1.7e-05   \n",
       "\n",
       "                genre     genre     genre       key       key       key  \\\n",
       "omongeneous      True      True      True     False      True     False   \n",
       "% rate           3.26      5.07      9.85     0.536      1.23      0.42   \n",
       "std within   3.69e-06  8.53e-06   1.1e-05  0.000155  0.000127  0.000221   \n",
       "std between  1.21e-05  4.33e-05  0.000108  8.31e-05  0.000157  9.26e-05   \n",
       "\n",
       "            composition_date  \n",
       "omongeneous             True  \n",
       "% rate                  26.5  \n",
       "std within          8.17e-05  \n",
       "std between          0.00216  "
      ]
     },
     "execution_count": 326,
     "metadata": {},
     "output_type": "execute_result"
    }
   ],
   "source": [
    "display_distances('pp_concerts')"
   ]
  },
  {
   "cell_type": "code",
   "execution_count": 327,
   "metadata": {},
   "outputs": [
    {
     "data": {
      "text/html": [
       "<div>\n",
       "<style>\n",
       "    .dataframe thead tr:only-child th {\n",
       "        text-align: right;\n",
       "    }\n",
       "\n",
       "    .dataframe thead th {\n",
       "        text-align: left;\n",
       "    }\n",
       "\n",
       "    .dataframe tbody tr th {\n",
       "        vertical-align: top;\n",
       "    }\n",
       "</style>\n",
       "<table border=\"1\" class=\"dataframe\">\n",
       "  <thead>\n",
       "    <tr style=\"text-align: right;\">\n",
       "      <th></th>\n",
       "      <th>casting</th>\n",
       "      <th>casting</th>\n",
       "      <th>casting</th>\n",
       "      <th>composer</th>\n",
       "      <th>composer</th>\n",
       "      <th>composer</th>\n",
       "      <th>genre</th>\n",
       "      <th>genre</th>\n",
       "      <th>genre</th>\n",
       "      <th>key</th>\n",
       "      <th>key</th>\n",
       "      <th>key</th>\n",
       "      <th>composition_date</th>\n",
       "    </tr>\n",
       "  </thead>\n",
       "  <tbody>\n",
       "    <tr>\n",
       "      <th>omongeneous</th>\n",
       "      <td>True</td>\n",
       "      <td>True</td>\n",
       "      <td>True</td>\n",
       "      <td>True</td>\n",
       "      <td>True</td>\n",
       "      <td>True</td>\n",
       "      <td>True</td>\n",
       "      <td>True</td>\n",
       "      <td>True</td>\n",
       "      <td>True</td>\n",
       "      <td>True</td>\n",
       "      <td>True</td>\n",
       "      <td>True</td>\n",
       "    </tr>\n",
       "    <tr>\n",
       "      <th>% rate</th>\n",
       "      <td>None</td>\n",
       "      <td>None</td>\n",
       "      <td>None</td>\n",
       "      <td>2.14</td>\n",
       "      <td>2.74</td>\n",
       "      <td>1.98</td>\n",
       "      <td>8.68</td>\n",
       "      <td>42.7</td>\n",
       "      <td>12.7</td>\n",
       "      <td>None</td>\n",
       "      <td>None</td>\n",
       "      <td>None</td>\n",
       "      <td>6.37</td>\n",
       "    </tr>\n",
       "    <tr>\n",
       "      <th>std within</th>\n",
       "      <td>0</td>\n",
       "      <td>0</td>\n",
       "      <td>0</td>\n",
       "      <td>9.76e-07</td>\n",
       "      <td>3.02e-06</td>\n",
       "      <td>5.79e-06</td>\n",
       "      <td>1.22e-05</td>\n",
       "      <td>2.11e-05</td>\n",
       "      <td>1.63e-05</td>\n",
       "      <td>0</td>\n",
       "      <td>0</td>\n",
       "      <td>0</td>\n",
       "      <td>0.000244</td>\n",
       "    </tr>\n",
       "    <tr>\n",
       "      <th>std between</th>\n",
       "      <td>0</td>\n",
       "      <td>0</td>\n",
       "      <td>0</td>\n",
       "      <td>2.09e-06</td>\n",
       "      <td>8.26e-06</td>\n",
       "      <td>1.14e-05</td>\n",
       "      <td>0.000106</td>\n",
       "      <td>0.0009</td>\n",
       "      <td>0.000208</td>\n",
       "      <td>0</td>\n",
       "      <td>0</td>\n",
       "      <td>0</td>\n",
       "      <td>0.00155</td>\n",
       "    </tr>\n",
       "  </tbody>\n",
       "</table>\n",
       "</div>"
      ],
      "text/plain": [
       "            casting casting casting  composer  composer  composer     genre  \\\n",
       "omongeneous    True    True    True      True      True      True      True   \n",
       "% rate         None    None    None      2.14      2.74      1.98      8.68   \n",
       "std within        0       0       0  9.76e-07  3.02e-06  5.79e-06  1.22e-05   \n",
       "std between       0       0       0  2.09e-06  8.26e-06  1.14e-05  0.000106   \n",
       "\n",
       "                genre     genre   key   key   key composition_date  \n",
       "omongeneous      True      True  True  True  True             True  \n",
       "% rate           42.7      12.7  None  None  None             6.37  \n",
       "std within   2.11e-05  1.63e-05     0     0     0         0.000244  \n",
       "std between    0.0009  0.000208     0     0     0          0.00155  "
      ]
     },
     "execution_count": 327,
     "metadata": {},
     "output_type": "execute_result"
    }
   ],
   "source": [
    "display_distances('itema3_concerts')"
   ]
  },
  {
   "cell_type": "markdown",
   "metadata": {},
   "source": [
    "2 different tendences between concerts and playlists.\n",
    "\n",
    "In **concerts** all the dimensions (where they exist) are more omogeneous. This is true in particular for the **casting** (not to be used instead for playlists), and this is reasonable.\n",
    "\n",
    "The 1st dimension of **composer** is also one to take in account.\n",
    "In Itema3 this is not visible probably because of bad interlinking of artists.\n",
    "\n",
    "For the keys, the values are not so relevant and not stable in positiveness.\n",
    "\n",
    "Always positive (in **bold** the largely ones):\n",
    "- **composer[0]**\n",
    "- composer[1,2]\n",
    "- **genre[2]**\n",
    "- composition_date\n",
    "- key[2]\n",
    "- casting[2]\n",
    "\n",
    "Positive only in concerts:\n",
    "- **casting[all]**\n",
    "- **genre[all]**\n",
    "- **composition_date**\n",
    "\n"
   ]
  },
  {
   "cell_type": "markdown",
   "metadata": {},
   "source": [
    "## Recommendations"
   ]
  },
  {
   "cell_type": "code",
   "execution_count": 419,
   "metadata": {},
   "outputs": [
    {
     "data": {
      "text/html": [
       "<div>\n",
       "<style>\n",
       "    .dataframe thead tr:only-child th {\n",
       "        text-align: right;\n",
       "    }\n",
       "\n",
       "    .dataframe thead th {\n",
       "        text-align: left;\n",
       "    }\n",
       "\n",
       "    .dataframe tbody tr th {\n",
       "        vertical-align: top;\n",
       "    }\n",
       "</style>\n",
       "<table border=\"1\" class=\"dataframe\">\n",
       "  <thead>\n",
       "    <tr style=\"text-align: right;\">\n",
       "      <th></th>\n",
       "      <th>casting</th>\n",
       "      <th>casting</th>\n",
       "      <th>casting</th>\n",
       "      <th>composer</th>\n",
       "      <th>composer</th>\n",
       "      <th>composer</th>\n",
       "      <th>genre</th>\n",
       "      <th>genre</th>\n",
       "      <th>genre</th>\n",
       "      <th>key</th>\n",
       "      <th>key</th>\n",
       "      <th>key</th>\n",
       "      <th>composition_date</th>\n",
       "    </tr>\n",
       "  </thead>\n",
       "  <tbody>\n",
       "    <tr>\n",
       "      <th>0</th>\n",
       "      <td>0.7</td>\n",
       "      <td>1.385</td>\n",
       "      <td>0.7</td>\n",
       "      <td>4.783</td>\n",
       "      <td>1.601</td>\n",
       "      <td>1.626</td>\n",
       "      <td>0.7</td>\n",
       "      <td>4.706</td>\n",
       "      <td>0.7</td>\n",
       "      <td>0.7</td>\n",
       "      <td>0.7</td>\n",
       "      <td>0.7</td>\n",
       "      <td>1.958</td>\n",
       "    </tr>\n",
       "  </tbody>\n",
       "</table>\n",
       "</div>"
      ],
      "text/plain": [
       "   casting  casting  casting  composer  composer  composer  genre  genre  \\\n",
       "0      0.7    1.385      0.7     4.783     1.601     1.626    0.7  4.706   \n",
       "\n",
       "   genre  key  key  key  composition_date  \n",
       "0    0.7  0.7  0.7  0.7             1.958  "
      ]
     },
     "execution_count": 419,
     "metadata": {},
     "output_type": "execute_result"
    }
   ],
   "source": [
    "dist = [get_std_gap(_chosen) for _chosen in ['spotify_pl', 'web-radio']]\n",
    "dist = np.ma.mean(dist, axis=0).filled()\n",
    "\n",
    "threshold = 1.3\n",
    "w = np.where(dist > threshold, dist, .7)\n",
    "# w[-1] *= 0\n",
    "\n",
    "pd.DataFrame([w], columns=heads)"
   ]
  },
  {
   "cell_type": "code",
   "execution_count": 420,
   "metadata": {},
   "outputs": [],
   "source": [
    "def recommend_compare(playlist, pos=-1, num_candidates=[100, 200, 500], verbose=True, overture=True):\n",
    "    pl_data = playlist['data']\n",
    "    pl_population = len(pl_data)\n",
    "    if verbose: print('%d items | %s' % (pl_population, playlist['name'].split('/')[-1]))\n",
    "    \n",
    "    _replcm = 'overture.' if overture else 'data.'\n",
    "    \n",
    "    if pos < 0: pos = random.randrange(pl_population)\n",
    "    chosen = pl_data[pos]\n",
    "    if verbose: \n",
    "        print('seed: %d) %s' % (pos, get_label(chosen)))\n",
    "        print('\\t '+ chosen.replace('data.', _replcm))\n",
    "    \n",
    "    first = get_embs(chosen)\n",
    "    first = np.ma.array(first, mask=first < -1.)\n",
    "#     print(first)\n",
    "\n",
    "    candidates = find(first, n=np.max(num_candidates), _print=False )\n",
    "    candidates_2 = find(first, n=np.max(num_candidates), _print=False, w = w )\n",
    "    \n",
    "    results = np.zeros((len(num_candidates), 3))\n",
    "    \n",
    "    for qi, q in enumerate(num_candidates):\n",
    "        trues_flat = 0\n",
    "        for index, c in enumerate(candidates[:q]):\n",
    "            if c['uri'] == chosen: continue\n",
    "        #     _sig = '  X  ' if c['uri'] in pl_data else '   '\n",
    "    #         print('%d \\t %.5f'% (index, c['score']) + '\\t' + _sig + '\\t' + get_label(c['uri']))\n",
    "            if c['uri'] in pl_data: trues_flat+=1\n",
    "        # #     print('\\t\\t\\t\\t'+ c['uri'].replace('data.', 'overture.'))\n",
    "        # #     display(pd.DataFrame(np.ma.array( candidates[c]).reshape(1, 13)))\n",
    "\n",
    "\n",
    "        trues = 0\n",
    "        for index, c in enumerate(candidates_2[:q]):\n",
    "            if c['uri'] == chosen: continue\n",
    "        #     _sig = '  X  ' if c['uri'] in pl_data else '   '\n",
    "        # #     print('%d \\t %.5f'% (index, c['score']) + '\\t' + _sig + '\\t' + get_label(c['uri']))\n",
    "            if c['uri'] in pl_data: trues+=1\n",
    "        # #     print('\\t\\t\\t\\t'+ c['uri'].replace('data.', 'overture.'))\n",
    "        # #     display(pd.DataFrame(np.ma.array( candidates[c]).reshape(1, 13)))\n",
    "\n",
    "        if verbose: print('%d | flat %d | weighted %d | diff %d' % (q, trues_flat, trues, trues-trues_flat))\n",
    "        results[qi] = [trues / pl_population, trues_flat / pl_population, (trues-trues_flat) / pl_population]\n",
    "    return results"
   ]
  },
  {
   "cell_type": "code",
   "execution_count": 422,
   "metadata": {},
   "outputs": [
    {
     "name": "stdout",
     "output_type": "stream",
     "text": [
      "15 items | 37i9dQZF1DX6Oqe1LC2A2s.Next Classical.expression.txt\n",
      "seed: 14) Symphonies. No 8\n",
      "\t http://overture.doremus.org/expression/05874d0b-9f40-3301-a69e-32cd7a9384df\n",
      "100 | flat 2 | weighted 4 | diff 2\n",
      "200 | flat 4 | weighted 4 | diff 0\n",
      "500 | flat 6 | weighted 8 | diff 2\n"
     ]
    },
    {
     "data": {
      "text/plain": [
       "array([[0.27, 0.13, 0.13],\n",
       "       [0.27, 0.27, 0.  ],\n",
       "       [0.53, 0.4 , 0.13]])"
      ]
     },
     "execution_count": 422,
     "metadata": {},
     "output_type": "execute_result"
    }
   ],
   "source": [
    "pl = all_training[3]['playlists'][41]\n",
    "recommend_compare(pl, 14)"
   ]
  },
  {
   "cell_type": "markdown",
   "metadata": {},
   "source": [
    "### Playlists"
   ]
  },
  {
   "cell_type": "code",
   "execution_count": 426,
   "metadata": {},
   "outputs": [],
   "source": [
    "rc = {}\n",
    "quantities = [100, 200, 500]\n",
    "_headers = np.array([['weighted %d' % q, 'flat %d' % q, 'diff %d' % q] for q in quantities]).flatten()\n",
    "\n",
    "def compute_for_dataset(dataset):\n",
    "    playlists = dataset['playlists'][0:5]\n",
    "    current = np.zeros((len(playlists), 3*len(quantities)))\n",
    "    for pl, idxp in log_progress(playlists, name=dataset['name']):\n",
    "        rcomp = [recommend_compare(pl, elem, num_candidates=quantities, verbose=False).flatten()\n",
    "                 for elem in np.arange(len(pl['data']))]\n",
    "        current[idxp] = np.mean(rcomp, axis=0)\n",
    "    return current"
   ]
  },
  {
   "cell_type": "code",
   "execution_count": null,
   "metadata": {},
   "outputs": [
    {
     "data": {
      "application/vnd.jupyter.widget-view+json": {
       "model_id": "6880f2ff42834cb69c57f57ea026751a",
       "version_major": 2,
       "version_minor": 0
      },
      "text/html": [
       "<p>Failed to display Jupyter Widget of type <code>VBox</code>.</p>\n",
       "<p>\n",
       "  If you're reading this message in the Jupyter Notebook or JupyterLab Notebook, it may mean\n",
       "  that the widgets JavaScript is still loading. If this message persists, it\n",
       "  likely means that the widgets JavaScript library is either not installed or\n",
       "  not enabled. See the <a href=\"https://ipywidgets.readthedocs.io/en/stable/user_install.html\">Jupyter\n",
       "  Widgets Documentation</a> for setup instructions.\n",
       "</p>\n",
       "<p>\n",
       "  If you're reading this message in another frontend (for example, a static\n",
       "  rendering on GitHub or <a href=\"https://nbviewer.jupyter.org/\">NBViewer</a>),\n",
       "  it may mean that your frontend doesn't currently support widgets.\n",
       "</p>\n"
      ],
      "text/plain": [
       "VBox(children=(HTML(value=''), IntProgress(value=0, max=2)))"
      ]
     },
     "metadata": {},
     "output_type": "display_data"
    },
    {
     "data": {
      "application/vnd.jupyter.widget-view+json": {
       "model_id": "7aa908d09d1342a48f4c183ea3898f72",
       "version_major": 2,
       "version_minor": 0
      },
      "text/html": [
       "<p>Failed to display Jupyter Widget of type <code>VBox</code>.</p>\n",
       "<p>\n",
       "  If you're reading this message in the Jupyter Notebook or JupyterLab Notebook, it may mean\n",
       "  that the widgets JavaScript is still loading. If this message persists, it\n",
       "  likely means that the widgets JavaScript library is either not installed or\n",
       "  not enabled. See the <a href=\"https://ipywidgets.readthedocs.io/en/stable/user_install.html\">Jupyter\n",
       "  Widgets Documentation</a> for setup instructions.\n",
       "</p>\n",
       "<p>\n",
       "  If you're reading this message in another frontend (for example, a static\n",
       "  rendering on GitHub or <a href=\"https://nbviewer.jupyter.org/\">NBViewer</a>),\n",
       "  it may mean that your frontend doesn't currently support widgets.\n",
       "</p>\n"
      ],
      "text/plain": [
       "VBox(children=(HTML(value=''), IntProgress(value=0, max=5)))"
      ]
     },
     "metadata": {},
     "output_type": "display_data"
    }
   ],
   "source": [
    "for dataset, idxd in log_progress(all_training[2:4], name='datasets'):\n",
    "    rc[dataset['name']] = compute_for_dataset(dataset)"
   ]
  },
  {
   "cell_type": "code",
   "execution_count": 418,
   "metadata": {},
   "outputs": [],
   "source": [
    "# rc"
   ]
  },
  {
   "cell_type": "code",
   "execution_count": 417,
   "metadata": {},
   "outputs": [
    {
     "data": {
      "text/html": [
       "<div>\n",
       "<style>\n",
       "    .dataframe thead tr:only-child th {\n",
       "        text-align: right;\n",
       "    }\n",
       "\n",
       "    .dataframe thead th {\n",
       "        text-align: left;\n",
       "    }\n",
       "\n",
       "    .dataframe tbody tr th {\n",
       "        vertical-align: top;\n",
       "    }\n",
       "</style>\n",
       "<table border=\"1\" class=\"dataframe\">\n",
       "  <thead>\n",
       "    <tr style=\"text-align: right;\">\n",
       "      <th></th>\n",
       "      <th>weighted 100</th>\n",
       "      <th>flat 100</th>\n",
       "      <th>diff 100</th>\n",
       "      <th>weighted 200</th>\n",
       "      <th>flat 200</th>\n",
       "      <th>diff 200</th>\n",
       "      <th>weighted 500</th>\n",
       "      <th>flat 500</th>\n",
       "      <th>diff 500</th>\n",
       "    </tr>\n",
       "  </thead>\n",
       "  <tbody>\n",
       "    <tr>\n",
       "      <th>pp_concerts</th>\n",
       "      <td>0.019</td>\n",
       "      <td>0.017</td>\n",
       "      <td>2.247e-03</td>\n",
       "      <td>0.021</td>\n",
       "      <td>0.022</td>\n",
       "      <td>-1.637e-03</td>\n",
       "      <td>0.025</td>\n",
       "      <td>0.027</td>\n",
       "      <td>-0.001</td>\n",
       "    </tr>\n",
       "    <tr>\n",
       "      <th>itema3_concerts</th>\n",
       "      <td>0.000</td>\n",
       "      <td>0.000</td>\n",
       "      <td>0.000e+00</td>\n",
       "      <td>0.000</td>\n",
       "      <td>0.000</td>\n",
       "      <td>0.000e+00</td>\n",
       "      <td>0.000</td>\n",
       "      <td>0.000</td>\n",
       "      <td>0.000</td>\n",
       "    </tr>\n",
       "    <tr>\n",
       "      <th>web-radio</th>\n",
       "      <td>0.057</td>\n",
       "      <td>0.052</td>\n",
       "      <td>4.964e-03</td>\n",
       "      <td>0.104</td>\n",
       "      <td>0.101</td>\n",
       "      <td>3.173e-03</td>\n",
       "      <td>0.239</td>\n",
       "      <td>0.226</td>\n",
       "      <td>0.013</td>\n",
       "    </tr>\n",
       "    <tr>\n",
       "      <th>spotify_pl</th>\n",
       "      <td>0.096</td>\n",
       "      <td>0.097</td>\n",
       "      <td>-9.448e-04</td>\n",
       "      <td>0.143</td>\n",
       "      <td>0.144</td>\n",
       "      <td>-6.134e-04</td>\n",
       "      <td>0.276</td>\n",
       "      <td>0.265</td>\n",
       "      <td>0.010</td>\n",
       "    </tr>\n",
       "  </tbody>\n",
       "</table>\n",
       "</div>"
      ],
      "text/plain": [
       "                 weighted 100  flat 100   diff 100  weighted 200  flat 200  \\\n",
       "pp_concerts             0.019     0.017  2.247e-03         0.021     0.022   \n",
       "itema3_concerts         0.000     0.000  0.000e+00         0.000     0.000   \n",
       "web-radio               0.057     0.052  4.964e-03         0.104     0.101   \n",
       "spotify_pl              0.096     0.097 -9.448e-04         0.143     0.144   \n",
       "\n",
       "                  diff 200  weighted 500  flat 500  diff 500  \n",
       "pp_concerts     -1.637e-03         0.025     0.027    -0.001  \n",
       "itema3_concerts  0.000e+00         0.000     0.000     0.000  \n",
       "web-radio        3.173e-03         0.239     0.226     0.013  \n",
       "spotify_pl      -6.134e-04         0.276     0.265     0.010  "
      ]
     },
     "execution_count": 417,
     "metadata": {},
     "output_type": "execute_result"
    }
   ],
   "source": [
    "_data = np.array([np.mean(rc[ds], axis=0) for ds in rc])\n",
    "\n",
    "pd.DataFrame(\n",
    "    _data,\n",
    "    index = [ds for ds in rc],\n",
    "    columns = _headers\n",
    ")"
   ]
  },
  {
   "cell_type": "code",
   "execution_count": null,
   "metadata": {},
   "outputs": [],
   "source": []
  }
 ],
 "metadata": {
  "kernelspec": {
   "display_name": "Python 3",
   "language": "python",
   "name": "python3"
  },
  "language_info": {
   "codemirror_mode": {
    "name": "ipython",
    "version": 3
   },
   "file_extension": ".py",
   "mimetype": "text/x-python",
   "name": "python",
   "nbconvert_exporter": "python",
   "pygments_lexer": "ipython3",
   "version": "3.6.4"
  }
 },
 "nbformat": 4,
 "nbformat_minor": 1
}
