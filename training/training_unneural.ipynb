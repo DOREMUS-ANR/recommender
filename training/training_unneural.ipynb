{
 "cells": [
  {
   "cell_type": "code",
   "execution_count": 1,
   "metadata": {},
   "outputs": [
    {
     "name": "stderr",
     "output_type": "stream",
     "text": [
      "/Users/pasquale/anaconda3/lib/python3.5/importlib/_bootstrap.py:222: RuntimeWarning: compiletime version 3.6 of module 'tensorflow.python.framework.fast_tensor_util' does not match runtime version 3.5\n",
      "  return f(*args, **kwds)\n",
      "/Users/pasquale/anaconda3/lib/python3.5/site-packages/h5py/__init__.py:34: FutureWarning: Conversion of the second argument of issubdtype from `float` to `np.floating` is deprecated. In future, it will be treated as `np.float64 == np.dtype(float).type`.\n",
      "  from ._conv import register_converters as _register_converters\n"
     ]
    }
   ],
   "source": [
    "import codecs\n",
    "import numpy as np\n",
    "import pandas as pd\n",
    "import tensorflow as tf\n",
    "import matplotlib.pyplot as plt\n",
    "from sklearn.model_selection import train_test_split"
   ]
  },
  {
   "cell_type": "markdown",
   "metadata": {
    "collapsed": true
   },
   "source": [
    "Load data in Tensorflow."
   ]
  },
  {
   "cell_type": "code",
   "execution_count": 3,
   "metadata": {},
   "outputs": [
    {
     "data": {
      "text/html": [
       "<div>\n",
       "<style scoped>\n",
       "    .dataframe tbody tr th:only-of-type {\n",
       "        vertical-align: middle;\n",
       "    }\n",
       "\n",
       "    .dataframe tbody tr th {\n",
       "        vertical-align: top;\n",
       "    }\n",
       "\n",
       "    .dataframe thead th {\n",
       "        text-align: right;\n",
       "    }\n",
       "</style>\n",
       "<table border=\"1\" class=\"dataframe\">\n",
       "  <thead>\n",
       "    <tr style=\"text-align: right;\">\n",
       "      <th></th>\n",
       "      <th>seed</th>\n",
       "      <th>target</th>\n",
       "      <th>score</th>\n",
       "    </tr>\n",
       "  </thead>\n",
       "  <tbody>\n",
       "    <tr>\n",
       "      <th>0</th>\n",
       "      <td>http://data.doremus.org/artist/d33ebb23-7b8d-3...</td>\n",
       "      <td>http://data.doremus.org/artist/6329cd86-d47a-3...</td>\n",
       "      <td>1</td>\n",
       "    </tr>\n",
       "    <tr>\n",
       "      <th>1</th>\n",
       "      <td>http://data.doremus.org/artist/01915146-b964-3...</td>\n",
       "      <td>http://data.doremus.org/artist/6329cd86-d47a-3...</td>\n",
       "      <td>1</td>\n",
       "    </tr>\n",
       "    <tr>\n",
       "      <th>2</th>\n",
       "      <td>http://data.doremus.org/artist/01915146-b964-3...</td>\n",
       "      <td>http://data.doremus.org/artist/d33ebb23-7b8d-3...</td>\n",
       "      <td>1</td>\n",
       "    </tr>\n",
       "    <tr>\n",
       "      <th>3</th>\n",
       "      <td>http://data.doremus.org/artist/72b3b303-5c15-3...</td>\n",
       "      <td>http://data.doremus.org/artist/6329cd86-d47a-3...</td>\n",
       "      <td>1</td>\n",
       "    </tr>\n",
       "    <tr>\n",
       "      <th>4</th>\n",
       "      <td>http://data.doremus.org/artist/72b3b303-5c15-3...</td>\n",
       "      <td>http://data.doremus.org/artist/d33ebb23-7b8d-3...</td>\n",
       "      <td>1</td>\n",
       "    </tr>\n",
       "  </tbody>\n",
       "</table>\n",
       "</div>"
      ],
      "text/plain": [
       "                                                seed  \\\n",
       "0  http://data.doremus.org/artist/d33ebb23-7b8d-3...   \n",
       "1  http://data.doremus.org/artist/01915146-b964-3...   \n",
       "2  http://data.doremus.org/artist/01915146-b964-3...   \n",
       "3  http://data.doremus.org/artist/72b3b303-5c15-3...   \n",
       "4  http://data.doremus.org/artist/72b3b303-5c15-3...   \n",
       "\n",
       "                                              target score  \n",
       "0  http://data.doremus.org/artist/6329cd86-d47a-3...     1  \n",
       "1  http://data.doremus.org/artist/6329cd86-d47a-3...     1  \n",
       "2  http://data.doremus.org/artist/d33ebb23-7b8d-3...     1  \n",
       "3  http://data.doremus.org/artist/6329cd86-d47a-3...     1  \n",
       "4  http://data.doremus.org/artist/d33ebb23-7b8d-3...     1  "
      ]
     },
     "execution_count": 3,
     "metadata": {},
     "output_type": "execute_result"
    }
   ],
   "source": [
    "root = \"../\"\n",
    "training_data_folder = '%straining_data/web-radio/output/rec' % root\n",
    "embDir = '%sembeddings' % root\n",
    "what = 'artist'\n",
    "\n",
    "uri_file = '%s/%s.emb.u' % (embDir, what)\n",
    "vector_file = '%s/%s.emb.v' % (embDir, what)\n",
    "# header_file = '%s/%s.emb.h' % (embDir, what)\n",
    "training_file = '%s/%s.dat' % (training_data_folder, what)\n",
    "\n",
    "vectors = np.array([line.strip().split(' ') for line in codecs.open(vector_file, 'r', 'utf-8')])\n",
    "# heads = np.array([line.strip() for line in codecs.open(header_file, 'r', 'utf-8')])\n",
    "uris = np.array([line.strip() for line in codecs.open(uri_file, 'r', 'utf-8')])\n",
    "\n",
    "train_array = np.array([line.strip().split(' ') for line in codecs.open(training_file, 'r', 'utf-8')])\n",
    "pd.DataFrame(train_array, columns=['seed', 'target', 'score']).head()\n"
   ]
  },
  {
   "cell_type": "markdown",
   "metadata": {},
   "source": [
    "Data pre-processing: I want to substitute the seed and target with their embeddings"
   ]
  },
  {
   "cell_type": "code",
   "execution_count": 4,
   "metadata": {},
   "outputs": [],
   "source": [
    "def get_embs(x):\n",
    "    # uri to embedding\n",
    "    v = vectors[np.argwhere(uris == x)]\n",
    "    if v.size == 0:\n",
    "        result = -2. * np.ones(vectors[0].size)\n",
    "    else:\n",
    "        result = v[0][0]\n",
    "    return result.astype('float32')"
   ]
  },
  {
   "cell_type": "code",
   "execution_count": 5,
   "metadata": {},
   "outputs": [],
   "source": [
    "col1 = np.array([get_embs(xi) for xi in train_array[:, 0]])\n",
    "col2 = np.array([get_embs(xi) for xi in train_array[:, 1]])\n",
    "col1 = np.concatenate((col1, [12., 45., 73.] * np.ones((train_array.shape[0], 3))), axis=1)\n",
    "col2 = np.concatenate((col2, [12., 45., 73.] * np.ones((train_array.shape[0], 3))), axis=1)\n",
    "col3 = np.array(train_array[:, 2]).astype('float32')\n",
    "col3 = col3.reshape((col3.size, 1))"
   ]
  },
  {
   "cell_type": "code",
   "execution_count": 6,
   "metadata": {},
   "outputs": [],
   "source": [
    "def next_batch(num, data, labels):\n",
    "    \"\"\"\n",
    "    Return a total of `num` random samples and labels. \n",
    "    \"\"\"\n",
    "    idx = np.arange(0, len(data))\n",
    "    np.random.shuffle(idx)\n",
    "    idx = idx[:num]\n",
    "    data_shuffle = data[idx]\n",
    "    labels_shuffle = labels[idx]\n",
    "    return data_shuffle, labels_shuffle"
   ]
  },
  {
   "cell_type": "code",
   "execution_count": null,
   "metadata": {},
   "outputs": [],
   "source": []
  },
  {
   "cell_type": "code",
   "execution_count": 7,
   "metadata": {},
   "outputs": [
    {
     "data": {
      "text/plain": [
       "(12333, 35)"
      ]
     },
     "execution_count": 7,
     "metadata": {},
     "output_type": "execute_result"
    }
   ],
   "source": [
    "training_vector = np.concatenate((col1, col2, col3), axis=1)\n",
    "training_vector.shape"
   ]
  },
  {
   "cell_type": "markdown",
   "metadata": {},
   "source": [
    "Split test and train"
   ]
  },
  {
   "cell_type": "code",
   "execution_count": 8,
   "metadata": {},
   "outputs": [
    {
     "name": "stderr",
     "output_type": "stream",
     "text": [
      "/Users/pasquale/anaconda3/lib/python3.5/site-packages/sklearn/model_selection/_split.py:2026: FutureWarning: From version 0.21, test_size will always complement train_size unless both are specified.\n",
      "  FutureWarning)\n"
     ]
    }
   ],
   "source": [
    "train, test = train_test_split(training_vector, train_size=0.7)\n",
    "\n",
    "train_vector = train[:, : -1]\n",
    "train_label = train[:, -1]\n",
    "train_label = train_label.reshape((len(train_label), 1))\n",
    "\n",
    "test_vector = test[:, :-1]\n",
    "test_label = test[:, -1]\n",
    "test_label = test_label.reshape((len(test_label), 1))"
   ]
  },
  {
   "cell_type": "code",
   "execution_count": 9,
   "metadata": {},
   "outputs": [
    {
     "name": "stdout",
     "output_type": "stream",
     "text": [
      "Train\n",
      "(8633, 34)\n",
      "(8633, 1)\n",
      "Test\n",
      "(3700, 34)\n",
      "(3700, 1)\n"
     ]
    }
   ],
   "source": [
    "print('Train')\n",
    "print(train_vector.shape)\n",
    "print(train_label.shape)\n",
    "print('Test')\n",
    "print(test_vector.shape)\n",
    "print(test_label.shape)"
   ]
  },
  {
   "cell_type": "code",
   "execution_count": 10,
   "metadata": {},
   "outputs": [],
   "source": [
    "# Parameters\n",
    "learning_rate = 0.1\n",
    "num_steps = 1000\n",
    "batch_size = 64\n",
    "display_step = 100"
   ]
  },
  {
   "cell_type": "code",
   "execution_count": 14,
   "metadata": {},
   "outputs": [],
   "source": [
    "# Network Parameters\n",
    "n_hidden_1 = 256  # 1st layer number of neurons\n",
    "n_hidden_2 = 256  # 2nd layer number of neurons\n",
    "num_input = train_vector[0].size\n",
    "num_output = col1[0].size\n",
    "num_output_wrap = train_label[0].size\n",
    "\n",
    "# tf Graph input\n",
    "X = tf.placeholder(tf.float32, [None, num_input], name=\"X\")\n",
    "Y = tf.placeholder(tf.float32, [None, num_output_wrap], name=\"Y\")"
   ]
  },
  {
   "cell_type": "markdown",
   "metadata": {},
   "source": [
    "Network"
   ]
  },
  {
   "cell_type": "code",
   "execution_count": 78,
   "metadata": {},
   "outputs": [],
   "source": [
    "def weighted_l2(a, b, w):\n",
    "    with tf.name_scope('weighted_l2') as scope:\n",
    "        # https://stackoverflow.com/a/8861999/1218213\n",
    "        q = tf.subtract(a, b, name=\"q\")\n",
    "        # return np.sqrt((w * q * q).sum())\n",
    "        pow_q = tf.cast(tf.pow(q, 2), tf.float32, name=\"q-power\")\n",
    "        return tf.reduce_sum(tf.multiply(w, pow_q), name=\"o\", keepdims=True)"
   ]
  },
  {
   "cell_type": "code",
   "execution_count": 91,
   "metadata": {},
   "outputs": [],
   "source": [
    "def compute_penalty(expected, taken, total):\n",
    "    with tf.name_scope('penalty') as scope:\n",
    "        penalty = tf.divide(tf.subtract(expected, taken), total)\n",
    "        return tf.cast(penalty, tf.float32)\n",
    "\n",
    "w = tf.Variable(tf.random_normal([1, num_output]), name='w')\n",
    "\n",
    "def neural_net_wrap(x):        \n",
    "        seed, target = tf.split(x, [num_output, num_output], axis=1)\n",
    "        \n",
    "        bs = tf.equal(seed, -2.)\n",
    "        bt = tf.equal(target, -2.)\n",
    "\n",
    "        _ones = tf.ones_like(w, tf.float32)\n",
    "        max_distance = weighted_l2(_ones, _ones * -1., w)\n",
    "\n",
    "        bad_mask = tf.logical_or(bs, bt)\n",
    "        good_mask = tf.logical_not(bad_mask)\n",
    "\n",
    "        bs_count = tf.count_nonzero(tf.logical_not(bs), axis=1, keepdims=True)\n",
    "        good_count = tf.count_nonzero(good_mask, axis=1, keepdims=True)\n",
    "\n",
    "        _zeros = tf.zeros_like(seed, tf.float32)\n",
    "        _seed = tf.where(good_mask, seed, _zeros)\n",
    "        _target = tf.where(good_mask, target, _zeros)\n",
    "\n",
    "        # distance\n",
    "        d = weighted_l2(_seed, _target, w)\n",
    "\n",
    "        # how much info I am not finding\n",
    "        penalty = compute_penalty(bs_count, good_count, num_output)\n",
    "        multiplier = tf.subtract(1., penalty)\n",
    "        \n",
    "        # score\n",
    "        s = tf.divide(tf.subtract(max_distance, d), max_distance)\n",
    "        return tf.multiply(s, multiplier)"
   ]
  },
  {
   "cell_type": "code",
   "execution_count": 92,
   "metadata": {},
   "outputs": [
    {
     "name": "stdout",
     "output_type": "stream",
     "text": [
      "(1, 17)\n",
      "(1, 17)\n",
      "(1, 17)\n",
      "(?, 17)\n"
     ]
    }
   ],
   "source": [
    "# Construct model\n",
    "logits = neural_net_wrap(X)"
   ]
  },
  {
   "cell_type": "code",
   "execution_count": 93,
   "metadata": {},
   "outputs": [
    {
     "data": {
      "text/plain": [
       "TensorShape([Dimension(None), Dimension(1)])"
      ]
     },
     "execution_count": 93,
     "metadata": {},
     "output_type": "execute_result"
    }
   ],
   "source": [
    "Y.shape"
   ]
  },
  {
   "cell_type": "code",
   "execution_count": 94,
   "metadata": {},
   "outputs": [
    {
     "data": {
      "text/plain": [
       "TensorShape([Dimension(None), Dimension(1)])"
      ]
     },
     "execution_count": 94,
     "metadata": {},
     "output_type": "execute_result"
    }
   ],
   "source": [
    "logits.shape"
   ]
  },
  {
   "cell_type": "code",
   "execution_count": 95,
   "metadata": {},
   "outputs": [],
   "source": [
    "# Define loss and optimizer\n",
    "# loss_op = MSE\n",
    "loss_op = tf.reduce_mean(tf.square(tf.subtract(logits, Y)))\n",
    "optimizer = tf.train.GradientDescentOptimizer(learning_rate=learning_rate)\n",
    "train_op = optimizer.minimize(loss_op)\n",
    "\n",
    "# Evaluate model (with test logits, for dropout to be disabled)\n",
    "correct_pred = tf.less(tf.subtract(logits, Y), 0.1)\n",
    "accuracy = tf.reduce_mean(tf.cast(correct_pred, tf.float32))"
   ]
  },
  {
   "cell_type": "code",
   "execution_count": null,
   "metadata": {},
   "outputs": [],
   "source": []
  },
  {
   "cell_type": "code",
   "execution_count": 96,
   "metadata": {},
   "outputs": [],
   "source": [
    "# Initialize the variables (i.e. assign their default value)\n",
    "init = tf.global_variables_initializer()"
   ]
  },
  {
   "cell_type": "code",
   "execution_count": 99,
   "metadata": {
    "scrolled": true
   },
   "outputs": [
    {
     "name": "stdout",
     "output_type": "stream",
     "text": [
      "Start learning\n",
      "Step 1, Minibatch Loss= 0.0880, Training Accuracy= 0.953\n",
      "My weights [-0.26  3.04 -0.96 -0.5   0.17  0.24  1.49 -1.61 -0.63 -0.48  1.69  2.2\n",
      " -2.43 -0.67  0.72  0.02  0.54]\n",
      "Step 100, Minibatch Loss= 0.0820, Training Accuracy= 0.969\n",
      "My weights [-0.31  2.99 -0.94 -0.51  0.2   0.01  1.55 -1.57 -0.61 -0.39  1.77  2.3\n",
      " -2.33 -0.57  0.82  0.12  0.64]\n",
      "Step 200, Minibatch Loss= 0.0588, Training Accuracy= 0.953\n",
      "My weights [-0.37  2.94 -0.94 -0.52  0.21 -0.14  1.58 -1.56 -0.61 -0.35  1.8   2.36\n",
      " -2.27 -0.51  0.87  0.17  0.69]\n",
      "Step 300, Minibatch Loss= 0.0503, Training Accuracy= 0.984\n",
      "My weights [-0.42  2.89 -0.95 -0.53  0.2  -0.26  1.59 -1.56 -0.62 -0.33  1.81  2.38\n",
      " -2.25 -0.49  0.9   0.2   0.71]\n",
      "Step 400, Minibatch Loss= 0.0633, Training Accuracy= 0.953\n",
      "My weights [-0.45  2.86 -0.96 -0.55  0.19 -0.34  1.59 -1.56 -0.63 -0.32  1.81  2.39\n",
      " -2.24 -0.48  0.91  0.21  0.73]\n",
      "Step 500, Minibatch Loss= 0.0634, Training Accuracy= 0.969\n",
      "My weights [-0.48  2.83 -0.95 -0.55  0.2  -0.4   1.6  -1.56 -0.63 -0.31  1.82  2.41\n",
      " -2.22 -0.46  0.93  0.23  0.74]\n",
      "Step 600, Minibatch Loss= 0.0592, Training Accuracy= 0.969\n",
      "My weights [-0.51  2.8  -0.95 -0.55  0.2  -0.46  1.6  -1.56 -0.63 -0.3   1.83  2.43\n",
      " -2.21 -0.45  0.94  0.24  0.76]\n",
      "Step 700, Minibatch Loss= 0.0511, Training Accuracy= 0.406\n",
      "My weights [-0.53  2.78 -0.94 -0.55  0.2  -0.48  1.61 -1.56 -0.62 -0.29  1.84  2.44\n",
      " -2.19 -0.43  0.95  0.25  0.77]\n",
      "Step 800, Minibatch Loss= 0.0685, Training Accuracy= 0.953\n",
      "My weights [-0.54  2.78 -0.92 -0.53  0.21 -0.48  1.62 -1.55 -0.61 -0.27  1.86  2.45\n",
      " -2.18 -0.42  0.97  0.27  0.79]\n",
      "Step 900, Minibatch Loss= 0.0441, Training Accuracy= 0.969\n",
      "My weights [-0.55  2.76 -0.92 -0.52  0.22 -0.5   1.62 -1.54 -0.61 -0.27  1.86  2.46\n",
      " -2.17 -0.41  0.98  0.28  0.79]\n",
      "Step 1000, Minibatch Loss= 0.0945, Training Accuracy= 0.922\n",
      "My weights [-0.56  2.75 -0.91 -0.52  0.22 -0.52  1.63 -1.54 -0.61 -0.26  1.87  2.47\n",
      " -2.16 -0.4   0.98  0.28  0.8 ]\n",
      "Optimization Finished!\n",
      "Testing Accuracy: 0.038108107\n"
     ]
    }
   ],
   "source": [
    "with tf.Session() as sess:\n",
    "    writer = tf.summary.FileWriter(\"output\", sess.graph)\n",
    "\n",
    "    # Run the initializer\n",
    "    sess.run(init)\n",
    "\n",
    "    print(\"Start learning\")\n",
    "    for step in range(1, num_steps + 1):\n",
    "        batch_x, batch_y = next_batch(batch_size, train_vector, train_label)\n",
    "\n",
    "        # Run optimization op (backprop)\n",
    "        sess.run(train_op, feed_dict={X: batch_x, Y: batch_y})\n",
    "        if step % display_step == 0 or step == 1:\n",
    "            # Calculate batch loss and accuracy\n",
    "            preds, my_weights, loss, acc = sess.run([logits, w, loss_op, accuracy],\n",
    "                                                    feed_dict={X: batch_x, Y: batch_y})\n",
    "            \n",
    "            print(\"Step \" + str(step) + \", Minibatch Loss= \" + \\\n",
    "                  \"{:.4f}\".format(loss) + \", Training Accuracy= \" + \\\n",
    "                  \"{:.3f}\".format(acc))\n",
    "            # print(\"Predictions %s VS %s\" % (preds[0], batch_y[0]))\n",
    "            np.set_printoptions(precision=2)\n",
    "            print(\"My weights %s\" % np.mean(my_weights, axis=0))\n",
    "\n",
    "    print(\"Optimization Finished!\")\n",
    "\n",
    "    print(\"Testing Accuracy:\",\n",
    "          sess.run(accuracy, feed_dict={X: test_vector, Y: test_label}))\n",
    "    writer.close()\n"
   ]
  },
  {
   "cell_type": "code",
   "execution_count": null,
   "metadata": {},
   "outputs": [],
   "source": []
  },
  {
   "cell_type": "code",
   "execution_count": null,
   "metadata": {},
   "outputs": [],
   "source": []
  },
  {
   "cell_type": "code",
   "execution_count": null,
   "metadata": {},
   "outputs": [],
   "source": []
  },
  {
   "cell_type": "code",
   "execution_count": null,
   "metadata": {},
   "outputs": [],
   "source": []
  }
 ],
 "metadata": {
  "kernelspec": {
   "display_name": "Python 3",
   "language": "python",
   "name": "python3"
  },
  "language_info": {
   "codemirror_mode": {
    "name": "ipython",
    "version": 3
   },
   "file_extension": ".py",
   "mimetype": "text/x-python",
   "name": "python",
   "nbconvert_exporter": "python",
   "pygments_lexer": "ipython3",
   "version": "3.5.4"
  }
 },
 "nbformat": 4,
 "nbformat_minor": 1
}
