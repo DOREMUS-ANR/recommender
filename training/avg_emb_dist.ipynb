{
 "cells": [
  {
   "cell_type": "code",
   "execution_count": 15,
   "metadata": {},
   "outputs": [],
   "source": [
    "import numpy as np\n",
    "from sklearn.decomposition import PCA\n",
    "import doremus_data"
   ]
  },
  {
   "cell_type": "code",
   "execution_count": 2,
   "metadata": {},
   "outputs": [],
   "source": [
    "training_data_folder = '/Users/pasquale/git/recommender/training_data'\n",
    "emb_folder = '/Users/pasquale/git/music-embeddings'\n",
    "\n",
    "doremus_data.init(training_data_folder, emb_folder)"
   ]
  },
  {
   "cell_type": "code",
   "execution_count": 22,
   "metadata": {},
   "outputs": [],
   "source": [
    "def compute_avg_dist(what):\n",
    "    vectors, uris, lbs, head_dim, heads_print = doremus_data.get_embeddings(what)\n",
    "    pca = PCA(n_components=3)\n",
    "    pca.fit(vectors)\n",
    "    vectors = pca.transform(vectors)\n",
    "    \n",
    "    population = vectors.shape[0]\n",
    "    v100 = vectors[np.random.choice(population, min(100, population), replace=False), :]\n",
    "    v1000 = vectors[np.random.choice(population, min(1000, population), replace=False), :]\n",
    "\n",
    "    return np.std(vectors, axis=0), np.std(v100, axis=0), np.std(v1000, axis=0)"
   ]
  },
  {
   "cell_type": "code",
   "execution_count": 23,
   "metadata": {},
   "outputs": [
    {
     "data": {
      "text/plain": [
       "(array([0.72756785, 0.69850284, 0.52699083], dtype=float32),\n",
       " array([0.72756785, 0.69850284, 0.5269908 ], dtype=float32),\n",
       " array([0.72756785, 0.69850284, 0.52699083], dtype=float32))"
      ]
     },
     "execution_count": 23,
     "metadata": {},
     "output_type": "execute_result"
    }
   ],
   "source": [
    "compute_avg_dist('key')"
   ]
  },
  {
   "cell_type": "code",
   "execution_count": 44,
   "metadata": {},
   "outputs": [
    {
     "data": {
      "text/plain": [
       "(array([0.05943912, 0.0501507 , 0.04854014], dtype=float32),\n",
       " array([0.0646925 , 0.04076198, 0.05613792], dtype=float32),\n",
       " array([0.05909543, 0.0485954 , 0.0476206 ], dtype=float32))"
      ]
     },
     "execution_count": 44,
     "metadata": {},
     "output_type": "execute_result"
    }
   ],
   "source": [
    "compute_avg_dist('genre')"
   ]
  },
  {
   "cell_type": "code",
   "execution_count": 41,
   "metadata": {},
   "outputs": [
    {
     "data": {
      "text/plain": [
       "(array([0.03655686, 0.03464378, 0.03358964], dtype=float32),\n",
       " array([0.05754951, 0.0335228 , 0.04727567], dtype=float32),\n",
       " array([0.03331411, 0.03489405, 0.03467647], dtype=float32))"
      ]
     },
     "execution_count": 41,
     "metadata": {},
     "output_type": "execute_result"
    }
   ],
   "source": [
    "compute_avg_dist('mop')"
   ]
  },
  {
   "cell_type": "code",
   "execution_count": null,
   "metadata": {},
   "outputs": [],
   "source": []
  }
 ],
 "metadata": {
  "kernelspec": {
   "display_name": "Python 3",
   "language": "python",
   "name": "python3"
  },
  "language_info": {
   "codemirror_mode": {
    "name": "ipython",
    "version": 3
   },
   "file_extension": ".py",
   "mimetype": "text/x-python",
   "name": "python",
   "nbconvert_exporter": "python",
   "pygments_lexer": "ipython3",
   "version": "3.6.4"
  }
 },
 "nbformat": 4,
 "nbformat_minor": 2
}
