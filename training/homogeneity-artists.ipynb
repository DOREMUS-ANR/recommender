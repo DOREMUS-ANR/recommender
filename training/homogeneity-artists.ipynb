{
 "cells": [
  {
   "cell_type": "code",
   "execution_count": 1,
   "metadata": {},
   "outputs": [],
   "source": [
    "import math\n",
    "import os\n",
    "import random\n",
    "import numpy as np\n",
    "import pandas as pd\n",
    "import matplotlib.pyplot as plt\n",
    "from datetime import datetime\n",
    "from scipy import spatial\n",
    "from scipy import stats\n",
    "from sklearn.metrics.pairwise import cosine_similarity\n",
    "\n",
    "plt.rcParams[\"figure.figsize\"] = (20,5)\n",
    "\n",
    "import doremus_data"
   ]
  },
  {
   "cell_type": "markdown",
   "metadata": {
    "collapsed": true
   },
   "source": [
    "Load data."
   ]
  },
  {
   "cell_type": "code",
   "execution_count": 154,
   "metadata": {
    "scrolled": false
   },
   "outputs": [
    {
     "data": {
      "text/html": [
       "<div>\n",
       "<style>\n",
       "    .dataframe thead tr:only-child th {\n",
       "        text-align: right;\n",
       "    }\n",
       "\n",
       "    .dataframe thead th {\n",
       "        text-align: left;\n",
       "    }\n",
       "\n",
       "    .dataframe tbody tr th {\n",
       "        vertical-align: top;\n",
       "    }\n",
       "</style>\n",
       "<table border=\"1\" class=\"dataframe\">\n",
       "  <thead>\n",
       "    <tr style=\"text-align: right;\">\n",
       "      <th></th>\n",
       "      <th>0</th>\n",
       "      <th>1</th>\n",
       "      <th>2</th>\n",
       "      <th>3</th>\n",
       "      <th>4</th>\n",
       "      <th>5</th>\n",
       "      <th>6</th>\n",
       "    </tr>\n",
       "  </thead>\n",
       "  <tbody>\n",
       "    <tr>\n",
       "      <th>0</th>\n",
       "      <td>mop</td>\n",
       "      <td>birth_date</td>\n",
       "      <td>death_date</td>\n",
       "      <td>casting</td>\n",
       "      <td>function</td>\n",
       "      <td>genre</td>\n",
       "      <td>key</td>\n",
       "    </tr>\n",
       "    <tr>\n",
       "      <th>1</th>\n",
       "      <td>3</td>\n",
       "      <td>1</td>\n",
       "      <td>1</td>\n",
       "      <td>3</td>\n",
       "      <td>3</td>\n",
       "      <td>3</td>\n",
       "      <td>3</td>\n",
       "    </tr>\n",
       "  </tbody>\n",
       "</table>\n",
       "</div>"
      ],
      "text/plain": [
       "     0           1           2        3         4      5    6\n",
       "0  mop  birth_date  death_date  casting  function  genre  key\n",
       "1    3           1           1        3         3      3    3"
      ]
     },
     "execution_count": 154,
     "metadata": {},
     "output_type": "execute_result"
    }
   ],
   "source": [
    "training_data_folder = '/Users/pasquale/git/recommender/training_data'\n",
    "emb_folder = '/Users/pasquale/git/music-embeddings'\n",
    "\n",
    "doremus_data.init(training_data_folder, emb_folder)\n",
    "vectors, uris, lbs, heads, heads_print = doremus_data.get_embeddings('artist')\n",
    "pd.DataFrame(heads_print)"
   ]
  },
  {
   "cell_type": "code",
   "execution_count": 155,
   "metadata": {},
   "outputs": [],
   "source": [
    "all_training = doremus_data.all_training('artist')"
   ]
  },
  {
   "cell_type": "code",
   "execution_count": 319,
   "metadata": {},
   "outputs": [
    {
     "name": "stdout",
     "output_type": "stream",
     "text": [
      "pp_concerts\t\t414\n",
      "itema3_concerts\t\t1044\n",
      "web-radio\t\t2504\n",
      "spotify_pl\t\t2816\n"
     ]
    }
   ],
   "source": [
    "_l = 3\n",
    "\n",
    "for t in all_training:\n",
    "    temp_playlists = []\n",
    "    for pl in t['playlists']:\n",
    "        missing = [art not in uris for art in pl['data']]\n",
    "        pl['data'] = np.delete(pl['data'], np.where(missing))\n",
    "        if len(pl['data']) < 6 :\n",
    "            continue\n",
    "        for i in np.arange(len(pl['data']) - _l):\n",
    "            temp_playlists.append(pl['data'][i:i+_l])\n",
    "    t['groups'] = [{'name':str(index), 'data': pl} for index, pl in enumerate(temp_playlists)]\n",
    "    print('%s\\t\\t%d' % (t['name'], len(temp_playlists)))"
   ]
  },
  {
   "cell_type": "code",
   "execution_count": 320,
   "metadata": {},
   "outputs": [
    {
     "data": {
      "text/html": [
       "<div>\n",
       "<style>\n",
       "    .dataframe thead tr:only-child th {\n",
       "        text-align: right;\n",
       "    }\n",
       "\n",
       "    .dataframe thead th {\n",
       "        text-align: left;\n",
       "    }\n",
       "\n",
       "    .dataframe tbody tr th {\n",
       "        vertical-align: top;\n",
       "    }\n",
       "</style>\n",
       "<table border=\"1\" class=\"dataframe\">\n",
       "  <thead>\n",
       "    <tr style=\"text-align: right;\">\n",
       "      <th></th>\n",
       "      <th>playlists</th>\n",
       "      <th>tracks</th>\n",
       "      <th>tracks per pl</th>\n",
       "      <th>distinct tracks</th>\n",
       "    </tr>\n",
       "  </thead>\n",
       "  <tbody>\n",
       "    <tr>\n",
       "      <th>pp_concerts</th>\n",
       "      <td>223</td>\n",
       "      <td>1031</td>\n",
       "      <td>4.623</td>\n",
       "      <td>715</td>\n",
       "    </tr>\n",
       "    <tr>\n",
       "      <th>itema3_concerts</th>\n",
       "      <td>414</td>\n",
       "      <td>2324</td>\n",
       "      <td>5.614</td>\n",
       "      <td>1109</td>\n",
       "    </tr>\n",
       "    <tr>\n",
       "      <th>web-radio</th>\n",
       "      <td>155</td>\n",
       "      <td>2973</td>\n",
       "      <td>19.181</td>\n",
       "      <td>738</td>\n",
       "    </tr>\n",
       "    <tr>\n",
       "      <th>spotify_pl</th>\n",
       "      <td>70</td>\n",
       "      <td>3026</td>\n",
       "      <td>43.229</td>\n",
       "      <td>1012</td>\n",
       "    </tr>\n",
       "  </tbody>\n",
       "</table>\n",
       "</div>"
      ],
      "text/plain": [
       "                 playlists  tracks  tracks per pl   distinct tracks\n",
       "pp_concerts            223    1031          4.623               715\n",
       "itema3_concerts        414    2324          5.614              1109\n",
       "web-radio              155    2973         19.181               738\n",
       "spotify_pl              70    3026         43.229              1012"
      ]
     },
     "execution_count": 320,
     "metadata": {},
     "output_type": "execute_result"
    }
   ],
   "source": [
    "def training_stats(t):\n",
    "    num_playlists = len(t['playlists'])\n",
    "    num_track = [len(p['data']) for p in t['playlists']]\n",
    "    distinct = len(np.unique(np.concatenate([p['data'] for p in t['playlists']])))\n",
    "    return num_playlists, np.sum(num_track), np.mean(num_track), distinct\n",
    "\n",
    "names = [t['name'] for t in all_training]\n",
    "# for t in all_training:\n",
    "#     num_playlists, num_track = training_stats(t)\n",
    "#     print('%s\\t\\t%d' % (t['name'], num_playlists))\n",
    "pd.DataFrame([training_stats(t) for t in all_training], index=names, columns='playlists,tracks,tracks per pl, distinct tracks'.split(','))"
   ]
  },
  {
   "cell_type": "markdown",
   "metadata": {},
   "source": [
    "Data pre-processing"
   ]
  },
  {
   "cell_type": "code",
   "execution_count": 321,
   "metadata": {},
   "outputs": [],
   "source": [
    "negVector = -2. * np.ones_like(vectors[0], dtype=np.float32)\n",
    "\n",
    "def get_embs(x, masked=False):\n",
    "    # uri to embedding\n",
    "    v = vectors[np.argwhere(uris == x)]\n",
    "    if v.size == 0:\n",
    "        print(x)\n",
    "        result = np.array(negVector)\n",
    "    else:\n",
    "        result = np.array(v[0][0])\n",
    "    if masked:\n",
    "        result = np.ma.array(result, mask=result < -1.)\n",
    "    return result\n",
    "\n",
    "def get_label(x):\n",
    "    l =  lbs[np.argwhere(uris == x)]\n",
    "    return l[0][0] if l.size > 0 else 'none'"
   ]
  },
  {
   "cell_type": "code",
   "execution_count": 322,
   "metadata": {},
   "outputs": [],
   "source": [
    "np.set_printoptions(2)\n",
    "def compute_playlist_stats(playlist, to_print=False):\n",
    "    pl = playlist['data']\n",
    "    embeddings = np.array([get_embs(xi) for xi in pl])\n",
    "    emb_len = len(embeddings[0])\n",
    "    \n",
    "    ma_embeddings = np.ma.array(embeddings, mask=embeddings < -1.)\n",
    "\n",
    "    # I do not want to mean dimensions with single values\n",
    "    mul_values = np.where(np.sum(embeddings >= -1., axis=0) > 1, False, True)\n",
    "    mul_values = np.repeat([mul_values], len(pl), axis=0)\n",
    "    ma_embeddings = np.ma.array(ma_embeddings, mask=mul_values)\n",
    "\n",
    "    _mean = ma_embeddings.mean(axis=0)\n",
    "    _median = np.ma.median(ma_embeddings, axis=0)\n",
    "    _min = np.ma.min(ma_embeddings, axis=0)\n",
    "    _max = np.ma.max(ma_embeddings, axis=0)\n",
    "    _std = np.ma.std(ma_embeddings, axis=0)\n",
    "    \n",
    "    if to_print:\n",
    "        plt.errorbar(np.arange(len(_mean)), _mean, _std, fmt='ok',\n",
    "                     ecolor='black', elinewidth=1.5, lw=3, capsize=2)\n",
    "        plt.errorbar(np.arange(len(_mean)), _mean, [_mean - _min, _max - _mean],\n",
    "                 fmt='.k', ecolor='gray', elinewidth=0.5, lw=1, capsize=1)\n",
    "\n",
    "        plt.errorbar(np.arange(len(_mean)), _median, fmt='_g',  lw=1)\n",
    "\n",
    "        plt.xticks(range(len(heads)), heads, rotation=40)\n",
    "        plt.show()\n",
    "\n",
    "    return _mean, _median, _std"
   ]
  },
  {
   "cell_type": "markdown",
   "metadata": {},
   "source": [
    "Sample playlist"
   ]
  },
  {
   "cell_type": "code",
   "execution_count": 323,
   "metadata": {},
   "outputs": [
    {
     "name": "stdout",
     "output_type": "stream",
     "text": [
      "Base: spotify_pl\n",
      "Playlist: 1023\n"
     ]
    },
    {
     "name": "stderr",
     "output_type": "stream",
     "text": [
      "/Library/Frameworks/Python.framework/Versions/3.6/lib/python3.6/site-packages/numpy/core/numeric.py:492: UserWarning: Warning: converting a masked element to nan.\n",
      "  return array(a, dtype, copy=False, order=order)\n"
     ]
    },
    {
     "data": {
      "image/png": "[encoded data removed]",
      "text/plain": [
       "<matplotlib.figure.Figure at 0x118b3f198>"
      ]
     },
     "metadata": {},
     "output_type": "display_data"
    },
    {
     "name": "stdout",
     "output_type": "stream",
     "text": [
      "http://overture.doremus.org/artist/10c7575e-ab13-3912-9919-62c0d3003895\n",
      "Guillaume Dufay\n",
      "[-- -- -- 0.3333333432674408 0.403809517621994 -0.03878294304013252\n",
      " -0.002056780969724059 0.051901187747716904 0.023812396451830864\n",
      " -0.08446286618709564 0.15615615248680115 0.05157061666250229\n",
      " 0.0004409032699186355 -0.01764855533838272 -- -- --]\n",
      "http://overture.doremus.org/artist/7c8d4e8d-d824-3360-808b-f72e8c88525a\n",
      "Michael Praetorius\n",
      "[-- -- -- 0.49619048833847046 0.5438095331192017 -0.027335748076438904\n",
      " 0.04221932217478752 0.024901214987039566 0.02396547794342041\n",
      " -0.08529201149940491 0.15839993953704834 0.04896107316017151\n",
      " 0.019888639450073242 -0.017865069210529327 -- -- --]\n",
      "http://overture.doremus.org/artist/dd6c0b38-db65-3eec-b557-6724c3ff3cdf\n",
      "Antoine Brumel\n",
      "[-- -- -- -- -- -- -- -- 0.02396547794342041 -0.08529201149940491\n",
      " 0.15839993953704834 0.057798922061920166 0.08197244256734848\n",
      " 0.002718365518376231 -- -- --]\n"
     ]
    }
   ],
   "source": [
    "base = all_training[3]\n",
    "print('Base: ' + base['name'])\n",
    "pl = base['groups'][1023]\n",
    "print('Playlist: ' + pl['name'])\n",
    "\n",
    "m, md, s = compute_playlist_stats(pl, True)\n",
    "\n",
    "for d in pl['data']:\n",
    "    print(d.replace('data', 'overture'))\n",
    "    print(get_label(d)) \n",
    "    print(np.ma.array(get_embs(d), mask=get_embs(d) < -1.))"
   ]
  },
  {
   "cell_type": "code",
   "execution_count": null,
   "metadata": {},
   "outputs": [],
   "source": []
  },
  {
   "cell_type": "markdown",
   "metadata": {},
   "source": [
    "Standard Deviation among all playlists"
   ]
  },
  {
   "cell_type": "code",
   "execution_count": 324,
   "metadata": {},
   "outputs": [],
   "source": [
    "population_tot = np.sum([len(pl['data']) for tr in all_training for pl in tr['groups'] ])\n",
    "std = {}\n",
    "population = {}\n",
    "mean = {}\n",
    "stdw = {} # std within\n",
    "stdb = {} # std between\n",
    "                      \n",
    "for index, tr in enumerate(all_training):\n",
    "    name = tr['name']\n",
    "    std[name] = []\n",
    "    population[name] = []\n",
    "    mean[name] = []\n",
    "    for index, pl in enumerate(tr['groups']):\n",
    "        _mean, _median, _std = compute_playlist_stats(pl, False)\n",
    "        pop = len(pl['data'])\n",
    "        population[name].append(pop)\n",
    "        mean[name].append(_mean)\n",
    "        ww = (pop - 1) / (population_tot - 1)\n",
    "        std[name].append((_std**2)*ww)\n",
    "\n",
    "    stdw[name] = np.ma.sum(std[name], axis=0).filled(0)"
   ]
  },
  {
   "cell_type": "code",
   "execution_count": 325,
   "metadata": {},
   "outputs": [],
   "source": [
    "weighted_means = [np.ma.mean(mean[name], axis=0)*np.sum(population[name]) for name in mean]\n",
    "\n",
    "mtot = np.ma.sum(weighted_means, axis=0)\n",
    "mtot /= population_tot"
   ]
  },
  {
   "cell_type": "code",
   "execution_count": 326,
   "metadata": {},
   "outputs": [
    {
     "data": {
      "image/png": "[encoded data removed]",
      "text/plain": [
       "<matplotlib.figure.Figure at 0x11865ff98>"
      ]
     },
     "metadata": {},
     "output_type": "display_data"
    },
    {
     "name": "stdout",
     "output_type": "stream",
     "text": [
      "Standard Deviation: mean\n",
      "[2.23e-05 4.37e-06 1.27e-05 4.99e-04 4.48e-04 6.77e-05 2.27e-05 3.99e-05\n",
      " 5.58e-06 5.29e-06 1.36e-05 7.39e-06 4.99e-05 2.54e-05 1.85e-04 2.46e-04\n",
      " 2.43e-04]\n",
      "Standard Deviation: minimum\n",
      "[3.98e-06 1.06e-06 2.62e-06 5.98e-05 5.17e-05 2.14e-05 3.36e-06 4.09e-06\n",
      " 1.64e-06 3.51e-06 6.93e-06 1.01e-06 7.81e-06 3.64e-06 2.29e-05 4.14e-05\n",
      " 3.05e-05]\n",
      "Standard Deviation between: mean\n",
      "[3.02e-05 6.18e-06 1.88e-05 1.94e-03 1.52e-03 8.70e-05 3.33e-05 5.70e-05\n",
      " 5.71e-06 4.07e-06 1.31e-05 1.51e-05 1.12e-04 3.64e-05 2.14e-04 2.97e-04\n",
      " 2.92e-04]\n"
     ]
    }
   ],
   "source": [
    "fig, ax = plt.subplots(figsize=(20,5))\n",
    "width = 0.2\n",
    "pos = np.arange(len(vectors[0]))\n",
    "colors = ['#3668C9', '#DA3B21', '#FD9827', '#1D9424']\n",
    "\n",
    "\n",
    "for index, tr in enumerate(all_training):\n",
    "    name = tr['name']\n",
    "    \n",
    "    ww = np.array([pop / (population_tot - 1) for pop in population[name]])\n",
    "    mg = np.ma.power(np.ma.array(mean[name]).filled(mtot) - mtot, 2)\n",
    "    stdb[name] = np.ma.sum(mg * ww.reshape(len(ww),1), axis=0)\n",
    "\n",
    "    plt.bar([p + index * width for p in pos],\n",
    "        stdb[name],\n",
    "        width,\n",
    "        alpha=0.5,\n",
    "        color=colors[index],\n",
    "        label=name + ' (sdt between)')\n",
    "    \n",
    "    plt.bar([p + index * width for p in pos],\n",
    "        stdw[name] ,\n",
    "        width,\n",
    "        edgecolor='#000000',\n",
    "        alpha=.5,\n",
    "        color=colors[index],\n",
    "        label=name + ' (sdt within)')\n",
    "    \n",
    "\n",
    "    \n",
    "flat_std = [stdw[name] for name in stdw]\n",
    "mstd = np.ma.mean(flat_std, axis=0)\n",
    "sstd = np.ma.std(flat_std, axis=0)\n",
    "smin = np.ma.min(flat_std, axis=0)\n",
    "smax = np.ma.max(flat_std, axis=0)\n",
    "\n",
    "ax.plot(pos, mstd, '--', label='mean')\n",
    "\n",
    "plt.xticks(range(len(heads)), heads, rotation=40)\n",
    "ax.set_ylabel('Standard Deviation')\n",
    "ax.set_xticks([p + 1.5 * width for p in pos])\n",
    "\n",
    "handles, labels = ax.get_legend_handles_labels()\n",
    "ax.legend(handles, labels, loc='upper left')\n",
    "plt.show()\n",
    "\n",
    "print('Standard Deviation: mean' )\n",
    "print(np.array(mstd))\n",
    "print('Standard Deviation: minimum' )\n",
    "print(np.array(smin))\n",
    "\n",
    "flat_std_b = [stdb[name] for name in stdb]\n",
    "mstd_b = np.ma.mean(flat_std_b, axis=0)\n",
    "print('Standard Deviation between: mean' )\n",
    "print(np.array(mstd_b))"
   ]
  },
  {
   "cell_type": "markdown",
   "metadata": {},
   "source": [
    "#### Explaination\n",
    "\n",
    "When the standard deviation _within_ (black border) is smaller then the standard deviation _between_ (no border), this means that for that dimension the values are more homogeneous _inside_ the group than _outside_.\n",
    "If this difference in homogeneity inside/outside is important, I can state that this dimension drives the playlist generation."
   ]
  },
  {
   "cell_type": "markdown",
   "metadata": {},
   "source": [
    "### Graphs property by property"
   ]
  },
  {
   "cell_type": "code",
   "execution_count": 327,
   "metadata": {},
   "outputs": [
    {
     "data": {
      "image/png": "[encoded data removed]",
      "text/plain": [
       "<matplotlib.figure.Figure at 0x118631438>"
      ]
     },
     "metadata": {},
     "output_type": "display_data"
    },
    {
     "data": {
      "image/png": "[encoded data removed]",
      "text/plain": [
       "<matplotlib.figure.Figure at 0x118606dd8>"
      ]
     },
     "metadata": {},
     "output_type": "display_data"
    },
    {
     "data": {
      "image/png": "[encoded data removed]",
      "text/plain": [
       "<matplotlib.figure.Figure at 0x118703710>"
      ]
     },
     "metadata": {},
     "output_type": "display_data"
    },
    {
     "data": {
      "image/png": "[encoded data removed]",
      "text/plain": [
       "<matplotlib.figure.Figure at 0x117965438>"
      ]
     },
     "metadata": {},
     "output_type": "display_data"
    },
    {
     "data": {
      "image/png": "[encoded data removed]",
      "text/plain": [
       "<matplotlib.figure.Figure at 0x1179763c8>"
      ]
     },
     "metadata": {},
     "output_type": "display_data"
    },
    {
     "data": {
      "image/png": "[encoded data removed]",
      "text/plain": [
       "<matplotlib.figure.Figure at 0x11d5da6d8>"
      ]
     },
     "metadata": {},
     "output_type": "display_data"
    },
    {
     "data": {
      "image/png": "[encoded data removed]",
      "text/plain": [
       "<matplotlib.figure.Figure at 0x119dbae80>"
      ]
     },
     "metadata": {},
     "output_type": "display_data"
    }
   ],
   "source": [
    "def display_graph(feat):\n",
    "    pos = np.where(np.array(heads) == feat)[0]\n",
    "    pos_slide = np.arange(len(pos))\n",
    "    fig, ax = plt.subplots(figsize=(20,5))\n",
    "\n",
    "    for index, tr in enumerate(all_training):\n",
    "        name = tr['name']\n",
    "        plt.bar([p + index * width for p in pos_slide],\n",
    "            stdb[name][pos],\n",
    "            width,\n",
    "            alpha=0.5,\n",
    "            color=colors[index],\n",
    "            label=name + ' (sdt between)')\n",
    "\n",
    "        plt.bar([p + index * width for p in pos_slide],\n",
    "            stdw[name][pos] ,\n",
    "            width,\n",
    "            alpha=0.5,\n",
    "            edgecolor='#000000',\n",
    "            color=colors[index],\n",
    "            label=name + ' (sdt within)')\n",
    "\n",
    "    ax.plot(pos_slide, mstd[pos], '--', label='mean')\n",
    "\n",
    "    plt.xticks(pos_slide, np.array(heads)[pos], rotation=40)\n",
    "    ax.set_ylabel('Standard Deviation')\n",
    "    ax.set_xticks([p + 1.5 * width for p in pos_slide])\n",
    "#     handles, labels = ax.get_legend_handles_labels()\n",
    "#     ax.legend(handles, labels, loc='upper left')\n",
    "    plt.show()\n",
    "    \n",
    "    \n",
    "for _f in heads_print[0]:\n",
    "    display_graph(_f)"
   ]
  },
  {
   "cell_type": "markdown",
   "metadata": {},
   "source": [
    "For concerts"
   ]
  },
  {
   "cell_type": "code",
   "execution_count": 328,
   "metadata": {},
   "outputs": [
    {
     "name": "stdout",
     "output_type": "stream",
     "text": [
      "Standard Deviation: mean\n",
      "[7.56e-08 1.69e-08 4.53e-08 2.50e-07 2.46e-07 7.11e-08 1.27e-08 1.73e-08\n",
      " 8.84e-09 5.24e-09 2.42e-08 5.97e-09 4.89e-08 1.39e-08 2.34e-07 3.16e-07\n",
      " 2.67e-07]\n",
      "Standard Deviation: minimum\n",
      "[0.00e+00 0.00e+00 0.00e+00 0.00e+00 0.00e+00 1.49e-18 1.58e-17 2.49e-16\n",
      " 0.00e+00 0.00e+00 0.00e+00 0.00e+00 0.00e+00 0.00e+00 1.01e-12 9.83e-14\n",
      " 1.87e-14]\n",
      "Standard Deviation: maximum\n",
      "[2.46e-07 8.29e-08 2.86e-07 1.17e-05 1.17e-05 6.58e-07 2.30e-07 2.16e-07\n",
      " 2.30e-07 7.32e-07 7.96e-07 7.02e-08 3.29e-07 2.40e-07 3.29e-06 4.17e-06\n",
      " 2.74e-06]\n"
     ]
    }
   ],
   "source": [
    "flat_std = [s for name in ['pp_concerts','itema3_concerts'] for s in std[name]]\n",
    "mstd = np.ma.mean(flat_std, axis=0)\n",
    "sstd = np.ma.std(flat_std, axis=0)\n",
    "smin = np.ma.min(flat_std, axis=0)\n",
    "smax = np.ma.max(flat_std, axis=0)\n",
    "\n",
    "print('Standard Deviation: mean' )\n",
    "print(np.array(mstd))\n",
    "print('Standard Deviation: minimum' )\n",
    "print(np.array(smin))\n",
    "print('Standard Deviation: maximum' )\n",
    "print(np.array(smax))"
   ]
  },
  {
   "cell_type": "markdown",
   "metadata": {},
   "source": [
    "For playlists"
   ]
  },
  {
   "cell_type": "code",
   "execution_count": 329,
   "metadata": {},
   "outputs": [
    {
     "name": "stdout",
     "output_type": "stream",
     "text": [
      "Standard Deviation: mean\n",
      "[7.19e-08 1.37e-08 4.08e-08 3.20e-07 3.62e-07 4.15e-08 1.56e-08 2.81e-08\n",
      " 1.77e-09 2.54e-09 3.61e-09 4.16e-09 2.60e-08 1.59e-08 1.91e-07 2.52e-07\n",
      " 2.56e-07]\n",
      "Standard Deviation: minimum\n",
      "[0. 0. 0. 0. 0. 0. 0. 0. 0. 0. 0. 0. 0. 0. 0. 0. 0.]\n",
      "Standard Deviation: maximum\n",
      "[5.17e-07 1.32e-07 1.69e-07 9.69e-06 9.73e-06 9.46e-07 2.22e-07 3.84e-07\n",
      " 5.79e-07 1.65e-06 7.90e-07 1.02e-07 3.63e-07 2.29e-07 4.10e-06 5.30e-06\n",
      " 5.08e-06]\n"
     ]
    }
   ],
   "source": [
    "flat_std = [s for name in ['web-radio','spotify_pl'] for s in std[name]]\n",
    "mstd = np.ma.mean(flat_std, axis=0)\n",
    "sstd = np.ma.std(flat_std, axis=0)\n",
    "smin = np.ma.min(flat_std, axis=0)\n",
    "smax = np.ma.max(flat_std, axis=0)\n",
    "\n",
    "\n",
    "print('Standard Deviation: mean' )\n",
    "print(np.array(mstd))\n",
    "print('Standard Deviation: minimum' )\n",
    "print(np.array(smin))\n",
    "print('Standard Deviation: maximum' )\n",
    "print(np.array(smax))"
   ]
  },
  {
   "cell_type": "code",
   "execution_count": null,
   "metadata": {},
   "outputs": [],
   "source": []
  },
  {
   "cell_type": "markdown",
   "metadata": {},
   "source": [
    "# Computing gaps"
   ]
  },
  {
   "cell_type": "code",
   "execution_count": 330,
   "metadata": {},
   "outputs": [],
   "source": [
    "def get_std_gap(_chosen):\n",
    "#     return (stdb[_chosen] - stdw[_chosen]) / ((stdw[_chosen] + stdb[_chosen]) / 2 )\n",
    "    return  stdb[_chosen] / stdw[_chosen]\n",
    "\n",
    "def display_distances(_chosen):\n",
    "    better =(stdw[_chosen]<=stdb[_chosen]).tolist()\n",
    "    distance = get_std_gap(_chosen)\n",
    "\n",
    "    pd.set_option('precision', 3)\n",
    "    return pd.DataFrame([better, distance.tolist(), stdw[_chosen].tolist(), stdb[_chosen].tolist()], \n",
    "                        index=['homongeneous', '% rate', 'std within', 'std between'], columns=heads)"
   ]
  },
  {
   "cell_type": "code",
   "execution_count": 331,
   "metadata": {},
   "outputs": [
    {
     "data": {
      "text/html": [
       "<div>\n",
       "<style>\n",
       "    .dataframe thead tr:only-child th {\n",
       "        text-align: right;\n",
       "    }\n",
       "\n",
       "    .dataframe thead th {\n",
       "        text-align: left;\n",
       "    }\n",
       "\n",
       "    .dataframe tbody tr th {\n",
       "        vertical-align: top;\n",
       "    }\n",
       "</style>\n",
       "<table border=\"1\" class=\"dataframe\">\n",
       "  <thead>\n",
       "    <tr style=\"text-align: right;\">\n",
       "      <th></th>\n",
       "      <th>mop</th>\n",
       "      <th>mop</th>\n",
       "      <th>mop</th>\n",
       "      <th>birth_date</th>\n",
       "      <th>death_date</th>\n",
       "      <th>casting</th>\n",
       "      <th>casting</th>\n",
       "      <th>casting</th>\n",
       "      <th>function</th>\n",
       "      <th>function</th>\n",
       "      <th>function</th>\n",
       "      <th>genre</th>\n",
       "      <th>genre</th>\n",
       "      <th>genre</th>\n",
       "      <th>key</th>\n",
       "      <th>key</th>\n",
       "      <th>key</th>\n",
       "    </tr>\n",
       "  </thead>\n",
       "  <tbody>\n",
       "    <tr>\n",
       "      <th>homongeneous</th>\n",
       "      <td>True</td>\n",
       "      <td>True</td>\n",
       "      <td>True</td>\n",
       "      <td>True</td>\n",
       "      <td>True</td>\n",
       "      <td>True</td>\n",
       "      <td>True</td>\n",
       "      <td>True</td>\n",
       "      <td>False</td>\n",
       "      <td>False</td>\n",
       "      <td>False</td>\n",
       "      <td>True</td>\n",
       "      <td>True</td>\n",
       "      <td>True</td>\n",
       "      <td>True</td>\n",
       "      <td>True</td>\n",
       "      <td>True</td>\n",
       "    </tr>\n",
       "    <tr>\n",
       "      <th>% rate</th>\n",
       "      <td>1.53</td>\n",
       "      <td>1.58</td>\n",
       "      <td>1.59</td>\n",
       "      <td>3.9</td>\n",
       "      <td>3.63</td>\n",
       "      <td>1.45</td>\n",
       "      <td>1.42</td>\n",
       "      <td>1.35</td>\n",
       "      <td>0.739</td>\n",
       "      <td>0.748</td>\n",
       "      <td>0.755</td>\n",
       "      <td>1.36</td>\n",
       "      <td>1.63</td>\n",
       "      <td>1.37</td>\n",
       "      <td>1.25</td>\n",
       "      <td>1.09</td>\n",
       "      <td>1.17</td>\n",
       "    </tr>\n",
       "    <tr>\n",
       "      <th>std within</th>\n",
       "      <td>3.11e-05</td>\n",
       "      <td>6.14e-06</td>\n",
       "      <td>1.81e-05</td>\n",
       "      <td>0.000964</td>\n",
       "      <td>0.000832</td>\n",
       "      <td>0.000109</td>\n",
       "      <td>4.54e-05</td>\n",
       "      <td>7.99e-05</td>\n",
       "      <td>6.86e-06</td>\n",
       "      <td>6.94e-06</td>\n",
       "      <td>1.06e-05</td>\n",
       "      <td>1.09e-05</td>\n",
       "      <td>6.85e-05</td>\n",
       "      <td>4.38e-05</td>\n",
       "      <td>0.000316</td>\n",
       "      <td>0.000446</td>\n",
       "      <td>0.000454</td>\n",
       "    </tr>\n",
       "    <tr>\n",
       "      <th>std between</th>\n",
       "      <td>4.77e-05</td>\n",
       "      <td>9.67e-06</td>\n",
       "      <td>2.87e-05</td>\n",
       "      <td>0.00376</td>\n",
       "      <td>0.00302</td>\n",
       "      <td>0.000158</td>\n",
       "      <td>6.46e-05</td>\n",
       "      <td>0.000108</td>\n",
       "      <td>5.07e-06</td>\n",
       "      <td>5.19e-06</td>\n",
       "      <td>8.01e-06</td>\n",
       "      <td>1.48e-05</td>\n",
       "      <td>0.000112</td>\n",
       "      <td>6.02e-05</td>\n",
       "      <td>0.000395</td>\n",
       "      <td>0.000488</td>\n",
       "      <td>0.00053</td>\n",
       "    </tr>\n",
       "  </tbody>\n",
       "</table>\n",
       "</div>"
      ],
      "text/plain": [
       "                   mop       mop       mop birth_date death_date   casting  \\\n",
       "homongeneous      True      True      True       True       True      True   \n",
       "% rate            1.53      1.58      1.59        3.9       3.63      1.45   \n",
       "std within    3.11e-05  6.14e-06  1.81e-05   0.000964   0.000832  0.000109   \n",
       "std between   4.77e-05  9.67e-06  2.87e-05    0.00376    0.00302  0.000158   \n",
       "\n",
       "               casting   casting  function  function  function     genre  \\\n",
       "homongeneous      True      True     False     False     False      True   \n",
       "% rate            1.42      1.35     0.739     0.748     0.755      1.36   \n",
       "std within    4.54e-05  7.99e-05  6.86e-06  6.94e-06  1.06e-05  1.09e-05   \n",
       "std between   6.46e-05  0.000108  5.07e-06  5.19e-06  8.01e-06  1.48e-05   \n",
       "\n",
       "                 genre     genre       key       key       key  \n",
       "homongeneous      True      True      True      True      True  \n",
       "% rate            1.63      1.37      1.25      1.09      1.17  \n",
       "std within    6.85e-05  4.38e-05  0.000316  0.000446  0.000454  \n",
       "std between   0.000112  6.02e-05  0.000395  0.000488   0.00053  "
      ]
     },
     "execution_count": 331,
     "metadata": {},
     "output_type": "execute_result"
    }
   ],
   "source": [
    "display_distances('spotify_pl')"
   ]
  },
  {
   "cell_type": "code",
   "execution_count": 332,
   "metadata": {},
   "outputs": [
    {
     "data": {
      "text/html": [
       "<div>\n",
       "<style>\n",
       "    .dataframe thead tr:only-child th {\n",
       "        text-align: right;\n",
       "    }\n",
       "\n",
       "    .dataframe thead th {\n",
       "        text-align: left;\n",
       "    }\n",
       "\n",
       "    .dataframe tbody tr th {\n",
       "        vertical-align: top;\n",
       "    }\n",
       "</style>\n",
       "<table border=\"1\" class=\"dataframe\">\n",
       "  <thead>\n",
       "    <tr style=\"text-align: right;\">\n",
       "      <th></th>\n",
       "      <th>mop</th>\n",
       "      <th>mop</th>\n",
       "      <th>mop</th>\n",
       "      <th>birth_date</th>\n",
       "      <th>death_date</th>\n",
       "      <th>casting</th>\n",
       "      <th>casting</th>\n",
       "      <th>casting</th>\n",
       "      <th>function</th>\n",
       "      <th>function</th>\n",
       "      <th>function</th>\n",
       "      <th>genre</th>\n",
       "      <th>genre</th>\n",
       "      <th>genre</th>\n",
       "      <th>key</th>\n",
       "      <th>key</th>\n",
       "      <th>key</th>\n",
       "    </tr>\n",
       "  </thead>\n",
       "  <tbody>\n",
       "    <tr>\n",
       "      <th>homongeneous</th>\n",
       "      <td>True</td>\n",
       "      <td>True</td>\n",
       "      <td>True</td>\n",
       "      <td>True</td>\n",
       "      <td>True</td>\n",
       "      <td>False</td>\n",
       "      <td>True</td>\n",
       "      <td>True</td>\n",
       "      <td>False</td>\n",
       "      <td>False</td>\n",
       "      <td>False</td>\n",
       "      <td>True</td>\n",
       "      <td>True</td>\n",
       "      <td>True</td>\n",
       "      <td>False</td>\n",
       "      <td>True</td>\n",
       "      <td>True</td>\n",
       "    </tr>\n",
       "    <tr>\n",
       "      <th>% rate</th>\n",
       "      <td>1.25</td>\n",
       "      <td>1.3</td>\n",
       "      <td>1.4</td>\n",
       "      <td>2.9</td>\n",
       "      <td>2.09</td>\n",
       "      <td>0.958</td>\n",
       "      <td>1.33</td>\n",
       "      <td>1.31</td>\n",
       "      <td>0.816</td>\n",
       "      <td>0.735</td>\n",
       "      <td>0.787</td>\n",
       "      <td>1.47</td>\n",
       "      <td>1.05</td>\n",
       "      <td>1.15</td>\n",
       "      <td>1</td>\n",
       "      <td>1.16</td>\n",
       "      <td>1.05</td>\n",
       "    </tr>\n",
       "    <tr>\n",
       "      <th>std within</th>\n",
       "      <td>4.41e-05</td>\n",
       "      <td>8.22e-06</td>\n",
       "      <td>2.45e-05</td>\n",
       "      <td>0.000729</td>\n",
       "      <td>0.000711</td>\n",
       "      <td>0.000106</td>\n",
       "      <td>3.55e-05</td>\n",
       "      <td>6.59e-05</td>\n",
       "      <td>2.58e-06</td>\n",
       "      <td>6.57e-06</td>\n",
       "      <td>8.61e-06</td>\n",
       "      <td>1.1e-05</td>\n",
       "      <td>6.84e-05</td>\n",
       "      <td>3.99e-05</td>\n",
       "      <td>0.000309</td>\n",
       "      <td>0.000383</td>\n",
       "      <td>0.000386</td>\n",
       "    </tr>\n",
       "    <tr>\n",
       "      <th>std between</th>\n",
       "      <td>5.51e-05</td>\n",
       "      <td>1.07e-05</td>\n",
       "      <td>3.44e-05</td>\n",
       "      <td>0.00212</td>\n",
       "      <td>0.00149</td>\n",
       "      <td>0.000101</td>\n",
       "      <td>4.74e-05</td>\n",
       "      <td>8.61e-05</td>\n",
       "      <td>2.11e-06</td>\n",
       "      <td>4.83e-06</td>\n",
       "      <td>6.77e-06</td>\n",
       "      <td>1.61e-05</td>\n",
       "      <td>7.17e-05</td>\n",
       "      <td>4.58e-05</td>\n",
       "      <td>0.000309</td>\n",
       "      <td>0.000445</td>\n",
       "      <td>0.000404</td>\n",
       "    </tr>\n",
       "  </tbody>\n",
       "</table>\n",
       "</div>"
      ],
      "text/plain": [
       "                   mop       mop       mop birth_date death_date   casting  \\\n",
       "homongeneous      True      True      True       True       True     False   \n",
       "% rate            1.25       1.3       1.4        2.9       2.09     0.958   \n",
       "std within    4.41e-05  8.22e-06  2.45e-05   0.000729   0.000711  0.000106   \n",
       "std between   5.51e-05  1.07e-05  3.44e-05    0.00212    0.00149  0.000101   \n",
       "\n",
       "               casting   casting  function  function  function     genre  \\\n",
       "homongeneous      True      True     False     False     False      True   \n",
       "% rate            1.33      1.31     0.816     0.735     0.787      1.47   \n",
       "std within    3.55e-05  6.59e-05  2.58e-06  6.57e-06  8.61e-06   1.1e-05   \n",
       "std between   4.74e-05  8.61e-05  2.11e-06  4.83e-06  6.77e-06  1.61e-05   \n",
       "\n",
       "                 genre     genre       key       key       key  \n",
       "homongeneous      True      True     False      True      True  \n",
       "% rate            1.05      1.15         1      1.16      1.05  \n",
       "std within    6.84e-05  3.99e-05  0.000309  0.000383  0.000386  \n",
       "std between   7.17e-05  4.58e-05  0.000309  0.000445  0.000404  "
      ]
     },
     "execution_count": 332,
     "metadata": {},
     "output_type": "execute_result"
    }
   ],
   "source": [
    "display_distances('web-radio')"
   ]
  },
  {
   "cell_type": "code",
   "execution_count": 333,
   "metadata": {},
   "outputs": [
    {
     "data": {
      "text/html": [
       "<div>\n",
       "<style>\n",
       "    .dataframe thead tr:only-child th {\n",
       "        text-align: right;\n",
       "    }\n",
       "\n",
       "    .dataframe thead th {\n",
       "        text-align: left;\n",
       "    }\n",
       "\n",
       "    .dataframe tbody tr th {\n",
       "        vertical-align: top;\n",
       "    }\n",
       "</style>\n",
       "<table border=\"1\" class=\"dataframe\">\n",
       "  <thead>\n",
       "    <tr style=\"text-align: right;\">\n",
       "      <th></th>\n",
       "      <th>mop</th>\n",
       "      <th>mop</th>\n",
       "      <th>mop</th>\n",
       "      <th>birth_date</th>\n",
       "      <th>death_date</th>\n",
       "      <th>casting</th>\n",
       "      <th>casting</th>\n",
       "      <th>casting</th>\n",
       "      <th>function</th>\n",
       "      <th>function</th>\n",
       "      <th>function</th>\n",
       "      <th>genre</th>\n",
       "      <th>genre</th>\n",
       "      <th>genre</th>\n",
       "      <th>key</th>\n",
       "      <th>key</th>\n",
       "      <th>key</th>\n",
       "    </tr>\n",
       "  </thead>\n",
       "  <tbody>\n",
       "    <tr>\n",
       "      <th>homongeneous</th>\n",
       "      <td>True</td>\n",
       "      <td>True</td>\n",
       "      <td>True</td>\n",
       "      <td>True</td>\n",
       "      <td>True</td>\n",
       "      <td>True</td>\n",
       "      <td>True</td>\n",
       "      <td>True</td>\n",
       "      <td>True</td>\n",
       "      <td>False</td>\n",
       "      <td>True</td>\n",
       "      <td>True</td>\n",
       "      <td>True</td>\n",
       "      <td>True</td>\n",
       "      <td>True</td>\n",
       "      <td>True</td>\n",
       "      <td>True</td>\n",
       "    </tr>\n",
       "    <tr>\n",
       "      <th>% rate</th>\n",
       "      <td>1.34</td>\n",
       "      <td>1.71</td>\n",
       "      <td>1.74</td>\n",
       "      <td>8.66</td>\n",
       "      <td>7.04</td>\n",
       "      <td>1.95</td>\n",
       "      <td>1.76</td>\n",
       "      <td>1.97</td>\n",
       "      <td>1.2</td>\n",
       "      <td>0.816</td>\n",
       "      <td>1.17</td>\n",
       "      <td>2.01</td>\n",
       "      <td>1.31</td>\n",
       "      <td>2.31</td>\n",
       "      <td>1.55</td>\n",
       "      <td>1.97</td>\n",
       "      <td>2</td>\n",
       "    </tr>\n",
       "    <tr>\n",
       "      <th>std within</th>\n",
       "      <td>3.98e-06</td>\n",
       "      <td>1.06e-06</td>\n",
       "      <td>2.62e-06</td>\n",
       "      <td>5.98e-05</td>\n",
       "      <td>5.17e-05</td>\n",
       "      <td>2.14e-05</td>\n",
       "      <td>3.36e-06</td>\n",
       "      <td>4.09e-06</td>\n",
       "      <td>1.64e-06</td>\n",
       "      <td>4.13e-06</td>\n",
       "      <td>6.93e-06</td>\n",
       "      <td>1.01e-06</td>\n",
       "      <td>7.81e-06</td>\n",
       "      <td>3.64e-06</td>\n",
       "      <td>2.29e-05</td>\n",
       "      <td>4.14e-05</td>\n",
       "      <td>3.05e-05</td>\n",
       "    </tr>\n",
       "    <tr>\n",
       "      <th>std between</th>\n",
       "      <td>5.34e-06</td>\n",
       "      <td>1.81e-06</td>\n",
       "      <td>4.55e-06</td>\n",
       "      <td>0.000518</td>\n",
       "      <td>0.000363</td>\n",
       "      <td>4.18e-05</td>\n",
       "      <td>5.9e-06</td>\n",
       "      <td>8.04e-06</td>\n",
       "      <td>1.97e-06</td>\n",
       "      <td>3.37e-06</td>\n",
       "      <td>8.11e-06</td>\n",
       "      <td>2.02e-06</td>\n",
       "      <td>1.03e-05</td>\n",
       "      <td>8.43e-06</td>\n",
       "      <td>3.54e-05</td>\n",
       "      <td>8.15e-05</td>\n",
       "      <td>6.09e-05</td>\n",
       "    </tr>\n",
       "  </tbody>\n",
       "</table>\n",
       "</div>"
      ],
      "text/plain": [
       "                   mop       mop       mop birth_date death_date   casting  \\\n",
       "homongeneous      True      True      True       True       True      True   \n",
       "% rate            1.34      1.71      1.74       8.66       7.04      1.95   \n",
       "std within    3.98e-06  1.06e-06  2.62e-06   5.98e-05   5.17e-05  2.14e-05   \n",
       "std between   5.34e-06  1.81e-06  4.55e-06   0.000518   0.000363  4.18e-05   \n",
       "\n",
       "               casting   casting  function  function  function     genre  \\\n",
       "homongeneous      True      True      True     False      True      True   \n",
       "% rate            1.76      1.97       1.2     0.816      1.17      2.01   \n",
       "std within    3.36e-06  4.09e-06  1.64e-06  4.13e-06  6.93e-06  1.01e-06   \n",
       "std between    5.9e-06  8.04e-06  1.97e-06  3.37e-06  8.11e-06  2.02e-06   \n",
       "\n",
       "                 genre     genre       key       key       key  \n",
       "homongeneous      True      True      True      True      True  \n",
       "% rate            1.31      2.31      1.55      1.97         2  \n",
       "std within    7.81e-06  3.64e-06  2.29e-05  4.14e-05  3.05e-05  \n",
       "std between   1.03e-05  8.43e-06  3.54e-05  8.15e-05  6.09e-05  "
      ]
     },
     "execution_count": 333,
     "metadata": {},
     "output_type": "execute_result"
    }
   ],
   "source": [
    "display_distances('pp_concerts')"
   ]
  },
  {
   "cell_type": "code",
   "execution_count": 334,
   "metadata": {},
   "outputs": [
    {
     "data": {
      "text/html": [
       "<div>\n",
       "<style>\n",
       "    .dataframe thead tr:only-child th {\n",
       "        text-align: right;\n",
       "    }\n",
       "\n",
       "    .dataframe thead th {\n",
       "        text-align: left;\n",
       "    }\n",
       "\n",
       "    .dataframe tbody tr th {\n",
       "        vertical-align: top;\n",
       "    }\n",
       "</style>\n",
       "<table border=\"1\" class=\"dataframe\">\n",
       "  <thead>\n",
       "    <tr style=\"text-align: right;\">\n",
       "      <th></th>\n",
       "      <th>mop</th>\n",
       "      <th>mop</th>\n",
       "      <th>mop</th>\n",
       "      <th>birth_date</th>\n",
       "      <th>death_date</th>\n",
       "      <th>casting</th>\n",
       "      <th>casting</th>\n",
       "      <th>casting</th>\n",
       "      <th>function</th>\n",
       "      <th>function</th>\n",
       "      <th>function</th>\n",
       "      <th>genre</th>\n",
       "      <th>genre</th>\n",
       "      <th>genre</th>\n",
       "      <th>key</th>\n",
       "      <th>key</th>\n",
       "      <th>key</th>\n",
       "    </tr>\n",
       "  </thead>\n",
       "  <tbody>\n",
       "    <tr>\n",
       "      <th>homongeneous</th>\n",
       "      <td>True</td>\n",
       "      <td>True</td>\n",
       "      <td>True</td>\n",
       "      <td>True</td>\n",
       "      <td>True</td>\n",
       "      <td>True</td>\n",
       "      <td>True</td>\n",
       "      <td>True</td>\n",
       "      <td>True</td>\n",
       "      <td>False</td>\n",
       "      <td>True</td>\n",
       "      <td>True</td>\n",
       "      <td>True</td>\n",
       "      <td>True</td>\n",
       "      <td>True</td>\n",
       "      <td>True</td>\n",
       "      <td>True</td>\n",
       "    </tr>\n",
       "    <tr>\n",
       "      <th>% rate</th>\n",
       "      <td>1.29</td>\n",
       "      <td>1.26</td>\n",
       "      <td>1.32</td>\n",
       "      <td>5.65</td>\n",
       "      <td>6.07</td>\n",
       "      <td>1.35</td>\n",
       "      <td>2.29</td>\n",
       "      <td>2.73</td>\n",
       "      <td>1.22</td>\n",
       "      <td>0.826</td>\n",
       "      <td>1.04</td>\n",
       "      <td>4.15</td>\n",
       "      <td>4.65</td>\n",
       "      <td>2.21</td>\n",
       "      <td>1.25</td>\n",
       "      <td>1.5</td>\n",
       "      <td>1.69</td>\n",
       "    </tr>\n",
       "    <tr>\n",
       "      <th>std within</th>\n",
       "      <td>9.92e-06</td>\n",
       "      <td>2.05e-06</td>\n",
       "      <td>5.71e-06</td>\n",
       "      <td>0.000241</td>\n",
       "      <td>0.000197</td>\n",
       "      <td>3.46e-05</td>\n",
       "      <td>6.68e-06</td>\n",
       "      <td>9.57e-06</td>\n",
       "      <td>1.12e-05</td>\n",
       "      <td>3.51e-06</td>\n",
       "      <td>2.84e-05</td>\n",
       "      <td>6.64e-06</td>\n",
       "      <td>5.48e-05</td>\n",
       "      <td>1.41e-05</td>\n",
       "      <td>9.33e-05</td>\n",
       "      <td>0.000116</td>\n",
       "      <td>0.000102</td>\n",
       "    </tr>\n",
       "    <tr>\n",
       "      <th>std between</th>\n",
       "      <td>1.28e-05</td>\n",
       "      <td>2.58e-06</td>\n",
       "      <td>7.55e-06</td>\n",
       "      <td>0.00136</td>\n",
       "      <td>0.00119</td>\n",
       "      <td>4.66e-05</td>\n",
       "      <td>1.53e-05</td>\n",
       "      <td>2.62e-05</td>\n",
       "      <td>1.37e-05</td>\n",
       "      <td>2.9e-06</td>\n",
       "      <td>2.96e-05</td>\n",
       "      <td>2.76e-05</td>\n",
       "      <td>0.000255</td>\n",
       "      <td>3.12e-05</td>\n",
       "      <td>0.000116</td>\n",
       "      <td>0.000173</td>\n",
       "      <td>0.000173</td>\n",
       "    </tr>\n",
       "  </tbody>\n",
       "</table>\n",
       "</div>"
      ],
      "text/plain": [
       "                   mop       mop       mop birth_date death_date   casting  \\\n",
       "homongeneous      True      True      True       True       True      True   \n",
       "% rate            1.29      1.26      1.32       5.65       6.07      1.35   \n",
       "std within    9.92e-06  2.05e-06  5.71e-06   0.000241   0.000197  3.46e-05   \n",
       "std between   1.28e-05  2.58e-06  7.55e-06    0.00136    0.00119  4.66e-05   \n",
       "\n",
       "               casting   casting  function  function  function     genre  \\\n",
       "homongeneous      True      True      True     False      True      True   \n",
       "% rate            2.29      2.73      1.22     0.826      1.04      4.15   \n",
       "std within    6.68e-06  9.57e-06  1.12e-05  3.51e-06  2.84e-05  6.64e-06   \n",
       "std between   1.53e-05  2.62e-05  1.37e-05   2.9e-06  2.96e-05  2.76e-05   \n",
       "\n",
       "                 genre     genre       key       key       key  \n",
       "homongeneous      True      True      True      True      True  \n",
       "% rate            4.65      2.21      1.25       1.5      1.69  \n",
       "std within    5.48e-05  1.41e-05  9.33e-05  0.000116  0.000102  \n",
       "std between   0.000255  3.12e-05  0.000116  0.000173  0.000173  "
      ]
     },
     "execution_count": 334,
     "metadata": {},
     "output_type": "execute_result"
    }
   ],
   "source": [
    "display_distances('itema3_concerts')"
   ]
  },
  {
   "cell_type": "markdown",
   "metadata": {},
   "source": [
    "2 different tendences between concerts and playlists.\n",
    "\n",
    "In **concerts** all the dimensions (where they exist) are more homogeneous. This is true in particular for the **casting** (not to be used instead for playlists), and this is reasonable.\n",
    "\n",
    "The 1st dimension of **composer** is also one to take in account.\n",
    "In Itema3 this is not visible probably because of bad interlinking of artists.\n",
    "\n",
    "For the keys, the values are not so relevant and not stable in positiveness.\n",
    "\n",
    "Always positive (in **bold** the largely ones):\n",
    "- **composer[0]**\n",
    "- composer[1,2]\n",
    "- **genre[2]**\n",
    "- composition_date\n",
    "- key[2]\n",
    "- casting[2]\n",
    "\n",
    "Positive only in concerts:\n",
    "- **casting[all]**\n",
    "- **genre[all]**\n",
    "- **composition_date**\n",
    "\n"
   ]
  },
  {
   "cell_type": "markdown",
   "metadata": {},
   "source": [
    "----\n",
    "# Tuning the recommender system"
   ]
  },
  {
   "cell_type": "code",
   "execution_count": 335,
   "metadata": {},
   "outputs": [
    {
     "data": {
      "text/html": [
       "<div>\n",
       "<style>\n",
       "    .dataframe thead tr:only-child th {\n",
       "        text-align: right;\n",
       "    }\n",
       "\n",
       "    .dataframe thead th {\n",
       "        text-align: left;\n",
       "    }\n",
       "\n",
       "    .dataframe tbody tr th {\n",
       "        vertical-align: top;\n",
       "    }\n",
       "</style>\n",
       "<table border=\"1\" class=\"dataframe\">\n",
       "  <thead>\n",
       "    <tr style=\"text-align: right;\">\n",
       "      <th></th>\n",
       "      <th>mop</th>\n",
       "      <th>mop</th>\n",
       "      <th>mop</th>\n",
       "      <th>birth_date</th>\n",
       "      <th>death_date</th>\n",
       "      <th>casting</th>\n",
       "      <th>casting</th>\n",
       "      <th>casting</th>\n",
       "      <th>function</th>\n",
       "      <th>function</th>\n",
       "      <th>function</th>\n",
       "      <th>genre</th>\n",
       "      <th>genre</th>\n",
       "      <th>genre</th>\n",
       "      <th>key</th>\n",
       "      <th>key</th>\n",
       "      <th>key</th>\n",
       "    </tr>\n",
       "  </thead>\n",
       "  <tbody>\n",
       "    <tr>\n",
       "      <th>0</th>\n",
       "      <td>1.535</td>\n",
       "      <td>1.576</td>\n",
       "      <td>1.588</td>\n",
       "      <td>3.899</td>\n",
       "      <td>3.631</td>\n",
       "      <td>1.45</td>\n",
       "      <td>1.422</td>\n",
       "      <td>0.6</td>\n",
       "      <td>0.6</td>\n",
       "      <td>0.6</td>\n",
       "      <td>0.6</td>\n",
       "      <td>0.6</td>\n",
       "      <td>1.629</td>\n",
       "      <td>0.6</td>\n",
       "      <td>0.6</td>\n",
       "      <td>0.6</td>\n",
       "      <td>0.6</td>\n",
       "    </tr>\n",
       "  </tbody>\n",
       "</table>\n",
       "</div>"
      ],
      "text/plain": [
       "     mop    mop    mop  birth_date  death_date  casting  casting  casting  \\\n",
       "0  1.535  1.576  1.588       3.899       3.631     1.45    1.422      0.6   \n",
       "\n",
       "   function  function  function  genre  genre  genre  key  key  key  \n",
       "0       0.6       0.6       0.6    0.6  1.629    0.6  0.6  0.6  0.6  "
      ]
     },
     "execution_count": 335,
     "metadata": {},
     "output_type": "execute_result"
    }
   ],
   "source": [
    "def compute_weights(threshold=1.4, fallback = .6, datasets =['spotify_pl']):\n",
    "    dist = [get_std_gap(_chosen) for _chosen in datasets]\n",
    "    dist = np.ma.mean(dist, axis=0).filled()\n",
    "\n",
    "    return np.where(dist > threshold, dist, fallback)\n",
    "\n",
    "w = compute_weights()\n",
    "pd.DataFrame([w], columns=heads)"
   ]
  },
  {
   "cell_type": "code",
   "execution_count": 336,
   "metadata": {},
   "outputs": [],
   "source": [
    "def get_pool_from_datasets(datasets=['web-radio','spotify_pl']):\n",
    "    all_song = []\n",
    "    for t in all_training:\n",
    "        if t['name'] in datasets:\n",
    "            for pl in t['playlists']:\n",
    "                missing = [art not in uris for art in pl['data']]\n",
    "                pl['data'] = np.delete(pl['data'], np.where(missing))\n",
    "                all_song = np.concatenate([all_song, pl['data']])\n",
    "    all_song = np.unique(all_song)\n",
    "    print('Pool size: %d' % len(all_song))\n",
    "    all_song_vec = np.ma.array([get_embs(xi, masked=True) for xi in all_song])\n",
    "#     all_song_vec = np.ma.array(all_song_vec, mask=all_song_vec < -1.)\n",
    "    all_song_labels = np.array([get_label(xi) for xi in all_song])\n",
    "    return all_song, all_song_vec, all_song_labels"
   ]
  },
  {
   "cell_type": "code",
   "execution_count": 337,
   "metadata": {},
   "outputs": [],
   "source": [
    "def computeSimilarity(seed, target, w):\n",
    "    b1 = np.where(seed.mask==True)[0]\n",
    "    b2 = np.where(target.mask==True)[0]\n",
    "    bad_pos = np.unique(np.concatenate([b1, b2]))\n",
    "\n",
    "    _seed = np.delete(seed, bad_pos, axis=0)\n",
    "    _target = np.delete(target, bad_pos, axis=0)\n",
    "    _w = np.delete(w, bad_pos, axis=0)\n",
    "\n",
    "    if len(_seed) == 0:\n",
    "        return 0\n",
    "\n",
    "    # distance\n",
    "    d = weightedL2(_seed, _target, _w)\n",
    "\n",
    "    # how much info I am not finding\n",
    "    penalty = len([x for x in b2 if x not in b1]) / len(seed)\n",
    "\n",
    "    # score\n",
    "    s = (max_distance - d) / max_distance\n",
    "    return s * (1 - penalty)\n",
    "\n",
    "\n",
    "def weightedL2(a, b, w=1):\n",
    "#     return distance.cosine(a,b)\n",
    "    # https://stackoverflow.com/a/8861999/1218213\n",
    "    q = a - b\n",
    "    return np.sqrt((w * q * q).sum())\n",
    "#     return (w * q * q).sum()\n",
    "\n",
    "\n",
    "_ones = np.ones(vectors[0].shape)\n",
    "max_distance = weightedL2(_ones,-_ones, _ones)"
   ]
  },
  {
   "cell_type": "code",
   "execution_count": 338,
   "metadata": {},
   "outputs": [
    {
     "name": "stdout",
     "output_type": "stream",
     "text": [
      "Pool size: 1396\n"
     ]
    }
   ],
   "source": [
    "def find(seed, n=4, w=None, _print=True, pool=get_pool_from_datasets()):\n",
    "    global max_distance\n",
    "    \n",
    "    _uris =  pool[0]\n",
    "    _vectors = pool[1]\n",
    "    _lbs = pool[2]\n",
    "\n",
    "    \n",
    "    f_length = len(seed)\n",
    "    \n",
    "    _seed = seed\n",
    "    \n",
    "    if w is None:\n",
    "        w = np.ones(len(_seed))\n",
    "        w = w / w.sum()\n",
    "    else:\n",
    "        w = np.array(w)\n",
    "#         temp = [np.ones(f_length[k]) * w[k] for k in range(len(w))]\n",
    "#         w = np.array([item for sublist in temp for item in sublist])\n",
    "\n",
    "    max_distance = weightedL2(np.ones(len(_seed)), np.ones(len(_seed)) * -1, w)\n",
    "\n",
    "    if _print==True: print('computing scores')\n",
    "    scores = np.array([[computeSimilarity(_seed, x.astype(float), w) for x in _vectors]])\n",
    "    full = np.concatenate([_uris.reshape(len(_uris), 1), scores.transpose(), _lbs.reshape(len(_uris), 1)], axis=1)\n",
    "\n",
    "    # remove the seed from the list\n",
    "#     full = np.delete(full, pos, 0)\n",
    "\n",
    "    # sort\n",
    "    full_sorted = sorted(full, key=lambda _x: float(_x[1]), reverse=True)\n",
    "    most_similar = full_sorted[:n]\n",
    "    if _print==True: print('\\n'.join('%s %s\\n%s' % (f[0], f[1], f[2]) for f in most_similar))\n",
    "\n",
    "    return [{'uri': _a[0], 'score': float(_a[1])} for _a in most_similar]"
   ]
  },
  {
   "cell_type": "code",
   "execution_count": 360,
   "metadata": {},
   "outputs": [
    {
     "name": "stdout",
     "output_type": "stream",
     "text": [
      "computing scores\n",
      "http://data.doremus.org/artist/b34f92ab-ad86-361b-a8b8-5c3a4db784d0 1.0\n",
      "Antonio Vivaldi\n",
      "http://data.doremus.org/artist/a82b0c56-ccdf-31b6-a8b4-ad065f3405e5 0.9964103762560376\n",
      "Tomaso Albinoni\n",
      "http://data.doremus.org/artist/aa9564af-3ccd-36dc-8112-c6f0a67dfdbe 0.9951215281279058\n",
      "Francesco Geminiani\n",
      "http://data.doremus.org/artist/d07ec69a-da7c-36ab-a098-44c0cdc9741d 0.9946926919629068\n",
      "Alessandro Scarlatti\n"
     ]
    },
    {
     "data": {
      "text/plain": [
       "[{'score': 1.0,\n",
       "  'uri': 'http://data.doremus.org/artist/b34f92ab-ad86-361b-a8b8-5c3a4db784d0'},\n",
       " {'score': 0.9964103762560376,\n",
       "  'uri': 'http://data.doremus.org/artist/a82b0c56-ccdf-31b6-a8b4-ad065f3405e5'},\n",
       " {'score': 0.9951215281279058,\n",
       "  'uri': 'http://data.doremus.org/artist/aa9564af-3ccd-36dc-8112-c6f0a67dfdbe'},\n",
       " {'score': 0.9946926919629068,\n",
       "  'uri': 'http://data.doremus.org/artist/d07ec69a-da7c-36ab-a098-44c0cdc9741d'}]"
      ]
     },
     "execution_count": 360,
     "metadata": {},
     "output_type": "execute_result"
    }
   ],
   "source": [
    "find(get_embs('http://data.doremus.org/artist/b34f92ab-ad86-361b-a8b8-5c3a4db784d0', masked=True))"
   ]
  },
  {
   "cell_type": "code",
   "execution_count": 361,
   "metadata": {},
   "outputs": [
    {
     "name": "stdout",
     "output_type": "stream",
     "text": [
      "computing scores\n",
      "http://data.doremus.org/artist/b82c0771-5280-39af-ad2e-8ace2f4ebda3 1.0\n",
      "Giuseppe Verdi\n",
      "http://data.doremus.org/artist/e432aa13-207f-34f8-9792-d1d15fcd4711 0.9911241891983096\n",
      "Georges Bizet\n",
      "http://data.doremus.org/artist/08499468-c1b5-35d2-958f-134bc11c9c7a 0.9909344312170096\n",
      "Ruggero Leoncavallo\n",
      "http://data.doremus.org/artist/95bb7ab4-648d-3d95-beae-4dfc17530aec 0.9904420982664395\n",
      "Benjamin Godard\n"
     ]
    },
    {
     "data": {
      "text/plain": [
       "[{'score': 1.0,\n",
       "  'uri': 'http://data.doremus.org/artist/b82c0771-5280-39af-ad2e-8ace2f4ebda3'},\n",
       " {'score': 0.9911241891983096,\n",
       "  'uri': 'http://data.doremus.org/artist/e432aa13-207f-34f8-9792-d1d15fcd4711'},\n",
       " {'score': 0.9909344312170096,\n",
       "  'uri': 'http://data.doremus.org/artist/08499468-c1b5-35d2-958f-134bc11c9c7a'},\n",
       " {'score': 0.9904420982664395,\n",
       "  'uri': 'http://data.doremus.org/artist/95bb7ab4-648d-3d95-beae-4dfc17530aec'}]"
      ]
     },
     "execution_count": 361,
     "metadata": {},
     "output_type": "execute_result"
    }
   ],
   "source": [
    "find(get_embs('http://data.doremus.org/artist/b82c0771-5280-39af-ad2e-8ace2f4ebda3', masked=True))"
   ]
  },
  {
   "cell_type": "code",
   "execution_count": 362,
   "metadata": {},
   "outputs": [
    {
     "name": "stdout",
     "output_type": "stream",
     "text": [
      "computing scores\n",
      "http://data.doremus.org/artist/03954109-0253-35d6-a70e-89ab27dea09c 1.0\n",
      "Franz Schubert\n",
      "http://data.doremus.org/artist/4802a043-23bb-3b8d-a443-4a3bd22ccc63 0.9873076232261836\n",
      "Wolfgang Amadeus Mozart\n",
      "http://data.doremus.org/artist/00f6e16d-7cd8-3d52-ad65-5f5e85e42123 0.9870996483784845\n",
      "Frédéric Chopin\n",
      "http://data.doremus.org/artist/6963af5e-b126-3d40-a84b-97e0b78f5452 0.9870906915807572\n",
      "Ludwig van Beethoven\n"
     ]
    },
    {
     "data": {
      "text/plain": [
       "[{'score': 1.0,\n",
       "  'uri': 'http://data.doremus.org/artist/03954109-0253-35d6-a70e-89ab27dea09c'},\n",
       " {'score': 0.9873076232261836,\n",
       "  'uri': 'http://data.doremus.org/artist/4802a043-23bb-3b8d-a443-4a3bd22ccc63'},\n",
       " {'score': 0.9870996483784845,\n",
       "  'uri': 'http://data.doremus.org/artist/00f6e16d-7cd8-3d52-ad65-5f5e85e42123'},\n",
       " {'score': 0.9870906915807572,\n",
       "  'uri': 'http://data.doremus.org/artist/6963af5e-b126-3d40-a84b-97e0b78f5452'}]"
      ]
     },
     "execution_count": 362,
     "metadata": {},
     "output_type": "execute_result"
    }
   ],
   "source": [
    "find(get_embs('http://data.doremus.org/artist/03954109-0253-35d6-a70e-89ab27dea09c', masked=True))"
   ]
  },
  {
   "cell_type": "code",
   "execution_count": 370,
   "metadata": {},
   "outputs": [
    {
     "name": "stdout",
     "output_type": "stream",
     "text": [
      "computing scores\n",
      "http://data.doremus.org/artist/bcf39e82-e208-3049-b550-1feaae6071a6 1.0\n",
      "Claude Debussy\n",
      "http://data.doremus.org/artist/f9a2ac39-a62d-3be2-8abb-e564de0ec96d 0.9931615991322305\n",
      "Johannes Brahms\n",
      "http://data.doremus.org/artist/157157ef-1cb3-3fc7-a4f7-2531989fc942 0.9909424255922206\n",
      "Richard Strauss\n",
      "http://data.doremus.org/artist/72b3b303-5c15-319f-9c31-dc73b5b0fe74 0.9908471438205945\n",
      "Jean Sibelius\n"
     ]
    },
    {
     "data": {
      "text/plain": [
       "[{'score': 1.0,\n",
       "  'uri': 'http://data.doremus.org/artist/bcf39e82-e208-3049-b550-1feaae6071a6'},\n",
       " {'score': 0.9931615991322305,\n",
       "  'uri': 'http://data.doremus.org/artist/f9a2ac39-a62d-3be2-8abb-e564de0ec96d'},\n",
       " {'score': 0.9909424255922206,\n",
       "  'uri': 'http://data.doremus.org/artist/157157ef-1cb3-3fc7-a4f7-2531989fc942'},\n",
       " {'score': 0.9908471438205945,\n",
       "  'uri': 'http://data.doremus.org/artist/72b3b303-5c15-319f-9c31-dc73b5b0fe74'}]"
      ]
     },
     "execution_count": 370,
     "metadata": {},
     "output_type": "execute_result"
    }
   ],
   "source": [
    "find(get_embs('http://data.doremus.org/artist/bcf39e82-e208-3049-b550-1feaae6071a6', masked=True))"
   ]
  },
  {
   "cell_type": "code",
   "execution_count": 339,
   "metadata": {},
   "outputs": [
    {
     "name": "stdout",
     "output_type": "stream",
     "text": [
      "Pool size: 1396\n"
     ]
    }
   ],
   "source": [
    "def recommend_compare(playlist, w, pos=-1, num_candidates=[100, 200, 500],\n",
    "                      verbose=True, pool=get_pool_from_datasets(), overture=True):\n",
    "    pl_data = playlist['data']\n",
    "    pl_population = len(pl_data)\n",
    "    if verbose: print('%d items | %s' % (pl_population, playlist['name'].split('/')[-1]))\n",
    "    \n",
    "    _replcm = 'overture.' if overture else 'data.'\n",
    "    \n",
    "    if pos < 0:\n",
    "        pos = random.randrange(pl_population)\n",
    "   \n",
    "    chosen = pl_data[pos]\n",
    "    targets = pl_data\n",
    "#     [max(pos-7,0):min(pos+7, len(pl_data))]\n",
    "    targets_pop = len(targets)\n",
    "#     print(max(pos-5,0))\n",
    "#     print(min(pos+5, len(pl_data)))\n",
    "#     print(targets_pop)\n",
    "\n",
    "    if verbose: \n",
    "        print('seed: %d) %s' % (pos, get_label(chosen)))\n",
    "        print('\\t '+ chosen.replace('data.', _replcm))\n",
    "\n",
    "    \n",
    "    first = get_embs(chosen, masked=True)\n",
    "\n",
    "    candidates = find(first, n=np.max(num_candidates), _print=False, pool=pool )\n",
    "    candidates_2 = find(first, n=np.max(num_candidates), _print=False, w = w, pool=pool )\n",
    "    \n",
    "    results = np.zeros((len(num_candidates), 3))\n",
    "    \n",
    "    for qi, q in enumerate(num_candidates):\n",
    "        trues_flat = 0\n",
    "        for index, c in enumerate(candidates[:q]):\n",
    "            if c['uri'] == chosen: continue\n",
    "            if c['uri'] in targets: trues_flat+=1\n",
    "#             if verbose:\n",
    "#                 _sig = '  X  ' if c['uri'] in targets else '   '\n",
    "#                 print('%d \\t %.5f'% (index, c['score']) + '\\t' + _sig + '\\t' + get_label(c['uri']))\n",
    "#                 print('\\t\\t\\t\\t'+ c['uri'].replace('data.', 'overture.'))\n",
    "        #     display(pd.DataFrame(np.ma.array( candidates[c]).reshape(1, 13)))\n",
    "\n",
    "\n",
    "        trues = 0\n",
    "        for index, c in enumerate(candidates_2[:q]):\n",
    "            if c['uri'] == chosen: continue\n",
    "            if c['uri'] in targets: trues+=1\n",
    "#             if verbose:\n",
    "#                 _sig = '  X  ' if c['uri'] in pl_data else '   '\n",
    "#                 print('%d \\t %.5f'% (index, c['score']) + '\\t' + _sig + '\\t' + get_label(c['uri']))\n",
    "#                 print('\\t\\t\\t\\t'+ c['uri'].replace('data.', 'overture.'))\n",
    "#                 # display(pd.DataFrame(np.ma.array( candidates[c]).reshape(1, 13)))\n",
    "\n",
    "        if verbose: print('%d | flat %d | weighted %d | diff %d' % (q, trues_flat, trues, trues-trues_flat))\n",
    "        results[qi] = [trues / targets_pop, trues_flat / targets_pop, (trues-trues_flat) / targets_pop]\n",
    "    return results"
   ]
  },
  {
   "cell_type": "code",
   "execution_count": 340,
   "metadata": {},
   "outputs": [
    {
     "name": "stdout",
     "output_type": "stream",
     "text": [
      "92 items | 37i9dQZF1DWWEJlAGA9gs0.Classical Essentials.artist.txt\n",
      "seed: 88) Giacomo Puccini\n",
      "\t http://overture.doremus.org/artist/5bcd515f-354f-30f8-ae0a-c42b65536d9f\n",
      "100 | flat 17 | weighted 21 | diff 4\n",
      "200 | flat 37 | weighted 38 | diff 1\n",
      "500 | flat 55 | weighted 54 | diff -1\n"
     ]
    },
    {
     "data": {
      "text/plain": [
       "array([[ 0.23,  0.18,  0.04],\n",
       "       [ 0.41,  0.4 ,  0.01],\n",
       "       [ 0.59,  0.6 , -0.01]])"
      ]
     },
     "execution_count": 340,
     "metadata": {},
     "output_type": "execute_result"
    }
   ],
   "source": [
    "# w = compute_weights(threshold=1.2, fallback=1., datasets=['spotify_pl'])\n",
    "pl = all_training[3]['playlists'][12]\n",
    "recommend_compare(pl, w)"
   ]
  },
  {
   "cell_type": "markdown",
   "metadata": {},
   "source": [
    "### Computation on all playlists"
   ]
  },
  {
   "cell_type": "code",
   "execution_count": 341,
   "metadata": {},
   "outputs": [],
   "source": [
    "out_path = './out-artists'\n",
    "\n",
    "def ensure_dir(file_path):\n",
    "    directory = os.path.dirname(file_path)\n",
    "    if not os.path.exists(directory):\n",
    "        os.makedirs(directory)\n",
    "    return file_path\n",
    "\n",
    "from tqdm import tqdm_notebook as tqdm"
   ]
  },
  {
   "cell_type": "code",
   "execution_count": 342,
   "metadata": {},
   "outputs": [],
   "source": [
    "def test_recommendation(pool, playlist, pos=-1, mode='random', w=None, name='', verbose=0, overture=False, write=False):\n",
    "    pl_data = playlist['data']\n",
    "    pl_population = len(pl_data)\n",
    "    pl_name = playlist['name'].split('/')[-1].replace('.json', '')\n",
    "    \n",
    "    _replcm = 'overture.' if overture else 'data.'\n",
    "\n",
    "    if pos < 0:\n",
    "        pos = random.randrange(pl_population)\n",
    "    chosen = pl_data[pos]\n",
    "    pl_data = np.delete(pl_data, pos, axis=0)\n",
    "\n",
    "    if verbose > 0: \n",
    "        print('%d items | %s' % (pl_population, pl_name))\n",
    "        print('seed: %d) %s' % (pos, get_label(chosen)))\n",
    "        print('\\t '+ chosen.replace('data.', _replcm))\n",
    "\n",
    "    \n",
    "    first = get_embs(chosen, masked=True)\n",
    "    num_candidates=[100, 200, 500]\n",
    "    max_candidates = np.max(num_candidates)\n",
    "\n",
    "    if mode == 'flat':\n",
    "        candidates = find(first, n=max_candidates, _print=False, pool=pool)\n",
    "    elif mode == 'weighted':\n",
    "        candidates = find(first, n=max_candidates, _print=False, w = w, pool=pool)\n",
    "    else : # random\n",
    "        candidates =  list(map(lambda x: {'uri': x, 'score': 0}, random.sample(pool[0].tolist(), 500)))\n",
    "\n",
    "    results = np.zeros(len(num_candidates))\n",
    "    candidates_uri =  list(map(lambda x: x['uri'], candidates))\n",
    "\n",
    "    for qi, q in enumerate(num_candidates):\n",
    "        trues = len(set(candidates_uri[:q]).intersection(set(pl_data)))\n",
    "        \n",
    "        if verbose > 0:\n",
    "            print('%d | positive %d | population %d' % (q, trues, pl_population))\n",
    "        results[qi] = trues\n",
    "\n",
    "    if verbose > 1:\n",
    "        for index, c in enumerate(candidates[:max_candidates]):\n",
    "            _sig = '  X  ' if c['uri'] in pl_data else '   '\n",
    "            print('%d \\t %.5f'% (index, c['score']) + '\\t' + _sig + '\\t' + get_label(c['uri']))\n",
    "            print('\\t\\t\\t\\t'+ c['uri'].replace('data.', _replcm))\n",
    "            # display(pd.DataFrame(np.ma.array( candidates[c]).reshape(1, 13)))\n",
    "\n",
    "    if write:\n",
    "        to_write =[';'.join([\n",
    "                    str(index),\n",
    "                    str(c['score']), \n",
    "                    '1' if c['uri'] in pl_data else '0',\n",
    "                    get_label(c['uri']),\n",
    "                    c['uri'].replace('[;\\n\"]', ' ')\n",
    "                   ])\n",
    "            for index, c in enumerate(candidates[:max_candidates])]\n",
    "\n",
    "        filename = pl_name + '.' + str(pos) + '.csv'\n",
    "        with open(ensure_dir(os.path.join(out_path, 'detail', name, filename)), 'w') as file:\n",
    "            file.write('index;score;predicted;label;uri\\n')\n",
    "            file.write('\\n'.join(to_write))\n",
    "\n",
    "    return results"
   ]
  },
  {
   "cell_type": "code",
   "execution_count": 348,
   "metadata": {
    "scrolled": true
   },
   "outputs": [],
   "source": [
    "def run_for_dataset(id_dataset, pool, mode='random', w=None, name=''):\n",
    "    with open(ensure_dir(os.path.join(out_path, 'summary', name + '.csv')), 'w') as file:\n",
    "        file.write('index;playlist;population;predicted100;predicted200;predicted500\\n')\n",
    "        testset = all_training[id_dataset]['playlists']\n",
    "        \n",
    "        pbar = tqdm(total=len(testset))\n",
    "\n",
    "        for index, pl in enumerate(testset):\n",
    "            population = len(pl['data'])\n",
    "            pl_name = pl['name'].split('/')[-1].replace('.json', '').replace('\"','')\n",
    "\n",
    "            results = [test_recommendation(pool=pool, playlist=pl, pos=pos,  \n",
    "                                    mode=mode, w=w, write=False, name=name)\n",
    "                       for pos, work in enumerate(pl['data'])]\n",
    "            results = np.mean(results,axis=0)\n",
    "            \n",
    "            pbar.update(1)\n",
    "            if not 'ndarray' in str(type(results)):\n",
    "#                 print(type(results))\n",
    "                continue\n",
    "\n",
    "            file.write(';'.join([str(index), pl_name, str(population), \n",
    "                                 str(results[0]), str(results[1]), str(results[2])]))\n",
    "            file.write('\\n')\n",
    "    pbar.close()"
   ]
  },
  {
   "cell_type": "code",
   "execution_count": 344,
   "metadata": {},
   "outputs": [],
   "source": [
    "# test_recommendation(pp_pool, playlist=all_training[0]['playlists'][4], mode='weighted', name='pp.w5-06', w=_wpp, verbose=2 )"
   ]
  },
  {
   "cell_type": "code",
   "execution_count": 345,
   "metadata": {},
   "outputs": [],
   "source": [
    "# itema3_pool = get_pool_from_datasets(['itema3_concerts'])"
   ]
  },
  {
   "cell_type": "code",
   "execution_count": 346,
   "metadata": {},
   "outputs": [
    {
     "data": {
      "application/vnd.jupyter.widget-view+json": {
       "model_id": "bc53f340fd7849c9b537952753446376",
       "version_major": 2,
       "version_minor": 0
      },
      "text/html": [
       "<p>Failed to display Jupyter Widget of type <code>HBox</code>.</p>\n",
       "<p>\n",
       "  If you're reading this message in the Jupyter Notebook or JupyterLab Notebook, it may mean\n",
       "  that the widgets JavaScript is still loading. If this message persists, it\n",
       "  likely means that the widgets JavaScript library is either not installed or\n",
       "  not enabled. See the <a href=\"https://ipywidgets.readthedocs.io/en/stable/user_install.html\">Jupyter\n",
       "  Widgets Documentation</a> for setup instructions.\n",
       "</p>\n",
       "<p>\n",
       "  If you're reading this message in another frontend (for example, a static\n",
       "  rendering on GitHub or <a href=\"https://nbviewer.jupyter.org/\">NBViewer</a>),\n",
       "  it may mean that your frontend doesn't currently support widgets.\n",
       "</p>\n"
      ],
      "text/plain": [
       "HBox(children=(IntProgress(value=0, max=414), HTML(value='')))"
      ]
     },
     "metadata": {},
     "output_type": "display_data"
    },
    {
     "name": "stderr",
     "output_type": "stream",
     "text": [
      "/Library/Frameworks/Python.framework/Versions/3.6/lib/python3.6/site-packages/numpy/core/fromnumeric.py:2957: RuntimeWarning: Mean of empty slice.\n",
      "  out=out, **kwargs)\n",
      "/Library/Frameworks/Python.framework/Versions/3.6/lib/python3.6/site-packages/numpy/core/_methods.py:80: RuntimeWarning: invalid value encountered in double_scalars\n",
      "  ret = ret.dtype.type(ret / rcount)\n"
     ]
    },
    {
     "name": "stdout",
     "output_type": "stream",
     "text": [
      "<class 'numpy.float64'>\n",
      "<class 'numpy.float64'>\n"
     ]
    }
   ],
   "source": [
    "run_for_dataset(1, itema3_pool, mode='random', name='itema3.rand')"
   ]
  },
  {
   "cell_type": "code",
   "execution_count": 347,
   "metadata": {
    "scrolled": true
   },
   "outputs": [
    {
     "data": {
      "application/vnd.jupyter.widget-view+json": {
       "model_id": "2aaa09c96816452d8960c1530b47f423",
       "version_major": 2,
       "version_minor": 0
      },
      "text/html": [
       "<p>Failed to display Jupyter Widget of type <code>HBox</code>.</p>\n",
       "<p>\n",
       "  If you're reading this message in the Jupyter Notebook or JupyterLab Notebook, it may mean\n",
       "  that the widgets JavaScript is still loading. If this message persists, it\n",
       "  likely means that the widgets JavaScript library is either not installed or\n",
       "  not enabled. See the <a href=\"https://ipywidgets.readthedocs.io/en/stable/user_install.html\">Jupyter\n",
       "  Widgets Documentation</a> for setup instructions.\n",
       "</p>\n",
       "<p>\n",
       "  If you're reading this message in another frontend (for example, a static\n",
       "  rendering on GitHub or <a href=\"https://nbviewer.jupyter.org/\">NBViewer</a>),\n",
       "  it may mean that your frontend doesn't currently support widgets.\n",
       "</p>\n"
      ],
      "text/plain": [
       "HBox(children=(IntProgress(value=0, max=414), HTML(value='')))"
      ]
     },
     "metadata": {},
     "output_type": "display_data"
    },
    {
     "name": "stderr",
     "output_type": "stream",
     "text": [
      "/Library/Frameworks/Python.framework/Versions/3.6/lib/python3.6/site-packages/numpy/core/fromnumeric.py:2957: RuntimeWarning: Mean of empty slice.\n",
      "  out=out, **kwargs)\n",
      "/Library/Frameworks/Python.framework/Versions/3.6/lib/python3.6/site-packages/numpy/core/_methods.py:80: RuntimeWarning: invalid value encountered in double_scalars\n",
      "  ret = ret.dtype.type(ret / rcount)\n"
     ]
    },
    {
     "name": "stdout",
     "output_type": "stream",
     "text": [
      "<class 'numpy.float64'>\n",
      "<class 'numpy.float64'>\n"
     ]
    }
   ],
   "source": [
    "run_for_dataset(1, itema3_pool, mode='flat', name='itema3.flat')"
   ]
  },
  {
   "cell_type": "code",
   "execution_count": 350,
   "metadata": {
    "scrolled": true
   },
   "outputs": [
    {
     "data": {
      "application/vnd.jupyter.widget-view+json": {
       "model_id": "1feaab0c0dd34e7196bbc8048622eb37",
       "version_major": 2,
       "version_minor": 0
      },
      "text/html": [
       "<p>Failed to display Jupyter Widget of type <code>HBox</code>.</p>\n",
       "<p>\n",
       "  If you're reading this message in the Jupyter Notebook or JupyterLab Notebook, it may mean\n",
       "  that the widgets JavaScript is still loading. If this message persists, it\n",
       "  likely means that the widgets JavaScript library is either not installed or\n",
       "  not enabled. See the <a href=\"https://ipywidgets.readthedocs.io/en/stable/user_install.html\">Jupyter\n",
       "  Widgets Documentation</a> for setup instructions.\n",
       "</p>\n",
       "<p>\n",
       "  If you're reading this message in another frontend (for example, a static\n",
       "  rendering on GitHub or <a href=\"https://nbviewer.jupyter.org/\">NBViewer</a>),\n",
       "  it may mean that your frontend doesn't currently support widgets.\n",
       "</p>\n"
      ],
      "text/plain": [
       "HBox(children=(IntProgress(value=0, max=414), HTML(value='')))"
      ]
     },
     "metadata": {},
     "output_type": "display_data"
    },
    {
     "name": "stderr",
     "output_type": "stream",
     "text": [
      "/Library/Frameworks/Python.framework/Versions/3.6/lib/python3.6/site-packages/numpy/core/fromnumeric.py:2957: RuntimeWarning: Mean of empty slice.\n",
      "  out=out, **kwargs)\n",
      "/Library/Frameworks/Python.framework/Versions/3.6/lib/python3.6/site-packages/numpy/core/_methods.py:80: RuntimeWarning: invalid value encountered in double_scalars\n",
      "  ret = ret.dtype.type(ret / rcount)\n"
     ]
    }
   ],
   "source": [
    "_wi3 = compute_weights(threshold=1.4, datasets=['itema3_concerts'])\n",
    "run_for_dataset(1, itema3_pool, mode='weighted', name='itema3.w14-06', w= _wi3)"
   ]
  },
  {
   "cell_type": "code",
   "execution_count": null,
   "metadata": {},
   "outputs": [],
   "source": [
    "_wi3 = compute_weights(threshold=8, datasets=['itema3_concerts'])\n",
    "run_for_dataset(1, itema3_pool, mode='weighted', name='itema3.w8-06', w= _wi3)"
   ]
  },
  {
   "cell_type": "code",
   "execution_count": null,
   "metadata": {},
   "outputs": [],
   "source": [
    "_wi3 = compute_weights(threshold=10, datasets=['itema3_concerts'])\n",
    "run_for_dataset(1, itema3_pool, mode='weighted', name='itema3.w10-06', w= _wi3)"
   ]
  },
  {
   "cell_type": "code",
   "execution_count": null,
   "metadata": {},
   "outputs": [],
   "source": [
    "_wi3 = compute_weights(threshold=8, fallback=1., datasets=['itema3_concerts'])\n",
    "run_for_dataset(1, itema3_pool, mode='weighted', name='itema3.w8-1', w= _wi3)"
   ]
  },
  {
   "cell_type": "code",
   "execution_count": null,
   "metadata": {},
   "outputs": [],
   "source": []
  },
  {
   "cell_type": "code",
   "execution_count": null,
   "metadata": {},
   "outputs": [],
   "source": []
  },
  {
   "cell_type": "code",
   "execution_count": null,
   "metadata": {},
   "outputs": [],
   "source": []
  },
  {
   "cell_type": "code",
   "execution_count": null,
   "metadata": {},
   "outputs": [],
   "source": [
    "_wi3 = compute_weights(threshold=5, datasets=['itema3_concerts', 'pp_concerts'])\n",
    "run_for_dataset(1, itema3_pool, mode='weighted', name='itema3.wp5-06', w= _wi3)"
   ]
  },
  {
   "cell_type": "code",
   "execution_count": 353,
   "metadata": {},
   "outputs": [
    {
     "name": "stdout",
     "output_type": "stream",
     "text": [
      "Pool size: 715\n"
     ]
    }
   ],
   "source": [
    "pp_pool = get_pool_from_datasets(['pp_concerts'])"
   ]
  },
  {
   "cell_type": "code",
   "execution_count": 371,
   "metadata": {},
   "outputs": [
    {
     "data": {
      "application/vnd.jupyter.widget-view+json": {
       "model_id": "d62327ee3ab14f35855d2fb0f5d80931",
       "version_major": 2,
       "version_minor": 0
      },
      "text/html": [
       "<p>Failed to display Jupyter Widget of type <code>HBox</code>.</p>\n",
       "<p>\n",
       "  If you're reading this message in the Jupyter Notebook or JupyterLab Notebook, it may mean\n",
       "  that the widgets JavaScript is still loading. If this message persists, it\n",
       "  likely means that the widgets JavaScript library is either not installed or\n",
       "  not enabled. See the <a href=\"https://ipywidgets.readthedocs.io/en/stable/user_install.html\">Jupyter\n",
       "  Widgets Documentation</a> for setup instructions.\n",
       "</p>\n",
       "<p>\n",
       "  If you're reading this message in another frontend (for example, a static\n",
       "  rendering on GitHub or <a href=\"https://nbviewer.jupyter.org/\">NBViewer</a>),\n",
       "  it may mean that your frontend doesn't currently support widgets.\n",
       "</p>\n"
      ],
      "text/plain": [
       "HBox(children=(IntProgress(value=0, max=223), HTML(value='')))"
      ]
     },
     "metadata": {},
     "output_type": "display_data"
    }
   ],
   "source": [
    "run_for_dataset(0, pp_pool, mode='random', name='pp.rand')"
   ]
  },
  {
   "cell_type": "code",
   "execution_count": 372,
   "metadata": {},
   "outputs": [
    {
     "data": {
      "application/vnd.jupyter.widget-view+json": {
       "model_id": "e096e0fe992244888dba4b4d839ced0d",
       "version_major": 2,
       "version_minor": 0
      },
      "text/html": [
       "<p>Failed to display Jupyter Widget of type <code>HBox</code>.</p>\n",
       "<p>\n",
       "  If you're reading this message in the Jupyter Notebook or JupyterLab Notebook, it may mean\n",
       "  that the widgets JavaScript is still loading. If this message persists, it\n",
       "  likely means that the widgets JavaScript library is either not installed or\n",
       "  not enabled. See the <a href=\"https://ipywidgets.readthedocs.io/en/stable/user_install.html\">Jupyter\n",
       "  Widgets Documentation</a> for setup instructions.\n",
       "</p>\n",
       "<p>\n",
       "  If you're reading this message in another frontend (for example, a static\n",
       "  rendering on GitHub or <a href=\"https://nbviewer.jupyter.org/\">NBViewer</a>),\n",
       "  it may mean that your frontend doesn't currently support widgets.\n",
       "</p>\n"
      ],
      "text/plain": [
       "HBox(children=(IntProgress(value=0, max=223), HTML(value='')))"
      ]
     },
     "metadata": {},
     "output_type": "display_data"
    }
   ],
   "source": [
    "run_for_dataset(0, pp_pool, mode='flat', name='pp.flat')"
   ]
  },
  {
   "cell_type": "code",
   "execution_count": 373,
   "metadata": {},
   "outputs": [
    {
     "data": {
      "text/html": [
       "<div>\n",
       "<style>\n",
       "    .dataframe thead tr:only-child th {\n",
       "        text-align: right;\n",
       "    }\n",
       "\n",
       "    .dataframe thead th {\n",
       "        text-align: left;\n",
       "    }\n",
       "\n",
       "    .dataframe tbody tr th {\n",
       "        vertical-align: top;\n",
       "    }\n",
       "</style>\n",
       "<table border=\"1\" class=\"dataframe\">\n",
       "  <thead>\n",
       "    <tr style=\"text-align: right;\">\n",
       "      <th></th>\n",
       "      <th>mop</th>\n",
       "      <th>mop</th>\n",
       "      <th>mop</th>\n",
       "      <th>birth_date</th>\n",
       "      <th>death_date</th>\n",
       "      <th>casting</th>\n",
       "      <th>casting</th>\n",
       "      <th>casting</th>\n",
       "      <th>function</th>\n",
       "      <th>function</th>\n",
       "      <th>function</th>\n",
       "      <th>genre</th>\n",
       "      <th>genre</th>\n",
       "      <th>genre</th>\n",
       "      <th>key</th>\n",
       "      <th>key</th>\n",
       "      <th>key</th>\n",
       "    </tr>\n",
       "  </thead>\n",
       "  <tbody>\n",
       "    <tr>\n",
       "      <th>0</th>\n",
       "      <td>0.6</td>\n",
       "      <td>0.6</td>\n",
       "      <td>0.6</td>\n",
       "      <td>8.657</td>\n",
       "      <td>7.036</td>\n",
       "      <td>0.6</td>\n",
       "      <td>0.6</td>\n",
       "      <td>0.6</td>\n",
       "      <td>0.6</td>\n",
       "      <td>0.6</td>\n",
       "      <td>0.6</td>\n",
       "      <td>2.009</td>\n",
       "      <td>0.6</td>\n",
       "      <td>2.315</td>\n",
       "      <td>0.6</td>\n",
       "      <td>0.6</td>\n",
       "      <td>0.6</td>\n",
       "    </tr>\n",
       "  </tbody>\n",
       "</table>\n",
       "</div>"
      ],
      "text/plain": [
       "   mop  mop  mop  birth_date  death_date  casting  casting  casting  function  \\\n",
       "0  0.6  0.6  0.6       8.657       7.036      0.6      0.6      0.6       0.6   \n",
       "\n",
       "   function  function  genre  genre  genre  key  key  key  \n",
       "0       0.6       0.6  2.009    0.6  2.315  0.6  0.6  0.6  "
      ]
     },
     "execution_count": 373,
     "metadata": {},
     "output_type": "execute_result"
    }
   ],
   "source": [
    "_wpp = compute_weights(threshold=2, datasets=['pp_concerts'])\n",
    "pd.DataFrame([_wpp], columns=heads)"
   ]
  },
  {
   "cell_type": "code",
   "execution_count": 374,
   "metadata": {},
   "outputs": [
    {
     "data": {
      "application/vnd.jupyter.widget-view+json": {
       "model_id": "9e621dbc7f7d4d719c995b9d75712f0a",
       "version_major": 2,
       "version_minor": 0
      },
      "text/html": [
       "<p>Failed to display Jupyter Widget of type <code>HBox</code>.</p>\n",
       "<p>\n",
       "  If you're reading this message in the Jupyter Notebook or JupyterLab Notebook, it may mean\n",
       "  that the widgets JavaScript is still loading. If this message persists, it\n",
       "  likely means that the widgets JavaScript library is either not installed or\n",
       "  not enabled. See the <a href=\"https://ipywidgets.readthedocs.io/en/stable/user_install.html\">Jupyter\n",
       "  Widgets Documentation</a> for setup instructions.\n",
       "</p>\n",
       "<p>\n",
       "  If you're reading this message in another frontend (for example, a static\n",
       "  rendering on GitHub or <a href=\"https://nbviewer.jupyter.org/\">NBViewer</a>),\n",
       "  it may mean that your frontend doesn't currently support widgets.\n",
       "</p>\n"
      ],
      "text/plain": [
       "HBox(children=(IntProgress(value=0, max=223), HTML(value='')))"
      ]
     },
     "metadata": {},
     "output_type": "display_data"
    }
   ],
   "source": [
    "run_for_dataset(0, pp_pool, mode='weighted', name='pp.w2-06', w=_wpp)"
   ]
  },
  {
   "cell_type": "code",
   "execution_count": 376,
   "metadata": {},
   "outputs": [
    {
     "name": "stdout",
     "output_type": "stream",
     "text": [
      "Pool size: 1012\n"
     ]
    }
   ],
   "source": [
    "spo_pool = get_pool_from_datasets(['spotify_pl'])"
   ]
  },
  {
   "cell_type": "code",
   "execution_count": 377,
   "metadata": {},
   "outputs": [
    {
     "data": {
      "application/vnd.jupyter.widget-view+json": {
       "model_id": "eae1ee42e5174be6a329770ca4c17073",
       "version_major": 2,
       "version_minor": 0
      },
      "text/html": [
       "<p>Failed to display Jupyter Widget of type <code>HBox</code>.</p>\n",
       "<p>\n",
       "  If you're reading this message in the Jupyter Notebook or JupyterLab Notebook, it may mean\n",
       "  that the widgets JavaScript is still loading. If this message persists, it\n",
       "  likely means that the widgets JavaScript library is either not installed or\n",
       "  not enabled. See the <a href=\"https://ipywidgets.readthedocs.io/en/stable/user_install.html\">Jupyter\n",
       "  Widgets Documentation</a> for setup instructions.\n",
       "</p>\n",
       "<p>\n",
       "  If you're reading this message in another frontend (for example, a static\n",
       "  rendering on GitHub or <a href=\"https://nbviewer.jupyter.org/\">NBViewer</a>),\n",
       "  it may mean that your frontend doesn't currently support widgets.\n",
       "</p>\n"
      ],
      "text/plain": [
       "HBox(children=(IntProgress(value=0, max=70), HTML(value='')))"
      ]
     },
     "metadata": {},
     "output_type": "display_data"
    }
   ],
   "source": [
    "run_for_dataset(3, spo_pool, mode='random', name='spotify.rand')"
   ]
  },
  {
   "cell_type": "code",
   "execution_count": 378,
   "metadata": {},
   "outputs": [
    {
     "data": {
      "application/vnd.jupyter.widget-view+json": {
       "model_id": "ce500b01e3ea48b5b6b3aa2b3a22b022",
       "version_major": 2,
       "version_minor": 0
      },
      "text/html": [
       "<p>Failed to display Jupyter Widget of type <code>HBox</code>.</p>\n",
       "<p>\n",
       "  If you're reading this message in the Jupyter Notebook or JupyterLab Notebook, it may mean\n",
       "  that the widgets JavaScript is still loading. If this message persists, it\n",
       "  likely means that the widgets JavaScript library is either not installed or\n",
       "  not enabled. See the <a href=\"https://ipywidgets.readthedocs.io/en/stable/user_install.html\">Jupyter\n",
       "  Widgets Documentation</a> for setup instructions.\n",
       "</p>\n",
       "<p>\n",
       "  If you're reading this message in another frontend (for example, a static\n",
       "  rendering on GitHub or <a href=\"https://nbviewer.jupyter.org/\">NBViewer</a>),\n",
       "  it may mean that your frontend doesn't currently support widgets.\n",
       "</p>\n"
      ],
      "text/plain": [
       "HBox(children=(IntProgress(value=0, max=70), HTML(value='')))"
      ]
     },
     "metadata": {},
     "output_type": "display_data"
    }
   ],
   "source": [
    "run_for_dataset(3, spo_pool, mode='flat', name='spotify.flat')"
   ]
  },
  {
   "cell_type": "code",
   "execution_count": 379,
   "metadata": {},
   "outputs": [
    {
     "data": {
      "application/vnd.jupyter.widget-view+json": {
       "model_id": "5ccf6e80152749b39cc69229208ed6ac",
       "version_major": 2,
       "version_minor": 0
      },
      "text/html": [
       "<p>Failed to display Jupyter Widget of type <code>HBox</code>.</p>\n",
       "<p>\n",
       "  If you're reading this message in the Jupyter Notebook or JupyterLab Notebook, it may mean\n",
       "  that the widgets JavaScript is still loading. If this message persists, it\n",
       "  likely means that the widgets JavaScript library is either not installed or\n",
       "  not enabled. See the <a href=\"https://ipywidgets.readthedocs.io/en/stable/user_install.html\">Jupyter\n",
       "  Widgets Documentation</a> for setup instructions.\n",
       "</p>\n",
       "<p>\n",
       "  If you're reading this message in another frontend (for example, a static\n",
       "  rendering on GitHub or <a href=\"https://nbviewer.jupyter.org/\">NBViewer</a>),\n",
       "  it may mean that your frontend doesn't currently support widgets.\n",
       "</p>\n"
      ],
      "text/plain": [
       "HBox(children=(IntProgress(value=0, max=70), HTML(value='')))"
      ]
     },
     "metadata": {},
     "output_type": "display_data"
    }
   ],
   "source": [
    "_wspo = compute_weights(threshold=1.2, datasets=['spotify_pl'])\n",
    "run_for_dataset(3, spo_pool, mode='weighted', name='spotify.w12-06', w=_wspo)"
   ]
  },
  {
   "cell_type": "code",
   "execution_count": 399,
   "metadata": {},
   "outputs": [
    {
     "data": {
      "application/vnd.jupyter.widget-view+json": {
       "model_id": "971a4d7d3d0244eda2fdc64ee86f7b13",
       "version_major": 2,
       "version_minor": 0
      },
      "text/html": [
       "<p>Failed to display Jupyter Widget of type <code>HBox</code>.</p>\n",
       "<p>\n",
       "  If you're reading this message in the Jupyter Notebook or JupyterLab Notebook, it may mean\n",
       "  that the widgets JavaScript is still loading. If this message persists, it\n",
       "  likely means that the widgets JavaScript library is either not installed or\n",
       "  not enabled. See the <a href=\"https://ipywidgets.readthedocs.io/en/stable/user_install.html\">Jupyter\n",
       "  Widgets Documentation</a> for setup instructions.\n",
       "</p>\n",
       "<p>\n",
       "  If you're reading this message in another frontend (for example, a static\n",
       "  rendering on GitHub or <a href=\"https://nbviewer.jupyter.org/\">NBViewer</a>),\n",
       "  it may mean that your frontend doesn't currently support widgets.\n",
       "</p>\n"
      ],
      "text/plain": [
       "HBox(children=(IntProgress(value=0, max=70), HTML(value='')))"
      ]
     },
     "metadata": {},
     "output_type": "display_data"
    }
   ],
   "source": [
    "_wspo = compute_weights(threshold=1.4, datasets=['spotify_pl'])\n",
    "run_for_dataset(3, spo_pool, mode='weighted', name='spotify.w14-06', w=_wspo)"
   ]
  },
  {
   "cell_type": "code",
   "execution_count": 400,
   "metadata": {},
   "outputs": [
    {
     "data": {
      "application/vnd.jupyter.widget-view+json": {
       "model_id": "53994e3631a6475db720ae43354b5bd2",
       "version_major": 2,
       "version_minor": 0
      },
      "text/html": [
       "<p>Failed to display Jupyter Widget of type <code>HBox</code>.</p>\n",
       "<p>\n",
       "  If you're reading this message in the Jupyter Notebook or JupyterLab Notebook, it may mean\n",
       "  that the widgets JavaScript is still loading. If this message persists, it\n",
       "  likely means that the widgets JavaScript library is either not installed or\n",
       "  not enabled. See the <a href=\"https://ipywidgets.readthedocs.io/en/stable/user_install.html\">Jupyter\n",
       "  Widgets Documentation</a> for setup instructions.\n",
       "</p>\n",
       "<p>\n",
       "  If you're reading this message in another frontend (for example, a static\n",
       "  rendering on GitHub or <a href=\"https://nbviewer.jupyter.org/\">NBViewer</a>),\n",
       "  it may mean that your frontend doesn't currently support widgets.\n",
       "</p>\n"
      ],
      "text/plain": [
       "HBox(children=(IntProgress(value=0, max=70), HTML(value='')))"
      ]
     },
     "metadata": {},
     "output_type": "display_data"
    }
   ],
   "source": [
    "_wspo = compute_weights(threshold=1.5, datasets=['spotify_pl'])\n",
    "run_for_dataset(3, spo_pool, mode='weighted', name='spotify.w15-06', w=_wspo)"
   ]
  },
  {
   "cell_type": "code",
   "execution_count": 380,
   "metadata": {},
   "outputs": [
    {
     "name": "stdout",
     "output_type": "stream",
     "text": [
      "Pool size: 738\n"
     ]
    }
   ],
   "source": [
    "radio_pool = get_pool_from_datasets(['web-radio'])"
   ]
  },
  {
   "cell_type": "code",
   "execution_count": 381,
   "metadata": {},
   "outputs": [
    {
     "data": {
      "application/vnd.jupyter.widget-view+json": {
       "model_id": "fcb59e5adf4549a29fd8633c542a6dd5",
       "version_major": 2,
       "version_minor": 0
      },
      "text/html": [
       "<p>Failed to display Jupyter Widget of type <code>HBox</code>.</p>\n",
       "<p>\n",
       "  If you're reading this message in the Jupyter Notebook or JupyterLab Notebook, it may mean\n",
       "  that the widgets JavaScript is still loading. If this message persists, it\n",
       "  likely means that the widgets JavaScript library is either not installed or\n",
       "  not enabled. See the <a href=\"https://ipywidgets.readthedocs.io/en/stable/user_install.html\">Jupyter\n",
       "  Widgets Documentation</a> for setup instructions.\n",
       "</p>\n",
       "<p>\n",
       "  If you're reading this message in another frontend (for example, a static\n",
       "  rendering on GitHub or <a href=\"https://nbviewer.jupyter.org/\">NBViewer</a>),\n",
       "  it may mean that your frontend doesn't currently support widgets.\n",
       "</p>\n"
      ],
      "text/plain": [
       "HBox(children=(IntProgress(value=0, max=155), HTML(value='')))"
      ]
     },
     "metadata": {},
     "output_type": "display_data"
    }
   ],
   "source": [
    "run_for_dataset(2, radio_pool, mode='random', name='web-radio.rand')"
   ]
  },
  {
   "cell_type": "code",
   "execution_count": 382,
   "metadata": {},
   "outputs": [
    {
     "data": {
      "application/vnd.jupyter.widget-view+json": {
       "model_id": "c18c5b5aac3d4ce8a313bdfdd5c78504",
       "version_major": 2,
       "version_minor": 0
      },
      "text/html": [
       "<p>Failed to display Jupyter Widget of type <code>HBox</code>.</p>\n",
       "<p>\n",
       "  If you're reading this message in the Jupyter Notebook or JupyterLab Notebook, it may mean\n",
       "  that the widgets JavaScript is still loading. If this message persists, it\n",
       "  likely means that the widgets JavaScript library is either not installed or\n",
       "  not enabled. See the <a href=\"https://ipywidgets.readthedocs.io/en/stable/user_install.html\">Jupyter\n",
       "  Widgets Documentation</a> for setup instructions.\n",
       "</p>\n",
       "<p>\n",
       "  If you're reading this message in another frontend (for example, a static\n",
       "  rendering on GitHub or <a href=\"https://nbviewer.jupyter.org/\">NBViewer</a>),\n",
       "  it may mean that your frontend doesn't currently support widgets.\n",
       "</p>\n"
      ],
      "text/plain": [
       "HBox(children=(IntProgress(value=0, max=155), HTML(value='')))"
      ]
     },
     "metadata": {},
     "output_type": "display_data"
    }
   ],
   "source": [
    "run_for_dataset(2, radio_pool, mode='flat', name='web-radio.flat')"
   ]
  },
  {
   "cell_type": "code",
   "execution_count": 383,
   "metadata": {},
   "outputs": [
    {
     "data": {
      "application/vnd.jupyter.widget-view+json": {
       "model_id": "8233da305d8e4fabac43ae0c70f0843a",
       "version_major": 2,
       "version_minor": 0
      },
      "text/html": [
       "<p>Failed to display Jupyter Widget of type <code>HBox</code>.</p>\n",
       "<p>\n",
       "  If you're reading this message in the Jupyter Notebook or JupyterLab Notebook, it may mean\n",
       "  that the widgets JavaScript is still loading. If this message persists, it\n",
       "  likely means that the widgets JavaScript library is either not installed or\n",
       "  not enabled. See the <a href=\"https://ipywidgets.readthedocs.io/en/stable/user_install.html\">Jupyter\n",
       "  Widgets Documentation</a> for setup instructions.\n",
       "</p>\n",
       "<p>\n",
       "  If you're reading this message in another frontend (for example, a static\n",
       "  rendering on GitHub or <a href=\"https://nbviewer.jupyter.org/\">NBViewer</a>),\n",
       "  it may mean that your frontend doesn't currently support widgets.\n",
       "</p>\n"
      ],
      "text/plain": [
       "HBox(children=(IntProgress(value=0, max=155), HTML(value='')))"
      ]
     },
     "metadata": {},
     "output_type": "display_data"
    }
   ],
   "source": [
    "_wradio = compute_weights(threshold=1.4, datasets=['web-radio'])\n",
    "run_for_dataset(2, radio_pool, mode='weighted', name='web-radio.w14-06', w=_wradio)"
   ]
  },
  {
   "cell_type": "code",
   "execution_count": 395,
   "metadata": {},
   "outputs": [
    {
     "data": {
      "text/html": [
       "<div>\n",
       "<style>\n",
       "    .dataframe thead tr:only-child th {\n",
       "        text-align: right;\n",
       "    }\n",
       "\n",
       "    .dataframe thead th {\n",
       "        text-align: left;\n",
       "    }\n",
       "\n",
       "    .dataframe tbody tr th {\n",
       "        vertical-align: top;\n",
       "    }\n",
       "</style>\n",
       "<table border=\"1\" class=\"dataframe\">\n",
       "  <thead>\n",
       "    <tr style=\"text-align: right;\">\n",
       "      <th></th>\n",
       "      <th>mop</th>\n",
       "      <th>mop</th>\n",
       "      <th>mop</th>\n",
       "      <th>birth_date</th>\n",
       "      <th>death_date</th>\n",
       "      <th>casting</th>\n",
       "      <th>casting</th>\n",
       "      <th>casting</th>\n",
       "      <th>function</th>\n",
       "      <th>function</th>\n",
       "      <th>function</th>\n",
       "      <th>genre</th>\n",
       "      <th>genre</th>\n",
       "      <th>genre</th>\n",
       "      <th>key</th>\n",
       "      <th>key</th>\n",
       "      <th>key</th>\n",
       "    </tr>\n",
       "  </thead>\n",
       "  <tbody>\n",
       "    <tr>\n",
       "      <th>0</th>\n",
       "      <td>0.6</td>\n",
       "      <td>0.6</td>\n",
       "      <td>1.401</td>\n",
       "      <td>2.903</td>\n",
       "      <td>2.093</td>\n",
       "      <td>0.6</td>\n",
       "      <td>1.335</td>\n",
       "      <td>0.6</td>\n",
       "      <td>0.6</td>\n",
       "      <td>0.6</td>\n",
       "      <td>0.6</td>\n",
       "      <td>1.465</td>\n",
       "      <td>0.6</td>\n",
       "      <td>0.6</td>\n",
       "      <td>0.6</td>\n",
       "      <td>0.6</td>\n",
       "      <td>0.6</td>\n",
       "    </tr>\n",
       "  </tbody>\n",
       "</table>\n",
       "</div>"
      ],
      "text/plain": [
       "   mop  mop    mop  birth_date  death_date  casting  casting  casting  \\\n",
       "0  0.6  0.6  1.401       2.903       2.093      0.6    1.335      0.6   \n",
       "\n",
       "   function  function  function  genre  genre  genre  key  key  key  \n",
       "0       0.6       0.6       0.6  1.465    0.6    0.6  0.6  0.6  0.6  "
      ]
     },
     "execution_count": 395,
     "metadata": {},
     "output_type": "execute_result"
    }
   ],
   "source": [
    "_wradio = compute_weights(threshold=1.33, datasets=['web-radio'])\n",
    "pd.DataFrame([_wradio], columns=heads)"
   ]
  },
  {
   "cell_type": "code",
   "execution_count": 396,
   "metadata": {},
   "outputs": [
    {
     "data": {
      "application/vnd.jupyter.widget-view+json": {
       "model_id": "4b7f4790e4cb44849aae005a9cf5c9c2",
       "version_major": 2,
       "version_minor": 0
      },
      "text/html": [
       "<p>Failed to display Jupyter Widget of type <code>HBox</code>.</p>\n",
       "<p>\n",
       "  If you're reading this message in the Jupyter Notebook or JupyterLab Notebook, it may mean\n",
       "  that the widgets JavaScript is still loading. If this message persists, it\n",
       "  likely means that the widgets JavaScript library is either not installed or\n",
       "  not enabled. See the <a href=\"https://ipywidgets.readthedocs.io/en/stable/user_install.html\">Jupyter\n",
       "  Widgets Documentation</a> for setup instructions.\n",
       "</p>\n",
       "<p>\n",
       "  If you're reading this message in another frontend (for example, a static\n",
       "  rendering on GitHub or <a href=\"https://nbviewer.jupyter.org/\">NBViewer</a>),\n",
       "  it may mean that your frontend doesn't currently support widgets.\n",
       "</p>\n"
      ],
      "text/plain": [
       "HBox(children=(IntProgress(value=0, max=155), HTML(value='')))"
      ]
     },
     "metadata": {},
     "output_type": "display_data"
    }
   ],
   "source": [
    "run_for_dataset(2, radio_pool, mode='weighted', name='web-radio.w133-06', w=_wradio)"
   ]
  },
  {
   "cell_type": "code",
   "execution_count": 397,
   "metadata": {},
   "outputs": [
    {
     "data": {
      "application/vnd.jupyter.widget-view+json": {
       "model_id": "9eaa5df7b0b34c4bb84bfc6607f22004",
       "version_major": 2,
       "version_minor": 0
      },
      "text/html": [
       "<p>Failed to display Jupyter Widget of type <code>HBox</code>.</p>\n",
       "<p>\n",
       "  If you're reading this message in the Jupyter Notebook or JupyterLab Notebook, it may mean\n",
       "  that the widgets JavaScript is still loading. If this message persists, it\n",
       "  likely means that the widgets JavaScript library is either not installed or\n",
       "  not enabled. See the <a href=\"https://ipywidgets.readthedocs.io/en/stable/user_install.html\">Jupyter\n",
       "  Widgets Documentation</a> for setup instructions.\n",
       "</p>\n",
       "<p>\n",
       "  If you're reading this message in another frontend (for example, a static\n",
       "  rendering on GitHub or <a href=\"https://nbviewer.jupyter.org/\">NBViewer</a>),\n",
       "  it may mean that your frontend doesn't currently support widgets.\n",
       "</p>\n"
      ],
      "text/plain": [
       "HBox(children=(IntProgress(value=0, max=155), HTML(value='')))"
      ]
     },
     "metadata": {},
     "output_type": "display_data"
    }
   ],
   "source": [
    "_wradio = compute_weights(threshold=1.45, datasets=['web-radio'])\n",
    "run_for_dataset(2, radio_pool, mode='weighted', name='web-radio.w145-06', w=_wradio)"
   ]
  },
  {
   "cell_type": "code",
   "execution_count": 404,
   "metadata": {},
   "outputs": [
    {
     "data": {
      "application/vnd.jupyter.widget-view+json": {
       "model_id": "213cba4d2097442b972287c7dd4b0351",
       "version_major": 2,
       "version_minor": 0
      },
      "text/html": [
       "<p>Failed to display Jupyter Widget of type <code>HBox</code>.</p>\n",
       "<p>\n",
       "  If you're reading this message in the Jupyter Notebook or JupyterLab Notebook, it may mean\n",
       "  that the widgets JavaScript is still loading. If this message persists, it\n",
       "  likely means that the widgets JavaScript library is either not installed or\n",
       "  not enabled. See the <a href=\"https://ipywidgets.readthedocs.io/en/stable/user_install.html\">Jupyter\n",
       "  Widgets Documentation</a> for setup instructions.\n",
       "</p>\n",
       "<p>\n",
       "  If you're reading this message in another frontend (for example, a static\n",
       "  rendering on GitHub or <a href=\"https://nbviewer.jupyter.org/\">NBViewer</a>),\n",
       "  it may mean that your frontend doesn't currently support widgets.\n",
       "</p>\n"
      ],
      "text/plain": [
       "HBox(children=(IntProgress(value=0, max=155), HTML(value='')))"
      ]
     },
     "metadata": {},
     "output_type": "display_data"
    }
   ],
   "source": [
    "_wradio = compute_weights(threshold=1.3, fallback=.8, datasets=['web-radio'])\n",
    "run_for_dataset(2, radio_pool, mode='weighted', name='web-radio.w13-07', w=_wradio)"
   ]
  },
  {
   "cell_type": "code",
   "execution_count": 405,
   "metadata": {},
   "outputs": [
    {
     "data": {
      "application/vnd.jupyter.widget-view+json": {
       "model_id": "f2975877ee0943afaf12ef55e6aba083",
       "version_major": 2,
       "version_minor": 0
      },
      "text/html": [
       "<p>Failed to display Jupyter Widget of type <code>HBox</code>.</p>\n",
       "<p>\n",
       "  If you're reading this message in the Jupyter Notebook or JupyterLab Notebook, it may mean\n",
       "  that the widgets JavaScript is still loading. If this message persists, it\n",
       "  likely means that the widgets JavaScript library is either not installed or\n",
       "  not enabled. See the <a href=\"https://ipywidgets.readthedocs.io/en/stable/user_install.html\">Jupyter\n",
       "  Widgets Documentation</a> for setup instructions.\n",
       "</p>\n",
       "<p>\n",
       "  If you're reading this message in another frontend (for example, a static\n",
       "  rendering on GitHub or <a href=\"https://nbviewer.jupyter.org/\">NBViewer</a>),\n",
       "  it may mean that your frontend doesn't currently support widgets.\n",
       "</p>\n"
      ],
      "text/plain": [
       "HBox(children=(IntProgress(value=0, max=155), HTML(value='')))"
      ]
     },
     "metadata": {},
     "output_type": "display_data"
    }
   ],
   "source": [
    "_wradio = compute_weights(threshold=1.2, fallback=.8, datasets=['web-radio'])\n",
    "run_for_dataset(2, radio_pool, mode='weighted', name='web-radio.w12-07', w=_wradio)"
   ]
  },
  {
   "cell_type": "code",
   "execution_count": 407,
   "metadata": {},
   "outputs": [
    {
     "data": {
      "application/vnd.jupyter.widget-view+json": {
       "model_id": "0f7ca9695a7448ab98ef30802c4c465b",
       "version_major": 2,
       "version_minor": 0
      },
      "text/html": [
       "<p>Failed to display Jupyter Widget of type <code>HBox</code>.</p>\n",
       "<p>\n",
       "  If you're reading this message in the Jupyter Notebook or JupyterLab Notebook, it may mean\n",
       "  that the widgets JavaScript is still loading. If this message persists, it\n",
       "  likely means that the widgets JavaScript library is either not installed or\n",
       "  not enabled. See the <a href=\"https://ipywidgets.readthedocs.io/en/stable/user_install.html\">Jupyter\n",
       "  Widgets Documentation</a> for setup instructions.\n",
       "</p>\n",
       "<p>\n",
       "  If you're reading this message in another frontend (for example, a static\n",
       "  rendering on GitHub or <a href=\"https://nbviewer.jupyter.org/\">NBViewer</a>),\n",
       "  it may mean that your frontend doesn't currently support widgets.\n",
       "</p>\n"
      ],
      "text/plain": [
       "HBox(children=(IntProgress(value=0, max=155), HTML(value='')))"
      ]
     },
     "metadata": {},
     "output_type": "display_data"
    }
   ],
   "source": [
    "_wradio = compute_weights(threshold=1.1, fallback=.9, datasets=['web-radio'])\n",
    "run_for_dataset(2, radio_pool, mode='weighted', name='web-radio.w11-09', w=_wradio)"
   ]
  },
  {
   "cell_type": "code",
   "execution_count": 408,
   "metadata": {},
   "outputs": [
    {
     "data": {
      "text/html": [
       "<div>\n",
       "<style>\n",
       "    .dataframe thead tr:only-child th {\n",
       "        text-align: right;\n",
       "    }\n",
       "\n",
       "    .dataframe thead th {\n",
       "        text-align: left;\n",
       "    }\n",
       "\n",
       "    .dataframe tbody tr th {\n",
       "        vertical-align: top;\n",
       "    }\n",
       "</style>\n",
       "<table border=\"1\" class=\"dataframe\">\n",
       "  <thead>\n",
       "    <tr style=\"text-align: right;\">\n",
       "      <th></th>\n",
       "      <th>name</th>\n",
       "      <th>r100</th>\n",
       "      <th>r200</th>\n",
       "      <th>r500</th>\n",
       "    </tr>\n",
       "  </thead>\n",
       "  <tbody>\n",
       "    <tr>\n",
       "      <th>0</th>\n",
       "      <td>itema3.flat.csv</td>\n",
       "      <td>0.294</td>\n",
       "      <td>0.382</td>\n",
       "      <td>0.523</td>\n",
       "    </tr>\n",
       "    <tr>\n",
       "      <th>1</th>\n",
       "      <td>itema3.rand.csv</td>\n",
       "      <td>0.064</td>\n",
       "      <td>0.131</td>\n",
       "      <td>0.325</td>\n",
       "    </tr>\n",
       "    <tr>\n",
       "      <th>2</th>\n",
       "      <td>itema3.w14-06.csv</td>\n",
       "      <td>0.298</td>\n",
       "      <td>0.384</td>\n",
       "      <td>0.531</td>\n",
       "    </tr>\n",
       "    <tr>\n",
       "      <th>3</th>\n",
       "      <td>pp.flat.csv</td>\n",
       "      <td>0.256</td>\n",
       "      <td>0.351</td>\n",
       "      <td>0.523</td>\n",
       "    </tr>\n",
       "    <tr>\n",
       "      <th>4</th>\n",
       "      <td>pp.rand.csv</td>\n",
       "      <td>0.091</td>\n",
       "      <td>0.172</td>\n",
       "      <td>0.413</td>\n",
       "    </tr>\n",
       "    <tr>\n",
       "      <th>5</th>\n",
       "      <td>pp.w2-06.csv</td>\n",
       "      <td>0.261</td>\n",
       "      <td>0.355</td>\n",
       "      <td>0.527</td>\n",
       "    </tr>\n",
       "    <tr>\n",
       "      <th>6</th>\n",
       "      <td>spotify.flat.csv</td>\n",
       "      <td>0.236</td>\n",
       "      <td>0.365</td>\n",
       "      <td>0.589</td>\n",
       "    </tr>\n",
       "    <tr>\n",
       "      <th>7</th>\n",
       "      <td>spotify.rand.csv</td>\n",
       "      <td>0.085</td>\n",
       "      <td>0.170</td>\n",
       "      <td>0.423</td>\n",
       "    </tr>\n",
       "    <tr>\n",
       "      <th>8</th>\n",
       "      <td>spotify.w12-06.csv</td>\n",
       "      <td>0.234</td>\n",
       "      <td>0.367</td>\n",
       "      <td>0.594</td>\n",
       "    </tr>\n",
       "    <tr>\n",
       "      <th>9</th>\n",
       "      <td>spotify.w14-06.csv</td>\n",
       "      <td>0.234</td>\n",
       "      <td>0.366</td>\n",
       "      <td>0.594</td>\n",
       "    </tr>\n",
       "    <tr>\n",
       "      <th>10</th>\n",
       "      <td>spotify.w15-06.csv</td>\n",
       "      <td>0.234</td>\n",
       "      <td>0.366</td>\n",
       "      <td>0.596</td>\n",
       "    </tr>\n",
       "    <tr>\n",
       "      <th>11</th>\n",
       "      <td>web-radio.flat.csv</td>\n",
       "      <td>0.326</td>\n",
       "      <td>0.497</td>\n",
       "      <td>0.700</td>\n",
       "    </tr>\n",
       "    <tr>\n",
       "      <th>12</th>\n",
       "      <td>web-radio.rand.csv</td>\n",
       "      <td>0.110</td>\n",
       "      <td>0.220</td>\n",
       "      <td>0.549</td>\n",
       "    </tr>\n",
       "    <tr>\n",
       "      <th>13</th>\n",
       "      <td>web-radio.w11-09.csv</td>\n",
       "      <td>0.321</td>\n",
       "      <td>0.493</td>\n",
       "      <td>0.709</td>\n",
       "    </tr>\n",
       "    <tr>\n",
       "      <th>14</th>\n",
       "      <td>web-radio.w12-06.csv</td>\n",
       "      <td>0.321</td>\n",
       "      <td>0.491</td>\n",
       "      <td>0.710</td>\n",
       "    </tr>\n",
       "    <tr>\n",
       "      <th>15</th>\n",
       "      <td>web-radio.w12-07.csv</td>\n",
       "      <td>0.323</td>\n",
       "      <td>0.492</td>\n",
       "      <td>0.710</td>\n",
       "    </tr>\n",
       "    <tr>\n",
       "      <th>16</th>\n",
       "      <td>web-radio.w13-06.csv</td>\n",
       "      <td>0.321</td>\n",
       "      <td>0.491</td>\n",
       "      <td>0.711</td>\n",
       "    </tr>\n",
       "    <tr>\n",
       "      <th>17</th>\n",
       "      <td>web-radio.w13-07.csv</td>\n",
       "      <td>0.323</td>\n",
       "      <td>0.492</td>\n",
       "      <td>0.710</td>\n",
       "    </tr>\n",
       "    <tr>\n",
       "      <th>18</th>\n",
       "      <td>web-radio.w133-06.csv</td>\n",
       "      <td>0.320</td>\n",
       "      <td>0.492</td>\n",
       "      <td>0.711</td>\n",
       "    </tr>\n",
       "    <tr>\n",
       "      <th>19</th>\n",
       "      <td>web-radio.w14-06.csv</td>\n",
       "      <td>0.320</td>\n",
       "      <td>0.491</td>\n",
       "      <td>0.712</td>\n",
       "    </tr>\n",
       "    <tr>\n",
       "      <th>20</th>\n",
       "      <td>web-radio.w145-06.csv</td>\n",
       "      <td>0.320</td>\n",
       "      <td>0.491</td>\n",
       "      <td>0.712</td>\n",
       "    </tr>\n",
       "  </tbody>\n",
       "</table>\n",
       "</div>"
      ],
      "text/plain": [
       "                     name   r100   r200   r500\n",
       "0         itema3.flat.csv  0.294  0.382  0.523\n",
       "1         itema3.rand.csv  0.064  0.131  0.325\n",
       "2       itema3.w14-06.csv  0.298  0.384  0.531\n",
       "3             pp.flat.csv  0.256  0.351  0.523\n",
       "4             pp.rand.csv  0.091  0.172  0.413\n",
       "5            pp.w2-06.csv  0.261  0.355  0.527\n",
       "6        spotify.flat.csv  0.236  0.365  0.589\n",
       "7        spotify.rand.csv  0.085  0.170  0.423\n",
       "8      spotify.w12-06.csv  0.234  0.367  0.594\n",
       "9      spotify.w14-06.csv  0.234  0.366  0.594\n",
       "10     spotify.w15-06.csv  0.234  0.366  0.596\n",
       "11     web-radio.flat.csv  0.326  0.497  0.700\n",
       "12     web-radio.rand.csv  0.110  0.220  0.549\n",
       "13   web-radio.w11-09.csv  0.321  0.493  0.709\n",
       "14   web-radio.w12-06.csv  0.321  0.491  0.710\n",
       "15   web-radio.w12-07.csv  0.323  0.492  0.710\n",
       "16   web-radio.w13-06.csv  0.321  0.491  0.711\n",
       "17   web-radio.w13-07.csv  0.323  0.492  0.710\n",
       "18  web-radio.w133-06.csv  0.320  0.492  0.711\n",
       "19   web-radio.w14-06.csv  0.320  0.491  0.712\n",
       "20  web-radio.w145-06.csv  0.320  0.491  0.712"
      ]
     },
     "execution_count": 408,
     "metadata": {},
     "output_type": "execute_result"
    }
   ],
   "source": [
    "summary_path = os.path.join(out_path, 'summary')\n",
    "columns = ['name', 'r100', 'r200', 'r500']\n",
    "summary = pd.DataFrame(columns=columns)\n",
    "\n",
    "for index, filename in enumerate(sorted(os.listdir(summary_path))):\n",
    "    table = pd.read_csv(os.path.join(summary_path,filename), sep=';')\n",
    "    table['r100'] = table.apply(lambda row: row['predicted100']/row['population'], axis=1)\n",
    "    table['r200'] = table.apply(lambda row: row['predicted200']/row['population'], axis=1)\n",
    "    table['r500'] = table.apply(lambda row: row['predicted500']/row['population'], axis=1)\n",
    "    r100 = table['r100'].mean()\n",
    "    r200 = table['r200'].mean()\n",
    "    r500 = table['r500'].mean()\n",
    "    summary.loc[index] = [filename, r100, r200, r500]\n",
    "summary"
   ]
  },
  {
   "cell_type": "code",
   "execution_count": null,
   "metadata": {},
   "outputs": [],
   "source": []
  }
 ],
 "metadata": {
  "kernelspec": {
   "display_name": "Python 3",
   "language": "python",
   "name": "python3"
  },
  "language_info": {
   "codemirror_mode": {
    "name": "ipython",
    "version": 3
   },
   "file_extension": ".py",
   "mimetype": "text/x-python",
   "name": "python",
   "nbconvert_exporter": "python",
   "pygments_lexer": "ipython3",
   "version": "3.6.4"
  }
 },
 "nbformat": 4,
 "nbformat_minor": 1
}
