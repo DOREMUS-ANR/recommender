{
 "cells": [
  {
   "cell_type": "markdown",
   "metadata": {
    "collapsed": true
   },
   "source": [
    "Load data in Tensorflow."
   ]
  },
  {
   "cell_type": "code",
   "execution_count": 10,
   "metadata": {},
   "outputs": [],
   "source": [
    "import codecs\n",
    "import numpy as np\n",
    "import tensorflow as tf\n",
    "import matplotlib.pyplot as plt\n",
    "from sklearn.model_selection import train_test_split"
   ]
  },
  {
   "cell_type": "code",
   "execution_count": 139,
   "metadata": {},
   "outputs": [
    {
     "data": {
      "text/plain": [
       "(11815, 3)"
      ]
     },
     "execution_count": 139,
     "metadata": {},
     "output_type": "execute_result"
    }
   ],
   "source": [
    "training_data_folder = '../training_data/web-radio/output/rec'\n",
    "embDir = '../embeddings'\n",
    "what = 'artist'\n",
    "\n",
    "uri_file = '%s/%s.emb.u' % (embDir, what)\n",
    "vector_file = '%s/%s.emb.v' % (embDir, what)\n",
    "# header_file = '%s/%s.emb.h' % (embDir, what)\n",
    "training_file = '%s/%s.dat' % (training_data_folder, what)\n",
    "\n",
    "vectors = np.array([line.strip().split(' ') for line in codecs.open(vector_file, 'r', 'utf-8')])\n",
    "# heads = np.array([line.strip() for line in codecs.open(header_file, 'r', 'utf-8')])\n",
    "uris = np.array([line.strip() for line in codecs.open(uri_file, 'r', 'utf-8')])\n",
    "\n",
    "train_array = np.array([line.strip().split(' ') for line in codecs.open(training_file, 'r', 'utf-8')])\n",
    "train_array.shape"
   ]
  },
  {
   "cell_type": "code",
   "execution_count": 140,
   "metadata": {},
   "outputs": [],
   "source": [
    "def get_embs(x):\n",
    "    v = vectors[np.argwhere(uris == x)]\n",
    "    if v.size == 0:\n",
    "        result = -2. * np.ones(vectors[0].size)\n",
    "    else:\n",
    "        result = v[0][0]\n",
    "    return result.astype('float32')"
   ]
  },
  {
   "cell_type": "code",
   "execution_count": 141,
   "metadata": {},
   "outputs": [],
   "source": [
    "col1 = np.array([get_embs(xi) for xi in train_array[:, 0]])\n",
    "col2 = np.array([get_embs(xi) for xi in train_array[:, 1]])\n",
    "col3 = np.array(train_array[:, 2]).astype('float32')\n",
    "col3 = col3.reshape((col3.size, 1))\n",
    "\n",
    "training_vector = np.concatenate((col1, col2, col3), axis=1)"
   ]
  },
  {
   "cell_type": "code",
   "execution_count": 142,
   "metadata": {},
   "outputs": [
    {
     "name": "stderr",
     "output_type": "stream",
     "text": [
      "/Users/pasquale/anaconda3/lib/python3.5/site-packages/sklearn/model_selection/_split.py:2026: FutureWarning: From version 0.21, test_size will always complement train_size unless both are specified.\n",
      "  FutureWarning)\n"
     ]
    }
   ],
   "source": [
    "train, test = train_test_split(training_vector, train_size=0.3)\n",
    "\n",
    "train_vector = train[:, :-1]\n",
    "train_label = train[:, -1]\n",
    "train_label = train_label.reshape((len(train_label), 1))\n",
    "\n",
    "test_vector = test[:, :-1]\n",
    "test_label = test[:, -1]\n",
    "test_label = test_label.reshape((len(test_label), 1))"
   ]
  },
  {
   "cell_type": "code",
   "execution_count": 143,
   "metadata": {},
   "outputs": [
    {
     "name": "stdout",
     "output_type": "stream",
     "text": [
      "(11815, 14)\n",
      "(11815, 14)\n",
      "(11815, 1)\n",
      "(11815, 29)\n",
      "(8271, 29)\n",
      "(3544, 28)\n",
      "(3544, 1)\n"
     ]
    }
   ],
   "source": [
    "print(col1.shape)\n",
    "print(col2.shape)\n",
    "print(col3.shape)\n",
    "\n",
    "print(training_vector.shape)\n",
    "print(test.shape)\n",
    "\n",
    "print(train_vector.shape)\n",
    "print(train_label.shape)"
   ]
  },
  {
   "cell_type": "code",
   "execution_count": 154,
   "metadata": {},
   "outputs": [],
   "source": [
    "# Parameters\n",
    "learning_rate = 0.4\n",
    "num_steps = 1000\n",
    "batch_size = 128\n",
    "display_step = 100\n",
    "\n",
    "# Network Parameters\n",
    "n_hidden_1 = 256  # 1st layer number of neurons\n",
    "n_hidden_2 = 256  # 2nd layer number of neurons\n",
    "num_input = train_vector[0].size\n",
    "num_output = int(num_input / 2)\n",
    "num_output_wrap = train_label[0].size\n",
    "\n",
    "# tf Graph input\n",
    "X = tf.placeholder(tf.float32, [None, num_input], name=\"Placeholder_X\")\n",
    "Y = tf.placeholder(tf.float32, [None, num_output_wrap], name=\"Placeholder_Y\")"
   ]
  },
  {
   "cell_type": "code",
   "execution_count": 155,
   "metadata": {},
   "outputs": [],
   "source": [
    "# Store layers weight & bias\n",
    "weights = {\n",
    "    'h1': tf.Variable(tf.random_normal([num_input, n_hidden_1])),\n",
    "    'h2': tf.Variable(tf.random_normal([n_hidden_1, n_hidden_2])),\n",
    "    'out': tf.Variable(tf.random_normal([n_hidden_2, num_output]))\n",
    "}\n",
    "biases = {\n",
    "    'b1': tf.Variable(tf.random_normal([n_hidden_1])),\n",
    "    'b2': tf.Variable(tf.random_normal([n_hidden_2])),\n",
    "    'out': tf.Variable(tf.random_normal([num_output]))\n",
    "}"
   ]
  },
  {
   "cell_type": "code",
   "execution_count": 156,
   "metadata": {},
   "outputs": [],
   "source": [
    "# Create model\n",
    "def neural_net(x):\n",
    "    # Hidden fully connected layer with 256 neurons\n",
    "    layer_1 = tf.add(tf.matmul(x, weights['h1']), biases['b1'])\n",
    "    # Hidden fully connected layer with 256 neurons\n",
    "    layer_2 = tf.add(tf.matmul(layer_1, weights['h2']), biases['b2'])\n",
    "    # Output fully connected layer with a neuron for each class\n",
    "    out_layer = tf.matmul(layer_2, weights['out']) + biases['out']\n",
    "    row_sum = tf.reduce_sum(out_layer, axis=1, keepdims=True)\n",
    "    return tf.divide(out_layer, row_sum)"
   ]
  },
  {
   "cell_type": "code",
   "execution_count": 157,
   "metadata": {},
   "outputs": [],
   "source": [
    "def weighted_l2(a, b, w):\n",
    "    # https://stackoverflow.com/a/8861999/1218213\n",
    "    q = tf.subtract(a, b)\n",
    "    # return np.sqrt((w * q * q).sum())\n",
    "    pow_q = tf.cast(tf.pow(q, 2), tf.float32)\n",
    "    \n",
    "    return tf.reduce_sum(tf.multiply(w, pow_q), axis=1)"
   ]
  },
  {
   "cell_type": "code",
   "execution_count": 158,
   "metadata": {},
   "outputs": [],
   "source": [
    "def compute_penalty(expected, taken, total):\n",
    "    penalty = tf.divide(tf.subtract(expected, taken), total) \n",
    "    return tf.cast(penalty, tf.float32)\n",
    "    \n",
    "def neural_net_wrap(x, previous_out):\n",
    "    lt = previous_out.shape.as_list()[0] # vertical size of the tensor\n",
    "    lh = previous_out[0].shape.as_list()[0] # horizontal size of the tensor\n",
    "    seed, target = tf.split(x, [lh, lh], axis=1)\n",
    "    bs = tf.equal(seed, -2.)\n",
    "    bt = tf.equal(target, -2.)\n",
    "    \n",
    "    _ones = tf.ones_like(previous_out, tf.float32)\n",
    "    max_distance = weighted_l2(_ones, _ones * -1., previous_out)\n",
    "    \n",
    "    bad_mask = tf.logical_or(bs, bt)\n",
    "    good_mask = tf.logical_not(bad_mask)\n",
    "    \n",
    "    bs_count = tf.count_nonzero(tf.logical_not(bs), axis=1, keepdims=True)\n",
    "    good_count = tf.count_nonzero(good_mask, axis=1, keepdims=True)\n",
    "\n",
    "    _zeros = tf.zeros_like(previous_out, tf.float32)\n",
    "    _seed = tf.where(good_mask, seed, _zeros)\n",
    "    _target = tf.where(good_mask, target, _zeros)\n",
    "\n",
    "    # distance\n",
    "    d = weighted_l2(_seed, _target, previous_out)\n",
    "    \n",
    "    # how much info I am not finding\n",
    "    penalty = compute_penalty(bs_count, good_count, lh)\n",
    "    multiplier = tf.subtract(1., penalty)\n",
    "\n",
    "    # score\n",
    "    s = tf.divide(tf.subtract(max_distance, d), max_distance)\n",
    "    return tf.multiply(s, multiplier)"
   ]
  },
  {
   "cell_type": "code",
   "execution_count": 159,
   "metadata": {},
   "outputs": [],
   "source": [
    "# Construct model\n",
    "intermediate = neural_net(X)\n",
    "logits = neural_net_wrap(X, intermediate)"
   ]
  },
  {
   "cell_type": "code",
   "execution_count": 160,
   "metadata": {},
   "outputs": [],
   "source": [
    "# Define loss and optimizer\n",
    "# loss_op = similarity_loss(logits=logits, labels=Y)\n",
    "loss_op = tf.reduce_mean(tf.subtract(logits, Y))\n",
    "optimizer = tf.train.AdamOptimizer(learning_rate=learning_rate)\n",
    "train_op = optimizer.minimize(loss_op)\n",
    "\n",
    "# Evaluate model (with test logits, for dropout to be disabled)\n",
    "correct_pred = tf.equal(logits, Y)\n",
    "accuracy = tf.reduce_mean(tf.cast(correct_pred, tf.float32))"
   ]
  },
  {
   "cell_type": "code",
   "execution_count": 161,
   "metadata": {},
   "outputs": [],
   "source": [
    "# Initialize the variables (i.e. assign their default value)\n",
    "init = tf.global_variables_initializer()"
   ]
  },
  {
   "cell_type": "code",
   "execution_count": 162,
   "metadata": {},
   "outputs": [],
   "source": [
    "def next_batch(num, data, labels):\n",
    "\n",
    "    '''\n",
    "    Return a total of `num` random samples and labels. \n",
    "    '''\n",
    "    idx = np.arange(0, len(data))\n",
    "    np.random.shuffle(idx)\n",
    "    idx = idx[:num]\n",
    "    data_shuffle = data[idx]\n",
    "    labels_shuffle = labels[idx]\n",
    "    return data_shuffle, labels_shuffle"
   ]
  },
  {
   "cell_type": "code",
   "execution_count": 163,
   "metadata": {
    "scrolled": true
   },
   "outputs": [
    {
     "name": "stdout",
     "output_type": "stream",
     "text": [
      "Start learning\n",
      "Step 1, Minibatch Loss= 0.0018, Training Accuracy= 0.013\n",
      "Step 100, Minibatch Loss= -0.0228, Training Accuracy= 0.007\n",
      "Step 200, Minibatch Loss= -0.0338, Training Accuracy= 0.013\n",
      "Step 300, Minibatch Loss= -0.0131, Training Accuracy= 0.012\n",
      "Step 400, Minibatch Loss= -0.0292, Training Accuracy= 0.007\n",
      "Step 500, Minibatch Loss= -0.0028, Training Accuracy= 0.007\n",
      "Step 600, Minibatch Loss= 0.0123, Training Accuracy= 0.004\n",
      "Step 700, Minibatch Loss= -0.0085, Training Accuracy= 0.010\n",
      "Step 800, Minibatch Loss= 0.0126, Training Accuracy= 0.004\n",
      "Step 900, Minibatch Loss= 0.0195, Training Accuracy= 0.009\n",
      "Step 1000, Minibatch Loss= -0.0228, Training Accuracy= 0.006\n",
      "Optimization Finished!\n",
      "Testing Accuracy: 0.00666715\n"
     ]
    }
   ],
   "source": [
    "with tf.Session() as sess:\n",
    "    # Run the initializer\n",
    "    sess.run(init)\n",
    "    print(\"Start learning\")\n",
    "    for step in range(1, num_steps + 1):\n",
    "        batch_x, batch_y = next_batch(batch_size, train_vector, train_label)\n",
    "\n",
    "        # Run optimization op (backprop)\n",
    "        sess.run(train_op, feed_dict={X: batch_x, Y: batch_y})\n",
    "        if step % display_step == 0 or step == 1:\n",
    "            # Calculate batch loss and accuracy\n",
    "            preds, my_weights, loss, acc = sess.run([logits, intermediate, loss_op, accuracy], feed_dict={X: batch_x,\n",
    "                                                                 Y: batch_y})\n",
    "            print(\"Step \" + str(step) + \", Minibatch Loss= \" + \\\n",
    "                  \"{:.4f}\".format(loss) + \", Training Accuracy= \" + \\\n",
    "                  \"{:.3f}\".format(acc))\n",
    "#             print(\"Predictions %s VS %s\" % (preds, batch_y))\n",
    "#             print(\"My weights %s\" % my_weights)\n",
    "\n",
    "    print(\"Optimization Finished!\")\n",
    "\n",
    "    print(\"Testing Accuracy:\",\n",
    "          sess.run(accuracy, feed_dict={X: test_vector, Y: test_label}))"
   ]
  },
  {
   "cell_type": "code",
   "execution_count": null,
   "metadata": {},
   "outputs": [],
   "source": []
  },
  {
   "cell_type": "code",
   "execution_count": null,
   "metadata": {},
   "outputs": [],
   "source": []
  },
  {
   "cell_type": "code",
   "execution_count": null,
   "metadata": {},
   "outputs": [],
   "source": []
  }
 ],
 "metadata": {
  "kernelspec": {
   "display_name": "Python 3",
   "language": "python",
   "name": "python3"
  },
  "language_info": {
   "codemirror_mode": {
    "name": "ipython",
    "version": 3
   },
   "file_extension": ".py",
   "mimetype": "text/x-python",
   "name": "python",
   "nbconvert_exporter": "python",
   "pygments_lexer": "ipython3",
   "version": "3.5.4"
  }
 },
 "nbformat": 4,
 "nbformat_minor": 1
}
