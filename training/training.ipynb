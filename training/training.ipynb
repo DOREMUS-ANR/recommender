{
 "cells": [
  {
   "cell_type": "markdown",
   "metadata": {
    "collapsed": true
   },
   "source": [
    "Load data in Tensorflow."
   ]
  },
  {
   "cell_type": "code",
   "execution_count": 1,
   "metadata": {},
   "outputs": [
    {
     "name": "stderr",
     "output_type": "stream",
     "text": [
      "/Users/pasquale/anaconda3/lib/python3.5/importlib/_bootstrap.py:222: RuntimeWarning: compiletime version 3.6 of module 'tensorflow.python.framework.fast_tensor_util' does not match runtime version 3.5\n",
      "  return f(*args, **kwds)\n",
      "/Users/pasquale/anaconda3/lib/python3.5/site-packages/h5py/__init__.py:34: FutureWarning: Conversion of the second argument of issubdtype from `float` to `np.floating` is deprecated. In future, it will be treated as `np.float64 == np.dtype(float).type`.\n",
      "  from ._conv import register_converters as _register_converters\n"
     ]
    }
   ],
   "source": [
    "import codecs\n",
    "import numpy as np\n",
    "import tensorflow as tf\n",
    "import matplotlib.pyplot as plt\n",
    "from sklearn.model_selection import train_test_split"
   ]
  },
  {
   "cell_type": "code",
   "execution_count": 2,
   "metadata": {},
   "outputs": [
    {
     "data": {
      "text/plain": [
       "(11815, 3)"
      ]
     },
     "execution_count": 2,
     "metadata": {},
     "output_type": "execute_result"
    }
   ],
   "source": [
    "training_data_folder = '../training_data/web-radio/output/rec'\n",
    "embDir = '../embeddings'\n",
    "what = 'artist'\n",
    "\n",
    "uri_file = '%s/%s.emb.u' % (embDir, what)\n",
    "vector_file = '%s/%s.emb.v' % (embDir, what)\n",
    "# header_file = '%s/%s.emb.h' % (embDir, what)\n",
    "training_file = '%s/%s.dat' % (training_data_folder, what)\n",
    "\n",
    "vectors = np.array([line.strip().split(' ') for line in codecs.open(vector_file, 'r', 'utf-8')])\n",
    "# heads = np.array([line.strip() for line in codecs.open(header_file, 'r', 'utf-8')])\n",
    "uris = np.array([line.strip() for line in codecs.open(uri_file, 'r', 'utf-8')])\n",
    "\n",
    "train_array = np.array([line.strip().split(' ') for line in codecs.open(training_file, 'r', 'utf-8')])\n",
    "train_array.shape"
   ]
  },
  {
   "cell_type": "code",
   "execution_count": 3,
   "metadata": {},
   "outputs": [],
   "source": [
    "def get_embs(x):\n",
    "    v = vectors[np.argwhere(uris == x)]\n",
    "    if v.size == 0:\n",
    "        result = -2. * np.ones(vectors[0].size)\n",
    "    else:\n",
    "        result = v[0][0]\n",
    "    return result.astype('float32')"
   ]
  },
  {
   "cell_type": "code",
   "execution_count": 4,
   "metadata": {},
   "outputs": [],
   "source": [
    "col1 = np.array([get_embs(xi) for xi in train_array[:, 0]])\n",
    "col2 = np.array([get_embs(xi) for xi in train_array[:, 1]])\n",
    "col3 = np.array(train_array[:, 2]).astype('float32')\n",
    "col3 = col3.reshape((col3.size, 1))\n",
    "\n",
    "training_vector = np.concatenate((col1, col2, col3), axis=1)"
   ]
  },
  {
   "cell_type": "code",
   "execution_count": 5,
   "metadata": {},
   "outputs": [
    {
     "name": "stderr",
     "output_type": "stream",
     "text": [
      "/Users/pasquale/anaconda3/lib/python3.5/site-packages/sklearn/model_selection/_split.py:2026: FutureWarning: From version 0.21, test_size will always complement train_size unless both are specified.\n",
      "  FutureWarning)\n"
     ]
    }
   ],
   "source": [
    "train, test = train_test_split(training_vector, train_size=0.3)\n",
    "\n",
    "train_vector = train[:, :-1]\n",
    "train_label = train[:, -1]\n",
    "train_label = train_label.reshape((len(train_label), 1))\n",
    "\n",
    "test_vector = test[:, :-1]\n",
    "test_label = test[:, -1]\n",
    "test_label = test_label.reshape((len(test_label), 1))"
   ]
  },
  {
   "cell_type": "code",
   "execution_count": 6,
   "metadata": {},
   "outputs": [
    {
     "name": "stdout",
     "output_type": "stream",
     "text": [
      "(11815, 14)\n",
      "(11815, 14)\n",
      "(11815, 1)\n",
      "(11815, 29)\n",
      "(8271, 29)\n",
      "(3544, 28)\n",
      "(3544, 1)\n"
     ]
    }
   ],
   "source": [
    "print(col1.shape)\n",
    "print(col2.shape)\n",
    "print(col3.shape)\n",
    "\n",
    "print(training_vector.shape)\n",
    "print(test.shape)\n",
    "\n",
    "print(train_vector.shape)\n",
    "print(train_label.shape)"
   ]
  },
  {
   "cell_type": "code",
   "execution_count": 7,
   "metadata": {},
   "outputs": [],
   "source": [
    "# Parameters\n",
    "learning_rate = 0.1\n",
    "num_steps = 1000\n",
    "batch_size = 1\n",
    "display_step = 100"
   ]
  },
  {
   "cell_type": "code",
   "execution_count": 8,
   "metadata": {},
   "outputs": [],
   "source": [
    "# Network Parameters\n",
    "n_hidden_1 = 256  # 1st layer number of neurons\n",
    "n_hidden_2 = 256  # 2nd layer number of neurons\n",
    "num_input = train_vector[0].size\n",
    "num_output = int(num_input / 2)\n",
    "num_output_wrap = train_label[0].size\n",
    "\n",
    "# tf Graph input\n",
    "X = tf.placeholder(tf.float32, [None, num_input], name=\"X\")\n",
    "Y = tf.placeholder(tf.float32, [None, num_output_wrap], name=\"Y\")"
   ]
  },
  {
   "cell_type": "code",
   "execution_count": 9,
   "metadata": {},
   "outputs": [
    {
     "data": {
      "text/plain": [
       "256"
      ]
     },
     "execution_count": 9,
     "metadata": {},
     "output_type": "execute_result"
    }
   ],
   "source": [
    "n_hidden_1"
   ]
  },
  {
   "cell_type": "code",
   "execution_count": 10,
   "metadata": {},
   "outputs": [],
   "source": [
    "# Create model\n",
    "def neural_net(x):\n",
    "    with tf.name_scope('hidden_1') as scope:\n",
    "        # Hidden fully connected layer with 256 neurons\n",
    "        w1 = tf.Variable(tf.random_normal([num_input, n_hidden_1]),name='w')\n",
    "        b1 = tf.Variable(tf.random_normal([n_hidden_1]), name='b')\n",
    "        layer_1 = tf.add(tf.matmul(x,w1), b1, name='o')\n",
    "    with tf.name_scope('hidden_2') as scope:\n",
    "        # Hidden fully connected layer with 256 neurons\n",
    "        w2 = tf.Variable(tf.random_normal([n_hidden_1, n_hidden_2]),name='w')\n",
    "        b2 = tf.Variable(tf.random_normal([n_hidden_2]), name='b')\n",
    "        layer_2 = tf.add(tf.matmul(layer_1, w2), b2, name='o')\n",
    "    with tf.name_scope('hidden_2') as scope:\n",
    "        # Output fully connected layer with a neuron for each class\n",
    "        wo = tf.Variable(tf.random_normal([n_hidden_2, num_output]),name='w')\n",
    "        bo = tf.Variable(tf.random_normal([num_output]), name='b')\n",
    "        out_layer = tf.add(tf.matmul(layer_2, wo), bo, name=\"o\")\n",
    "    row_sum = tf.reduce_sum(out_layer, axis=1, keepdims=True)\n",
    "    return tf.divide(out_layer, row_sum)"
   ]
  },
  {
   "cell_type": "code",
   "execution_count": 11,
   "metadata": {},
   "outputs": [],
   "source": [
    "def weighted_l2(a, b, w):\n",
    "    with tf.name_scope('weighted_l2') as scope:\n",
    "        # https://stackoverflow.com/a/8861999/1218213\n",
    "        q = tf.subtract(a, b, name=\"q\")\n",
    "        # return np.sqrt((w * q * q).sum())\n",
    "        pow_q = tf.cast(tf.pow(q, 2), tf.float32, name=\"q-power\")\n",
    "\n",
    "        return tf.reduce_sum(tf.multiply(w, pow_q), axis=1, name=\"o\")"
   ]
  },
  {
   "cell_type": "code",
   "execution_count": 12,
   "metadata": {},
   "outputs": [],
   "source": [
    "def compute_penalty(expected, taken, total):\n",
    "    with tf.name_scope('penalty') as scope:\n",
    "        penalty = tf.divide(tf.subtract(expected, taken), total) \n",
    "        return tf.cast(penalty, tf.float32)\n",
    "    \n",
    "def neural_net_wrap(x, previous_out):\n",
    "    with tf.name_scope('nn_wrapper') as scope:\n",
    "\n",
    "        lt = previous_out.shape.as_list()[0] # vertical size of the tensor\n",
    "        lh = previous_out[0].shape.as_list()[0] # horizontal size of the tensor\n",
    "        seed, target = tf.split(x, [lh, lh], axis=1)\n",
    "        bs = tf.equal(seed, -2.)\n",
    "        bt = tf.equal(target, -2.)\n",
    "\n",
    "        _ones = tf.ones_like(previous_out, tf.float32)\n",
    "        max_distance = weighted_l2(_ones, _ones * -1., previous_out)\n",
    "\n",
    "        bad_mask = tf.logical_or(bs, bt)\n",
    "        good_mask = tf.logical_not(bad_mask)\n",
    "\n",
    "        bs_count = tf.count_nonzero(tf.logical_not(bs), axis=1, keepdims=True)\n",
    "        good_count = tf.count_nonzero(good_mask, axis=1, keepdims=True)\n",
    "\n",
    "        _zeros = tf.zeros_like(previous_out, tf.float32)\n",
    "        _seed = tf.where(good_mask, seed, _zeros)\n",
    "        _target = tf.where(good_mask, target, _zeros)\n",
    "\n",
    "        # distance\n",
    "        d = weighted_l2(_seed, _target, previous_out)\n",
    "\n",
    "        # how much info I am not finding\n",
    "        penalty = compute_penalty(bs_count, good_count, lh)\n",
    "        multiplier = tf.subtract(1., penalty)\n",
    "\n",
    "        # score\n",
    "        s = tf.divide(tf.subtract(max_distance, d), max_distance)\n",
    "        return tf.multiply(s, multiplier)"
   ]
  },
  {
   "cell_type": "code",
   "execution_count": 13,
   "metadata": {},
   "outputs": [],
   "source": [
    "# Construct model\n",
    "intermediate = neural_net(X)\n",
    "logits = neural_net_wrap(X, intermediate)"
   ]
  },
  {
   "cell_type": "code",
   "execution_count": null,
   "metadata": {},
   "outputs": [],
   "source": []
  },
  {
   "cell_type": "code",
   "execution_count": null,
   "metadata": {},
   "outputs": [],
   "source": []
  },
  {
   "cell_type": "code",
   "execution_count": 14,
   "metadata": {},
   "outputs": [],
   "source": [
    "# Define loss and optimizer\n",
    "# loss_op = similarity_loss(logits=logits, labels=Y)\n",
    "loss_op = tf.reduce_mean(tf.nn.sigmoid_cross_entropy_with_logits(logits=logits, labels=Y))\n",
    "optimizer = tf.train.AdamOptimizer(learning_rate=learning_rate)\n",
    "train_op = optimizer.minimize(loss_op)\n",
    "\n",
    "# Evaluate model (with test logits, for dropout to be disabled)\n",
    "correct_pred = tf.equal(logits, Y)\n",
    "accuracy = tf.reduce_mean(tf.cast(correct_pred, tf.float32))"
   ]
  },
  {
   "cell_type": "code",
   "execution_count": 15,
   "metadata": {},
   "outputs": [],
   "source": [
    "# Initialize the variables (i.e. assign their default value)\n",
    "init = tf.global_variables_initializer()"
   ]
  },
  {
   "cell_type": "code",
   "execution_count": 16,
   "metadata": {},
   "outputs": [],
   "source": [
    "def next_batch(num, data, labels):\n",
    "\n",
    "    '''\n",
    "    Return a total of `num` random samples and labels. \n",
    "    '''\n",
    "    idx = np.arange(0, len(data))\n",
    "    np.random.shuffle(idx)\n",
    "    idx = idx[:num]\n",
    "    data_shuffle = data[idx]\n",
    "    labels_shuffle = labels[idx]\n",
    "    return data_shuffle, labels_shuffle"
   ]
  },
  {
   "cell_type": "code",
   "execution_count": 17,
   "metadata": {
    "scrolled": true
   },
   "outputs": [
    {
     "name": "stdout",
     "output_type": "stream",
     "text": [
      "Start learning\n",
      "Step 1, Minibatch Loss= 0.4847, Training Accuracy= 0.000\n",
      "My weights [0.05357375 0.03674052 0.05823812 0.09529987 0.05169559 0.07633088\n",
      " 0.02144979 0.0951587  0.22399089 0.07271072 0.08389615 0.0299735\n",
      " 0.04083702 0.06010453]\n",
      "Step 100, Minibatch Loss= 0.6026, Training Accuracy= 0.000\n",
      "My weights [0.06412375 0.04985394 0.04340753 0.05673787 0.06883591 0.0041269\n",
      " 0.0629513  0.08324007 0.12848501 0.08607477 0.08788472 0.077364\n",
      " 0.09382384 0.09309035]\n",
      "Step 200, Minibatch Loss= 0.6878, Training Accuracy= 0.000\n",
      "My weights [0.07457897 0.0745635  0.08025065 0.07805753 0.07257662 0.10539851\n",
      " 0.06548194 0.06820223 0.04878952 0.06348649 0.06277118 0.06857447\n",
      " 0.07330672 0.06396163]\n",
      "Step 300, Minibatch Loss= 0.3133, Training Accuracy= 0.000\n",
      "My weights [0.07374912 0.07350478 0.07677352 0.07684824 0.07309058 0.09566582\n",
      " 0.06655532 0.06977813 0.04990941 0.06530926 0.06476633 0.07068965\n",
      " 0.0763536  0.06700628]\n",
      "Step 400, Minibatch Loss= 0.3234, Training Accuracy= 0.000\n",
      "My weights [0.07250082 0.07266741 0.07564582 0.07415181 0.07156403 0.08320601\n",
      " 0.06707294 0.07061379 0.05177296 0.0679798  0.06703963 0.07399542\n",
      " 0.08067652 0.07111309]\n",
      "Step 500, Minibatch Loss= 0.4891, Training Accuracy= 0.000\n",
      "My weights [0.07361481 0.07459557 0.07697374 0.07505564 0.07195085 0.08310125\n",
      " 0.0684899  0.07088418 0.04769208 0.0681232  0.06674622 0.07414847\n",
      " 0.07882407 0.06980004]\n",
      "Step 600, Minibatch Loss= 0.4270, Training Accuracy= 0.000\n",
      "My weights [0.07024254 0.07057253 0.07465827 0.0721786  0.07293053 0.06658132\n",
      " 0.07043999 0.0731621  0.04871878 0.07153946 0.07008015 0.07877167\n",
      " 0.08456766 0.07555645]\n",
      "Step 700, Minibatch Loss= 0.3865, Training Accuracy= 0.000\n",
      "My weights [0.06039601 0.06384365 0.07106548 0.06835343 0.0713793  0.02173941\n",
      " 0.07187087 0.07685297 0.05984935 0.07993895 0.0782304  0.08827033\n",
      " 0.09912413 0.08908571]\n",
      "Step 800, Minibatch Loss= 0.5463, Training Accuracy= 0.000\n",
      "My weights [0.06328595 0.06816761 0.07518017 0.07170761 0.07131363 0.03359012\n",
      " 0.07392538 0.0748748  0.04960129 0.07833775 0.0758354  0.08701707\n",
      " 0.093191   0.08397219]\n",
      "Step 900, Minibatch Loss= 0.3283, Training Accuracy= 0.000\n",
      "My weights [ 0.0578446   0.06190779  0.07282824  0.06316412  0.07216655 -0.01289255\n",
      "  0.07552759  0.0775215   0.05522651  0.08761089  0.08478469  0.09795091\n",
      "  0.10808767  0.09827149]\n",
      "Step 1000, Minibatch Loss= 0.4476, Training Accuracy= 0.000\n",
      "My weights [ 0.05543176  0.06100423  0.06636243  0.06022543  0.07081021 -0.0384567\n",
      "  0.08057228  0.07928409  0.05246894  0.09352262  0.0904914   0.10599468\n",
      "  0.11589397  0.10639472]\n",
      "Optimization Finished!\n",
      "Testing Accuracy: 0.0070048957\n"
     ]
    }
   ],
   "source": [
    "with tf.Session() as sess:\n",
    "    writer = tf.summary.FileWriter(\"output\", sess.graph)\n",
    "\n",
    "    # Run the initializer\n",
    "    sess.run(init)\n",
    "    print(\"Start learning\")\n",
    "    for step in range(1, num_steps + 1):\n",
    "        batch_x, batch_y = next_batch(batch_size, train_vector, train_label)\n",
    "\n",
    "        # Run optimization op (backprop)\n",
    "        sess.run(train_op, feed_dict={X: batch_x, Y: batch_y})\n",
    "        if step % display_step == 0 or step == 1:\n",
    "            # Calculate batch loss and accuracy\n",
    "            preds, my_weights, loss, acc = sess.run([logits, intermediate, loss_op, accuracy], feed_dict={X: batch_x,\n",
    "                                                                 Y: batch_y})\n",
    "            print(\"Step \" + str(step) + \", Minibatch Loss= \" + \\\n",
    "                  \"{:.4f}\".format(loss) + \", Training Accuracy= \" + \\\n",
    "                  \"{:.3f}\".format(acc))\n",
    "#             print(\"Predictions %s VS %s\" % (preds, batch_y))\n",
    "            print(\"My weights %s\" % np.mean(my_weights, axis=0))\n",
    "\n",
    "    print(\"Optimization Finished!\")\n",
    "\n",
    "    print(\"Testing Accuracy:\",\n",
    "          sess.run(accuracy, feed_dict={X: test_vector, Y: test_label}))\n",
    "    writer.close()"
   ]
  },
  {
   "cell_type": "code",
   "execution_count": null,
   "metadata": {},
   "outputs": [],
   "source": []
  },
  {
   "cell_type": "code",
   "execution_count": null,
   "metadata": {},
   "outputs": [],
   "source": []
  },
  {
   "cell_type": "code",
   "execution_count": null,
   "metadata": {},
   "outputs": [],
   "source": []
  },
  {
   "cell_type": "code",
   "execution_count": null,
   "metadata": {},
   "outputs": [],
   "source": []
  }
 ],
 "metadata": {
  "kernelspec": {
   "display_name": "Python 3",
   "language": "python",
   "name": "python3"
  },
  "language_info": {
   "codemirror_mode": {
    "name": "ipython",
    "version": 3
   },
   "file_extension": ".py",
   "mimetype": "text/x-python",
   "name": "python",
   "nbconvert_exporter": "python",
   "pygments_lexer": "ipython3",
   "version": "3.5.4"
  }
 },
 "nbformat": 4,
 "nbformat_minor": 1
}
